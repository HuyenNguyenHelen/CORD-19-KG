{
  "nbformat": 4,
  "nbformat_minor": 0,
  "metadata": {
    "colab": {
      "name": "covid-19-kg-mining_MetamapEnt_only.ipynb",
      "provenance": [],
      "collapsed_sections": [],
      "include_colab_link": true
    },
    "kernelspec": {
      "name": "python3",
      "display_name": "Python 3"
    },
    "language_info": {
      "name": "python"
    },
    "accelerator": "GPU"
  },
  "cells": [
    {
      "cell_type": "markdown",
      "metadata": {
        "id": "view-in-github",
        "colab_type": "text"
      },
      "source": [
        "<a href=\"https://colab.research.google.com/github/HuyenNguyenHelen/CORD-19-KG/blob/master/covid_19_kg_mining_MetamapEnt_only.ipynb\" target=\"_parent\"><img src=\"https://colab.research.google.com/assets/colab-badge.svg\" alt=\"Open In Colab\"/></a>"
      ]
    },
    {
      "cell_type": "markdown",
      "metadata": {
        "id": "xUFXMJVdOltr"
      },
      "source": [
        "# 1. Preliminaries"
      ]
    },
    {
      "cell_type": "code",
      "metadata": {
        "id": "P7TZVvkzNwDF",
        "colab": {
          "base_uri": "https://localhost:8080/"
        },
        "outputId": "e3d4ab5f-3567-4d00-92a2-9e33bdc71354"
      },
      "source": [
        "# If using Google Colab run this cell \n",
        "\n",
        "# select tensorflow version for colab \n",
        "%tensorflow_version 1.x"
      ],
      "execution_count": 3,
      "outputs": [
        {
          "output_type": "stream",
          "text": [
            "TensorFlow 1.x selected.\n"
          ],
          "name": "stdout"
        }
      ]
    },
    {
      "cell_type": "code",
      "metadata": {
        "colab": {
          "base_uri": "https://localhost:8080/"
        },
        "id": "h22uybHCOUyq",
        "outputId": "05ac1333-19c1-489e-8c73-baf97df2b80b"
      },
      "source": [
        "import tensorflow as tf \n",
        "\n",
        "print('TensorFlow  version: {}'.format(tf.__version__))\n",
        "\n",
        "# Get the GPU name\n",
        "device_name = tf.test.gpu_device_name()\n",
        "if device_name != '/device:GPU:0':\n",
        "  raise SystemError('GPU device not found')\n",
        "print('Found GPU at: {}'.format(device_name))"
      ],
      "execution_count": 4,
      "outputs": [
        {
          "output_type": "stream",
          "text": [
            "TensorFlow  version: 1.15.2\n",
            "Found GPU at: /device:GPU:0\n"
          ],
          "name": "stdout"
        }
      ]
    },
    {
      "cell_type": "code",
      "metadata": {
        "id": "MgZPAPapOaLA"
      },
      "source": [
        "%%capture \n",
        "# Install AmpliGraph library\n",
        "! pip install ampligraph\n",
        "\n",
        "# Required to visualize embeddings with tensorboard projector, comment out if not required!\n",
        "! pip install --user tensorboard\n",
        "\n",
        "# Required to plot text on embedding clusters, comment out if not required!\n",
        "! pip install --user git+https://github.com/Phlya/adjustText"
      ],
      "execution_count": 5,
      "outputs": []
    },
    {
      "cell_type": "code",
      "metadata": {
        "colab": {
          "base_uri": "https://localhost:8080/"
        },
        "id": "9Bzg5vHqOfch",
        "outputId": "2406d4f4-4650-4efb-e60e-12959cc9d87e"
      },
      "source": [
        "# All imports used in this tutorial \n",
        "%tensorflow_version 1.x\n",
        "import ampligraph\n",
        "import numpy as np\n",
        "import pandas as pd\n",
        "import tensorflow as tf\n",
        "from ampligraph.datasets import load_fb15k_237\n",
        "from ampligraph.evaluation import train_test_split_no_unseen, evaluate_performance, mr_score, mrr_score, hits_at_n_score\n",
        "from ampligraph.discovery import query_topn, discover_facts, find_clusters\n",
        "from ampligraph.latent_features import TransE, ComplEx, HolE, DistMult, ConvE, ConvKB\n",
        "from ampligraph.utils import save_model, restore_model\n",
        "\n",
        "def display_aggregate_metrics(ranks):\n",
        "    print('Mean Rank:', mr_score(ranks)) \n",
        "    print('Mean Reciprocal Rank:', mrr_score(ranks)) \n",
        "    print('Hits@1:', hits_at_n_score(ranks, 1))\n",
        "    print('Hits@10:', hits_at_n_score(ranks, 10))\n",
        "    print('Hits@100:', hits_at_n_score(ranks, 100))\n",
        "\n",
        "print('Ampligraph version: {}'.format(ampligraph.__version__))"
      ],
      "execution_count": 6,
      "outputs": [
        {
          "output_type": "stream",
          "text": [
            "Ampligraph version: 1.4.0\n"
          ],
          "name": "stdout"
        }
      ]
    },
    {
      "cell_type": "markdown",
      "metadata": {
        "id": "aBb8eVx6Osxx"
      },
      "source": [
        "# 2. Loading a Knowledge Graph dataset"
      ]
    },
    {
      "cell_type": "code",
      "metadata": {
        "id": "k96fp70dOyyS"
      },
      "source": [
        "from ampligraph.datasets import load_fb15k_237, load_wn18rr, load_yago3_10"
      ],
      "execution_count": 7,
      "outputs": []
    },
    {
      "cell_type": "code",
      "metadata": {
        "colab": {
          "base_uri": "https://localhost:8080/",
          "height": 218
        },
        "id": "G6V6F6nWO6cQ",
        "outputId": "4943e02a-9e26-49f9-d7af-cfe99a797afc"
      },
      "source": [
        "import pandas as pd\n",
        "pmc = pd.read_csv('/content/new_triples_with_predefined_relations_pmc_June10_meta-only.csv')\n",
        "pdf = pd.read_csv('/content/new_triples_with_predefined_relations_pdf_June10_meta-only.csv')\n",
        "dataset = pd.concat([pmc, pdf])\n",
        "print(dataset.columns)\n",
        "dataset.drop(columns='Unnamed: 0', inplace=True)\n",
        "#dataset.columns = ['subject',  'object', 'predicate',]\n",
        "dataset = dataset[['subject','new_relation', 'object' ]]\n",
        "dataset.head(5)"
      ],
      "execution_count": 8,
      "outputs": [
        {
          "output_type": "stream",
          "text": [
            "Index(['Unnamed: 0', 'Unnamed: 0.1', 'subject', 'object', 'new_relation'], dtype='object')\n"
          ],
          "name": "stdout"
        },
        {
          "output_type": "execute_result",
          "data": {
            "text/html": [
              "<div>\n",
              "<style scoped>\n",
              "    .dataframe tbody tr th:only-of-type {\n",
              "        vertical-align: middle;\n",
              "    }\n",
              "\n",
              "    .dataframe tbody tr th {\n",
              "        vertical-align: top;\n",
              "    }\n",
              "\n",
              "    .dataframe thead th {\n",
              "        text-align: right;\n",
              "    }\n",
              "</style>\n",
              "<table border=\"1\" class=\"dataframe\">\n",
              "  <thead>\n",
              "    <tr style=\"text-align: right;\">\n",
              "      <th></th>\n",
              "      <th>subject</th>\n",
              "      <th>new_relation</th>\n",
              "      <th>object</th>\n",
              "    </tr>\n",
              "  </thead>\n",
              "  <tbody>\n",
              "    <tr>\n",
              "      <th>0</th>\n",
              "      <td>step</td>\n",
              "      <td>gene_gene</td>\n",
              "      <td>endosomes</td>\n",
              "    </tr>\n",
              "    <tr>\n",
              "      <th>1</th>\n",
              "      <td>disease</td>\n",
              "      <td>disease_disease</td>\n",
              "      <td>pneumonia</td>\n",
              "    </tr>\n",
              "    <tr>\n",
              "      <th>2</th>\n",
              "      <td>prophylaxis</td>\n",
              "      <td>treat_procedure_gene</td>\n",
              "      <td>end</td>\n",
              "    </tr>\n",
              "    <tr>\n",
              "      <th>3</th>\n",
              "      <td>prophylaxis</td>\n",
              "      <td>treat_procedure_gene</td>\n",
              "      <td>end</td>\n",
              "    </tr>\n",
              "    <tr>\n",
              "      <th>4</th>\n",
              "      <td>impact</td>\n",
              "      <td>gene_gene</td>\n",
              "      <td>past</td>\n",
              "    </tr>\n",
              "  </tbody>\n",
              "</table>\n",
              "</div>"
            ],
            "text/plain": [
              "       subject          new_relation     object\n",
              "0         step             gene_gene  endosomes\n",
              "1      disease       disease_disease  pneumonia\n",
              "2  prophylaxis  treat_procedure_gene        end\n",
              "3  prophylaxis  treat_procedure_gene        end\n",
              "4       impact             gene_gene       past"
            ]
          },
          "metadata": {
            "tags": []
          },
          "execution_count": 8
        }
      ]
    },
    {
      "cell_type": "code",
      "metadata": {
        "colab": {
          "base_uri": "https://localhost:8080/"
        },
        "id": "ne21mIAeO-Kh",
        "outputId": "4b3fb0e0-c47e-400b-8b35-18d79996f59c"
      },
      "source": [
        "print('Total triples in the KG:', dataset.shape)"
      ],
      "execution_count": 9,
      "outputs": [
        {
          "output_type": "stream",
          "text": [
            "Total triples in the KG: (59070, 3)\n"
          ],
          "name": "stdout"
        }
      ]
    },
    {
      "cell_type": "code",
      "metadata": {
        "id": "9WxrnxjodccM",
        "colab": {
          "base_uri": "https://localhost:8080/"
        },
        "outputId": "50bb7108-6d1c-450b-fce5-c3a8fa570a35"
      },
      "source": [
        "print('the number of relations: \\n', dataset['new_relation'].value_counts())"
      ],
      "execution_count": 10,
      "outputs": [
        {
          "output_type": "stream",
          "text": [
            "the number of relations: \n",
            " disease_disease                    18995\n",
            "treat_procedure_treat_procedure     5827\n",
            "gene_gene                           4366\n",
            "disease_treat_procedure             4218\n",
            "treat_procedure_disease             4047\n",
            "symptom_symptom                     3772\n",
            "disease_gene                        3397\n",
            "disease_symptom                     2742\n",
            "gene_disease                        2573\n",
            "gene_treat_procedure                2317\n",
            "treat_procedure_gene                2269\n",
            "symptom_disease                     2260\n",
            "gene_symptom                         526\n",
            "treat_procedure_symptom              474\n",
            "symptom_treat_procedure              408\n",
            "disease_species                      348\n",
            "symptom_gene                         235\n",
            "gene_species                         149\n",
            "treat_procedure_species              127\n",
            "symptom_species                       20\n",
            "Name: new_relation, dtype: int64\n"
          ],
          "name": "stdout"
        }
      ]
    },
    {
      "cell_type": "markdown",
      "metadata": {
        "id": "fLlcSqIBPEAQ"
      },
      "source": [
        "## 2.1 Create training, validation and test splits"
      ]
    },
    {
      "cell_type": "code",
      "metadata": {
        "colab": {
          "base_uri": "https://localhost:8080/"
        },
        "id": "qaZipgBpPGop",
        "outputId": "70e0d506-c080-497a-f20d-1465d349b3fb"
      },
      "source": [
        "from ampligraph.evaluation import train_test_split_no_unseen\n",
        "# get the validation set of size 500\n",
        "test_train, X_valid = train_test_split_no_unseen(dataset.values, 500, seed=0)\n",
        "\n",
        "# get the test set of size 1000 from the remaining triples\n",
        "X_train, X_test = train_test_split_no_unseen(test_train, 1000, seed=0)\n",
        "\n",
        "print('Total triples:', dataset.shape)\n",
        "print('Size of train:', X_train.shape)\n",
        "print('Size of valid:', X_valid.shape)\n",
        "print('Size of test:', X_test.shape)"
      ],
      "execution_count": 11,
      "outputs": [
        {
          "output_type": "stream",
          "text": [
            "Total triples: (59070, 3)\n",
            "Size of train: (57570, 3)\n",
            "Size of valid: (500, 3)\n",
            "Size of test: (1000, 3)\n"
          ],
          "name": "stdout"
        }
      ]
    },
    {
      "cell_type": "markdown",
      "metadata": {
        "id": "fzsmWo0zPMR6"
      },
      "source": [
        "# 3. Model Training"
      ]
    },
    {
      "cell_type": "code",
      "metadata": {
        "colab": {
          "base_uri": "https://localhost:8080/"
        },
        "id": "p9POL-1mPOsJ",
        "outputId": "9a05a59b-9baa-455d-f45f-1c040eb75a56"
      },
      "source": [
        "from ampligraph.latent_features import TransE\n",
        "\n",
        "# Train a KGE model\n",
        "model = TransE(k=300, \n",
        "               epochs=100, \n",
        "               eta=1, \n",
        "               loss='multiclass_nll', \n",
        "               initializer='xavier', initializer_params={'uniform': False},\n",
        "               regularizer='LP', regularizer_params= {'lambda': 0.001, 'p': 3},\n",
        "               optimizer= 'adam', optimizer_params= {'lr': 0.0001}, \n",
        "               seed= 0, batches_count= 10, verbose=True)\n",
        "\n",
        "model.fit(X_train)\n",
        "# ----------------------\n",
        "# Evaluate: \n",
        "# Filtered evaluation with ranking strategy assigning worst rank to break ties\n",
        "\n",
        "from ampligraph.utils import save_model, restore_model\n",
        "save_model(model, 'TransE.pkl')\n",
        "model = restore_model('TransE.pkl')\n",
        "\n",
        "# create the filter \n",
        "X_filter = np.concatenate([X_train, X_valid, X_test], 0)\n",
        "\n",
        "# compute ranks\n",
        "ranks = evaluate_performance(X_test, \n",
        "                             model=model, \n",
        "                             filter_triples=X_filter)\n",
        "\n",
        "# ranks are computed per triple\n",
        "print('Test set:', X_test.shape)\n",
        "print('Size of ranks:', ranks.shape)\n",
        "\n",
        "# Aggregate metrics show the aggregate performance of the model on the test set using a single number\n",
        "display_aggregate_metrics(ranks)\n",
        "# ----------------------"
      ],
      "execution_count": 12,
      "outputs": [
        {
          "output_type": "stream",
          "text": [
            "Average TransE Loss:   0.046611: 100%|██████████| 100/100 [00:05<00:00, 18.76epoch/s]\n",
            "100%|██████████| 1000/1000 [00:03<00:00, 271.96it/s]\n"
          ],
          "name": "stderr"
        },
        {
          "output_type": "stream",
          "text": [
            "Test set: (1000, 3)\n",
            "Size of ranks: (1000, 2)\n",
            "Mean Rank: 396.955\n",
            "Mean Reciprocal Rank: 0.22485473737262798\n",
            "Hits@1: 0.153\n",
            "Hits@10: 0.37\n",
            "Hits@100: 0.651\n"
          ],
          "name": "stdout"
        }
      ]
    },
    {
      "cell_type": "markdown",
      "metadata": {
        "id": "sYMsDmRuQLem"
      },
      "source": [
        "# 4. Knowledge Discovery"
      ]
    },
    {
      "cell_type": "markdown",
      "metadata": {
        "id": "Xd_bvL6dkkj6"
      },
      "source": [
        "### Relations"
      ]
    },
    {
      "cell_type": "code",
      "metadata": {
        "id": "_xWtlPK3fstK",
        "colab": {
          "base_uri": "https://localhost:8080/",
          "height": 118
        },
        "outputId": "e6da1585-b0f8-411a-8a0e-ca178790133c"
      },
      "source": [
        "# Relations\n",
        "'''\n",
        "disease_disease                    87479\n",
        "gene_gene                          25101\n",
        "disease_species                    21152\n",
        "gene_disease                       17414\n",
        "disease_gene                       17383\n",
        "treat_procedure_disease            15221\n",
        "disease_treat_procedure            14696\n",
        "treat_procedure_treat_procedure    13533\n",
        "treat_procedure_gene                8913\n",
        "gene_treat_procedure                8913\n",
        "treat_procedure_species             5307\n",
        "gene_species                        3894\n",
        "disease_symptom                     2501\n",
        "symptom_disease                     1409\n",
        "treat_procedure_symptom              391\n",
        "gene_symptom                         310\n",
        "symptom_species                      253\n",
        "symptom_treat_procedure              211\n",
        "symptom_gene                         170\n",
        "symptom_symptom                      141\n",
        "'''"
      ],
      "execution_count": 13,
      "outputs": [
        {
          "output_type": "execute_result",
          "data": {
            "application/vnd.google.colaboratory.intrinsic+json": {
              "type": "string"
            },
            "text/plain": [
              "'\\ndisease_disease                    87479\\ngene_gene                          25101\\ndisease_species                    21152\\ngene_disease                       17414\\ndisease_gene                       17383\\ntreat_procedure_disease            15221\\ndisease_treat_procedure            14696\\ntreat_procedure_treat_procedure    13533\\ntreat_procedure_gene                8913\\ngene_treat_procedure                8913\\ntreat_procedure_species             5307\\ngene_species                        3894\\ndisease_symptom                     2501\\nsymptom_disease                     1409\\ntreat_procedure_symptom              391\\ngene_symptom                         310\\nsymptom_species                      253\\nsymptom_treat_procedure              211\\nsymptom_gene                         170\\nsymptom_symptom                      141\\n'"
            ]
          },
          "metadata": {
            "tags": []
          },
          "execution_count": 13
        }
      ]
    },
    {
      "cell_type": "markdown",
      "metadata": {
        "id": "oGu6b-HnQRS3"
      },
      "source": [
        "##  Question - Answering\n",
        "\n",
        "``` \n",
        "    <head, relation, ?> \n",
        "    <head, ?,        tail>\n",
        "    <?,    relation, tail>\n",
        "```"
      ]
    },
    {
      "cell_type": "markdown",
      "metadata": {
        "id": "zq_rwrt5jTVJ"
      },
      "source": [
        "### Query: what are the possible therapeutic procedure of covid-19??"
      ]
    },
    {
      "cell_type": "code",
      "metadata": {
        "colab": {
          "base_uri": "https://localhost:8080/"
        },
        "id": "j_cm34I_QNH3",
        "outputId": "1636854a-fb0d-439f-ead7-3b49584fa997"
      },
      "source": [
        "# Query: what are the possible therapeutic procedure of covid-19??\n",
        "\n",
        "from ampligraph.discovery import query_topn\n",
        "\n",
        "# restore the previously saved model to save time\n",
        "model = restore_model('TransE.pkl')\n",
        "\n",
        "triples, scores = query_topn(model, top_n=20, \n",
        "                             head='coronavirus', \n",
        "                             relation='disease_treat_procedure', \n",
        "                             tail=None, \n",
        "                             ents_to_consider=None, \n",
        "                             rels_to_consider=None)\n",
        "\n",
        "for triple, score in zip(triples, scores):\n",
        "    print('Score: {} \\t {} '.format(score, triple))"
      ],
      "execution_count": 16,
      "outputs": [
        {
          "output_type": "stream",
          "text": [
            "Score: -10.234280586242676 \t ['coronavirus' 'disease_treat_procedure' 'detected'] \n",
            "Score: -10.975214004516602 \t ['coronavirus' 'disease_treat_procedure' 'destruction'] \n",
            "Score: -11.161733627319336 \t ['coronavirus' 'disease_treat_procedure' 'presence'] \n",
            "Score: -11.162944793701172 \t ['coronavirus' 'disease_treat_procedure' 'release'] \n",
            "Score: -11.18162727355957 \t ['coronavirus' 'disease_treat_procedure' 'mechanical ventilation'] \n",
            "Score: -11.225645065307617 \t ['coronavirus' 'disease_treat_procedure' 'detection'] \n",
            "Score: -11.257482528686523 \t ['coronavirus' 'disease_treat_procedure' 'elevation'] \n",
            "Score: -11.316635131835938 \t ['coronavirus' 'disease_treat_procedure' 'clearance'] \n",
            "Score: -11.34953498840332 \t ['coronavirus' 'disease_treat_procedure' 'open'] \n",
            "Score: -11.365729331970215 \t ['coronavirus' 'disease_treat_procedure' 'expression'] \n",
            "Score: -11.493637084960938 \t ['coronavirus' 'disease_treat_procedure' 'removal'] \n",
            "Score: -11.511768341064453 \t ['coronavirus' 'disease_treat_procedure' 'treatment'] \n",
            "Score: -11.525528907775879 \t ['coronavirus' 'disease_treat_procedure' 'change'] \n",
            "Score: -11.53036117553711 \t ['coronavirus' 'disease_treat_procedure' 'organ transplantation'] \n",
            "Score: -11.563961029052734 \t ['coronavirus' 'disease_treat_procedure' 'induction'] \n",
            "Score: -11.61329460144043 \t ['coronavirus' 'disease_treat_procedure' 'reduction'] \n",
            "Score: -11.6194429397583 \t ['coronavirus' 'disease_treat_procedure' 'intervention'] \n",
            "Score: -11.648231506347656 \t ['coronavirus' 'disease_treat_procedure' 'diet'] \n",
            "Score: -11.672111511230469 \t ['coronavirus' 'disease_treat_procedure' 'fusion'] \n",
            "Score: -11.705788612365723 \t ['coronavirus' 'disease_treat_procedure' 'liquid'] \n"
          ],
          "name": "stdout"
        }
      ]
    },
    {
      "cell_type": "code",
      "metadata": {
        "id": "njTpcGh0jBnU",
        "colab": {
          "base_uri": "https://localhost:8080/"
        },
        "outputId": "1a225cc4-8fd6-4f95-991b-247d3d3f1d75"
      },
      "source": [
        "# Query: what are the possible therapeutic procedure of covid-19??\n",
        "\n",
        "from ampligraph.discovery import query_topn\n",
        "\n",
        "# restore the previously saved model to save time\n",
        "model = restore_model('TransE.pkl')\n",
        "\n",
        "triples, scores = query_topn(model, top_n=20, \n",
        "                             head=None, \n",
        "                             relation='treat_procedure_disease', \n",
        "                             tail='coronavirus', \n",
        "                             ents_to_consider=None, \n",
        "                             rels_to_consider=None)\n",
        "\n",
        "for triple, score in zip(triples, scores):\n",
        "    print('Score: {} \\t {} '.format(score, triple))"
      ],
      "execution_count": 17,
      "outputs": [
        {
          "output_type": "stream",
          "text": [
            "Score: -11.309013366699219 \t ['inoculation' 'treat_procedure_disease' 'coronavirus'] \n",
            "Score: -11.460874557495117 \t ['administration' 'treat_procedure_disease' 'coronavirus'] \n",
            "Score: -11.652515411376953 \t ['drug' 'treat_procedure_disease' 'coronavirus'] \n",
            "Score: -11.703194618225098 \t ['monolayers' 'treat_procedure_disease' 'coronavirus'] \n",
            "Score: -11.73873519897461 \t ['influenza vaccination' 'treat_procedure_disease' 'coronavirus'] \n",
            "Score: -11.76041030883789 \t ['reduction' 'treat_procedure_disease' 'coronavirus'] \n",
            "Score: -11.783241271972656 \t ['presence' 'treat_procedure_disease' 'coronavirus'] \n",
            "Score: -11.800429344177246 \t ['isolation' 'treat_procedure_disease' 'coronavirus'] \n",
            "Score: -11.803807258605957 \t ['immunization' 'treat_procedure_disease' 'coronavirus'] \n",
            "Score: -11.809280395507812 \t ['application' 'treat_procedure_disease' 'coronavirus'] \n",
            "Score: -11.844008445739746 \t ['expression' 'treat_procedure_disease' 'coronavirus'] \n",
            "Score: -11.856630325317383 \t ['infiltration' 'treat_procedure_disease' 'coronavirus'] \n",
            "Score: -11.89041805267334 \t ['therapy' 'treat_procedure_disease' 'coronavirus'] \n",
            "Score: -11.933389663696289 \t ['insertion' 'treat_procedure_disease' 'coronavirus'] \n",
            "Score: -11.949579238891602 \t ['antiviral therapy' 'treat_procedure_disease' 'coronavirus'] \n",
            "Score: -12.055123329162598 \t ['vaccination' 'treat_procedure_disease' 'coronavirus'] \n",
            "Score: -12.06057357788086 \t ['delivery' 'treat_procedure_disease' 'coronavirus'] \n",
            "Score: -12.101898193359375 \t ['coagulation' 'treat_procedure_disease' 'coronavirus'] \n",
            "Score: -12.15131950378418 \t ['detection' 'treat_procedure_disease' 'coronavirus'] \n",
            "Score: -12.16273307800293 \t ['attachment' 'treat_procedure_disease' 'coronavirus'] \n"
          ],
          "name": "stdout"
        }
      ]
    },
    {
      "cell_type": "markdown",
      "metadata": {
        "id": "M7ZUKoeVjuGN"
      },
      "source": [
        "### Query: What are related diseases of Covid-19"
      ]
    },
    {
      "cell_type": "code",
      "metadata": {
        "colab": {
          "base_uri": "https://localhost:8080/"
        },
        "id": "TSZ8QHf6QdgP",
        "outputId": "1ba6d429-4eff-43b9-f1b3-1d0ff3b3dd94"
      },
      "source": [
        "# Predict relation\n",
        "\n",
        "triples, scores = query_topn(model, top_n=20, \n",
        "                             head='coronavirus', \n",
        "                             relation='disease_disease', \n",
        "                             tail= None, \n",
        "                             ents_to_consider=None, \n",
        "                             rels_to_consider=None)\n",
        "\n",
        "for triple, score in zip(triples, scores):\n",
        "    print('Score: {} \\t {} '.format(score, triple))"
      ],
      "execution_count": 18,
      "outputs": [
        {
          "output_type": "stream",
          "text": [
            "Score: -13.433341026306152 \t ['coronavirus' 'disease_disease' 'bat coronavirus'] \n",
            "Score: -13.51054859161377 \t ['coronavirus' 'disease_disease' 'human metapneumovirus'] \n",
            "Score: -13.628095626831055 \t ['coronavirus' 'disease_disease' 'acute respiratory tract infection'] \n",
            "Score: -13.65103816986084 \t ['coronavirus' 'disease_disease' 'febrile illness'] \n",
            "Score: -13.753948211669922 \t ['coronavirus' 'disease_disease' 'hepatic necrosis'] \n",
            "Score: -13.865894317626953 \t ['coronavirus' 'disease_disease' 'respiratory tract disease'] \n",
            "Score: -14.011213302612305 \t ['coronavirus' 'disease_disease' 'contagious disease'] \n",
            "Score: -14.047826766967773 \t ['coronavirus' 'disease_disease' 'kidney failure'] \n",
            "Score: -14.047842025756836 \t ['coronavirus' 'disease_disease' 'coagulopathies'] \n",
            "Score: -14.105731010437012 \t ['coronavirus' 'disease_disease' 'endemic disease'] \n",
            "Score: -14.141969680786133 \t ['coronavirus' 'disease_disease' 'canine adenovirus 1'] \n",
            "Score: -14.213666915893555 \t ['coronavirus' 'disease_disease' 'viral disease'] \n",
            "Score: -14.220688819885254 \t ['coronavirus' 'disease_disease' 'urinary tract infection'] \n",
            "Score: -14.245145797729492 \t ['coronavirus' 'disease_disease' 'severe acute respiratory syndrome'] \n",
            "Score: -14.259930610656738 \t ['coronavirus' 'disease_disease' 'lower respiratory tract infection'] \n",
            "Score: -14.274307250976562 \t ['coronavirus' 'disease_disease' 'lymphocytosis'] \n",
            "Score: -14.296015739440918 \t ['coronavirus' 'disease_disease' 'critically ill'] \n",
            "Score: -14.35166072845459 \t ['coronavirus' 'disease_disease' 'infectious encephalomyelitis'] \n",
            "Score: -14.369253158569336 \t ['coronavirus' 'disease_disease' 'cold'] \n",
            "Score: -14.373527526855469 \t ['coronavirus' 'disease_disease' 'enveloped virus'] \n"
          ],
          "name": "stdout"
        }
      ]
    },
    {
      "cell_type": "code",
      "metadata": {
        "id": "Fo9TXKFbkRRT",
        "colab": {
          "base_uri": "https://localhost:8080/"
        },
        "outputId": "91f2ec48-968b-482a-81b9-8412ceee4299"
      },
      "source": [
        "# Predict relation\n",
        "\n",
        "triples, scores = query_topn(model, top_n=20, \n",
        "                             head=None, \n",
        "                             relation='disease_disease', \n",
        "                             tail= 'coronavirus', \n",
        "                             ents_to_consider=None, \n",
        "                             rels_to_consider=None)\n",
        "\n",
        "for triple, score in zip(triples, scores):\n",
        "    print('Score: {} \\t {} '.format(score, triple))"
      ],
      "execution_count": 26,
      "outputs": [
        {
          "output_type": "stream",
          "text": [
            "Score: -13.730649948120117 \t ['calicivirus' 'disease_disease' 'coronavirus'] \n",
            "Score: -13.76961898803711 \t ['reovirus' 'disease_disease' 'coronavirus'] \n",
            "Score: -13.893882751464844 \t ['mucopurulent conjunctivitis' 'disease_disease' 'coronavirus'] \n",
            "Score: -13.895874977111816 \t ['he' 'disease_disease' 'coronavirus'] \n",
            "Score: -14.037752151489258 \t ['deltacoronavirus' 'disease_disease' 'coronavirus'] \n",
            "Score: -14.046636581420898 \t ['nasopharyngitis' 'disease_disease' 'coronavirus'] \n",
            "Score: -14.089031219482422 \t ['autoimmune hemolytic anemia' 'disease_disease' 'coronavirus'] \n",
            "Score: -14.232604026794434 \t ['normocytic anemia' 'disease_disease' 'coronavirus'] \n",
            "Score: -14.25552749633789 \t ['septicaemia' 'disease_disease' 'coronavirus'] \n",
            "Score: -14.280397415161133 \t ['pulmonary pathology' 'disease_disease' 'coronavirus'] \n",
            "Score: -14.316299438476562 \t ['virus infection' 'disease_disease' 'coronavirus'] \n",
            "Score: -14.383748054504395 \t ['bronchiolitis obliterans' 'disease_disease' 'coronavirus'] \n",
            "Score: -14.393318176269531 \t ['hemolytic anemia' 'disease_disease' 'coronavirus'] \n",
            "Score: -14.410181045532227 \t ['tuberculosis' 'disease_disease' 'coronavirus'] \n",
            "Score: -14.420455932617188 \t ['coinfections' 'disease_disease' 'coronavirus'] \n",
            "Score: -14.437652587890625 \t ['respiratory virus' 'disease_disease' 'coronavirus'] \n",
            "Score: -14.466822624206543 \t ['clinical syndrome' 'disease_disease' 'coronavirus'] \n",
            "Score: -14.50546646118164 \t ['gammacoronaviruses' 'disease_disease' 'coronavirus'] \n",
            "Score: -14.509660720825195 \t ['parainfluenza virus' 'disease_disease' 'coronavirus'] \n",
            "Score: -14.536871910095215 \t ['lung inflammation' 'disease_disease' 'coronavirus'] \n"
          ],
          "name": "stdout"
        }
      ]
    },
    {
      "cell_type": "markdown",
      "metadata": {
        "id": "1tXmffPBkw7Y"
      },
      "source": [
        "### Query: What are the genes/proteins related to Covid-19"
      ]
    },
    {
      "cell_type": "code",
      "metadata": {
        "colab": {
          "base_uri": "https://localhost:8080/"
        },
        "id": "RZU9pJBXEvIG",
        "outputId": "d5743b80-c1c7-4d32-b22e-f89b9e64d140"
      },
      "source": [
        "# Predict relation\n",
        "\n",
        "triples, scores = query_topn(model, top_n=25, \n",
        "                             head='coronavirus', \n",
        "                             relation='disease_gene', \n",
        "                             tail=None, \n",
        "                             ents_to_consider=None, \n",
        "                             rels_to_consider=None)\n",
        "\n",
        "for triple, score in zip(triples, scores):\n",
        "    print('Score: {} \\t {} '.format(score, triple))"
      ],
      "execution_count": 19,
      "outputs": [
        {
          "output_type": "stream",
          "text": [
            "Score: -12.008208274841309 \t ['coronavirus' 'disease_gene' 'body'] \n",
            "Score: -12.088303565979004 \t ['coronavirus' 'disease_gene' 'cell'] \n",
            "Score: -12.123513221740723 \t ['coronavirus' 'disease_gene' 'rare'] \n",
            "Score: -12.12818717956543 \t ['coronavirus' 'disease_gene' 'host cell'] \n",
            "Score: -12.157024383544922 \t ['coronavirus' 'disease_gene' 'large'] \n",
            "Score: -12.200387954711914 \t ['coronavirus' 'disease_gene' 'hepatocytes'] \n",
            "Score: -12.2405366897583 \t ['coronavirus' 'disease_gene' '16'] \n",
            "Score: -12.269770622253418 \t ['coronavirus' 'disease_gene' 'mask'] \n",
            "Score: -12.296977996826172 \t ['coronavirus' 'disease_gene' 'set'] \n",
            "Score: -12.316703796386719 \t ['coronavirus' 'disease_gene' 'air'] \n",
            "Score: -12.338523864746094 \t ['coronavirus' 'disease_gene' 'genome'] \n",
            "Score: -12.382718086242676 \t ['coronavirus' 'disease_gene' 'damage'] \n",
            "Score: -12.432119369506836 \t ['coronavirus' 'disease_gene' 'end'] \n",
            "Score: -12.534629821777344 \t ['coronavirus' 'disease_gene' 'type'] \n",
            "Score: -12.552530288696289 \t ['coronavirus' 'disease_gene' 'cytoplasm'] \n",
            "Score: -12.599804878234863 \t ['coronavirus' 'disease_gene' 'toll'] \n",
            "Score: -12.613760948181152 \t ['coronavirus' 'disease_gene' 'antibody'] \n",
            "Score: -12.657150268554688 \t ['coronavirus' 'disease_gene' 'neck'] \n",
            "Score: -12.686172485351562 \t ['coronavirus' 'disease_gene' 'impact'] \n",
            "Score: -12.706053733825684 \t ['coronavirus' 'disease_gene' 'serum'] \n",
            "Score: -12.732135772705078 \t ['coronavirus' 'disease_gene' 'virion'] \n",
            "Score: -12.744440078735352 \t ['coronavirus' 'disease_gene' 'envelope'] \n",
            "Score: -12.799612045288086 \t ['coronavirus' 'disease_gene' 'camel'] \n",
            "Score: -12.808855056762695 \t ['coronavirus' 'disease_gene' 'men'] \n",
            "Score: -12.8465576171875 \t ['coronavirus' 'disease_gene' 'step'] \n"
          ],
          "name": "stdout"
        }
      ]
    },
    {
      "cell_type": "code",
      "metadata": {
        "colab": {
          "base_uri": "https://localhost:8080/"
        },
        "id": "8Z7SxVTfIyCP",
        "outputId": "876e5ac6-a664-4102-ec16-12fad67c14ba"
      },
      "source": [
        "# Predict relation\n",
        "\n",
        "triples, scores = query_topn(model, top_n=20, \n",
        "                             head= None, \n",
        "                             relation='gene_disease', \n",
        "                             tail='coronavirus', \n",
        "                             ents_to_consider=None, \n",
        "                             rels_to_consider=None)\n",
        "\n",
        "for triple, score in zip(triples, scores):\n",
        "    print('Score: {} \\t {} '.format(score, triple))"
      ],
      "execution_count": 24,
      "outputs": [
        {
          "output_type": "stream",
          "text": [
            "Score: -11.019047737121582 \t ['all' 'gene_disease' 'coronavirus'] \n",
            "Score: -11.169663429260254 \t ['cat' 'gene_disease' 'coronavirus'] \n",
            "Score: -11.176797866821289 \t ['aim' 'gene_disease' 'coronavirus'] \n",
            "Score: -11.355566024780273 \t ['she' 'gene_disease' 'coronavirus'] \n",
            "Score: -11.378961563110352 \t ['light' 'gene_disease' 'coronavirus'] \n",
            "Score: -11.392069816589355 \t ['sex' 'gene_disease' 'coronavirus'] \n",
            "Score: -11.52822494506836 \t ['gene' 'gene_disease' 'coronavirus'] \n",
            "Score: -11.587860107421875 \t ['impact' 'gene_disease' 'coronavirus'] \n",
            "Score: -11.678779602050781 \t ['rest' 'gene_disease' 'coronavirus'] \n",
            "Score: -11.848551750183105 \t ['pig' 'gene_disease' 'coronavirus'] \n",
            "Score: -11.853300094604492 \t ['bat' 'gene_disease' 'coronavirus'] \n",
            "Score: -11.876259803771973 \t ['protein' 'gene_disease' 'coronavirus'] \n",
            "Score: -11.883123397827148 \t ['antibody' 'gene_disease' 'coronavirus'] \n",
            "Score: -11.908979415893555 \t ['type' 'gene_disease' 'coronavirus'] \n",
            "Score: -11.928110122680664 \t ['mix' 'gene_disease' 'coronavirus'] \n",
            "Score: -11.955870628356934 \t ['microglia' 'gene_disease' 'coronavirus'] \n",
            "Score: -11.979202270507812 \t ['best' 'gene_disease' 'coronavirus'] \n",
            "Score: -12.087090492248535 \t ['damage' 'gene_disease' 'coronavirus'] \n",
            "Score: -12.133501052856445 \t ['pneumocytes' 'gene_disease' 'coronavirus'] \n",
            "Score: -12.143695831298828 \t ['men' 'gene_disease' 'coronavirus'] \n"
          ],
          "name": "stdout"
        }
      ]
    },
    {
      "cell_type": "markdown",
      "metadata": {
        "id": "6cuiw9D6ND6J"
      },
      "source": [
        "### Query: What species transmit the covid-19"
      ]
    },
    {
      "cell_type": "code",
      "metadata": {
        "colab": {
          "base_uri": "https://localhost:8080/"
        },
        "id": "C5JyaTDrFMmG",
        "outputId": "76b54bac-b2df-46dd-b364-6f5b3e225a78"
      },
      "source": [
        "# Predict relation\n",
        "triples, scores = query_topn(model, top_n=20, \n",
        "                             tail=None, \n",
        "                             relation='disease_species', \n",
        "                             head='coronavirus', \n",
        "                             ents_to_consider=None, \n",
        "                             rels_to_consider=None)\n",
        "\n",
        "for triple, score in zip(triples, scores):\n",
        "    print('Score: {} \\t {} '.format(score, triple))"
      ],
      "execution_count": 21,
      "outputs": [
        {
          "output_type": "stream",
          "text": [
            "Score: -9.148772239685059 \t ['coronavirus' 'disease_species' 'specie'] \n",
            "Score: -9.719999313354492 \t ['coronavirus' 'disease_species' 'livestock'] \n",
            "Score: -10.14963150024414 \t ['coronavirus' 'disease_species' 'vector'] \n",
            "Score: -10.255745887756348 \t ['coronavirus' 'disease_species' 'animal'] \n",
            "Score: -10.488275527954102 \t ['coronavirus' 'disease_species' 'animal model'] \n",
            "Score: -11.005115509033203 \t ['coronavirus' 'disease_species' 'working'] \n",
            "Score: -11.378012657165527 \t ['coronavirus' 'disease_species' 'meat'] \n",
            "Score: -11.800975799560547 \t ['coronavirus' 'disease_species' 'show'] \n",
            "Score: -12.31668472290039 \t ['coronavirus' 'disease_species' 'pet'] \n",
            "Score: -12.491943359375 \t ['coronavirus' 'disease_species' 'cardiopulmonary resuscitation'] \n",
            "Score: -12.516268730163574 \t ['coronavirus' 'disease_species' 'dissection'] \n",
            "Score: -12.610631942749023 \t ['coronavirus' 'disease_species' 'experimental animal model'] \n",
            "Score: -12.61493968963623 \t ['coronavirus' 'disease_species' 'animal study'] \n",
            "Score: -12.717056274414062 \t ['coronavirus' 'disease_species' 'caesarean section'] \n",
            "Score: -12.853682518005371 \t ['coronavirus' 'disease_species' 'repair'] \n",
            "Score: -12.88302993774414 \t ['coronavirus' 'disease_species' 'ovariohysterectomy'] \n",
            "Score: -12.885055541992188 \t ['coronavirus' 'disease_species' 'animal kingdom'] \n",
            "Score: -12.896228790283203 \t ['coronavirus' 'disease_species' 'removal'] \n",
            "Score: -12.920151710510254 \t ['coronavirus' 'disease_species' 'obstructive azoospermia'] \n",
            "Score: -12.941492080688477 \t ['coronavirus' 'disease_species' 'hantavirus'] \n"
          ],
          "name": "stdout"
        }
      ]
    },
    {
      "cell_type": "markdown",
      "metadata": {
        "id": "ZEt3e55_NwvA"
      },
      "source": [
        "### Query: what are symptoms of the covid-19"
      ]
    },
    {
      "cell_type": "code",
      "metadata": {
        "colab": {
          "base_uri": "https://localhost:8080/"
        },
        "id": "z-Y3oDDaGeLZ",
        "outputId": "758a8747-0f1a-4e25-f22c-1c6bcb4e5c34"
      },
      "source": [
        "\n",
        "triples, scores = query_topn(model, top_n=20, \n",
        "                             head=None, \n",
        "                             relation='symptom_disease', \n",
        "                             tail='coronavirus', \n",
        "                             ents_to_consider=None, \n",
        "                             rels_to_consider=None)\n",
        "\n",
        "for triple, score in zip(triples, scores):\n",
        "    print('Score: {} \\t {} '.format(score, triple))"
      ],
      "execution_count": 22,
      "outputs": [
        {
          "output_type": "stream",
          "text": [
            "Score: -11.40304183959961 \t ['fever' 'symptom_disease' 'coronavirus'] \n",
            "Score: -11.583837509155273 \t ['diarrhoea' 'symptom_disease' 'coronavirus'] \n",
            "Score: -11.613479614257812 \t ['diarrhea' 'symptom_disease' 'coronavirus'] \n",
            "Score: -11.663475036621094 \t ['illness' 'symptom_disease' 'coronavirus'] \n",
            "Score: -11.725469589233398 \t ['pain' 'symptom_disease' 'coronavirus'] \n",
            "Score: -11.739606857299805 \t ['finding' 'symptom_disease' 'coronavirus'] \n",
            "Score: -11.766240119934082 \t ['headache' 'symptom_disease' 'coronavirus'] \n",
            "Score: -11.966055870056152 \t ['vomiting' 'symptom_disease' 'coronavirus'] \n",
            "Score: -11.974838256835938 \t ['weakness' 'symptom_disease' 'coronavirus'] \n",
            "Score: -11.9857816696167 \t ['cough' 'symptom_disease' 'coronavirus'] \n",
            "Score: -12.02140998840332 \t ['watery diarrhea' 'symptom_disease' 'coronavirus'] \n",
            "Score: -12.023786544799805 \t ['dyspnea' 'symptom_disease' 'coronavirus'] \n",
            "Score: -12.024237632751465 \t ['discharge' 'symptom_disease' 'coronavirus'] \n",
            "Score: -12.107635498046875 \t ['lethargy' 'symptom_disease' 'coronavirus'] \n",
            "Score: -12.112709045410156 \t ['wheezing' 'symptom_disease' 'coronavirus'] \n",
            "Score: -12.290973663330078 \t ['fatigue' 'symptom_disease' 'coronavirus'] \n",
            "Score: -12.295780181884766 \t ['respiratory distress' 'symptom_disease' 'coronavirus'] \n",
            "Score: -12.319546699523926 \t ['imbalance' 'symptom_disease' 'coronavirus'] \n",
            "Score: -12.359329223632812 \t ['abdominal pain' 'symptom_disease' 'coronavirus'] \n",
            "Score: -12.41790771484375 \t ['malaise' 'symptom_disease' 'coronavirus'] \n"
          ],
          "name": "stdout"
        }
      ]
    },
    {
      "cell_type": "code",
      "metadata": {
        "colab": {
          "base_uri": "https://localhost:8080/"
        },
        "id": "EMoR_zzIOnLJ",
        "outputId": "4ae7ddfd-4b61-44e3-9558-1c417810539e"
      },
      "source": [
        "triples, scores = query_topn(model, top_n=20, \n",
        "                             tail=None, \n",
        "                             relation='disease_symptom', \n",
        "                             head='coronavirus', \n",
        "                             ents_to_consider=None, \n",
        "                             rels_to_consider=None)\n",
        "\n",
        "for triple, score in zip(triples, scores):\n",
        "    print('Score: {} \\t {} '.format(score, triple))"
      ],
      "execution_count": 23,
      "outputs": [
        {
          "output_type": "stream",
          "text": [
            "Score: -10.531105041503906 \t ['coronavirus' 'disease_symptom' 'illness'] \n",
            "Score: -10.567334175109863 \t ['coronavirus' 'disease_symptom' 'diarrhea'] \n",
            "Score: -10.943293571472168 \t ['coronavirus' 'disease_symptom' 'organ failure'] \n",
            "Score: -11.011301040649414 \t ['coronavirus' 'disease_symptom' 'severe diarrhea'] \n",
            "Score: -11.080653190612793 \t ['coronavirus' 'disease_symptom' 'fever'] \n",
            "Score: -11.167813301086426 \t ['coronavirus' 'disease_symptom' 'respiratory distress'] \n",
            "Score: -11.169528007507324 \t ['coronavirus' 'disease_symptom' 'coughing'] \n",
            "Score: -11.178520202636719 \t ['coronavirus' 'disease_symptom' 'cough'] \n",
            "Score: -11.181768417358398 \t ['coronavirus' 'disease_symptom' 'symptom'] \n",
            "Score: -11.194692611694336 \t ['coronavirus' 'disease_symptom' 'nasal discharge'] \n",
            "Score: -11.199895858764648 \t ['coronavirus' 'disease_symptom' 'nausea'] \n",
            "Score: -11.250325202941895 \t ['coronavirus' 'disease_symptom' 'rash'] \n",
            "Score: -11.370763778686523 \t ['coronavirus' 'disease_symptom' 'dyspnea'] \n",
            "Score: -11.371818542480469 \t ['coronavirus' 'disease_symptom' 'fatigue'] \n",
            "Score: -11.376045227050781 \t ['coronavirus' 'disease_symptom' 'pain'] \n",
            "Score: -11.412351608276367 \t ['coronavirus' 'disease_symptom' 'vomiting'] \n",
            "Score: -11.441519737243652 \t ['coronavirus' 'disease_symptom' 'rhinorrhea'] \n",
            "Score: -11.495829582214355 \t ['coronavirus' 'disease_symptom' 'finding'] \n",
            "Score: -11.544851303100586 \t ['coronavirus' 'disease_symptom' 'diarrhoea'] \n",
            "Score: -11.570209503173828 \t ['coronavirus' 'disease_symptom' 'discharge'] \n"
          ],
          "name": "stdout"
        }
      ]
    },
    {
      "cell_type": "code",
      "metadata": {
        "id": "qxXS3g4yJT15"
      },
      "source": [
        "# Compare the raw call and graph embedding results for the symptoms query\n",
        "\n",
        "## raw call\n",
        "#dataset.loc[(dataset['subject']=='symptom')].head(20)\n",
        "\n",
        "#####==> the result of raw call seems to be better"
      ],
      "execution_count": null,
      "outputs": []
    },
    {
      "cell_type": "code",
      "metadata": {
        "id": "mpVrcKflG2gK"
      },
      "source": [
        "##graph embedding\n",
        "triples, scores = query_topn(model, top_n=20, \n",
        "                             head=, \n",
        "                             relation='be_related_with', \n",
        "                             tail=None, \n",
        "                             ents_to_consider=None, \n",
        "                             rels_to_consider=None)\n",
        "\n",
        "for triple, score in zip(triples, scores):\n",
        "    print('Score: {} \\t {} '.format(score, triple))"
      ],
      "execution_count": null,
      "outputs": []
    },
    {
      "cell_type": "code",
      "metadata": {
        "id": "W-wl5yQgLRat"
      },
      "source": [
        ""
      ],
      "execution_count": null,
      "outputs": []
    }
  ]
}