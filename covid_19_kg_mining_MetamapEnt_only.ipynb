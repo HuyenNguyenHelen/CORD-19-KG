{
  "nbformat": 4,
  "nbformat_minor": 0,
  "metadata": {
    "colab": {
      "name": "covid-19-kg-mining_MetamapEnt_only.ipynb",
      "provenance": [],
      "collapsed_sections": [],
      "include_colab_link": true
    },
    "kernelspec": {
      "name": "python3",
      "display_name": "Python 3"
    },
    "language_info": {
      "name": "python"
    },
    "accelerator": "GPU"
  },
  "cells": [
    {
      "cell_type": "markdown",
      "metadata": {
        "id": "view-in-github",
        "colab_type": "text"
      },
      "source": [
        "<a href=\"https://colab.research.google.com/github/HuyenNguyenHelen/CORD-19-KG/blob/master/covid_19_kg_mining_MetamapEnt_only.ipynb\" target=\"_parent\"><img src=\"https://colab.research.google.com/assets/colab-badge.svg\" alt=\"Open In Colab\"/></a>"
      ]
    },
    {
      "cell_type": "markdown",
      "metadata": {
        "id": "xUFXMJVdOltr"
      },
      "source": [
        "# 1. Preliminaries"
      ]
    },
    {
      "cell_type": "code",
      "metadata": {
        "id": "P7TZVvkzNwDF",
        "colab": {
          "base_uri": "https://localhost:8080/"
        },
        "outputId": "40e648c0-a86f-49cb-9e21-644472efb05c"
      },
      "source": [
        "# If using Google Colab run this cell \n",
        "\n",
        "# select tensorflow version for colab \n",
        "%tensorflow_version 1.x"
      ],
      "execution_count": 1,
      "outputs": [
        {
          "output_type": "stream",
          "text": [
            "TensorFlow 1.x selected.\n"
          ],
          "name": "stdout"
        }
      ]
    },
    {
      "cell_type": "code",
      "metadata": {
        "colab": {
          "base_uri": "https://localhost:8080/"
        },
        "id": "h22uybHCOUyq",
        "outputId": "7c5839e4-44c5-4235-80ab-21cf68a79de2"
      },
      "source": [
        "import tensorflow as tf \n",
        "\n",
        "print('TensorFlow  version: {}'.format(tf.__version__))\n",
        "\n",
        "# Get the GPU name\n",
        "device_name = tf.test.gpu_device_name()\n",
        "if device_name != '/device:GPU:0':\n",
        "  raise SystemError('GPU device not found')\n",
        "print('Found GPU at: {}'.format(device_name))"
      ],
      "execution_count": 2,
      "outputs": [
        {
          "output_type": "stream",
          "text": [
            "TensorFlow  version: 1.15.2\n",
            "Found GPU at: /device:GPU:0\n"
          ],
          "name": "stdout"
        }
      ]
    },
    {
      "cell_type": "code",
      "metadata": {
        "id": "MgZPAPapOaLA"
      },
      "source": [
        "%%capture \n",
        "# Install AmpliGraph library\n",
        "! pip install ampligraph\n",
        "\n",
        "# Required to visualize embeddings with tensorboard projector, comment out if not required!\n",
        "! pip install --user tensorboard\n",
        "\n",
        "# Required to plot text on embedding clusters, comment out if not required!\n",
        "! pip install --user git+https://github.com/Phlya/adjustText"
      ],
      "execution_count": 3,
      "outputs": []
    },
    {
      "cell_type": "code",
      "metadata": {
        "colab": {
          "base_uri": "https://localhost:8080/"
        },
        "id": "9Bzg5vHqOfch",
        "outputId": "8f4432d6-b8a0-44f8-c1ff-32e2bce301ef"
      },
      "source": [
        "# All imports used in this tutorial \n",
        "%tensorflow_version 1.x\n",
        "import ampligraph\n",
        "import numpy as np\n",
        "import pandas as pd\n",
        "import tensorflow as tf\n",
        "from ampligraph.datasets import load_fb15k_237\n",
        "from ampligraph.evaluation import train_test_split_no_unseen, evaluate_performance, mr_score, mrr_score, hits_at_n_score\n",
        "from ampligraph.discovery import query_topn, discover_facts, find_clusters\n",
        "from ampligraph.latent_features import TransE, ComplEx, HolE, DistMult, ConvE, ConvKB\n",
        "from ampligraph.utils import save_model, restore_model\n",
        "\n",
        "def display_aggregate_metrics(ranks):\n",
        "    print('Mean Rank:', mr_score(ranks)) \n",
        "    print('Mean Reciprocal Rank:', mrr_score(ranks)) \n",
        "    print('Hits@1:', hits_at_n_score(ranks, 1))\n",
        "    print('Hits@10:', hits_at_n_score(ranks, 10))\n",
        "    print('Hits@100:', hits_at_n_score(ranks, 100))\n",
        "\n",
        "print('Ampligraph version: {}'.format(ampligraph.__version__))"
      ],
      "execution_count": 4,
      "outputs": [
        {
          "output_type": "stream",
          "text": [
            "Ampligraph version: 1.4.0\n"
          ],
          "name": "stdout"
        }
      ]
    },
    {
      "cell_type": "markdown",
      "metadata": {
        "id": "aBb8eVx6Osxx"
      },
      "source": [
        "# 2. Loading a Knowledge Graph dataset"
      ]
    },
    {
      "cell_type": "code",
      "metadata": {
        "id": "k96fp70dOyyS"
      },
      "source": [
        "from ampligraph.datasets import load_fb15k_237, load_wn18rr, load_yago3_10\n",
        "import io\n",
        "import requests"
      ],
      "execution_count": 9,
      "outputs": []
    },
    {
      "cell_type": "code",
      "metadata": {
        "colab": {
          "base_uri": "https://localhost:8080/",
          "height": 218
        },
        "id": "G6V6F6nWO6cQ",
        "outputId": "afe64eab-e779-4be0-c909-977ebe7ee1b5"
      },
      "source": [
        "# Downloading the csv file from your GitHub account\n",
        "re_pdf = requests.get('https://raw.githubusercontent.com/HuyenNguyenHelen/CORD-19-KG/master/new_triples_with_predefined_relations_pdf_June20_meta-only.csv').content\n",
        "re_pmc = requests.get('https://raw.githubusercontent.com/HuyenNguyenHelen/CORD-19-KG/master/new_triples_with_predefined_relations_pmc_June20_meta-only.csv').content\n",
        "pdf = pd.read_csv(io.StringIO(re_pdf.decode('utf-8')))\n",
        "pmc =  pd.read_csv(io.StringIO(re_pmc.decode('utf-8')))\n",
        "dataset = pd.concat([pmc, pdf])\n",
        "print(dataset.columns)\n",
        "dataset.drop(columns='Unnamed: 0', inplace=True)\n",
        "dataset = dataset[['subject','new_relation', 'object' ]]\n",
        "dataset.head(5)"
      ],
      "execution_count": 10,
      "outputs": [
        {
          "output_type": "stream",
          "text": [
            "Index(['Unnamed: 0', 'Unnamed: 0.1', 'subject', 'object', 'new_relation'], dtype='object')\n"
          ],
          "name": "stdout"
        },
        {
          "output_type": "execute_result",
          "data": {
            "text/html": [
              "<div>\n",
              "<style scoped>\n",
              "    .dataframe tbody tr th:only-of-type {\n",
              "        vertical-align: middle;\n",
              "    }\n",
              "\n",
              "    .dataframe tbody tr th {\n",
              "        vertical-align: top;\n",
              "    }\n",
              "\n",
              "    .dataframe thead th {\n",
              "        text-align: right;\n",
              "    }\n",
              "</style>\n",
              "<table border=\"1\" class=\"dataframe\">\n",
              "  <thead>\n",
              "    <tr style=\"text-align: right;\">\n",
              "      <th></th>\n",
              "      <th>subject</th>\n",
              "      <th>new_relation</th>\n",
              "      <th>object</th>\n",
              "    </tr>\n",
              "  </thead>\n",
              "  <tbody>\n",
              "    <tr>\n",
              "      <th>0</th>\n",
              "      <td>step</td>\n",
              "      <td>gene_gene</td>\n",
              "      <td>endosomes</td>\n",
              "    </tr>\n",
              "    <tr>\n",
              "      <th>1</th>\n",
              "      <td>disease</td>\n",
              "      <td>disease_disease</td>\n",
              "      <td>pneumonia</td>\n",
              "    </tr>\n",
              "    <tr>\n",
              "      <th>2</th>\n",
              "      <td>prophylaxis</td>\n",
              "      <td>treat_procedure_gene</td>\n",
              "      <td>end</td>\n",
              "    </tr>\n",
              "    <tr>\n",
              "      <th>3</th>\n",
              "      <td>prophylaxis</td>\n",
              "      <td>treat_procedure_gene</td>\n",
              "      <td>end</td>\n",
              "    </tr>\n",
              "    <tr>\n",
              "      <th>4</th>\n",
              "      <td>impact</td>\n",
              "      <td>gene_gene</td>\n",
              "      <td>past</td>\n",
              "    </tr>\n",
              "  </tbody>\n",
              "</table>\n",
              "</div>"
            ],
            "text/plain": [
              "       subject          new_relation     object\n",
              "0         step             gene_gene  endosomes\n",
              "1      disease       disease_disease  pneumonia\n",
              "2  prophylaxis  treat_procedure_gene        end\n",
              "3  prophylaxis  treat_procedure_gene        end\n",
              "4       impact             gene_gene       past"
            ]
          },
          "metadata": {
            "tags": []
          },
          "execution_count": 10
        }
      ]
    },
    {
      "cell_type": "code",
      "metadata": {
        "colab": {
          "base_uri": "https://localhost:8080/"
        },
        "id": "ne21mIAeO-Kh",
        "outputId": "defd52a8-4e26-4061-a187-f1495f74807e"
      },
      "source": [
        "print('Total triples in the KG:', dataset.shape)"
      ],
      "execution_count": 11,
      "outputs": [
        {
          "output_type": "stream",
          "text": [
            "Total triples in the KG: (59070, 3)\n"
          ],
          "name": "stdout"
        }
      ]
    },
    {
      "cell_type": "code",
      "metadata": {
        "id": "9WxrnxjodccM",
        "colab": {
          "base_uri": "https://localhost:8080/"
        },
        "outputId": "998b5050-788e-4b92-d299-1e5912d71be5"
      },
      "source": [
        "print('the number of relations: \\n', dataset['new_relation'].value_counts())"
      ],
      "execution_count": 12,
      "outputs": [
        {
          "output_type": "stream",
          "text": [
            "the number of relations: \n",
            " disease_disease                    18995\n",
            "treat_procedure_treat_procedure     5528\n",
            "gene_gene                           4366\n",
            "disease_treat_procedure             4175\n",
            "treat_procedure_disease             3894\n",
            "symptom_symptom                     3772\n",
            "disease_gene                        3397\n",
            "disease_symptom                     2742\n",
            "gene_disease                        2573\n",
            "gene_treat_procedure                2276\n",
            "symptom_disease                     2260\n",
            "treat_procedure_gene                2191\n",
            "gene_symptom                         526\n",
            "treat_procedure_symptom              466\n",
            "symptom_treat_procedure              406\n",
            "disease_species                      348\n",
            "symptom_gene                         235\n",
            "drug_treat_procedure                 183\n",
            "drug_disease                         153\n",
            "gene_species                         149\n",
            "treat_procedure_species              125\n",
            "treat_procedure_drug                  81\n",
            "drug_gene                             78\n",
            "disease_drug                          43\n",
            "gene_drug                             41\n",
            "drug_drug                             35\n",
            "symptom_species                       20\n",
            "drug_symptom                           8\n",
            "symptom_drug                           2\n",
            "drug_species                           2\n",
            "Name: new_relation, dtype: int64\n"
          ],
          "name": "stdout"
        }
      ]
    },
    {
      "cell_type": "markdown",
      "metadata": {
        "id": "fLlcSqIBPEAQ"
      },
      "source": [
        "## 2.1 Create training, validation and test splits"
      ]
    },
    {
      "cell_type": "code",
      "metadata": {
        "colab": {
          "base_uri": "https://localhost:8080/"
        },
        "id": "qaZipgBpPGop",
        "outputId": "ca063789-aaf4-4892-d74d-9dc9a47fc91a"
      },
      "source": [
        "from ampligraph.evaluation import train_test_split_no_unseen\n",
        "# get the validation set of size 500\n",
        "test_train, X_valid = train_test_split_no_unseen(dataset.values, 500, seed=0)\n",
        "\n",
        "# get the test set of size 1000 from the remaining triples\n",
        "X_train, X_test = train_test_split_no_unseen(test_train, 1000, seed=0)\n",
        "\n",
        "print('Total triples:', dataset.shape)\n",
        "print('Size of train:', X_train.shape)\n",
        "print('Size of valid:', X_valid.shape)\n",
        "print('Size of test:', X_test.shape)"
      ],
      "execution_count": 13,
      "outputs": [
        {
          "output_type": "stream",
          "text": [
            "Total triples: (59070, 3)\n",
            "Size of train: (57570, 3)\n",
            "Size of valid: (500, 3)\n",
            "Size of test: (1000, 3)\n"
          ],
          "name": "stdout"
        }
      ]
    },
    {
      "cell_type": "markdown",
      "metadata": {
        "id": "fzsmWo0zPMR6"
      },
      "source": [
        "# 3. Model Training"
      ]
    },
    {
      "cell_type": "code",
      "metadata": {
        "colab": {
          "base_uri": "https://localhost:8080/"
        },
        "id": "p9POL-1mPOsJ",
        "outputId": "45350fd8-b345-4df4-ea64-f2afdd548201"
      },
      "source": [
        "from ampligraph.latent_features import TransE\n",
        "\n",
        "# Train a KGE model\n",
        "model = TransE(k=300, \n",
        "               epochs=100, \n",
        "               eta=1, \n",
        "               loss='multiclass_nll', \n",
        "               initializer='xavier', initializer_params={'uniform': False},\n",
        "               regularizer='LP', regularizer_params= {'lambda': 0.001, 'p': 3},\n",
        "               optimizer= 'adam', optimizer_params= {'lr': 0.0001}, \n",
        "               seed= 0, batches_count= 10, verbose=True)\n",
        "\n",
        "model.fit(X_train)\n",
        "# ----------------------\n",
        "# Evaluate: \n",
        "# Filtered evaluation with ranking strategy assigning worst rank to break ties\n",
        "\n",
        "from ampligraph.utils import save_model, restore_model\n",
        "save_model(model, 'TransE.pkl')\n",
        "model = restore_model('TransE.pkl')\n",
        "\n",
        "# create the filter \n",
        "X_filter = np.concatenate([X_train, X_valid, X_test], 0)\n",
        "\n",
        "# compute ranks\n",
        "ranks = evaluate_performance(X_test, \n",
        "                             model=model, \n",
        "                             filter_triples=X_filter)\n",
        "\n",
        "# ranks are computed per triple\n",
        "print('Test set:', X_test.shape)\n",
        "print('Size of ranks:', ranks.shape)\n",
        "\n",
        "# Aggregate metrics show the aggregate performance of the model on the test set using a single number\n",
        "display_aggregate_metrics(ranks)\n",
        "# ----------------------"
      ],
      "execution_count": 14,
      "outputs": [
        {
          "output_type": "stream",
          "text": [
            "Average TransE Loss:   0.046343: 100%|██████████| 100/100 [00:05<00:00, 18.89epoch/s]\n",
            "100%|██████████| 1000/1000 [00:03<00:00, 274.01it/s]\n"
          ],
          "name": "stderr"
        },
        {
          "output_type": "stream",
          "text": [
            "Test set: (1000, 3)\n",
            "Size of ranks: (1000, 2)\n",
            "Mean Rank: 386.886\n",
            "Mean Reciprocal Rank: 0.23319439198377404\n",
            "Hits@1: 0.1595\n",
            "Hits@10: 0.381\n",
            "Hits@100: 0.6625\n"
          ],
          "name": "stdout"
        }
      ]
    },
    {
      "cell_type": "markdown",
      "metadata": {
        "id": "sYMsDmRuQLem"
      },
      "source": [
        "# 4. Knowledge Discovery"
      ]
    },
    {
      "cell_type": "markdown",
      "metadata": {
        "id": "Xd_bvL6dkkj6"
      },
      "source": [
        "### Relations"
      ]
    },
    {
      "cell_type": "code",
      "metadata": {
        "id": "_xWtlPK3fstK",
        "colab": {
          "base_uri": "https://localhost:8080/",
          "height": 102
        },
        "outputId": "dff67638-d46b-4a84-dfcf-c441906761b7"
      },
      "source": [
        "# Relations\n",
        "'''\n",
        "disease_disease                    87479\n",
        "gene_gene                          25101\n",
        "disease_species                    21152\n",
        "gene_disease                       17414\n",
        "disease_gene                       17383\n",
        "treat_procedure_disease            15221\n",
        "disease_treat_procedure            14696\n",
        "treat_procedure_treat_procedure    13533\n",
        "treat_procedure_gene                8913\n",
        "gene_treat_procedure                8913\n",
        "treat_procedure_species             5307\n",
        "gene_species                        3894\n",
        "disease_symptom                     2501\n",
        "symptom_disease                     1409\n",
        "treat_procedure_symptom              391\n",
        "gene_symptom                         310\n",
        "symptom_species                      253\n",
        "symptom_treat_procedure              211\n",
        "symptom_gene                         170\n",
        "symptom_symptom                      141\n",
        "'''"
      ],
      "execution_count": 15,
      "outputs": [
        {
          "output_type": "execute_result",
          "data": {
            "application/vnd.google.colaboratory.intrinsic+json": {
              "type": "string"
            },
            "text/plain": [
              "'\\ndisease_disease                    87479\\ngene_gene                          25101\\ndisease_species                    21152\\ngene_disease                       17414\\ndisease_gene                       17383\\ntreat_procedure_disease            15221\\ndisease_treat_procedure            14696\\ntreat_procedure_treat_procedure    13533\\ntreat_procedure_gene                8913\\ngene_treat_procedure                8913\\ntreat_procedure_species             5307\\ngene_species                        3894\\ndisease_symptom                     2501\\nsymptom_disease                     1409\\ntreat_procedure_symptom              391\\ngene_symptom                         310\\nsymptom_species                      253\\nsymptom_treat_procedure              211\\nsymptom_gene                         170\\nsymptom_symptom                      141\\n'"
            ]
          },
          "metadata": {
            "tags": []
          },
          "execution_count": 15
        }
      ]
    },
    {
      "cell_type": "markdown",
      "metadata": {
        "id": "oGu6b-HnQRS3"
      },
      "source": [
        "##  Question - Answering\n",
        "\n",
        "``` \n",
        "    <head, relation, ?> \n",
        "    <head, ?,        tail>\n",
        "    <?,    relation, tail>\n",
        "```"
      ]
    },
    {
      "cell_type": "markdown",
      "metadata": {
        "id": "zq_rwrt5jTVJ"
      },
      "source": [
        "### Query: what are the possible therapeutic procedure of covid-19??"
      ]
    },
    {
      "cell_type": "code",
      "metadata": {
        "colab": {
          "base_uri": "https://localhost:8080/",
          "height": 362
        },
        "id": "j_cm34I_QNH3",
        "outputId": "05c808ba-c593-4587-ff6e-eeb486f2e5fe"
      },
      "source": [
        "# Query: what are the possible therapeutic procedure of covid-19??\n",
        "\n",
        "from ampligraph.discovery import query_topn\n",
        "\n",
        "# restore the previously saved model to save time\n",
        "model = restore_model('TransE.pkl')\n",
        "\n",
        "triples, scores = query_topn(model, top_n=20, \n",
        "                             head='covid-19', \n",
        "                             relation='disease_treat_procedure', \n",
        "                             tail=None, \n",
        "                             ents_to_consider=None, \n",
        "                             rels_to_consider=None)\n",
        "\n",
        "for triple, score in zip(triples, scores):\n",
        "    print('Score: {} \\t {} '.format(score, triple))"
      ],
      "execution_count": 18,
      "outputs": [
        {
          "output_type": "stream",
          "text": [
            "ERROR - Head entity `covid-19` not seen by model\n"
          ],
          "name": "stdout"
        },
        {
          "output_type": "error",
          "ename": "ValueError",
          "evalue": "ignored",
          "traceback": [
            "\u001b[0;31m---------------------------------------------------------------------------\u001b[0m",
            "\u001b[0;31mValueError\u001b[0m                                Traceback (most recent call last)",
            "\u001b[0;32m<ipython-input-18-d119e4014394>\u001b[0m in \u001b[0;36m<module>\u001b[0;34m()\u001b[0m\n\u001b[1;32m     11\u001b[0m                              \u001b[0mtail\u001b[0m\u001b[0;34m=\u001b[0m\u001b[0;32mNone\u001b[0m\u001b[0;34m,\u001b[0m\u001b[0;34m\u001b[0m\u001b[0;34m\u001b[0m\u001b[0m\n\u001b[1;32m     12\u001b[0m                              \u001b[0ments_to_consider\u001b[0m\u001b[0;34m=\u001b[0m\u001b[0;32mNone\u001b[0m\u001b[0;34m,\u001b[0m\u001b[0;34m\u001b[0m\u001b[0;34m\u001b[0m\u001b[0m\n\u001b[0;32m---> 13\u001b[0;31m                              rels_to_consider=None)\n\u001b[0m\u001b[1;32m     14\u001b[0m \u001b[0;34m\u001b[0m\u001b[0m\n\u001b[1;32m     15\u001b[0m \u001b[0;32mfor\u001b[0m \u001b[0mtriple\u001b[0m\u001b[0;34m,\u001b[0m \u001b[0mscore\u001b[0m \u001b[0;32min\u001b[0m \u001b[0mzip\u001b[0m\u001b[0;34m(\u001b[0m\u001b[0mtriples\u001b[0m\u001b[0;34m,\u001b[0m \u001b[0mscores\u001b[0m\u001b[0;34m)\u001b[0m\u001b[0;34m:\u001b[0m\u001b[0;34m\u001b[0m\u001b[0;34m\u001b[0m\u001b[0m\n",
            "\u001b[0;32m/usr/local/lib/python3.7/dist-packages/ampligraph/discovery/discovery.py\u001b[0m in \u001b[0;36mquery_topn\u001b[0;34m(model, top_n, head, relation, tail, ents_to_consider, rels_to_consider)\u001b[0m\n\u001b[1;32m    895\u001b[0m             \u001b[0mmsg\u001b[0m \u001b[0;34m=\u001b[0m \u001b[0;34m'Head entity `{}` not seen by model'\u001b[0m\u001b[0;34m.\u001b[0m\u001b[0mformat\u001b[0m\u001b[0;34m(\u001b[0m\u001b[0mhead\u001b[0m\u001b[0;34m)\u001b[0m\u001b[0;34m\u001b[0m\u001b[0;34m\u001b[0m\u001b[0m\n\u001b[1;32m    896\u001b[0m             \u001b[0mlogger\u001b[0m\u001b[0;34m.\u001b[0m\u001b[0merror\u001b[0m\u001b[0;34m(\u001b[0m\u001b[0mmsg\u001b[0m\u001b[0;34m)\u001b[0m\u001b[0;34m\u001b[0m\u001b[0;34m\u001b[0m\u001b[0m\n\u001b[0;32m--> 897\u001b[0;31m             \u001b[0;32mraise\u001b[0m \u001b[0mValueError\u001b[0m\u001b[0;34m(\u001b[0m\u001b[0mmsg\u001b[0m\u001b[0;34m)\u001b[0m\u001b[0;34m\u001b[0m\u001b[0;34m\u001b[0m\u001b[0m\n\u001b[0m\u001b[1;32m    898\u001b[0m \u001b[0;34m\u001b[0m\u001b[0m\n\u001b[1;32m    899\u001b[0m     \u001b[0;32mif\u001b[0m \u001b[0mrelation\u001b[0m\u001b[0;34m:\u001b[0m\u001b[0;34m\u001b[0m\u001b[0;34m\u001b[0m\u001b[0m\n",
            "\u001b[0;31mValueError\u001b[0m: Head entity `covid-19` not seen by model"
          ]
        }
      ]
    },
    {
      "cell_type": "code",
      "metadata": {
        "id": "njTpcGh0jBnU"
      },
      "source": [
        "# Query: what are the possible therapeutic procedure of covid-19??\n",
        "\n",
        "from ampligraph.discovery import query_topn\n",
        "\n",
        "# restore the previously saved model to save time\n",
        "model = restore_model('TransE.pkl')\n",
        "\n",
        "triples, scores = query_topn(model, top_n=20, \n",
        "                             head=None, \n",
        "                             relation='treat_procedure_disease', \n",
        "                             tail='coronavirus', \n",
        "                             ents_to_consider=None, \n",
        "                             rels_to_consider=None)\n",
        "\n",
        "for triple, score in zip(triples, scores):\n",
        "    print('Score: {} \\t {} '.format(score, triple))"
      ],
      "execution_count": null,
      "outputs": []
    },
    {
      "cell_type": "markdown",
      "metadata": {
        "id": "M7ZUKoeVjuGN"
      },
      "source": [
        "### Query: What are related diseases of Covid-19"
      ]
    },
    {
      "cell_type": "code",
      "metadata": {
        "id": "TSZ8QHf6QdgP"
      },
      "source": [
        "# Predict relation\n",
        "\n",
        "triples, scores = query_topn(model, top_n=20, \n",
        "                             head='coronavirus', \n",
        "                             relation='disease_disease', \n",
        "                             tail= None, \n",
        "                             ents_to_consider=None, \n",
        "                             rels_to_consider=None)\n",
        "\n",
        "for triple, score in zip(triples, scores):\n",
        "    print('Score: {} \\t {} '.format(score, triple))"
      ],
      "execution_count": null,
      "outputs": []
    },
    {
      "cell_type": "code",
      "metadata": {
        "id": "Fo9TXKFbkRRT"
      },
      "source": [
        "# Predict relation\n",
        "\n",
        "triples, scores = query_topn(model, top_n=20, \n",
        "                             head=None, \n",
        "                             relation='disease_disease', \n",
        "                             tail= 'coronavirus', \n",
        "                             ents_to_consider=None, \n",
        "                             rels_to_consider=None)\n",
        "\n",
        "for triple, score in zip(triples, scores):\n",
        "    print('Score: {} \\t {} '.format(score, triple))"
      ],
      "execution_count": null,
      "outputs": []
    },
    {
      "cell_type": "markdown",
      "metadata": {
        "id": "1tXmffPBkw7Y"
      },
      "source": [
        "### Query: What are the genes/proteins related to Covid-19"
      ]
    },
    {
      "cell_type": "code",
      "metadata": {
        "id": "RZU9pJBXEvIG"
      },
      "source": [
        "# Predict relation\n",
        "\n",
        "triples, scores = query_topn(model, top_n=25, \n",
        "                             head='coronavirus', \n",
        "                             relation='disease_gene', \n",
        "                             tail=None, \n",
        "                             ents_to_consider=None, \n",
        "                             rels_to_consider=None)\n",
        "\n",
        "for triple, score in zip(triples, scores):\n",
        "    print('Score: {} \\t {} '.format(score, triple))"
      ],
      "execution_count": null,
      "outputs": []
    },
    {
      "cell_type": "code",
      "metadata": {
        "id": "8Z7SxVTfIyCP"
      },
      "source": [
        "# Predict relation\n",
        "\n",
        "triples, scores = query_topn(model, top_n=20, \n",
        "                             head= None, \n",
        "                             relation='gene_disease', \n",
        "                             tail='coronavirus', \n",
        "                             ents_to_consider=None, \n",
        "                             rels_to_consider=None)\n",
        "\n",
        "for triple, score in zip(triples, scores):\n",
        "    print('Score: {} \\t {} '.format(score, triple))"
      ],
      "execution_count": null,
      "outputs": []
    },
    {
      "cell_type": "markdown",
      "metadata": {
        "id": "6cuiw9D6ND6J"
      },
      "source": [
        "### Query: What species transmit the covid-19"
      ]
    },
    {
      "cell_type": "code",
      "metadata": {
        "id": "C5JyaTDrFMmG"
      },
      "source": [
        "# Predict relation\n",
        "triples, scores = query_topn(model, top_n=20, \n",
        "                             tail=None, \n",
        "                             relation='disease_species', \n",
        "                             head='coronavirus', \n",
        "                             ents_to_consider=None, \n",
        "                             rels_to_consider=None)\n",
        "\n",
        "for triple, score in zip(triples, scores):\n",
        "    print('Score: {} \\t {} '.format(score, triple))"
      ],
      "execution_count": null,
      "outputs": []
    },
    {
      "cell_type": "markdown",
      "metadata": {
        "id": "ZEt3e55_NwvA"
      },
      "source": [
        "### Query: what are symptoms of the covid-19"
      ]
    },
    {
      "cell_type": "code",
      "metadata": {
        "id": "z-Y3oDDaGeLZ"
      },
      "source": [
        "\n",
        "triples, scores = query_topn(model, top_n=20, \n",
        "                             head=None, \n",
        "                             relation='symptom_disease', \n",
        "                             tail='coronavirus', \n",
        "                             ents_to_consider=None, \n",
        "                             rels_to_consider=None)\n",
        "\n",
        "for triple, score in zip(triples, scores):\n",
        "    print('Score: {} \\t {} '.format(score, triple))"
      ],
      "execution_count": null,
      "outputs": []
    },
    {
      "cell_type": "code",
      "metadata": {
        "id": "EMoR_zzIOnLJ"
      },
      "source": [
        "triples, scores = query_topn(model, top_n=20, \n",
        "                             tail=None, \n",
        "                             relation='disease_symptom', \n",
        "                             head='coronavirus', \n",
        "                             ents_to_consider=None, \n",
        "                             rels_to_consider=None)\n",
        "\n",
        "for triple, score in zip(triples, scores):\n",
        "    print('Score: {} \\t {} '.format(score, triple))"
      ],
      "execution_count": null,
      "outputs": []
    },
    {
      "cell_type": "code",
      "metadata": {
        "id": "qxXS3g4yJT15"
      },
      "source": [
        "# Compare the raw call and graph embedding results for the symptoms query\n",
        "\n",
        "## raw call\n",
        "#dataset.loc[(dataset['subject']=='symptom')].head(20)\n",
        "\n",
        "#####==> the result of raw call seems to be better"
      ],
      "execution_count": null,
      "outputs": []
    },
    {
      "cell_type": "markdown",
      "metadata": {
        "id": "c_5_qdnFwurx"
      },
      "source": [
        "## Query: Potential Drug"
      ]
    },
    {
      "cell_type": "code",
      "metadata": {
        "id": "W-wl5yQgLRat"
      },
      "source": [
        "\n",
        "triples, scores = query_topn(model, top_n=30, \n",
        "                             head=None, \n",
        "                             relation='drug_disease', \n",
        "                             tail='covid-19', \n",
        "                             ents_to_consider=None, \n",
        "                             rels_to_consider=None)\n",
        "\n",
        "for triple, score in zip(triples, scores):\n",
        "    print('Score: {} \\t {} '.format(score, triple))"
      ],
      "execution_count": null,
      "outputs": []
    }
  ]
}