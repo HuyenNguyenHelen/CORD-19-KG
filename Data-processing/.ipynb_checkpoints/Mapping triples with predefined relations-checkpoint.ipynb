{
 "cells": [
  {
   "cell_type": "markdown",
   "id": "6c2fb7cf",
   "metadata": {},
   "source": [
    "# Create triples with pre-defined relations, classified entities, and OpenIE triples"
   ]
  },
  {
   "cell_type": "code",
   "execution_count": 1,
   "id": "76b7e163",
   "metadata": {},
   "outputs": [],
   "source": [
    "import pandas as pd\n",
    "\n",
    "# Loading classified entities\n",
    "\n",
    "paths = (r\"C:\\Users\\huyen\\OneDrive - UNT System\\COURSES\\INFO 5731\\Final_Project\\Group6_Working\\AUG4\\KG\\ENTS\\BERN_Sample10k\\All_ENT_Types_V2\\All_Bern_Type_Disease_V3.csv\",\n",
    "r\"C:\\Users\\huyen\\OneDrive - UNT System\\COURSES\\INFO 5731\\Final_Project\\Group6_Working\\AUG4\\KG\\ENTS\\BERN_Sample10k\\All_ENT_Types_V2\\All_Bern_Type_Drug_V3.csv\",\n",
    "r\"C:\\Users\\huyen\\OneDrive - UNT System\\COURSES\\INFO 5731\\Final_Project\\Group6_Working\\AUG4\\KG\\ENTS\\BERN_Sample10k\\All_ENT_Types_V2\\All_Bern_Type_Gene_V3.csv\",\n",
    "r\"C:\\Users\\huyen\\OneDrive - UNT System\\COURSES\\INFO 5731\\Final_Project\\Group6_Working\\AUG4\\KG\\ENTS\\BERN_Sample10k\\All_ENT_Types_V2\\All_Bern_Type_Species_V3.csv\")\n",
    "def load_file(path, type_):\n",
    "    with open (path, 'r', encoding = 'utf-8') as file:\n",
    "        data = pd.read_csv(file)\n",
    "    return pd.DataFrame(data[type_].unique())  # get the unique\n",
    "\n",
    "disease = load_file(paths[0], 'disease' )\n",
    "drug = load_file(paths[1], 'drug' )\n",
    "gene = load_file(paths[2], 'gene' )\n",
    "species = load_file(paths[3], 'species' )"
   ]
  },
  {
   "cell_type": "code",
   "execution_count": 2,
   "id": "d0f13700",
   "metadata": {},
   "outputs": [
    {
     "name": "stdout",
     "output_type": "stream",
     "text": [
      "7095 4231 15799 1572\n"
     ]
    }
   ],
   "source": [
    "print(len(disease), len(drug), len(gene), len(species))"
   ]
  },
  {
   "cell_type": "code",
   "execution_count": null,
   "id": "864d7360",
   "metadata": {},
   "outputs": [],
   "source": []
  },
  {
   "cell_type": "code",
   "execution_count": 3,
   "id": "fd28e49a",
   "metadata": {},
   "outputs": [
    {
     "data": {
      "text/plain": [
       "False    15799\n",
       "dtype: int64"
      ]
     },
     "execution_count": 3,
     "metadata": {},
     "output_type": "execute_result"
    }
   ],
   "source": [
    "# Check overlap entities in triples\n",
    "def check_overlap(type1, type2):\n",
    "    check_overlap=type1.isin(type2)\n",
    "    return check_overlap\n",
    "\n",
    "check_overlap(gene, disease).value_counts()"
   ]
  },
  {
   "cell_type": "code",
   "execution_count": 4,
   "id": "60b11a9f",
   "metadata": {},
   "outputs": [
    {
     "data": {
      "text/plain": [
       "False    15799\n",
       "dtype: int64"
      ]
     },
     "execution_count": 4,
     "metadata": {},
     "output_type": "execute_result"
    }
   ],
   "source": [
    "check_overlap(gene, drug).value_counts()"
   ]
  },
  {
   "cell_type": "code",
   "execution_count": 5,
   "id": "594d4f97",
   "metadata": {},
   "outputs": [
    {
     "data": {
      "text/plain": [
       "False    15799\n",
       "dtype: int64"
      ]
     },
     "execution_count": 5,
     "metadata": {},
     "output_type": "execute_result"
    }
   ],
   "source": [
    "check_overlap(gene, species).value_counts()"
   ]
  },
  {
   "cell_type": "code",
   "execution_count": 6,
   "id": "014bcaa8",
   "metadata": {},
   "outputs": [
    {
     "data": {
      "text/plain": [
       "False    7095\n",
       "dtype: int64"
      ]
     },
     "execution_count": 6,
     "metadata": {},
     "output_type": "execute_result"
    }
   ],
   "source": [
    "check_overlap(disease, species).value_counts()"
   ]
  },
  {
   "cell_type": "code",
   "execution_count": 7,
   "id": "772b460d",
   "metadata": {},
   "outputs": [],
   "source": [
    "#disease = disease(check_overlap(disease, species), drop)"
   ]
  },
  {
   "cell_type": "code",
   "execution_count": 8,
   "id": "18d831ca",
   "metadata": {},
   "outputs": [
    {
     "data": {
      "text/html": [
       "<div>\n",
       "<style scoped>\n",
       "    .dataframe tbody tr th:only-of-type {\n",
       "        vertical-align: middle;\n",
       "    }\n",
       "\n",
       "    .dataframe tbody tr th {\n",
       "        vertical-align: top;\n",
       "    }\n",
       "\n",
       "    .dataframe thead th {\n",
       "        text-align: right;\n",
       "    }\n",
       "</style>\n",
       "<table border=\"1\" class=\"dataframe\">\n",
       "  <thead>\n",
       "    <tr style=\"text-align: right;\">\n",
       "      <th></th>\n",
       "      <th>Unnamed: 0</th>\n",
       "      <th>Unnamed: 0.1</th>\n",
       "      <th>subject</th>\n",
       "      <th>relation</th>\n",
       "      <th>object</th>\n",
       "    </tr>\n",
       "  </thead>\n",
       "  <tbody>\n",
       "    <tr>\n",
       "      <th>0</th>\n",
       "      <td>0</td>\n",
       "      <td>0</td>\n",
       "      <td>japan</td>\n",
       "      <td>be</td>\n",
       "      <td>human virus</td>\n",
       "    </tr>\n",
       "    <tr>\n",
       "      <th>1</th>\n",
       "      <td>1</td>\n",
       "      <td>1</td>\n",
       "      <td>prt</td>\n",
       "      <td>be_included_in</td>\n",
       "      <td>time</td>\n",
       "    </tr>\n",
       "    <tr>\n",
       "      <th>2</th>\n",
       "      <td>2</td>\n",
       "      <td>2</td>\n",
       "      <td>rsars-cov</td>\n",
       "      <td>lack</td>\n",
       "      <td>8a</td>\n",
       "    </tr>\n",
       "    <tr>\n",
       "      <th>3</th>\n",
       "      <td>3</td>\n",
       "      <td>3</td>\n",
       "      <td>mouse</td>\n",
       "      <td>sample/be_sampled_from</td>\n",
       "      <td>measurement</td>\n",
       "    </tr>\n",
       "    <tr>\n",
       "      <th>4</th>\n",
       "      <td>4</td>\n",
       "      <td>4</td>\n",
       "      <td>patient</td>\n",
       "      <td>met</td>\n",
       "      <td>center</td>\n",
       "    </tr>\n",
       "    <tr>\n",
       "      <th>...</th>\n",
       "      <td>...</td>\n",
       "      <td>...</td>\n",
       "      <td>...</td>\n",
       "      <td>...</td>\n",
       "      <td>...</td>\n",
       "    </tr>\n",
       "    <tr>\n",
       "      <th>35575</th>\n",
       "      <td>35575</td>\n",
       "      <td>35690</td>\n",
       "      <td>hct recipient</td>\n",
       "      <td>work_on</td>\n",
       "      <td>patient</td>\n",
       "    </tr>\n",
       "    <tr>\n",
       "      <th>35576</th>\n",
       "      <td>35576</td>\n",
       "      <td>35691</td>\n",
       "      <td>covid-19</td>\n",
       "      <td>be_declared</td>\n",
       "      <td>pandemic</td>\n",
       "    </tr>\n",
       "    <tr>\n",
       "      <th>35577</th>\n",
       "      <td>35577</td>\n",
       "      <td>35692</td>\n",
       "      <td>respiratory syndrome</td>\n",
       "      <td>be/have</td>\n",
       "      <td>acute respiratory illness</td>\n",
       "    </tr>\n",
       "    <tr>\n",
       "      <th>35578</th>\n",
       "      <td>35578</td>\n",
       "      <td>35693</td>\n",
       "      <td>isg20</td>\n",
       "      <td>be_in_replication_in</td>\n",
       "      <td>yfv</td>\n",
       "    </tr>\n",
       "    <tr>\n",
       "      <th>35579</th>\n",
       "      <td>35579</td>\n",
       "      <td>35694</td>\n",
       "      <td>child</td>\n",
       "      <td>be_with</td>\n",
       "      <td>bronchiolitis</td>\n",
       "    </tr>\n",
       "  </tbody>\n",
       "</table>\n",
       "<p>35580 rows × 5 columns</p>\n",
       "</div>"
      ],
      "text/plain": [
       "       Unnamed: 0  Unnamed: 0.1               subject                relation  \\\n",
       "0               0             0                 japan                      be   \n",
       "1               1             1                   prt          be_included_in   \n",
       "2               2             2             rsars-cov                    lack   \n",
       "3               3             3                 mouse  sample/be_sampled_from   \n",
       "4               4             4               patient                     met   \n",
       "...           ...           ...                   ...                     ...   \n",
       "35575       35575         35690         hct recipient                 work_on   \n",
       "35576       35576         35691              covid-19             be_declared   \n",
       "35577       35577         35692  respiratory syndrome                 be/have   \n",
       "35578       35578         35693                 isg20    be_in_replication_in   \n",
       "35579       35579         35694                 child                 be_with   \n",
       "\n",
       "                          object  \n",
       "0                    human virus  \n",
       "1                           time  \n",
       "2                             8a  \n",
       "3                    measurement  \n",
       "4                         center  \n",
       "...                          ...  \n",
       "35575                    patient  \n",
       "35576                   pandemic  \n",
       "35577  acute respiratory illness  \n",
       "35578                        yfv  \n",
       "35579              bronchiolitis  \n",
       "\n",
       "[35580 rows x 5 columns]"
      ]
     },
     "execution_count": 8,
     "metadata": {},
     "output_type": "execute_result"
    }
   ],
   "source": [
    "# Loading the OpenIE triples\n",
    "with open (r\"C:\\Users\\huyen\\OneDrive - UNT System\\COURSES\\INFO 5731\\Final_Project\\Group6_Working\\AUG4\\KG\\OpenIE\\refined-S-R-O_triples_onlyBERN_3_cleaned.csv\",'r', encoding = 'utf-8') as file:\n",
    "    ie_triples = pd.read_csv(file)\n",
    "ie_triples"
   ]
  },
  {
   "cell_type": "code",
   "execution_count": 9,
   "id": "d7fce94f",
   "metadata": {},
   "outputs": [],
   "source": [
    "# Clean Open IE triples\n"
   ]
  },
  {
   "cell_type": "code",
   "execution_count": 10,
   "id": "26815254",
   "metadata": {},
   "outputs": [
    {
     "data": {
      "text/html": [
       "<div>\n",
       "<style scoped>\n",
       "    .dataframe tbody tr th:only-of-type {\n",
       "        vertical-align: middle;\n",
       "    }\n",
       "\n",
       "    .dataframe tbody tr th {\n",
       "        vertical-align: top;\n",
       "    }\n",
       "\n",
       "    .dataframe thead th {\n",
       "        text-align: right;\n",
       "    }\n",
       "</style>\n",
       "<table border=\"1\" class=\"dataframe\">\n",
       "  <thead>\n",
       "    <tr style=\"text-align: right;\">\n",
       "      <th></th>\n",
       "      <th>Unnamed: 0</th>\n",
       "      <th>Unnamed: 0.1</th>\n",
       "      <th>subject</th>\n",
       "      <th>relation</th>\n",
       "      <th>object</th>\n",
       "    </tr>\n",
       "  </thead>\n",
       "  <tbody>\n",
       "    <tr>\n",
       "      <th>0</th>\n",
       "      <td>0</td>\n",
       "      <td>0</td>\n",
       "      <td>japan</td>\n",
       "      <td>be</td>\n",
       "      <td>human virus</td>\n",
       "    </tr>\n",
       "    <tr>\n",
       "      <th>1</th>\n",
       "      <td>1</td>\n",
       "      <td>1</td>\n",
       "      <td>prt</td>\n",
       "      <td>be_included_in</td>\n",
       "      <td>time</td>\n",
       "    </tr>\n",
       "    <tr>\n",
       "      <th>2</th>\n",
       "      <td>2</td>\n",
       "      <td>2</td>\n",
       "      <td>rsars-cov</td>\n",
       "      <td>lack</td>\n",
       "      <td>8a</td>\n",
       "    </tr>\n",
       "    <tr>\n",
       "      <th>3</th>\n",
       "      <td>3</td>\n",
       "      <td>3</td>\n",
       "      <td>mouse</td>\n",
       "      <td>sample/be_sampled_from</td>\n",
       "      <td>measurement</td>\n",
       "    </tr>\n",
       "    <tr>\n",
       "      <th>4</th>\n",
       "      <td>4</td>\n",
       "      <td>4</td>\n",
       "      <td>patient</td>\n",
       "      <td>met</td>\n",
       "      <td>center</td>\n",
       "    </tr>\n",
       "    <tr>\n",
       "      <th>...</th>\n",
       "      <td>...</td>\n",
       "      <td>...</td>\n",
       "      <td>...</td>\n",
       "      <td>...</td>\n",
       "      <td>...</td>\n",
       "    </tr>\n",
       "    <tr>\n",
       "      <th>35575</th>\n",
       "      <td>35575</td>\n",
       "      <td>35690</td>\n",
       "      <td>hct recipient</td>\n",
       "      <td>work_on</td>\n",
       "      <td>patient</td>\n",
       "    </tr>\n",
       "    <tr>\n",
       "      <th>35576</th>\n",
       "      <td>35576</td>\n",
       "      <td>35691</td>\n",
       "      <td>covid-19</td>\n",
       "      <td>be_declared</td>\n",
       "      <td>pandemic</td>\n",
       "    </tr>\n",
       "    <tr>\n",
       "      <th>35577</th>\n",
       "      <td>35577</td>\n",
       "      <td>35692</td>\n",
       "      <td>respiratory syndrome</td>\n",
       "      <td>be/have</td>\n",
       "      <td>acute respiratory illness</td>\n",
       "    </tr>\n",
       "    <tr>\n",
       "      <th>35578</th>\n",
       "      <td>35578</td>\n",
       "      <td>35693</td>\n",
       "      <td>isg20</td>\n",
       "      <td>be_in_replication_in</td>\n",
       "      <td>yfv</td>\n",
       "    </tr>\n",
       "    <tr>\n",
       "      <th>35579</th>\n",
       "      <td>35579</td>\n",
       "      <td>35694</td>\n",
       "      <td>child</td>\n",
       "      <td>be_with</td>\n",
       "      <td>bronchiolitis</td>\n",
       "    </tr>\n",
       "  </tbody>\n",
       "</table>\n",
       "<p>35580 rows × 5 columns</p>\n",
       "</div>"
      ],
      "text/plain": [
       "       Unnamed: 0  Unnamed: 0.1               subject                relation  \\\n",
       "0               0             0                 japan                      be   \n",
       "1               1             1                   prt          be_included_in   \n",
       "2               2             2             rsars-cov                    lack   \n",
       "3               3             3                 mouse  sample/be_sampled_from   \n",
       "4               4             4               patient                     met   \n",
       "...           ...           ...                   ...                     ...   \n",
       "35575       35575         35690         hct recipient                 work_on   \n",
       "35576       35576         35691              covid-19             be_declared   \n",
       "35577       35577         35692  respiratory syndrome                 be/have   \n",
       "35578       35578         35693                 isg20    be_in_replication_in   \n",
       "35579       35579         35694                 child                 be_with   \n",
       "\n",
       "                          object  \n",
       "0                    human virus  \n",
       "1                           time  \n",
       "2                             8a  \n",
       "3                    measurement  \n",
       "4                         center  \n",
       "...                          ...  \n",
       "35575                    patient  \n",
       "35576                   pandemic  \n",
       "35577  acute respiratory illness  \n",
       "35578                        yfv  \n",
       "35579              bronchiolitis  \n",
       "\n",
       "[35580 rows x 5 columns]"
      ]
     },
     "execution_count": 10,
     "metadata": {},
     "output_type": "execute_result"
    }
   ],
   "source": [
    "copy_ie_triples = ie_triples.copy()\n",
    "copy_ie_triples"
   ]
  },
  {
   "cell_type": "code",
   "execution_count": 11,
   "id": "26b38655",
   "metadata": {},
   "outputs": [
    {
     "data": {
      "text/plain": [
       "gene                        9689\n",
       "disease                     8385\n",
       "species                     4801\n",
       "drug                        1364\n",
       "patient                      506\n",
       "                            ... \n",
       "mhla-dr                        1\n",
       "cd81                           1\n",
       "vido                           1\n",
       "nucleotide triphosphates       1\n",
       "traf3                          1\n",
       "Name: subject, Length: 2095, dtype: int64"
      ]
     },
     "execution_count": 11,
     "metadata": {},
     "output_type": "execute_result"
    }
   ],
   "source": [
    "# Pseudo change entities into entities types\n",
    "ie_triples['subject'].mask(ie_triples['object'].isin(disease[0]),'disease', inplace = True)\n",
    "ie_triples['subject'].mask(ie_triples['object'].isin(drug[0]),'drug', inplace = True)\n",
    "ie_triples['subject'].mask(ie_triples['object'].isin(gene[0]),'gene', inplace = True)\n",
    "ie_triples['subject'].mask(ie_triples['object'].isin(species[0]),'species', inplace = True)                        \n",
    "                                                  \n",
    "ie_triples['subject'].value_counts()\n"
   ]
  },
  {
   "cell_type": "code",
   "execution_count": 12,
   "id": "19ec90a1",
   "metadata": {},
   "outputs": [
    {
     "data": {
      "text/plain": [
       "disease              12967\n",
       "gene                  6884\n",
       "drug                  2224\n",
       "species               1969\n",
       "time                   214\n",
       "                     ...  \n",
       "snijder et al.           1\n",
       "be                       1\n",
       "shanghai genomics        1\n",
       "facemask wearing         1\n",
       "illiquidity              1\n",
       "Name: object, Length: 1923, dtype: int64"
      ]
     },
     "execution_count": 12,
     "metadata": {},
     "output_type": "execute_result"
    }
   ],
   "source": [
    "ie_triples['object'].mask(ie_triples['object'].isin(disease[0]),'disease', inplace = True)\n",
    "ie_triples['object'].mask(ie_triples['object'].isin(drug[0]),'drug', inplace = True)\n",
    "ie_triples['object'].mask(ie_triples['object'].isin(gene[0]),'gene', inplace = True)\n",
    "ie_triples['object'].mask(ie_triples['object'].isin(species[0]),'species', inplace = True)                        \n",
    "                                                  \n",
    "ie_triples['object'].value_counts()"
   ]
  },
  {
   "cell_type": "code",
   "execution_count": 13,
   "id": "f51ffbc7",
   "metadata": {},
   "outputs": [
    {
     "data": {
      "text/plain": [
       "\"\\nie_triples.loc[(ie_triples['object'].isin(disease[0])),'object']='disease'\\nie_triples.loc[(ie_triples['object'].isin (drug[0])),'object']='drug'\\nie_triples.loc[(ie_triples['object'].isin (gene[0])),'object']='gene'\\nie_triples.loc[(ie_triples['object'].isin (species[0])),'object']='species'\\n\\nie_triples['object'].value_counts()\\n\""
      ]
     },
     "execution_count": 13,
     "metadata": {},
     "output_type": "execute_result"
    }
   ],
   "source": [
    "'''\n",
    "ie_triples.loc[(ie_triples['object'].isin(disease[0])),'object']='disease'\n",
    "ie_triples.loc[(ie_triples['object'].isin (drug[0])),'object']='drug'\n",
    "ie_triples.loc[(ie_triples['object'].isin (gene[0])),'object']='gene'\n",
    "ie_triples.loc[(ie_triples['object'].isin (species[0])),'object']='species'\n",
    "\n",
    "ie_triples['object'].value_counts()\n",
    "'''"
   ]
  },
  {
   "cell_type": "code",
   "execution_count": 14,
   "id": "f86f6e29",
   "metadata": {},
   "outputs": [
    {
     "data": {
      "text/html": [
       "<div>\n",
       "<style scoped>\n",
       "    .dataframe tbody tr th:only-of-type {\n",
       "        vertical-align: middle;\n",
       "    }\n",
       "\n",
       "    .dataframe tbody tr th {\n",
       "        vertical-align: top;\n",
       "    }\n",
       "\n",
       "    .dataframe thead th {\n",
       "        text-align: right;\n",
       "    }\n",
       "</style>\n",
       "<table border=\"1\" class=\"dataframe\">\n",
       "  <thead>\n",
       "    <tr style=\"text-align: right;\">\n",
       "      <th></th>\n",
       "      <th>Unnamed: 0</th>\n",
       "      <th>Unnamed: 0.1</th>\n",
       "      <th>subject</th>\n",
       "      <th>relation</th>\n",
       "      <th>object</th>\n",
       "    </tr>\n",
       "  </thead>\n",
       "  <tbody>\n",
       "    <tr>\n",
       "      <th>0</th>\n",
       "      <td>0</td>\n",
       "      <td>0</td>\n",
       "      <td>species</td>\n",
       "      <td>be</td>\n",
       "      <td>species</td>\n",
       "    </tr>\n",
       "    <tr>\n",
       "      <th>1</th>\n",
       "      <td>1</td>\n",
       "      <td>1</td>\n",
       "      <td>prt</td>\n",
       "      <td>be_included_in</td>\n",
       "      <td>time</td>\n",
       "    </tr>\n",
       "    <tr>\n",
       "      <th>2</th>\n",
       "      <td>2</td>\n",
       "      <td>2</td>\n",
       "      <td>rsars-cov</td>\n",
       "      <td>lack</td>\n",
       "      <td>8a</td>\n",
       "    </tr>\n",
       "    <tr>\n",
       "      <th>3</th>\n",
       "      <td>3</td>\n",
       "      <td>3</td>\n",
       "      <td>mouse</td>\n",
       "      <td>sample/be_sampled_from</td>\n",
       "      <td>measurement</td>\n",
       "    </tr>\n",
       "    <tr>\n",
       "      <th>4</th>\n",
       "      <td>4</td>\n",
       "      <td>4</td>\n",
       "      <td>patient</td>\n",
       "      <td>met</td>\n",
       "      <td>center</td>\n",
       "    </tr>\n",
       "    <tr>\n",
       "      <th>...</th>\n",
       "      <td>...</td>\n",
       "      <td>...</td>\n",
       "      <td>...</td>\n",
       "      <td>...</td>\n",
       "      <td>...</td>\n",
       "    </tr>\n",
       "    <tr>\n",
       "      <th>35575</th>\n",
       "      <td>35575</td>\n",
       "      <td>35690</td>\n",
       "      <td>species</td>\n",
       "      <td>work_on</td>\n",
       "      <td>species</td>\n",
       "    </tr>\n",
       "    <tr>\n",
       "      <th>35576</th>\n",
       "      <td>35576</td>\n",
       "      <td>35691</td>\n",
       "      <td>disease</td>\n",
       "      <td>be_declared</td>\n",
       "      <td>disease</td>\n",
       "    </tr>\n",
       "    <tr>\n",
       "      <th>35577</th>\n",
       "      <td>35577</td>\n",
       "      <td>35692</td>\n",
       "      <td>disease</td>\n",
       "      <td>be/have</td>\n",
       "      <td>disease</td>\n",
       "    </tr>\n",
       "    <tr>\n",
       "      <th>35578</th>\n",
       "      <td>35578</td>\n",
       "      <td>35693</td>\n",
       "      <td>disease</td>\n",
       "      <td>be_in_replication_in</td>\n",
       "      <td>disease</td>\n",
       "    </tr>\n",
       "    <tr>\n",
       "      <th>35579</th>\n",
       "      <td>35579</td>\n",
       "      <td>35694</td>\n",
       "      <td>disease</td>\n",
       "      <td>be_with</td>\n",
       "      <td>disease</td>\n",
       "    </tr>\n",
       "  </tbody>\n",
       "</table>\n",
       "<p>35580 rows × 5 columns</p>\n",
       "</div>"
      ],
      "text/plain": [
       "       Unnamed: 0  Unnamed: 0.1    subject                relation  \\\n",
       "0               0             0    species                      be   \n",
       "1               1             1        prt          be_included_in   \n",
       "2               2             2  rsars-cov                    lack   \n",
       "3               3             3      mouse  sample/be_sampled_from   \n",
       "4               4             4    patient                     met   \n",
       "...           ...           ...        ...                     ...   \n",
       "35575       35575         35690    species                 work_on   \n",
       "35576       35576         35691    disease             be_declared   \n",
       "35577       35577         35692    disease                 be/have   \n",
       "35578       35578         35693    disease    be_in_replication_in   \n",
       "35579       35579         35694    disease                 be_with   \n",
       "\n",
       "            object  \n",
       "0          species  \n",
       "1             time  \n",
       "2               8a  \n",
       "3      measurement  \n",
       "4           center  \n",
       "...            ...  \n",
       "35575      species  \n",
       "35576      disease  \n",
       "35577      disease  \n",
       "35578      disease  \n",
       "35579      disease  \n",
       "\n",
       "[35580 rows x 5 columns]"
      ]
     },
     "execution_count": 14,
     "metadata": {},
     "output_type": "execute_result"
    }
   ],
   "source": [
    "ie_triples"
   ]
  },
  {
   "cell_type": "code",
   "execution_count": 15,
   "id": "3e41fa66",
   "metadata": {},
   "outputs": [
    {
     "data": {
      "text/plain": [
       "True     24044\n",
       "False    11536\n",
       "dtype: int64"
      ]
     },
     "execution_count": 15,
     "metadata": {},
     "output_type": "execute_result"
    }
   ],
   "source": [
    "\n",
    "entity_types = ['gene', 'disease', 'drug', 'species']\n",
    "# Check the numer of triples with both subjects and objects in the four entity types\n",
    "\n",
    "((ie_triples['subject'].isin (entity_types)) & (ie_triples['object'].isin(entity_types))).value_counts()\n"
   ]
  },
  {
   "cell_type": "code",
   "execution_count": 16,
   "id": "d44dba59",
   "metadata": {},
   "outputs": [
    {
     "data": {
      "text/plain": [
       "\"\\ndisease gene \\ndisease drug \\ndisease species\\ndisease \\n\\n\\nrel_d_g = 'have_gene'\\nrel_g_d = 'be_in''\\nrel_d_dr = 'be_treated_by'\\nrel_dr_d = 'treat'\\nrel_d_s = 'be_transmited_by'\\nrel_s_d = 'transmit'\\nrel_d_d = 'be_related_with'\\n\""
      ]
     },
     "execution_count": 16,
     "metadata": {},
     "output_type": "execute_result"
    }
   ],
   "source": [
    "# Pre-define relations\n",
    "'''\n",
    "disease gene \n",
    "disease drug \n",
    "disease species\n",
    "disease \n",
    "\n",
    "\n",
    "rel_d_g = 'have_gene'\n",
    "rel_g_d = 'be_in''\n",
    "rel_d_dr = 'be_treated_by'\n",
    "rel_dr_d = 'treat'\n",
    "rel_d_s = 'be_transmited_by'\n",
    "rel_s_d = 'transmit'\n",
    "rel_d_d = 'be_related_with'\n",
    "'''"
   ]
  },
  {
   "cell_type": "code",
   "execution_count": 17,
   "id": "a412dc18",
   "metadata": {},
   "outputs": [],
   "source": [
    "# Change dynamic relations into predefined relations\n",
    "\n",
    "#ie_triples['object'].mask(ie_triples['object'].isin(disease[0]),'disease', inplace = True)\n",
    "\n",
    "ie_triples['relation'].mask((ie_triples['subject']=='disease') & (ie_triples['object']=='gene'),'have_gene', inplace = True)\n",
    "ie_triples['relation'].mask((ie_triples['subject']=='gene') & (ie_triples['object']=='desease'), 'be_in', inplace = True)\n",
    "ie_triples['relation'].mask((ie_triples['subject']=='disease') & (ie_triples['object']=='drug'), 'be_treated_by', inplace = True)\n",
    "ie_triples['relation'].mask((ie_triples['subject']=='drug') & (ie_triples['object']=='disease'), 'treat', inplace = True)\n",
    "ie_triples['relation'].mask((ie_triples['subject']=='disease') & (ie_triples['object']=='species'), 'be_transmited_by', inplace = True)\n",
    "ie_triples['relation'].mask((ie_triples['subject']=='species') & (ie_triples['object']=='disease'), 'transmit', inplace = True)\n",
    "ie_triples['relation'].mask((ie_triples['subject']=='disease') & (ie_triples['object']=='disease'), 'be_related_with', inplace = True)\n",
    "\n",
    "\n"
   ]
  },
  {
   "cell_type": "code",
   "execution_count": 18,
   "id": "d8b363cb",
   "metadata": {},
   "outputs": [
    {
     "data": {
      "text/plain": [
       "be_related_with             8256\n",
       "transmit                    2490\n",
       "be_in                       1413\n",
       "be/have                      905\n",
       "be_located_in                576\n",
       "                            ... \n",
       "crystallized_as                1\n",
       "ed_by                          1\n",
       "causing_epidemics_in           1\n",
       "express_carbohydrates_in       1\n",
       "be_acted_by                    1\n",
       "Name: relation, Length: 7129, dtype: int64"
      ]
     },
     "execution_count": 18,
     "metadata": {},
     "output_type": "execute_result"
    }
   ],
   "source": [
    "ie_triples['relation'].value_counts()"
   ]
  },
  {
   "cell_type": "code",
   "execution_count": 19,
   "id": "9323bc93",
   "metadata": {},
   "outputs": [
    {
     "data": {
      "text/html": [
       "<div>\n",
       "<style scoped>\n",
       "    .dataframe tbody tr th:only-of-type {\n",
       "        vertical-align: middle;\n",
       "    }\n",
       "\n",
       "    .dataframe tbody tr th {\n",
       "        vertical-align: top;\n",
       "    }\n",
       "\n",
       "    .dataframe thead th {\n",
       "        text-align: right;\n",
       "    }\n",
       "</style>\n",
       "<table border=\"1\" class=\"dataframe\">\n",
       "  <thead>\n",
       "    <tr style=\"text-align: right;\">\n",
       "      <th></th>\n",
       "      <th>Unnamed: 0</th>\n",
       "      <th>Unnamed: 0.1</th>\n",
       "      <th>subject</th>\n",
       "      <th>relation</th>\n",
       "      <th>object</th>\n",
       "      <th>new_relation</th>\n",
       "    </tr>\n",
       "  </thead>\n",
       "  <tbody>\n",
       "    <tr>\n",
       "      <th>0</th>\n",
       "      <td>0</td>\n",
       "      <td>0</td>\n",
       "      <td>japan</td>\n",
       "      <td>be</td>\n",
       "      <td>human virus</td>\n",
       "      <td>be</td>\n",
       "    </tr>\n",
       "    <tr>\n",
       "      <th>1</th>\n",
       "      <td>1</td>\n",
       "      <td>1</td>\n",
       "      <td>prt</td>\n",
       "      <td>be_included_in</td>\n",
       "      <td>time</td>\n",
       "      <td>be_included_in</td>\n",
       "    </tr>\n",
       "    <tr>\n",
       "      <th>2</th>\n",
       "      <td>2</td>\n",
       "      <td>2</td>\n",
       "      <td>rsars-cov</td>\n",
       "      <td>lack</td>\n",
       "      <td>8a</td>\n",
       "      <td>lack</td>\n",
       "    </tr>\n",
       "    <tr>\n",
       "      <th>3</th>\n",
       "      <td>3</td>\n",
       "      <td>3</td>\n",
       "      <td>mouse</td>\n",
       "      <td>sample/be_sampled_from</td>\n",
       "      <td>measurement</td>\n",
       "      <td>sample/be_sampled_from</td>\n",
       "    </tr>\n",
       "    <tr>\n",
       "      <th>4</th>\n",
       "      <td>4</td>\n",
       "      <td>4</td>\n",
       "      <td>patient</td>\n",
       "      <td>met</td>\n",
       "      <td>center</td>\n",
       "      <td>met</td>\n",
       "    </tr>\n",
       "    <tr>\n",
       "      <th>...</th>\n",
       "      <td>...</td>\n",
       "      <td>...</td>\n",
       "      <td>...</td>\n",
       "      <td>...</td>\n",
       "      <td>...</td>\n",
       "      <td>...</td>\n",
       "    </tr>\n",
       "    <tr>\n",
       "      <th>35575</th>\n",
       "      <td>35575</td>\n",
       "      <td>35690</td>\n",
       "      <td>hct recipient</td>\n",
       "      <td>work_on</td>\n",
       "      <td>patient</td>\n",
       "      <td>work_on</td>\n",
       "    </tr>\n",
       "    <tr>\n",
       "      <th>35576</th>\n",
       "      <td>35576</td>\n",
       "      <td>35691</td>\n",
       "      <td>covid-19</td>\n",
       "      <td>be_declared</td>\n",
       "      <td>pandemic</td>\n",
       "      <td>be_related_with</td>\n",
       "    </tr>\n",
       "    <tr>\n",
       "      <th>35577</th>\n",
       "      <td>35577</td>\n",
       "      <td>35692</td>\n",
       "      <td>respiratory syndrome</td>\n",
       "      <td>be/have</td>\n",
       "      <td>acute respiratory illness</td>\n",
       "      <td>be_related_with</td>\n",
       "    </tr>\n",
       "    <tr>\n",
       "      <th>35578</th>\n",
       "      <td>35578</td>\n",
       "      <td>35693</td>\n",
       "      <td>isg20</td>\n",
       "      <td>be_in_replication_in</td>\n",
       "      <td>yfv</td>\n",
       "      <td>be_related_with</td>\n",
       "    </tr>\n",
       "    <tr>\n",
       "      <th>35579</th>\n",
       "      <td>35579</td>\n",
       "      <td>35694</td>\n",
       "      <td>child</td>\n",
       "      <td>be_with</td>\n",
       "      <td>bronchiolitis</td>\n",
       "      <td>be_related_with</td>\n",
       "    </tr>\n",
       "  </tbody>\n",
       "</table>\n",
       "<p>35580 rows × 6 columns</p>\n",
       "</div>"
      ],
      "text/plain": [
       "       Unnamed: 0  Unnamed: 0.1               subject                relation  \\\n",
       "0               0             0                 japan                      be   \n",
       "1               1             1                   prt          be_included_in   \n",
       "2               2             2             rsars-cov                    lack   \n",
       "3               3             3                 mouse  sample/be_sampled_from   \n",
       "4               4             4               patient                     met   \n",
       "...           ...           ...                   ...                     ...   \n",
       "35575       35575         35690         hct recipient                 work_on   \n",
       "35576       35576         35691              covid-19             be_declared   \n",
       "35577       35577         35692  respiratory syndrome                 be/have   \n",
       "35578       35578         35693                 isg20    be_in_replication_in   \n",
       "35579       35579         35694                 child                 be_with   \n",
       "\n",
       "                          object            new_relation  \n",
       "0                    human virus                      be  \n",
       "1                           time          be_included_in  \n",
       "2                             8a                    lack  \n",
       "3                    measurement  sample/be_sampled_from  \n",
       "4                         center                     met  \n",
       "...                          ...                     ...  \n",
       "35575                    patient                 work_on  \n",
       "35576                   pandemic         be_related_with  \n",
       "35577  acute respiratory illness         be_related_with  \n",
       "35578                        yfv         be_related_with  \n",
       "35579              bronchiolitis         be_related_with  \n",
       "\n",
       "[35580 rows x 6 columns]"
      ]
     },
     "execution_count": 19,
     "metadata": {},
     "output_type": "execute_result"
    }
   ],
   "source": [
    "new_relation = [i for i in ie_triples['relation']]\n",
    "copy_ie_triples['new_relation'] = new_relation\n",
    "copy_ie_triples"
   ]
  },
  {
   "cell_type": "code",
   "execution_count": 20,
   "id": "8c65b437",
   "metadata": {},
   "outputs": [
    {
     "data": {
      "text/plain": [
       "be_related_with             8256\n",
       "transmit                    2490\n",
       "be_in                       1413\n",
       "be/have                      905\n",
       "be_located_in                576\n",
       "                            ... \n",
       "crystallized_as                1\n",
       "ed_by                          1\n",
       "causing_epidemics_in           1\n",
       "express_carbohydrates_in       1\n",
       "be_acted_by                    1\n",
       "Name: new_relation, Length: 7129, dtype: int64"
      ]
     },
     "execution_count": 20,
     "metadata": {},
     "output_type": "execute_result"
    }
   ],
   "source": [
    "copy_ie_triples['new_relation'].value_counts()"
   ]
  },
  {
   "cell_type": "code",
   "execution_count": 21,
   "id": "2fa7cc67",
   "metadata": {},
   "outputs": [],
   "source": [
    "copy_ie_triples.drop(columns = ['relation', 'Unnamed: 0'], inplace = True)"
   ]
  },
  {
   "cell_type": "code",
   "execution_count": 22,
   "id": "7dbfd919",
   "metadata": {},
   "outputs": [
    {
     "data": {
      "text/html": [
       "<div>\n",
       "<style scoped>\n",
       "    .dataframe tbody tr th:only-of-type {\n",
       "        vertical-align: middle;\n",
       "    }\n",
       "\n",
       "    .dataframe tbody tr th {\n",
       "        vertical-align: top;\n",
       "    }\n",
       "\n",
       "    .dataframe thead th {\n",
       "        text-align: right;\n",
       "    }\n",
       "</style>\n",
       "<table border=\"1\" class=\"dataframe\">\n",
       "  <thead>\n",
       "    <tr style=\"text-align: right;\">\n",
       "      <th></th>\n",
       "      <th>Unnamed: 0.1</th>\n",
       "      <th>subject</th>\n",
       "      <th>object</th>\n",
       "      <th>new_relation</th>\n",
       "    </tr>\n",
       "  </thead>\n",
       "  <tbody>\n",
       "    <tr>\n",
       "      <th>13</th>\n",
       "      <td>13</td>\n",
       "      <td>aerosol</td>\n",
       "      <td>guinea pig</td>\n",
       "      <td>be_in</td>\n",
       "    </tr>\n",
       "    <tr>\n",
       "      <th>14</th>\n",
       "      <td>14</td>\n",
       "      <td>uk</td>\n",
       "      <td>influenza</td>\n",
       "      <td>transmit</td>\n",
       "    </tr>\n",
       "    <tr>\n",
       "      <th>19</th>\n",
       "      <td>19</td>\n",
       "      <td>mp</td>\n",
       "      <td>sars-cov infection</td>\n",
       "      <td>be_related_with</td>\n",
       "    </tr>\n",
       "    <tr>\n",
       "      <th>29</th>\n",
       "      <td>29</td>\n",
       "      <td>obesity</td>\n",
       "      <td>china</td>\n",
       "      <td>be_in</td>\n",
       "    </tr>\n",
       "    <tr>\n",
       "      <th>31</th>\n",
       "      <td>31</td>\n",
       "      <td>%</td>\n",
       "      <td>ebv</td>\n",
       "      <td>be_related_with</td>\n",
       "    </tr>\n",
       "    <tr>\n",
       "      <th>...</th>\n",
       "      <td>...</td>\n",
       "      <td>...</td>\n",
       "      <td>...</td>\n",
       "      <td>...</td>\n",
       "    </tr>\n",
       "    <tr>\n",
       "      <th>35574</th>\n",
       "      <td>35689</td>\n",
       "      <td>influenza virus</td>\n",
       "      <td>disease</td>\n",
       "      <td>be_related_with</td>\n",
       "    </tr>\n",
       "    <tr>\n",
       "      <th>35576</th>\n",
       "      <td>35691</td>\n",
       "      <td>covid-19</td>\n",
       "      <td>pandemic</td>\n",
       "      <td>be_related_with</td>\n",
       "    </tr>\n",
       "    <tr>\n",
       "      <th>35577</th>\n",
       "      <td>35692</td>\n",
       "      <td>respiratory syndrome</td>\n",
       "      <td>acute respiratory illness</td>\n",
       "      <td>be_related_with</td>\n",
       "    </tr>\n",
       "    <tr>\n",
       "      <th>35578</th>\n",
       "      <td>35693</td>\n",
       "      <td>isg20</td>\n",
       "      <td>yfv</td>\n",
       "      <td>be_related_with</td>\n",
       "    </tr>\n",
       "    <tr>\n",
       "      <th>35579</th>\n",
       "      <td>35694</td>\n",
       "      <td>child</td>\n",
       "      <td>bronchiolitis</td>\n",
       "      <td>be_related_with</td>\n",
       "    </tr>\n",
       "  </tbody>\n",
       "</table>\n",
       "<p>12302 rows × 4 columns</p>\n",
       "</div>"
      ],
      "text/plain": [
       "       Unnamed: 0.1               subject                     object  \\\n",
       "13               13               aerosol                 guinea pig   \n",
       "14               14                    uk                  influenza   \n",
       "19               19                    mp         sars-cov infection   \n",
       "29               29               obesity                      china   \n",
       "31               31                     %                        ebv   \n",
       "...             ...                   ...                        ...   \n",
       "35574         35689       influenza virus                    disease   \n",
       "35576         35691              covid-19                   pandemic   \n",
       "35577         35692  respiratory syndrome  acute respiratory illness   \n",
       "35578         35693                 isg20                        yfv   \n",
       "35579         35694                 child              bronchiolitis   \n",
       "\n",
       "          new_relation  \n",
       "13               be_in  \n",
       "14            transmit  \n",
       "19     be_related_with  \n",
       "29               be_in  \n",
       "31     be_related_with  \n",
       "...                ...  \n",
       "35574  be_related_with  \n",
       "35576  be_related_with  \n",
       "35577  be_related_with  \n",
       "35578  be_related_with  \n",
       "35579  be_related_with  \n",
       "\n",
       "[12302 rows x 4 columns]"
      ]
     },
     "execution_count": 22,
     "metadata": {},
     "output_type": "execute_result"
    }
   ],
   "source": [
    "predef_relations = ['have_gene', 'be_in', 'be_treated_by', 'treat', 'be_transmited_by','transmit', 'be_related_with']\n",
    "new_triples = copy_ie_triples.loc[(copy_ie_triples['new_relation'].isin(predef_relations) )]\n",
    "new_triples"
   ]
  },
  {
   "cell_type": "code",
   "execution_count": 23,
   "id": "3d9c3cb2",
   "metadata": {},
   "outputs": [
    {
     "data": {
      "text/plain": [
       "be_related_with    8256\n",
       "transmit           2490\n",
       "be_in              1413\n",
       "treat               143\n",
       "Name: new_relation, dtype: int64"
      ]
     },
     "execution_count": 23,
     "metadata": {},
     "output_type": "execute_result"
    }
   ],
   "source": [
    "new_triples.new_relation.value_counts()"
   ]
  },
  {
   "cell_type": "code",
   "execution_count": 24,
   "id": "7b82100a",
   "metadata": {},
   "outputs": [],
   "source": [
    "with open(r\"C:\\Users\\huyen\\OneDrive - UNT System\\COURSES\\INFO 5731\\Final_Project\\Group6_Working\\AUG4\\KG\\triples_with_predefined_relations\\final_triples_with_predefined_relations_cleaned_stage1.csv\", 'w', newline = '', encoding = 'utf-8') as f:\n",
    "    new_triples.to_csv(f)"
   ]
  }
 ],
 "metadata": {
  "kernelspec": {
   "display_name": "Python 3",
   "language": "python",
   "name": "python3"
  },
  "language_info": {
   "codemirror_mode": {
    "name": "ipython",
    "version": 3
   },
   "file_extension": ".py",
   "mimetype": "text/x-python",
   "name": "python",
   "nbconvert_exporter": "python",
   "pygments_lexer": "ipython3",
   "version": "3.8.5"
  }
 },
 "nbformat": 4,
 "nbformat_minor": 5
}
