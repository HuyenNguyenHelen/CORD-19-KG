{
 "cells": [
  {
   "cell_type": "code",
   "execution_count": 1,
   "id": "ad476f9e",
   "metadata": {},
   "outputs": [],
   "source": [
    "import pandas as pd\n",
    "import requests\n",
    "import io"
   ]
  },
  {
   "cell_type": "code",
   "execution_count": 2,
   "id": "53c046e3",
   "metadata": {},
   "outputs": [],
   "source": [
    "# Defining the length checking function\n",
    "def length_ranker (list_ent):\n",
    "    lengths = []\n",
    "    for ent in list_ent:\n",
    "        lengths.append(len(ent))\n",
    "    return sorted(lengths, reverse=False)\n",
    "\n",
    "def length_checker (thres, text):\n",
    "    if len(text)<=thres:\n",
    "        return text\n"
   ]
  },
  {
   "cell_type": "code",
   "execution_count": 3,
   "id": "06a1d511",
   "metadata": {},
   "outputs": [
    {
     "data": {
      "text/plain": [
       "'normalized banana covid-19 covid-19 covid-19'"
      ]
     },
     "execution_count": 3,
     "metadata": {},
     "output_type": "execute_result"
    }
   ],
   "source": [
    "# Defining pre-processing function\n",
    "\n",
    "from nltk.stem import WordNetLemmatizer \n",
    "def preprocessEntity (text):\n",
    "    processed1 = lowercase (text)\n",
    "    processed2 = lemmatization(processed1)\n",
    "    normalized = normalizeCOVID (processed2)\n",
    "    return normalized\n",
    "\n",
    "def lowercase (text):\n",
    "    lowercased = text.lower()\n",
    "    return lowercased\n",
    "\n",
    "def lemmatization(text):\n",
    "    lemmatizer = WordNetLemmatizer()\n",
    "    lemmatized = ' '.join([lemmatizer.lemmatize(w) for w in text.split()])\n",
    "    return lemmatized\n",
    "\n",
    "def normalizeCOVID (text):\n",
    "    covid_variants1 = ['coronarivus disease', 'covid19 coronavirus',  'coronarivus', 'sars-cov-2', '2019-ncov']\n",
    "    covid_variants2 = ['corona','sars-cov']\n",
    "    for variant in covid_variants1:\n",
    "        if variant in text:\n",
    "            text = text.replace(variant, 'covid-19')\n",
    "            \n",
    "    if (('corona' in text) and ('coronavirus' not in text)):\n",
    "            text = text.replace('corona', 'covid-19')\n",
    "            \n",
    "    if (('sars-cov' in text) and ('sars-cov-2' not in text)):\n",
    "            text = text.replace('corona', 'covid-19')\n",
    "    return text\n",
    "        \n",
    "    \n",
    "preprocessEntity ('normalized bananas coronarivus disease coronarivus disease sars-cov-2')  "
   ]
  },
  {
   "cell_type": "code",
   "execution_count": 4,
   "id": "20a79240",
   "metadata": {},
   "outputs": [
    {
     "name": "stdout",
     "output_type": "stream",
     "text": [
      "Index(['Unnamed: 0', 'Unnamed: 0.1', 'subject', 'object', 'new_relation'], dtype='object')\n"
     ]
    },
    {
     "data": {
      "text/html": [
       "<div>\n",
       "<style scoped>\n",
       "    .dataframe tbody tr th:only-of-type {\n",
       "        vertical-align: middle;\n",
       "    }\n",
       "\n",
       "    .dataframe tbody tr th {\n",
       "        vertical-align: top;\n",
       "    }\n",
       "\n",
       "    .dataframe thead th {\n",
       "        text-align: right;\n",
       "    }\n",
       "</style>\n",
       "<table border=\"1\" class=\"dataframe\">\n",
       "  <thead>\n",
       "    <tr style=\"text-align: right;\">\n",
       "      <th></th>\n",
       "      <th>subject</th>\n",
       "      <th>new_relation</th>\n",
       "      <th>object</th>\n",
       "    </tr>\n",
       "  </thead>\n",
       "  <tbody>\n",
       "    <tr>\n",
       "      <th>0</th>\n",
       "      <td>dysfunction</td>\n",
       "      <td>disease_species</td>\n",
       "      <td>child</td>\n",
       "    </tr>\n",
       "    <tr>\n",
       "      <th>1</th>\n",
       "      <td>et dysfunction</td>\n",
       "      <td>disease_species</td>\n",
       "      <td>child</td>\n",
       "    </tr>\n",
       "    <tr>\n",
       "      <th>2</th>\n",
       "      <td>et dysfunction</td>\n",
       "      <td>disease_species</td>\n",
       "      <td>child</td>\n",
       "    </tr>\n",
       "    <tr>\n",
       "      <th>3</th>\n",
       "      <td>rsv</td>\n",
       "      <td>disease_disease</td>\n",
       "      <td>virus</td>\n",
       "    </tr>\n",
       "    <tr>\n",
       "      <th>4</th>\n",
       "      <td>treatment</td>\n",
       "      <td>treat_procedure_species</td>\n",
       "      <td>child</td>\n",
       "    </tr>\n",
       "  </tbody>\n",
       "</table>\n",
       "</div>"
      ],
      "text/plain": [
       "          subject             new_relation object\n",
       "0     dysfunction          disease_species  child\n",
       "1  et dysfunction          disease_species  child\n",
       "2  et dysfunction          disease_species  child\n",
       "3             rsv          disease_disease  virus\n",
       "4       treatment  treat_procedure_species  child"
      ]
     },
     "execution_count": 4,
     "metadata": {},
     "output_type": "execute_result"
    }
   ],
   "source": [
    "# Clean final triples\n",
    "\n",
    "# Downloading the csv file from your GitHub account\n",
    "re_pdf = requests.get('https://raw.githubusercontent.com/HuyenNguyenHelen/CORD-19-KG/master/Data/new_triples_with_predefined_relations_pdf_June20_.csv').content\n",
    "re_pmc = requests.get('https://raw.githubusercontent.com/HuyenNguyenHelen/CORD-19-KG/master/Data/new_triples_with_predefined_relations_pmc_June20_.csv').content\n",
    "pdf = pd.read_csv(io.StringIO(re_pdf.decode('utf-8')))\n",
    "pmc =  pd.read_csv(io.StringIO(re_pmc.decode('utf-8')))\n",
    "dataset = pd.concat([pmc, pdf])\n",
    "print(dataset.columns)\n",
    "dataset.drop(columns='Unnamed: 0', inplace=True)\n",
    "dataset = dataset[['subject','new_relation', 'object' ]]\n",
    "dataset.head(5)"
   ]
  },
  {
   "cell_type": "code",
   "execution_count": 9,
   "id": "b943aa61",
   "metadata": {},
   "outputs": [
    {
     "data": {
      "text/plain": [
       "i    2944\n",
       "u    1302\n",
       "n     719\n",
       "2     465\n",
       "c     365\n",
       "m     336\n",
       "r     333\n",
       "s     290\n",
       "3     284\n",
       "a     254\n",
       "5     209\n",
       "g     186\n",
       "6     171\n",
       "b     159\n",
       "l     154\n",
       "t     150\n",
       "f     146\n",
       "p     131\n",
       "d     117\n",
       "h      84\n",
       "β      84\n",
       "α      78\n",
       "y      76\n",
       "j      66\n",
       "w      60\n",
       "k      59\n",
       "v      52\n",
       "γ      49\n",
       "z      46\n",
       "e      33\n",
       "o      28\n",
       "θ      22\n",
       "ε       8\n",
       "ω       6\n",
       "Name: subject, dtype: int64"
      ]
     },
     "execution_count": 9,
     "metadata": {},
     "output_type": "execute_result"
    }
   ],
   "source": [
    "dataset['subject'].apply(lambda x: length_checker (1, x)).value_counts()"
   ]
  },
  {
   "cell_type": "code",
   "execution_count": 10,
   "id": "bcc9ba46",
   "metadata": {},
   "outputs": [
    {
     "data": {
      "text/html": [
       "<div>\n",
       "<style scoped>\n",
       "    .dataframe tbody tr th:only-of-type {\n",
       "        vertical-align: middle;\n",
       "    }\n",
       "\n",
       "    .dataframe tbody tr th {\n",
       "        vertical-align: top;\n",
       "    }\n",
       "\n",
       "    .dataframe thead th {\n",
       "        text-align: right;\n",
       "    }\n",
       "</style>\n",
       "<table border=\"1\" class=\"dataframe\">\n",
       "  <thead>\n",
       "    <tr style=\"text-align: right;\">\n",
       "      <th></th>\n",
       "      <th>0</th>\n",
       "    </tr>\n",
       "  </thead>\n",
       "  <tbody>\n",
       "    <tr>\n",
       "      <th>0</th>\n",
       "      <td>1</td>\n",
       "    </tr>\n",
       "    <tr>\n",
       "      <th>1</th>\n",
       "      <td>1</td>\n",
       "    </tr>\n",
       "    <tr>\n",
       "      <th>2</th>\n",
       "      <td>1</td>\n",
       "    </tr>\n",
       "    <tr>\n",
       "      <th>3</th>\n",
       "      <td>1</td>\n",
       "    </tr>\n",
       "    <tr>\n",
       "      <th>4</th>\n",
       "      <td>1</td>\n",
       "    </tr>\n",
       "    <tr>\n",
       "      <th>...</th>\n",
       "      <td>...</td>\n",
       "    </tr>\n",
       "    <tr>\n",
       "      <th>9461</th>\n",
       "      <td>1</td>\n",
       "    </tr>\n",
       "    <tr>\n",
       "      <th>9462</th>\n",
       "      <td>1</td>\n",
       "    </tr>\n",
       "    <tr>\n",
       "      <th>9463</th>\n",
       "      <td>1</td>\n",
       "    </tr>\n",
       "    <tr>\n",
       "      <th>9464</th>\n",
       "      <td>1</td>\n",
       "    </tr>\n",
       "    <tr>\n",
       "      <th>9465</th>\n",
       "      <td>1</td>\n",
       "    </tr>\n",
       "  </tbody>\n",
       "</table>\n",
       "<p>9466 rows × 1 columns</p>\n",
       "</div>"
      ],
      "text/plain": [
       "      0\n",
       "0     1\n",
       "1     1\n",
       "2     1\n",
       "3     1\n",
       "4     1\n",
       "...  ..\n",
       "9461  1\n",
       "9462  1\n",
       "9463  1\n",
       "9464  1\n",
       "9465  1\n",
       "\n",
       "[9466 rows x 1 columns]"
      ]
     },
     "execution_count": 10,
     "metadata": {},
     "output_type": "execute_result"
    }
   ],
   "source": [
    "lens = pd.DataFrame(length_ranker(dataset['subject']))\n",
    "lens[lens[0]==1]"
   ]
  },
  {
   "cell_type": "markdown",
   "id": "6963acbc",
   "metadata": {},
   "source": [
    "After observing ents with length =<1, we found that they are nonsense, so we decided to remove triples having them"
   ]
  },
  {
   "cell_type": "code",
   "execution_count": 11,
   "id": "0dc078a8",
   "metadata": {},
   "outputs": [
    {
     "name": "stdout",
     "output_type": "stream",
     "text": [
      "Series([], Name: subject, dtype: int64)\n",
      "Series([], Name: object, dtype: int64)\n"
     ]
    },
    {
     "data": {
      "text/html": [
       "<div>\n",
       "<style scoped>\n",
       "    .dataframe tbody tr th:only-of-type {\n",
       "        vertical-align: middle;\n",
       "    }\n",
       "\n",
       "    .dataframe tbody tr th {\n",
       "        vertical-align: top;\n",
       "    }\n",
       "\n",
       "    .dataframe thead th {\n",
       "        text-align: right;\n",
       "    }\n",
       "</style>\n",
       "<table border=\"1\" class=\"dataframe\">\n",
       "  <thead>\n",
       "    <tr style=\"text-align: right;\">\n",
       "      <th></th>\n",
       "      <th>subject</th>\n",
       "      <th>new_relation</th>\n",
       "      <th>object</th>\n",
       "    </tr>\n",
       "  </thead>\n",
       "  <tbody>\n",
       "    <tr>\n",
       "      <th>0</th>\n",
       "      <td>dysfunction</td>\n",
       "      <td>disease_species</td>\n",
       "      <td>child</td>\n",
       "    </tr>\n",
       "    <tr>\n",
       "      <th>1</th>\n",
       "      <td>et dysfunction</td>\n",
       "      <td>disease_species</td>\n",
       "      <td>child</td>\n",
       "    </tr>\n",
       "    <tr>\n",
       "      <th>2</th>\n",
       "      <td>et dysfunction</td>\n",
       "      <td>disease_species</td>\n",
       "      <td>child</td>\n",
       "    </tr>\n",
       "    <tr>\n",
       "      <th>3</th>\n",
       "      <td>rsv</td>\n",
       "      <td>disease_disease</td>\n",
       "      <td>virus</td>\n",
       "    </tr>\n",
       "    <tr>\n",
       "      <th>4</th>\n",
       "      <td>treatment</td>\n",
       "      <td>treat_procedure_species</td>\n",
       "      <td>child</td>\n",
       "    </tr>\n",
       "    <tr>\n",
       "      <th>...</th>\n",
       "      <td>...</td>\n",
       "      <td>...</td>\n",
       "      <td>...</td>\n",
       "    </tr>\n",
       "    <tr>\n",
       "      <th>175873</th>\n",
       "      <td>vegf</td>\n",
       "      <td>gene_disease</td>\n",
       "      <td>edema</td>\n",
       "    </tr>\n",
       "    <tr>\n",
       "      <th>175874</th>\n",
       "      <td>virus</td>\n",
       "      <td>disease_species</td>\n",
       "      <td>person</td>\n",
       "    </tr>\n",
       "    <tr>\n",
       "      <th>175875</th>\n",
       "      <td>covid</td>\n",
       "      <td>disease_disease</td>\n",
       "      <td>respiratory failure</td>\n",
       "    </tr>\n",
       "    <tr>\n",
       "      <th>175876</th>\n",
       "      <td>covid</td>\n",
       "      <td>disease_disease</td>\n",
       "      <td>acute respiratory failure</td>\n",
       "    </tr>\n",
       "    <tr>\n",
       "      <th>175877</th>\n",
       "      <td>covid</td>\n",
       "      <td>disease_disease</td>\n",
       "      <td>distress syndrome</td>\n",
       "    </tr>\n",
       "  </tbody>\n",
       "</table>\n",
       "<p>217190 rows × 3 columns</p>\n",
       "</div>"
      ],
      "text/plain": [
       "               subject             new_relation                     object\n",
       "0          dysfunction          disease_species                      child\n",
       "1       et dysfunction          disease_species                      child\n",
       "2       et dysfunction          disease_species                      child\n",
       "3                  rsv          disease_disease                      virus\n",
       "4            treatment  treat_procedure_species                      child\n",
       "...                ...                      ...                        ...\n",
       "175873            vegf             gene_disease                      edema\n",
       "175874           virus          disease_species                     person\n",
       "175875           covid          disease_disease        respiratory failure\n",
       "175876           covid          disease_disease  acute respiratory failure\n",
       "175877           covid          disease_disease          distress syndrome\n",
       "\n",
       "[217190 rows x 3 columns]"
      ]
     },
     "execution_count": 11,
     "metadata": {},
     "output_type": "execute_result"
    }
   ],
   "source": [
    "sub_data = dataset[dataset['subject'].apply(lambda x: len(x)>1)]\n",
    "final_data = sub_data[sub_data['object'].apply(lambda x: len(x)>1)]\n",
    "\n",
    "# checking length\n",
    "print(final_data['subject'].apply(lambda x: length_checker (1, x)).value_counts())\n",
    "print(final_data['object'].apply(lambda x: length_checker (1, x)).value_counts())\n",
    "\n",
    "final_data"
   ]
  },
  {
   "cell_type": "code",
   "execution_count": 18,
   "id": "3d04bfd4",
   "metadata": {},
   "outputs": [
    {
     "name": "stdout",
     "output_type": "stream",
     "text": [
      "Empty DataFrame\n",
      "Columns: [subject, new_relation, object]\n",
      "Index: []\n",
      "Empty DataFrame\n",
      "Columns: [subject, new_relation, object]\n",
      "Index: []\n"
     ]
    },
    {
     "name": "stderr",
     "output_type": "stream",
     "text": [
      "<ipython-input-18-4e54091a8d1a>:1: SettingWithCopyWarning: \n",
      "A value is trying to be set on a copy of a slice from a DataFrame.\n",
      "Try using .loc[row_indexer,col_indexer] = value instead\n",
      "\n",
      "See the caveats in the documentation: https://pandas.pydata.org/pandas-docs/stable/user_guide/indexing.html#returning-a-view-versus-a-copy\n",
      "  final_data['subject'] = final_data['subject'].replace( 'covid', 'covid-19')\n",
      "<ipython-input-18-4e54091a8d1a>:2: SettingWithCopyWarning: \n",
      "A value is trying to be set on a copy of a slice from a DataFrame.\n",
      "Try using .loc[row_indexer,col_indexer] = value instead\n",
      "\n",
      "See the caveats in the documentation: https://pandas.pydata.org/pandas-docs/stable/user_guide/indexing.html#returning-a-view-versus-a-copy\n",
      "  final_data ['object'] = final_data['object'].replace('covid', 'covid-19')\n"
     ]
    }
   ],
   "source": [
    "final_data['subject'] = final_data['subject'].replace( 'covid', 'covid-19')\n",
    "final_data ['object'] = final_data['object'].replace('covid', 'covid-19')\n",
    "print(final_data[final_data['subject']=='covid'])\n",
    "print(final_data[final_data['object']=='covid'])\n"
   ]
  },
  {
   "cell_type": "code",
   "execution_count": 21,
   "id": "a48d8d3b",
   "metadata": {},
   "outputs": [],
   "source": [
    "final_data\n",
    "with open(r'C:\\Users\\huyen\\OneDrive\\Documents\\GitHub\\CORD-19-KG\\Data\\all-final-cleaned-triples.csv', 'w', encoding = 'utf-8') as f:\n",
    "    final_data.to_csv(f)"
   ]
  }
 ],
 "metadata": {
  "kernelspec": {
   "display_name": "Python 3",
   "language": "python",
   "name": "python3"
  },
  "language_info": {
   "codemirror_mode": {
    "name": "ipython",
    "version": 3
   },
   "file_extension": ".py",
   "mimetype": "text/x-python",
   "name": "python",
   "nbconvert_exporter": "python",
   "pygments_lexer": "ipython3",
   "version": "3.8.5"
  }
 },
 "nbformat": 4,
 "nbformat_minor": 5
}
