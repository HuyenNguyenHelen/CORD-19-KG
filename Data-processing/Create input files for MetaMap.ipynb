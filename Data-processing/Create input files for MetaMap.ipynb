{
 "cells": [
  {
   "cell_type": "code",
   "execution_count": 9,
   "id": "e4cedd6e",
   "metadata": {},
   "outputs": [
    {
     "data": {
      "text/html": [
       "<div>\n",
       "<style scoped>\n",
       "    .dataframe tbody tr th:only-of-type {\n",
       "        vertical-align: middle;\n",
       "    }\n",
       "\n",
       "    .dataframe tbody tr th {\n",
       "        vertical-align: top;\n",
       "    }\n",
       "\n",
       "    .dataframe thead th {\n",
       "        text-align: right;\n",
       "    }\n",
       "</style>\n",
       "<table border=\"1\" class=\"dataframe\">\n",
       "  <thead>\n",
       "    <tr style=\"text-align: right;\">\n",
       "      <th></th>\n",
       "      <th>Unnamed: 0</th>\n",
       "      <th>doc_ID</th>\n",
       "      <th>COVID19_related_bodytext</th>\n",
       "    </tr>\n",
       "  </thead>\n",
       "  <tbody>\n",
       "    <tr>\n",
       "      <th>0</th>\n",
       "      <td>0</td>\n",
       "      <td>['doc_1']</td>\n",
       "      <td>['Viruses are increasingly recognised as patho...</td>\n",
       "    </tr>\n",
       "    <tr>\n",
       "      <th>1</th>\n",
       "      <td>1</td>\n",
       "      <td>['doc_2']</td>\n",
       "      <td>[\"How do we protect our 'high-risk' patient po...</td>\n",
       "    </tr>\n",
       "    <tr>\n",
       "      <th>2</th>\n",
       "      <td>2</td>\n",
       "      <td>['doc_3']</td>\n",
       "      <td>[\"Severe acute respiratory syndrome (SARS) is ...</td>\n",
       "    </tr>\n",
       "    <tr>\n",
       "      <th>3</th>\n",
       "      <td>3</td>\n",
       "      <td>['doc_4']</td>\n",
       "      <td>[\"It is said that crisis reveals character. Th...</td>\n",
       "    </tr>\n",
       "    <tr>\n",
       "      <th>4</th>\n",
       "      <td>4</td>\n",
       "      <td>['doc_5']</td>\n",
       "      <td>['The German standing commission for immunisat...</td>\n",
       "    </tr>\n",
       "  </tbody>\n",
       "</table>\n",
       "</div>"
      ],
      "text/plain": [
       "   Unnamed: 0     doc_ID                           COVID19_related_bodytext\n",
       "0           0  ['doc_1']  ['Viruses are increasingly recognised as patho...\n",
       "1           1  ['doc_2']  [\"How do we protect our 'high-risk' patient po...\n",
       "2           2  ['doc_3']  [\"Severe acute respiratory syndrome (SARS) is ...\n",
       "3           3  ['doc_4']  [\"It is said that crisis reveals character. Th...\n",
       "4           4  ['doc_5']  ['The German standing commission for immunisat..."
      ]
     },
     "execution_count": 9,
     "metadata": {},
     "output_type": "execute_result"
    }
   ],
   "source": [
    "import pandas as pd\n",
    "import csv\n",
    "file_paths = [r\"C:\\Users\\huyen\\OneDrive - UNT System\\COURSES\\INFO 5731\\FinalProject_INFO5731\\All_DS_CORD19\\AUG\\COV-Related_bodyText_DSAug4_pdf.csv\",\n",
    "r\"C:\\Users\\huyen\\OneDrive - UNT System\\COURSES\\INFO 5731\\FinalProject_INFO5731\\All_DS_CORD19\\AUG\\COV-Related_bodyText_DSAug4_pmc.csv\"]\n",
    "\n",
    "with open(file_paths[0], 'r', encoding = 'utf-8') as file:\n",
    "    df=pd.read_csv(file)\n",
    "df.head()"
   ]
  },
  {
   "cell_type": "code",
   "execution_count": 10,
   "id": "56615e46",
   "metadata": {},
   "outputs": [
    {
     "data": {
      "text/plain": [
       "30413.0"
      ]
     },
     "execution_count": 10,
     "metadata": {},
     "output_type": "execute_result"
    }
   ],
   "source": [
    "len(df)/2"
   ]
  },
  {
   "cell_type": "code",
   "execution_count": 11,
   "id": "bcd8ff7c",
   "metadata": {},
   "outputs": [],
   "source": [
    "import re\n",
    "i=0\n",
    "while i< round(len(df)/2):\n",
    "    m=2*i\n",
    "    n=m+2\n",
    "    txt=''\n",
    "    for doc in  df['COVID19_related_bodytext'][m:n]:\n",
    "        txt+=str(doc)\n",
    "        txt=txt.replace('[','').replace(']', '').replace(\"'\",'').replace('\"','')\n",
    "        txt = re.sub(r\"\\([^()]*\\)\", \"\",txt)\n",
    "    i+=1\n",
    "    with open(r'C:\\Users\\huyen\\OneDrive - UNT System\\COURSES\\INFO 5731\\Final_Project\\Group6_Working\\AUG4\\KG\\ENTS\\MetaMap\\Input\\huyen\\2doc-files\\pdf_2doc_'+str(i)+\".txt\", 'w', encoding = 'utf-8') as file:\n",
    "        file.write(txt)\n",
    "\n"
   ]
  }
 ],
 "metadata": {
  "kernelspec": {
   "display_name": "Python 3",
   "language": "python",
   "name": "python3"
  },
  "language_info": {
   "codemirror_mode": {
    "name": "ipython",
    "version": 3
   },
   "file_extension": ".py",
   "mimetype": "text/x-python",
   "name": "python",
   "nbconvert_exporter": "python",
   "pygments_lexer": "ipython3",
   "version": "3.8.5"
  }
 },
 "nbformat": 4,
 "nbformat_minor": 5
}
