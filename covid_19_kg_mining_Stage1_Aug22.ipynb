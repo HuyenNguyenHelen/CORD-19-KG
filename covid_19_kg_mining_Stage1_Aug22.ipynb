{
  "nbformat": 4,
  "nbformat_minor": 0,
  "metadata": {
    "colab": {
      "name": "covid-19-kg-mining_Stage1_Aug22.ipynb",
      "provenance": [],
      "collapsed_sections": [],
      "toc_visible": true,
      "include_colab_link": true
    },
    "kernelspec": {
      "name": "python3",
      "display_name": "Python 3"
    },
    "language_info": {
      "name": "python"
    },
    "accelerator": "GPU"
  },
  "cells": [
    {
      "cell_type": "markdown",
      "metadata": {
        "id": "view-in-github",
        "colab_type": "text"
      },
      "source": [
        "<a href=\"https://colab.research.google.com/github/HuyenNguyenHelen/CORD-19-KG/blob/master/covid_19_kg_mining_Stage1_Aug22.ipynb\" target=\"_parent\"><img src=\"https://colab.research.google.com/assets/colab-badge.svg\" alt=\"Open In Colab\"/></a>"
      ]
    },
    {
      "cell_type": "markdown",
      "metadata": {
        "id": "xUFXMJVdOltr"
      },
      "source": [
        "# 1. Preliminaries"
      ]
    },
    {
      "cell_type": "code",
      "metadata": {
        "id": "P7TZVvkzNwDF"
      },
      "source": [
        "# If using Google Colab run this cell \n",
        "\n",
        "# select tensorflow version for colab \n",
        "%tensorflow_version 1.x"
      ],
      "execution_count": null,
      "outputs": []
    },
    {
      "cell_type": "code",
      "metadata": {
        "colab": {
          "base_uri": "https://localhost:8080/"
        },
        "id": "h22uybHCOUyq",
        "outputId": "9d710065-ce04-4bd6-cbf0-3197eff0fe55"
      },
      "source": [
        "import tensorflow as tf \n",
        "\n",
        "print('TensorFlow  version: {}'.format(tf.__version__))\n",
        "\n",
        "# Get the GPU name\n",
        "device_name = tf.test.gpu_device_name()\n",
        "if device_name != '/device:GPU:0':\n",
        "  raise SystemError('GPU device not found')\n",
        "print('Found GPU at: {}'.format(device_name))"
      ],
      "execution_count": null,
      "outputs": [
        {
          "output_type": "stream",
          "text": [
            "TensorFlow  version: 1.15.2\n",
            "Found GPU at: /device:GPU:0\n"
          ],
          "name": "stdout"
        }
      ]
    },
    {
      "cell_type": "code",
      "metadata": {
        "id": "MgZPAPapOaLA"
      },
      "source": [
        "%%capture \n",
        "# Install AmpliGraph library\n",
        "! pip install ampligraph\n",
        "\n",
        "# Required to visualize embeddings with tensorboard projector, comment out if not required!\n",
        "! pip install --user tensorboard\n",
        "\n",
        "# Required to plot text on embedding clusters, comment out if not required!\n",
        "! pip install --user git+https://github.com/Phlya/adjustText"
      ],
      "execution_count": null,
      "outputs": []
    },
    {
      "cell_type": "code",
      "metadata": {
        "colab": {
          "base_uri": "https://localhost:8080/"
        },
        "id": "9Bzg5vHqOfch",
        "outputId": "f4dbca9a-ebe2-4b99-90f8-3df233cc6527"
      },
      "source": [
        "# All imports used in this tutorial \n",
        "%tensorflow_version 1.x\n",
        "import ampligraph\n",
        "import numpy as np\n",
        "import pandas as pd\n",
        "import tensorflow as tf\n",
        "from ampligraph.datasets import load_fb15k_237\n",
        "from ampligraph.evaluation import train_test_split_no_unseen, evaluate_performance, mr_score, mrr_score, hits_at_n_score\n",
        "from ampligraph.discovery import query_topn, discover_facts, find_clusters\n",
        "from ampligraph.latent_features import TransE, ComplEx, HolE, DistMult, ConvE, ConvKB\n",
        "from ampligraph.utils import save_model, restore_model\n",
        "\n",
        "def display_aggregate_metrics(ranks):\n",
        "    print('Mean Rank:', mr_score(ranks)) \n",
        "    print('Mean Reciprocal Rank:', mrr_score(ranks)) \n",
        "    print('Hits@1:', hits_at_n_score(ranks, 1))\n",
        "    print('Hits@10:', hits_at_n_score(ranks, 10))\n",
        "    print('Hits@100:', hits_at_n_score(ranks, 100))\n",
        "\n",
        "print('Ampligraph version: {}'.format(ampligraph.__version__))"
      ],
      "execution_count": null,
      "outputs": [
        {
          "output_type": "stream",
          "text": [
            "Ampligraph version: 1.4.0\n"
          ],
          "name": "stdout"
        }
      ]
    },
    {
      "cell_type": "markdown",
      "metadata": {
        "id": "aBb8eVx6Osxx"
      },
      "source": [
        "# 2. Loading a Knowledge Graph dataset"
      ]
    },
    {
      "cell_type": "code",
      "metadata": {
        "id": "k96fp70dOyyS"
      },
      "source": [
        "from ampligraph.datasets import load_fb15k_237, load_wn18rr, load_yago3_10\n",
        "import io\n",
        "import requests"
      ],
      "execution_count": null,
      "outputs": []
    },
    {
      "cell_type": "code",
      "metadata": {
        "colab": {
          "base_uri": "https://localhost:8080/",
          "height": 203
        },
        "id": "G6V6F6nWO6cQ",
        "outputId": "6423a309-31f0-4d8b-98ae-101990dbc537"
      },
      "source": [
        "# Downloading the csv file from your GitHub account\n",
        "\n",
        "re_pdf = requests.get('https://raw.githubusercontent.com/HuyenNguyenHelen/CORD-19-KG/master/final_triples_with_predefined_relations_cleaned_stage1-Aug22.csv').content\n",
        "dataset = pd.read_csv(io.StringIO(re_pdf.decode('utf-8')))\n",
        "dataset = dataset[['subject','new_relation', 'object' ]]\n",
        "dataset.head(5)"
      ],
      "execution_count": null,
      "outputs": [
        {
          "output_type": "execute_result",
          "data": {
            "text/html": [
              "<div>\n",
              "<style scoped>\n",
              "    .dataframe tbody tr th:only-of-type {\n",
              "        vertical-align: middle;\n",
              "    }\n",
              "\n",
              "    .dataframe tbody tr th {\n",
              "        vertical-align: top;\n",
              "    }\n",
              "\n",
              "    .dataframe thead th {\n",
              "        text-align: right;\n",
              "    }\n",
              "</style>\n",
              "<table border=\"1\" class=\"dataframe\">\n",
              "  <thead>\n",
              "    <tr style=\"text-align: right;\">\n",
              "      <th></th>\n",
              "      <th>subject</th>\n",
              "      <th>new_relation</th>\n",
              "      <th>object</th>\n",
              "    </tr>\n",
              "  </thead>\n",
              "  <tbody>\n",
              "    <tr>\n",
              "      <th>0</th>\n",
              "      <td>japan</td>\n",
              "      <td>species_species</td>\n",
              "      <td>human virus</td>\n",
              "    </tr>\n",
              "    <tr>\n",
              "      <th>1</th>\n",
              "      <td>serum</td>\n",
              "      <td>species_species</td>\n",
              "      <td>dog</td>\n",
              "    </tr>\n",
              "    <tr>\n",
              "      <th>2</th>\n",
              "      <td>apoptosis</td>\n",
              "      <td>gene_gene</td>\n",
              "      <td>anti-spike protein antibody</td>\n",
              "    </tr>\n",
              "    <tr>\n",
              "      <th>3</th>\n",
              "      <td>symptom</td>\n",
              "      <td>species_species</td>\n",
              "      <td>patient</td>\n",
              "    </tr>\n",
              "    <tr>\n",
              "      <th>4</th>\n",
              "      <td>aerosol</td>\n",
              "      <td>species_species</td>\n",
              "      <td>guinea pig</td>\n",
              "    </tr>\n",
              "  </tbody>\n",
              "</table>\n",
              "</div>"
            ],
            "text/plain": [
              "     subject     new_relation                       object\n",
              "0      japan  species_species                  human virus\n",
              "1      serum  species_species                          dog\n",
              "2  apoptosis        gene_gene  anti-spike protein antibody\n",
              "3    symptom  species_species                      patient\n",
              "4    aerosol  species_species                   guinea pig"
            ]
          },
          "metadata": {},
          "execution_count": 17
        }
      ]
    },
    {
      "cell_type": "markdown",
      "metadata": {
        "id": "gvCfyPh4DqBE"
      },
      "source": [
        "## 2.1. Pre-processing data"
      ]
    },
    {
      "cell_type": "code",
      "metadata": {
        "id": "ZGf8d4Sv424a",
        "colab": {
          "base_uri": "https://localhost:8080/"
        },
        "outputId": "c0894aa4-ae51-4400-d298-3a5b47cd29ab"
      },
      "source": [
        "print('after droppingg null, length of dataset: ',len(dataset))\n",
        "print('# of null values: ', dataset.isnull().sum().sum())\n",
        "dataset = dataset.dropna()\n",
        "print('after droppingg null, length of dataset: ', len(dataset))"
      ],
      "execution_count": null,
      "outputs": [
        {
          "output_type": "stream",
          "text": [
            "after droppingg null, length of dataset:  14165\n",
            "# of null values:  1062\n",
            "after droppingg null, length of dataset:  13137\n"
          ],
          "name": "stdout"
        }
      ]
    },
    {
      "cell_type": "code",
      "metadata": {
        "colab": {
          "base_uri": "https://localhost:8080/",
          "height": 417
        },
        "id": "AZ1XPfuExw6_",
        "outputId": "e94cc559-b48f-4625-9a31-b010ab46fb88"
      },
      "source": [
        "dataset[dataset['object']=='coronavirus']"
      ],
      "execution_count": null,
      "outputs": [
        {
          "output_type": "execute_result",
          "data": {
            "text/html": [
              "<div>\n",
              "<style scoped>\n",
              "    .dataframe tbody tr th:only-of-type {\n",
              "        vertical-align: middle;\n",
              "    }\n",
              "\n",
              "    .dataframe tbody tr th {\n",
              "        vertical-align: top;\n",
              "    }\n",
              "\n",
              "    .dataframe thead th {\n",
              "        text-align: right;\n",
              "    }\n",
              "</style>\n",
              "<table border=\"1\" class=\"dataframe\">\n",
              "  <thead>\n",
              "    <tr style=\"text-align: right;\">\n",
              "      <th></th>\n",
              "      <th>subject</th>\n",
              "      <th>new_relation</th>\n",
              "      <th>object</th>\n",
              "    </tr>\n",
              "  </thead>\n",
              "  <tbody>\n",
              "    <tr>\n",
              "      <th>200</th>\n",
              "      <td>discovery</td>\n",
              "      <td>species_disease</td>\n",
              "      <td>coronavirus</td>\n",
              "    </tr>\n",
              "    <tr>\n",
              "      <th>246</th>\n",
              "      <td>recognition</td>\n",
              "      <td>species_disease</td>\n",
              "      <td>coronavirus</td>\n",
              "    </tr>\n",
              "    <tr>\n",
              "      <th>331</th>\n",
              "      <td>bat</td>\n",
              "      <td>species_disease</td>\n",
              "      <td>coronavirus</td>\n",
              "    </tr>\n",
              "    <tr>\n",
              "      <th>387</th>\n",
              "      <td>advance</td>\n",
              "      <td>species_disease</td>\n",
              "      <td>coronavirus</td>\n",
              "    </tr>\n",
              "    <tr>\n",
              "      <th>484</th>\n",
              "      <td>covs</td>\n",
              "      <td>species_disease</td>\n",
              "      <td>coronavirus</td>\n",
              "    </tr>\n",
              "    <tr>\n",
              "      <th>...</th>\n",
              "      <td>...</td>\n",
              "      <td>...</td>\n",
              "      <td>...</td>\n",
              "    </tr>\n",
              "    <tr>\n",
              "      <th>13635</th>\n",
              "      <td>syndrome</td>\n",
              "      <td>species_disease</td>\n",
              "      <td>coronavirus</td>\n",
              "    </tr>\n",
              "    <tr>\n",
              "      <th>13746</th>\n",
              "      <td>tgev</td>\n",
              "      <td>species_disease</td>\n",
              "      <td>coronavirus</td>\n",
              "    </tr>\n",
              "    <tr>\n",
              "      <th>13823</th>\n",
              "      <td>peplomers</td>\n",
              "      <td>species_disease</td>\n",
              "      <td>coronavirus</td>\n",
              "    </tr>\n",
              "    <tr>\n",
              "      <th>14015</th>\n",
              "      <td>rna virus</td>\n",
              "      <td>species_disease</td>\n",
              "      <td>coronavirus</td>\n",
              "    </tr>\n",
              "    <tr>\n",
              "      <th>14028</th>\n",
              "      <td>pandemic</td>\n",
              "      <td>species_disease</td>\n",
              "      <td>coronavirus</td>\n",
              "    </tr>\n",
              "  </tbody>\n",
              "</table>\n",
              "<p>176 rows × 3 columns</p>\n",
              "</div>"
            ],
            "text/plain": [
              "           subject     new_relation       object\n",
              "200      discovery  species_disease  coronavirus\n",
              "246    recognition  species_disease  coronavirus\n",
              "331            bat  species_disease  coronavirus\n",
              "387        advance  species_disease  coronavirus\n",
              "484           covs  species_disease  coronavirus\n",
              "...            ...              ...          ...\n",
              "13635     syndrome  species_disease  coronavirus\n",
              "13746         tgev  species_disease  coronavirus\n",
              "13823    peplomers  species_disease  coronavirus\n",
              "14015    rna virus  species_disease  coronavirus\n",
              "14028     pandemic  species_disease  coronavirus\n",
              "\n",
              "[176 rows x 3 columns]"
            ]
          },
          "metadata": {},
          "execution_count": 19
        }
      ]
    },
    {
      "cell_type": "code",
      "metadata": {
        "id": "Czq68Rq17xRT"
      },
      "source": [
        "# Normalize 'coronavirus' into 'covid-19'\n",
        "dataset['subject'] = dataset['subject'].apply(lambda x: 'covid-19' if x =='coronavirus' else x)\n",
        "dataset['object'] = dataset['object'].apply(lambda x: 'covid-19' if x =='coronavirus' else x)"
      ],
      "execution_count": null,
      "outputs": []
    },
    {
      "cell_type": "code",
      "metadata": {
        "colab": {
          "base_uri": "https://localhost:8080/"
        },
        "id": "ne21mIAeO-Kh",
        "outputId": "e3531eec-cb3e-4a45-db56-bea0abe03a05"
      },
      "source": [
        "print('Total triples in the KG:', dataset.shape)"
      ],
      "execution_count": null,
      "outputs": [
        {
          "output_type": "stream",
          "text": [
            "Total triples in the KG: (13137, 3)\n"
          ],
          "name": "stdout"
        }
      ]
    },
    {
      "cell_type": "code",
      "metadata": {
        "id": "9WxrnxjodccM",
        "colab": {
          "base_uri": "https://localhost:8080/"
        },
        "outputId": "79229e26-d04a-4091-b328-7cef4f516818"
      },
      "source": [
        "print('the number of relations: \\n', dataset['new_relation'].value_counts())"
      ],
      "execution_count": null,
      "outputs": [
        {
          "output_type": "stream",
          "text": [
            "the number of relations: \n",
            " disease_disease    5924\n",
            "gene_gene          2814\n",
            "species_species    1954\n",
            "species_disease     759\n",
            "gene_disease        728\n",
            "drug_drug           605\n",
            "species_gene        315\n",
            "gene_drug            38\n",
            "Name: new_relation, dtype: int64\n"
          ],
          "name": "stdout"
        }
      ]
    },
    {
      "cell_type": "markdown",
      "metadata": {
        "id": "fLlcSqIBPEAQ"
      },
      "source": [
        "## 2.2 Create training, validation and test splits"
      ]
    },
    {
      "cell_type": "code",
      "metadata": {
        "colab": {
          "base_uri": "https://localhost:8080/"
        },
        "id": "qaZipgBpPGop",
        "outputId": "0a432868-b93b-498e-82a6-96aa7835fff9"
      },
      "source": [
        "from ampligraph.evaluation import train_test_split_no_unseen\n",
        "# get the validation set of size 500\n",
        "test_train, X_valid = train_test_split_no_unseen(dataset.values, 500, seed=0)\n",
        "\n",
        "# get the test set of size 1000 from the remaining triples\n",
        "X_train, X_test = train_test_split_no_unseen(test_train, 1000, seed=0)\n",
        "\n",
        "print('Total triples:', dataset.shape)\n",
        "print('Size of train:', X_train.shape)\n",
        "print('Size of valid:', X_valid.shape)\n",
        "print('Size of test:', X_test.shape)"
      ],
      "execution_count": null,
      "outputs": [
        {
          "output_type": "stream",
          "text": [
            "Total triples: (13137, 3)\n",
            "Size of train: (11637, 3)\n",
            "Size of valid: (500, 3)\n",
            "Size of test: (1000, 3)\n"
          ],
          "name": "stdout"
        }
      ]
    },
    {
      "cell_type": "markdown",
      "metadata": {
        "id": "fzsmWo0zPMR6"
      },
      "source": [
        "# 3. Model Training"
      ]
    },
    {
      "cell_type": "code",
      "metadata": {
        "colab": {
          "base_uri": "https://localhost:8080/"
        },
        "id": "p9POL-1mPOsJ",
        "outputId": "c5140d65-cb43-4ed8-b4f4-cf716d6ff89b"
      },
      "source": [
        "from ampligraph.latent_features import TransE\n",
        "\n",
        "# Train a KGE model\n",
        "model = TransE(k=300, \n",
        "               epochs=100, \n",
        "               eta=1, \n",
        "               loss='multiclass_nll', \n",
        "               initializer='xavier', initializer_params={'uniform': False},\n",
        "               regularizer='LP', regularizer_params= {'lambda': 0.001, 'p': 3},\n",
        "               optimizer= 'adam', optimizer_params= {'lr': 0.0001}, \n",
        "               seed= 0, batches_count= 10, verbose=True)\n",
        "\n",
        "model.fit(X_train)\n",
        "# ----------------------\n",
        "# Evaluate: \n",
        "# Filtered evaluation with ranking strategy assigning worst rank to break ties\n",
        "\n",
        "from ampligraph.utils import save_model, restore_model\n",
        "save_model(model, 'TransE.pkl')\n",
        "model = restore_model('TransE.pkl')\n",
        "\n",
        "# create the filter \n",
        "X_filter = np.concatenate([X_train, X_valid, X_test], 0)\n",
        "\n",
        "# compute ranks\n",
        "ranks = evaluate_performance(X_test, \n",
        "                             model=model, \n",
        "                             filter_triples=X_filter)\n",
        "\n",
        "# ranks are computed per triple\n",
        "print('Test set:', X_test.shape)\n",
        "print('Size of ranks:', ranks.shape)\n",
        "\n",
        "# Aggregate metrics show the aggregate performance of the model on the test set using a single number\n",
        "display_aggregate_metrics(ranks)\n",
        "# ----------------------"
      ],
      "execution_count": null,
      "outputs": [
        {
          "output_type": "stream",
          "text": [
            "Average TransE Loss:   0.061970: 100%|██████████| 100/100 [00:03<00:00, 28.01epoch/s]\n",
            "100%|██████████| 1000/1000 [00:03<00:00, 332.88it/s]\n"
          ],
          "name": "stderr"
        },
        {
          "output_type": "stream",
          "text": [
            "Test set: (1000, 3)\n",
            "Size of ranks: (1000, 2)\n",
            "Mean Rank: 263.0615\n",
            "Mean Reciprocal Rank: 0.18231403467250384\n",
            "Hits@1: 0.116\n",
            "Hits@10: 0.327\n",
            "Hits@100: 0.6075\n"
          ],
          "name": "stdout"
        }
      ]
    },
    {
      "cell_type": "markdown",
      "metadata": {
        "id": "sYMsDmRuQLem"
      },
      "source": [
        "# 4. Knowledge Discovery"
      ]
    },
    {
      "cell_type": "markdown",
      "metadata": {
        "id": "Xd_bvL6dkkj6"
      },
      "source": [
        "### Relations"
      ]
    },
    {
      "cell_type": "code",
      "metadata": {
        "id": "_xWtlPK3fstK"
      },
      "source": [
        "# Relations\n",
        "'''\n",
        "disease_disease                    87479\n",
        "gene_gene                          25101\n",
        "disease_species                    21152\n",
        "gene_disease                       17414\n",
        "disease_gene                       17383\n",
        "treat_procedure_disease            15221\n",
        "disease_treat_procedure            14696\n",
        "treat_procedure_treat_procedure    13533\n",
        "treat_procedure_gene                8913\n",
        "gene_treat_procedure                8913\n",
        "treat_procedure_species             5307\n",
        "gene_species                        3894\n",
        "disease_symptom                     2501\n",
        "symptom_disease                     1409\n",
        "treat_procedure_symptom              391\n",
        "gene_symptom                         310\n",
        "symptom_species                      253\n",
        "symptom_treat_procedure              211\n",
        "symptom_gene                         170\n",
        "symptom_symptom                      141\n",
        "'''"
      ],
      "execution_count": null,
      "outputs": []
    },
    {
      "cell_type": "markdown",
      "metadata": {
        "id": "oGu6b-HnQRS3"
      },
      "source": [
        "##  Question - Answering\n",
        "\n",
        "``` \n",
        "    <head, relation, ?> \n",
        "    <head, ?,        tail>\n",
        "    <?,    relation, tail>\n",
        "```"
      ]
    },
    {
      "cell_type": "markdown",
      "metadata": {
        "id": "zq_rwrt5jTVJ"
      },
      "source": [
        "### Query: what are the possible therapeutic procedure of covid-19?? (not supported"
      ]
    },
    {
      "cell_type": "markdown",
      "metadata": {
        "id": "M7ZUKoeVjuGN"
      },
      "source": [
        "### Query: What are related diseases of Covid-19"
      ]
    },
    {
      "cell_type": "code",
      "metadata": {
        "colab": {
          "base_uri": "https://localhost:8080/"
        },
        "id": "TSZ8QHf6QdgP",
        "outputId": "43e024bb-2612-46aa-d08c-7b10c6e605bd"
      },
      "source": [
        "triples, scores = query_topn(model, top_n=15, \n",
        "                             head='covid-19', \n",
        "                             relation='disease_disease', \n",
        "                             tail= None, \n",
        "                             ents_to_consider=None, \n",
        "                             rels_to_consider=None)\n",
        "\n",
        "for triple, score in zip(triples, scores):\n",
        "    print('Score: {} \\t {} '.format(score, triple))"
      ],
      "execution_count": null,
      "outputs": [
        {
          "output_type": "stream",
          "text": [
            "Score: -13.649116516113281 \t ['covid-19' 'disease_disease' 'major'] \n",
            "Score: -13.85350227355957 \t ['covid-19' 'disease_disease' 'contagious'] \n",
            "Score: -13.855691909790039 \t ['covid-19' 'disease_disease' 'respiratory distress syndrome'] \n",
            "Score: -14.060480117797852 \t ['covid-19' 'disease_disease' 'critical'] \n",
            "Score: -14.180242538452148 \t ['covid-19' 'disease_disease' 'emerging'] \n",
            "Score: -14.296860694885254 \t ['covid-19' 'disease_disease'\n",
            " 'severe acute respiratory syndrome coronavirus 2'] \n",
            "Score: -14.348396301269531 \t ['covid-19' 'disease_disease' 'cold'] \n",
            "Score: -14.434900283813477 \t ['covid-19' 'disease_disease' 'blood'] \n",
            "Score: -14.478034019470215 \t ['covid-19' 'disease_disease' 'distress syndrome'] \n",
            "Score: -14.654759407043457 \t ['covid-19' 'disease_disease' 'lung injury'] \n",
            "Score: -14.72463607788086 \t ['covid-19' 'disease_disease' 'shock'] \n",
            "Score: -14.751083374023438 \t ['covid-19' 'disease_disease' 'transmissible'] \n",
            "Score: -14.76009750366211 \t ['covid-19' 'disease_disease' 'autoimmunity'] \n",
            "Score: -14.782541275024414 \t ['covid-19' 'disease_disease' 'deficiency'] \n",
            "Score: -14.812238693237305 \t ['covid-19' 'disease_disease' 'respiratory tract infection'] \n"
          ],
          "name": "stdout"
        }
      ]
    },
    {
      "cell_type": "code",
      "metadata": {
        "id": "Fo9TXKFbkRRT",
        "colab": {
          "base_uri": "https://localhost:8080/"
        },
        "outputId": "2a62c7ba-5c79-43f9-b237-5bbfd8aea5e7"
      },
      "source": [
        "# Predict relation\n",
        "\n",
        "triples, scores = query_topn(model, top_n=15, \n",
        "                             head=None, \n",
        "                             relation='disease_disease', \n",
        "                             tail= 'covid-19', \n",
        "                             ents_to_consider=None, \n",
        "                             rels_to_consider=None)\n",
        "\n",
        "for triple, score in zip(triples, scores):\n",
        "    print('Score: {} \\t {} '.format(score, triple))"
      ],
      "execution_count": null,
      "outputs": [
        {
          "output_type": "stream",
          "text": [
            "Score: -16.97625732421875 \t ['palivizumab' 'disease_disease' 'covid-19'] \n",
            "Score: -17.022220611572266 \t ['parainfluenza virus' 'disease_disease' 'covid-19'] \n",
            "Score: -17.377275466918945 \t ['sars' 'disease_disease' 'covid-19'] \n",
            "Score: -17.41254425048828 \t ['fowl typhoid' 'disease_disease' 'covid-19'] \n",
            "Score: -17.469900131225586 \t ['world health organization' 'disease_disease' 'covid-19'] \n",
            "Score: -17.508962631225586 \t ['covid-19' 'disease_disease' 'covid-19'] \n",
            "Score: -17.531511306762695 \t ['mhv-2' 'disease_disease' 'covid-19'] \n",
            "Score: -17.576393127441406 \t ['model' 'disease_disease' 'covid-19'] \n",
            "Score: -17.576770782470703 \t ['age' 'disease_disease' 'covid-19'] \n",
            "Score: -17.673561096191406 \t ['syk' 'disease_disease' 'covid-19'] \n",
            "Score: -17.684120178222656 \t ['using' 'disease_disease' 'covid-19'] \n",
            "Score: -17.710796356201172 \t ['route' 'disease_disease' 'covid-19'] \n",
            "Score: -17.713205337524414 \t ['birnavirus' 'disease_disease' 'covid-19'] \n",
            "Score: -17.722515106201172 \t ['pathogen' 'disease_disease' 'covid-19'] \n",
            "Score: -17.751266479492188 \t ['adenovirus' 'disease_disease' 'covid-19'] \n"
          ],
          "name": "stdout"
        }
      ]
    },
    {
      "cell_type": "markdown",
      "metadata": {
        "id": "1tXmffPBkw7Y"
      },
      "source": [
        "### Query: What are the genes/proteins related to Covid-19"
      ]
    },
    {
      "cell_type": "code",
      "metadata": {
        "id": "RZU9pJBXEvIG"
      },
      "source": [
        "# Not supported\n",
        "# triples, scores = query_topn(model, top_n=25, \n",
        "#                              head='covid-19', \n",
        "#                              relation='disease_gene', \n",
        "#                              tail=None, \n",
        "#                              ents_to_consider=None, \n",
        "#                              rels_to_consider=None)\n",
        "\n",
        "# for triple, score in zip(triples, scores):\n",
        "#     print('Score: {} \\t {} '.format(score, triple))"
      ],
      "execution_count": null,
      "outputs": []
    },
    {
      "cell_type": "code",
      "metadata": {
        "colab": {
          "base_uri": "https://localhost:8080/"
        },
        "id": "8Z7SxVTfIyCP",
        "outputId": "cff64c6b-582e-4ce5-9da3-fe5affb320d8"
      },
      "source": [
        "# Predict relation\n",
        "\n",
        "triples, scores = query_topn(model, top_n=30, \n",
        "                             head= None, \n",
        "                             relation='gene_disease', \n",
        "                             tail='covid-19', \n",
        "                             ents_to_consider=None, \n",
        "                             rels_to_consider=None)\n",
        "\n",
        "for triple, score in zip(triples, scores):\n",
        "    print('Score: {} \\t {} '.format(score, triple))"
      ],
      "execution_count": null,
      "outputs": [
        {
          "output_type": "stream",
          "text": [
            "Score: -15.425344467163086 \t ['pcr' 'gene_disease' 'covid-19'] \n",
            "Score: -15.43449592590332 \t ['covid-19' 'gene_disease' 'covid-19'] \n",
            "Score: -15.639074325561523 \t ['gp5' 'gene_disease' 'covid-19'] \n",
            "Score: -15.814078330993652 \t ['apobec3g' 'gene_disease' 'covid-19'] \n",
            "Score: -15.967984199523926 \t ['ccl3' 'gene_disease' 'covid-19'] \n",
            "Score: -16.112394332885742 \t ['sv40' 'gene_disease' 'covid-19'] \n",
            "Score: -16.16383934020996 \t ['influenza' 'gene_disease' 'covid-19'] \n",
            "Score: -16.17230987548828 \t ['seasonal influenza' 'gene_disease' 'covid-19'] \n",
            "Score: -16.204219818115234 \t ['necrosis' 'gene_disease' 'covid-19'] \n",
            "Score: -16.228910446166992 \t ['mif' 'gene_disease' 'covid-19'] \n",
            "Score: -16.266868591308594 \t ['camel' 'gene_disease' 'covid-19'] \n",
            "Score: -16.316211700439453 \t ['pyvs' 'gene_disease' 'covid-19'] \n",
            "Score: -16.334028244018555 \t ['triangle' 'gene_disease' 'covid-19'] \n",
            "Score: -16.365985870361328 \t ['vzv' 'gene_disease' 'covid-19'] \n",
            "Score: -16.38062286376953 \t ['disulfiram' 'gene_disease' 'covid-19'] \n",
            "Score: -16.4150390625 \t ['inflammatory disease' 'gene_disease' 'covid-19'] \n",
            "Score: -16.42579460144043 \t ['urt' 'gene_disease' 'covid-19'] \n",
            "Score: -16.455657958984375 \t ['ride' 'gene_disease' 'covid-19'] \n",
            "Score: -16.475780487060547 \t ['compound' 'gene_disease' 'covid-19'] \n",
            "Score: -16.4769344329834 \t ['influenza virus' 'gene_disease' 'covid-19'] \n",
            "Score: -16.49408721923828 \t ['maldi-tof m technology' 'gene_disease' 'covid-19'] \n",
            "Score: -16.50439453125 \t ['limited data' 'gene_disease' 'covid-19'] \n",
            "Score: -16.51226806640625 \t ['cat' 'gene_disease' 'covid-19'] \n",
            "Score: -16.513856887817383 \t ['influenza ha' 'gene_disease' 'covid-19'] \n",
            "Score: -16.54119873046875 \t ['lethal mutagenesis' 'gene_disease' 'covid-19'] \n",
            "Score: -16.542312622070312 \t ['e64c' 'gene_disease' 'covid-19'] \n",
            "Score: -16.553770065307617 \t ['bat' 'gene_disease' 'covid-19'] \n",
            "Score: -16.55644989013672 \t ['jhm.sd n' 'gene_disease' 'covid-19'] \n",
            "Score: -16.55910301208496 \t ['ifitm protein' 'gene_disease' 'covid-19'] \n",
            "Score: -16.56317138671875 \t ['immunocompromised' 'gene_disease' 'covid-19'] \n"
          ],
          "name": "stdout"
        }
      ]
    },
    {
      "cell_type": "markdown",
      "metadata": {
        "id": "6cuiw9D6ND6J"
      },
      "source": [
        "### Query: What species transmit the covid-19"
      ]
    },
    {
      "cell_type": "code",
      "metadata": {
        "id": "C5JyaTDrFMmG"
      },
      "source": [
        "# Not supported\n",
        "# triples, scores = query_topn(model, top_n=20, \n",
        "#                              tail=None, \n",
        "#                              relation='disease_species', \n",
        "#                              head='covid-19', \n",
        "#                              ents_to_consider=None, \n",
        "#                              rels_to_consider=None)\n",
        "\n",
        "# for triple, score in zip(triples, scores):\n",
        "#     print('Score: {} \\t {} '.format(score, triple))"
      ],
      "execution_count": null,
      "outputs": []
    },
    {
      "cell_type": "code",
      "metadata": {
        "id": "AoXR-EfJ_aUG",
        "colab": {
          "base_uri": "https://localhost:8080/"
        },
        "outputId": "c191fd72-c62c-4673-87cb-5fce3a659f69"
      },
      "source": [
        "# Predict relation\n",
        "triples, scores = query_topn(model, top_n=30, \n",
        "                             relation='species_disease', \n",
        "                             head=None, \n",
        "                             tail='covid-19',\n",
        "                             ents_to_consider=None, \n",
        "                             rels_to_consider=None)\n",
        "\n",
        "for triple, score in zip(triples, scores):\n",
        "    print('Score: {} \\t {} '.format(score, triple))"
      ],
      "execution_count": null,
      "outputs": [
        {
          "output_type": "stream",
          "text": [
            "Score: -12.61575698852539 \t ['zbcov' 'species_disease' 'covid-19'] \n",
            "Score: -12.619173049926758 \t ['tgev' 'species_disease' 'covid-19'] \n",
            "Score: -13.056673049926758 \t ['peritonitis' 'species_disease' 'covid-19'] \n",
            "Score: -13.075456619262695 \t ['recognition' 'species_disease' 'covid-19'] \n",
            "Score: -13.133610725402832 \t ['advance' 'species_disease' 'covid-19'] \n",
            "Score: -13.256117820739746 \t ['nsp8 protein' 'species_disease' 'covid-19'] \n",
            "Score: -13.354997634887695 \t ['rt-pcr/esi-ms' 'species_disease' 'covid-19'] \n",
            "Score: -13.385965347290039 \t ['nendou' 'species_disease' 'covid-19'] \n",
            "Score: -13.399580001831055 \t ['peplomers' 'species_disease' 'covid-19'] \n",
            "Score: -13.437256813049316 \t ['specimen' 'species_disease' 'covid-19'] \n",
            "Score: -13.584897994995117 \t ['smith' 'species_disease' 'covid-19'] \n",
            "Score: -13.590124130249023 \t ['rna virus' 'species_disease' 'covid-19'] \n",
            "Score: -13.628859519958496 \t ['fifo orf' 'species_disease' 'covid-19'] \n",
            "Score: -13.648971557617188 \t ['replicase polyproteins' 'species_disease' 'covid-19'] \n",
            "Score: -13.663671493530273 \t ['covs' 'species_disease' 'covid-19'] \n",
            "Score: -13.664783477783203 \t ['csf' 'species_disease' 'covid-19'] \n",
            "Score: -13.665047645568848 \t ['pathogen' 'species_disease' 'covid-19'] \n",
            "Score: -13.6917724609375 \t ['isg20' 'species_disease' 'covid-19'] \n",
            "Score: -13.768360137939453 \t ['canada' 'species_disease' 'covid-19'] \n",
            "Score: -13.778487205505371 \t ['sirnas' 'species_disease' 'covid-19'] \n",
            "Score: -13.812051773071289 \t ['mers-cov' 'species_disease' 'covid-19'] \n",
            "Score: -13.840709686279297 \t ['andrewes' 'species_disease' 'covid-19'] \n",
            "Score: -13.876554489135742 \t ['model' 'species_disease' 'covid-19'] \n",
            "Score: -13.882993698120117 \t ['hemorrhagic fever' 'species_disease' 'covid-19'] \n",
            "Score: -13.920198440551758 \t ['sars-covs' 'species_disease' 'covid-19'] \n",
            "Score: -13.922525405883789 \t ['rdrp' 'species_disease' 'covid-19'] \n",
            "Score: -13.932305335998535 \t ['participant' 'species_disease' 'covid-19'] \n",
            "Score: -14.027237892150879 \t ['severe acute respiratory syndrome' 'species_disease' 'covid-19'] \n",
            "Score: -14.038226127624512 \t ['h5n1 virus' 'species_disease' 'covid-19'] \n",
            "Score: -14.03881549835205 \t ['interferon' 'species_disease' 'covid-19'] \n"
          ],
          "name": "stdout"
        }
      ]
    },
    {
      "cell_type": "markdown",
      "metadata": {
        "id": "ZEt3e55_NwvA"
      },
      "source": [
        "### Query: what are symptoms of the covid-19"
      ]
    },
    {
      "cell_type": "code",
      "metadata": {
        "id": "z-Y3oDDaGeLZ"
      },
      "source": [
        "## ==> Not supported\n",
        "# triples, scores = query_topn(model, top_n=20, \n",
        "#                              head=None, \n",
        "#                              relation='symptom_disease', \n",
        "#                              tail='coronavirus', \n",
        "#                              ents_to_consider=None, \n",
        "#                              rels_to_consider=None)\n",
        "\n",
        "# for triple, score in zip(triples, scores):\n",
        "#     print('Score: {} \\t {} '.format(score, triple))"
      ],
      "execution_count": null,
      "outputs": []
    },
    {
      "cell_type": "code",
      "metadata": {
        "id": "EMoR_zzIOnLJ"
      },
      "source": [
        "# triples, scores = query_topn(model, top_n=20, \n",
        "#                              tail=None, \n",
        "#                              relation='disease_symptom', \n",
        "#                              head='coronavirus', \n",
        "#                              ents_to_consider=None, \n",
        "#                              rels_to_consider=None)\n",
        "\n",
        "# for triple, score in zip(triples, scores):\n",
        "#     print('Score: {} \\t {} '.format(score, triple))"
      ],
      "execution_count": null,
      "outputs": []
    },
    {
      "cell_type": "markdown",
      "metadata": {
        "id": "c_5_qdnFwurx"
      },
      "source": [
        "### Query: Potential Drug"
      ]
    },
    {
      "cell_type": "code",
      "metadata": {
        "id": "W-wl5yQgLRat"
      },
      "source": [
        "#`drug_disease`is not supported\n",
        "# triples, scores = query_topn(model, top_n=20, \n",
        "#                              head=None, \n",
        "#                              relation='drug_disease', \n",
        "#                              tail='covid-19', \n",
        "#                              ents_to_consider=None, \n",
        "#                              rels_to_consider=None)\n",
        "\n",
        "# for triple, score in zip(triples, scores):\n",
        "#     print('Score: {} \\t {} '.format(score, triple))"
      ],
      "execution_count": null,
      "outputs": []
    },
    {
      "cell_type": "code",
      "metadata": {
        "id": "iAfmpFvZ0Sza"
      },
      "source": [
        "#`disease_drug` is not support\n",
        "# triples, scores = query_topn(model, top_n=20, \n",
        "#                              tail=None, \n",
        "#                              relation='disease_drug', \n",
        "#                              head='covid-19', \n",
        "#                              ents_to_consider=None, \n",
        "#                              rels_to_consider=None)\n",
        "\n",
        "# for triple, score in zip(triples, scores):\n",
        "#     print('Score: {} \\t {} '.format(score, triple))"
      ],
      "execution_count": null,
      "outputs": []
    }
  ]
}