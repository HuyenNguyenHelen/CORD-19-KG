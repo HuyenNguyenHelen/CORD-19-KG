{
  "nbformat": 4,
  "nbformat_minor": 0,
  "metadata": {
    "colab": {
      "name": "covid-19-kg-mining.ipynb",
      "provenance": [],
      "collapsed_sections": [],
      "toc_visible": true,
      "include_colab_link": true
    },
    "kernelspec": {
      "name": "python3",
      "display_name": "Python 3"
    },
    "language_info": {
      "name": "python"
    },
    "accelerator": "GPU"
  },
  "cells": [
    {
      "cell_type": "markdown",
      "metadata": {
        "id": "view-in-github",
        "colab_type": "text"
      },
      "source": [
        "<a href=\"https://colab.research.google.com/github/HuyenNguyenHelen/CORD-19-KG/blob/master/covid_19_kg_mining.ipynb\" target=\"_parent\"><img src=\"https://colab.research.google.com/assets/colab-badge.svg\" alt=\"Open In Colab\"/></a>"
      ]
    },
    {
      "cell_type": "markdown",
      "metadata": {
        "id": "xUFXMJVdOltr"
      },
      "source": [
        "# 1. Preliminaries"
      ]
    },
    {
      "cell_type": "code",
      "metadata": {
        "id": "P7TZVvkzNwDF",
        "colab": {
          "base_uri": "https://localhost:8080/"
        },
        "outputId": "885a1ab5-f6d3-4ba5-a0e0-5ae727043101"
      },
      "source": [
        "# If using Google Colab run this cell \n",
        "\n",
        "# select tensorflow version for colab \n",
        "%tensorflow_version 1.x"
      ],
      "execution_count": null,
      "outputs": [
        {
          "output_type": "stream",
          "text": [
            "TensorFlow 1.x selected.\n"
          ],
          "name": "stdout"
        }
      ]
    },
    {
      "cell_type": "code",
      "metadata": {
        "colab": {
          "base_uri": "https://localhost:8080/"
        },
        "id": "h22uybHCOUyq",
        "outputId": "7d1973c0-b526-4c51-899d-95e587b5636d"
      },
      "source": [
        "import tensorflow as tf \n",
        "\n",
        "print('TensorFlow  version: {}'.format(tf.__version__))\n",
        "\n",
        "# Get the GPU name\n",
        "device_name = tf.test.gpu_device_name()\n",
        "if device_name != '/device:GPU:0':\n",
        "  raise SystemError('GPU device not found')\n",
        "print('Found GPU at: {}'.format(device_name))"
      ],
      "execution_count": null,
      "outputs": [
        {
          "output_type": "stream",
          "text": [
            "TensorFlow  version: 1.15.2\n",
            "Found GPU at: /device:GPU:0\n"
          ],
          "name": "stdout"
        }
      ]
    },
    {
      "cell_type": "code",
      "metadata": {
        "id": "MgZPAPapOaLA"
      },
      "source": [
        "%%capture \n",
        "# Install AmpliGraph library\n",
        "! pip install ampligraph\n",
        "\n",
        "# Required to visualize embeddings with tensorboard projector, comment out if not required!\n",
        "! pip install --user tensorboard\n",
        "\n",
        "# Required to plot text on embedding clusters, comment out if not required!\n",
        "! pip install --user git+https://github.com/Phlya/adjustText"
      ],
      "execution_count": null,
      "outputs": []
    },
    {
      "cell_type": "code",
      "metadata": {
        "colab": {
          "base_uri": "https://localhost:8080/"
        },
        "id": "9Bzg5vHqOfch",
        "outputId": "f01809fa-7e6a-4631-af24-54646658c1aa"
      },
      "source": [
        "# All imports used in this tutorial \n",
        "%tensorflow_version 1.x\n",
        "import ampligraph\n",
        "import numpy as np\n",
        "import pandas as pd\n",
        "import tensorflow as tf\n",
        "from ampligraph.datasets import load_fb15k_237\n",
        "from ampligraph.evaluation import train_test_split_no_unseen, evaluate_performance, mr_score, mrr_score, hits_at_n_score\n",
        "from ampligraph.discovery import query_topn, discover_facts, find_clusters\n",
        "from ampligraph.latent_features import TransE, ComplEx, HolE, DistMult, ConvE, ConvKB\n",
        "from ampligraph.utils import save_model, restore_model\n",
        "\n",
        "def display_aggregate_metrics(ranks):\n",
        "    print('Mean Rank:', mr_score(ranks)) \n",
        "    print('Mean Reciprocal Rank:', mrr_score(ranks)) \n",
        "    print('Hits@1:', hits_at_n_score(ranks, 1))\n",
        "    print('Hits@10:', hits_at_n_score(ranks, 10))\n",
        "    print('Hits@100:', hits_at_n_score(ranks, 100))\n",
        "\n",
        "print('Ampligraph version: {}'.format(ampligraph.__version__))"
      ],
      "execution_count": null,
      "outputs": [
        {
          "output_type": "stream",
          "text": [
            "Ampligraph version: 1.4.0\n"
          ],
          "name": "stdout"
        }
      ]
    },
    {
      "cell_type": "markdown",
      "metadata": {
        "id": "aBb8eVx6Osxx"
      },
      "source": [
        "# 2. Loading a Knowledge Graph dataset"
      ]
    },
    {
      "cell_type": "code",
      "metadata": {
        "id": "k96fp70dOyyS"
      },
      "source": [
        "from ampligraph.datasets import load_fb15k_237, load_wn18rr, load_yago3_10"
      ],
      "execution_count": null,
      "outputs": []
    },
    {
      "cell_type": "code",
      "metadata": {
        "colab": {
          "base_uri": "https://localhost:8080/",
          "height": 222
        },
        "id": "G6V6F6nWO6cQ",
        "outputId": "c86300f1-79bd-4a9d-99c5-3814f8d3c23e"
      },
      "source": [
        "import pandas as pd\n",
        "pmc = pd.read_csv('/content/new_triples_with_predefined_relations_pmc_June10_.csv')\n",
        "pdf = pd.read_csv('/content/new_triples_with_predefined_relations_pdf_June10_.csv')\n",
        "dataset = pd.concat([pmc, pdf])\n",
        "print(dataset.columns)\n",
        "dataset.drop(columns='Unnamed: 0', inplace=True)\n",
        "#dataset.columns = ['subject',  'object', 'predicate',]\n",
        "dataset = dataset[['subject','new_relation', 'object' ]]\n",
        "dataset.head(5)"
      ],
      "execution_count": null,
      "outputs": [
        {
          "output_type": "stream",
          "text": [
            "Index(['Unnamed: 0', 'Unnamed: 0.1', 'subject', 'object', 'new_relation'], dtype='object')\n"
          ],
          "name": "stdout"
        },
        {
          "output_type": "execute_result",
          "data": {
            "text/html": [
              "<div>\n",
              "<style scoped>\n",
              "    .dataframe tbody tr th:only-of-type {\n",
              "        vertical-align: middle;\n",
              "    }\n",
              "\n",
              "    .dataframe tbody tr th {\n",
              "        vertical-align: top;\n",
              "    }\n",
              "\n",
              "    .dataframe thead th {\n",
              "        text-align: right;\n",
              "    }\n",
              "</style>\n",
              "<table border=\"1\" class=\"dataframe\">\n",
              "  <thead>\n",
              "    <tr style=\"text-align: right;\">\n",
              "      <th></th>\n",
              "      <th>subject</th>\n",
              "      <th>new_relation</th>\n",
              "      <th>object</th>\n",
              "    </tr>\n",
              "  </thead>\n",
              "  <tbody>\n",
              "    <tr>\n",
              "      <th>0</th>\n",
              "      <td>rsv</td>\n",
              "      <td>disease_disease</td>\n",
              "      <td>virus</td>\n",
              "    </tr>\n",
              "    <tr>\n",
              "      <th>1</th>\n",
              "      <td>urgency</td>\n",
              "      <td>disease_disease</td>\n",
              "      <td>virus</td>\n",
              "    </tr>\n",
              "    <tr>\n",
              "      <th>2</th>\n",
              "      <td>urgency</td>\n",
              "      <td>disease_disease</td>\n",
              "      <td>virus</td>\n",
              "    </tr>\n",
              "    <tr>\n",
              "      <th>3</th>\n",
              "      <td>virus</td>\n",
              "      <td>disease_disease</td>\n",
              "      <td>virus</td>\n",
              "    </tr>\n",
              "    <tr>\n",
              "      <th>4</th>\n",
              "      <td>step</td>\n",
              "      <td>gene_gene</td>\n",
              "      <td>endosomes</td>\n",
              "    </tr>\n",
              "  </tbody>\n",
              "</table>\n",
              "</div>"
            ],
            "text/plain": [
              "   subject     new_relation     object\n",
              "0      rsv  disease_disease      virus\n",
              "1  urgency  disease_disease      virus\n",
              "2  urgency  disease_disease      virus\n",
              "3    virus  disease_disease      virus\n",
              "4     step        gene_gene  endosomes"
            ]
          },
          "metadata": {
            "tags": []
          },
          "execution_count": 7
        }
      ]
    },
    {
      "cell_type": "code",
      "metadata": {
        "colab": {
          "base_uri": "https://localhost:8080/"
        },
        "id": "ne21mIAeO-Kh",
        "outputId": "db32aa29-ad3d-4876-8841-c2e8e5a6e843"
      },
      "source": [
        "print('Total triples in the KG:', dataset.shape)"
      ],
      "execution_count": null,
      "outputs": [
        {
          "output_type": "stream",
          "text": [
            "Total triples in the KG: (175728, 3)\n"
          ],
          "name": "stdout"
        }
      ]
    },
    {
      "cell_type": "code",
      "metadata": {
        "id": "9WxrnxjodccM",
        "colab": {
          "base_uri": "https://localhost:8080/"
        },
        "outputId": "7d679fb2-0425-4a42-f6c2-1c48501f809b"
      },
      "source": [
        "print('the number of relations: \\n', dataset['new_relation'].value_counts())"
      ],
      "execution_count": null,
      "outputs": [
        {
          "output_type": "stream",
          "text": [
            "the number of relations: \n",
            " disease_disease            87479\n",
            "gene_gene                  25101\n",
            "gene_disease               17414\n",
            "disease_gene               17383\n",
            "disease_treat_procedure    14696\n",
            "gene_treat_procedure        8913\n",
            "disease_symptom             2501\n",
            "symptom_disease             1409\n",
            "gene_symptom                 310\n",
            "symptom_treat_procedure      211\n",
            "symptom_gene                 170\n",
            "symptom_symptom              141\n",
            "Name: new_relation, dtype: int64\n"
          ],
          "name": "stdout"
        }
      ]
    },
    {
      "cell_type": "markdown",
      "metadata": {
        "id": "fLlcSqIBPEAQ"
      },
      "source": [
        "## 2.1 Create training, validation and test splits"
      ]
    },
    {
      "cell_type": "code",
      "metadata": {
        "colab": {
          "base_uri": "https://localhost:8080/"
        },
        "id": "qaZipgBpPGop",
        "outputId": "83c7871c-c00b-4546-bb63-ec03efadf8d9"
      },
      "source": [
        "from ampligraph.evaluation import train_test_split_no_unseen\n",
        "# get the validation set of size 500\n",
        "test_train, X_valid = train_test_split_no_unseen(dataset.values, 500, seed=0)\n",
        "\n",
        "# get the test set of size 1000 from the remaining triples\n",
        "X_train, X_test = train_test_split_no_unseen(test_train, 1000, seed=0)\n",
        "\n",
        "print('Total triples:', dataset.shape)\n",
        "print('Size of train:', X_train.shape)\n",
        "print('Size of valid:', X_valid.shape)\n",
        "print('Size of test:', X_test.shape)"
      ],
      "execution_count": null,
      "outputs": [
        {
          "output_type": "stream",
          "text": [
            "Total triples: (175728, 3)\n",
            "Size of train: (174228, 3)\n",
            "Size of valid: (500, 3)\n",
            "Size of test: (1000, 3)\n"
          ],
          "name": "stdout"
        }
      ]
    },
    {
      "cell_type": "markdown",
      "metadata": {
        "id": "fzsmWo0zPMR6"
      },
      "source": [
        "# 3. Model Training"
      ]
    },
    {
      "cell_type": "code",
      "metadata": {
        "colab": {
          "base_uri": "https://localhost:8080/"
        },
        "id": "p9POL-1mPOsJ",
        "outputId": "d993f995-549a-4a3a-dd73-b296ef7fd6e9"
      },
      "source": [
        "from ampligraph.latent_features import TransE\n",
        "\n",
        "# Train a KGE model\n",
        "model = TransE(k=300, \n",
        "               epochs=100, \n",
        "               eta=1, \n",
        "               loss='multiclass_nll', \n",
        "               initializer='xavier', initializer_params={'uniform': False},\n",
        "               regularizer='LP', regularizer_params= {'lambda': 0.001, 'p': 3},\n",
        "               optimizer= 'adam', optimizer_params= {'lr': 0.0001}, \n",
        "               seed= 0, batches_count= 10, verbose=True)\n",
        "\n",
        "model.fit(X_train)\n",
        "# ----------------------\n",
        "# Evaluate: \n",
        "# Filtered evaluation with ranking strategy assigning worst rank to break ties\n",
        "\n",
        "from ampligraph.utils import save_model, restore_model\n",
        "save_model(model, 'TransE.pkl')\n",
        "model = restore_model('TransE.pkl')\n",
        "\n",
        "# create the filter \n",
        "X_filter = np.concatenate([X_train, X_valid, X_test], 0)\n",
        "\n",
        "# compute ranks\n",
        "ranks = evaluate_performance(X_test, \n",
        "                             model=model, \n",
        "                             filter_triples=X_filter)\n",
        "\n",
        "# ranks are computed per triple\n",
        "print('Test set:', X_test.shape)\n",
        "print('Size of ranks:', ranks.shape)\n",
        "\n",
        "# Aggregate metrics show the aggregate performance of the model on the test set using a single number\n",
        "display_aggregate_metrics(ranks)\n",
        "# ----------------------"
      ],
      "execution_count": null,
      "outputs": [
        {
          "output_type": "stream",
          "text": [
            "Average TransE Loss:   0.086463: 100%|██████████| 100/100 [00:10<00:00,  9.97epoch/s]\n",
            "100%|██████████| 1000/1000 [00:05<00:00, 173.27it/s]\n"
          ],
          "name": "stderr"
        },
        {
          "output_type": "stream",
          "text": [
            "Test set: (1000, 3)\n",
            "Size of ranks: (1000, 2)\n",
            "Mean Rank: 270.848\n",
            "Mean Reciprocal Rank: 0.15688141687115245\n",
            "Hits@1: 0.0845\n",
            "Hits@10: 0.29\n",
            "Hits@100: 0.639\n"
          ],
          "name": "stdout"
        }
      ]
    },
    {
      "cell_type": "markdown",
      "metadata": {
        "id": "sYMsDmRuQLem"
      },
      "source": [
        "# 4. Knowledge Discovery"
      ]
    },
    {
      "cell_type": "markdown",
      "metadata": {
        "id": "Xd_bvL6dkkj6"
      },
      "source": [
        "### Relations"
      ]
    },
    {
      "cell_type": "code",
      "metadata": {
        "id": "_xWtlPK3fstK"
      },
      "source": [
        "# Relations\n",
        "'''\n",
        "disease_disease            87479\n",
        "gene_gene                  25101\n",
        "gene_disease               17414\n",
        "disease_gene               17383\n",
        "disease_treat_procedure    14696\n",
        "gene_treat_procedure        8913\n",
        "disease_symptom             2501\n",
        "symptom_disease             1409\n",
        "gene_symptom                 310\n",
        "symptom_treat_procedure      211\n",
        "symptom_gene                 170\n",
        "symptom_symptom              141\n",
        "Name: new_relation, dtype: int64\n",
        "'''"
      ],
      "execution_count": null,
      "outputs": []
    },
    {
      "cell_type": "markdown",
      "metadata": {
        "id": "oGu6b-HnQRS3"
      },
      "source": [
        "##  Question - Answering\n",
        "\n",
        "``` \n",
        "    <head, relation, ?> \n",
        "    <head, ?,        tail>\n",
        "    <?,    relation, tail>\n",
        "```"
      ]
    },
    {
      "cell_type": "markdown",
      "metadata": {
        "id": "zq_rwrt5jTVJ"
      },
      "source": [
        "### Query: what are the possible therapeutic procedure of covid-19??"
      ]
    },
    {
      "cell_type": "code",
      "metadata": {
        "colab": {
          "base_uri": "https://localhost:8080/"
        },
        "id": "j_cm34I_QNH3",
        "outputId": "e3e08947-6335-455a-8bde-790809859ad1"
      },
      "source": [
        "# Query: what are the possible therapeutic procedure of covid-19??\n",
        "\n",
        "from ampligraph.discovery import query_topn\n",
        "\n",
        "# restore the previously saved model to save time\n",
        "model = restore_model('TransE.pkl')\n",
        "\n",
        "triples, scores = query_topn(model, top_n=20, \n",
        "                             head='covid-19', \n",
        "                             relation='disease_treat_procedure', \n",
        "                             tail=None, \n",
        "                             ents_to_consider=None, \n",
        "                             rels_to_consider=None)\n",
        "\n",
        "for triple, score in zip(triples, scores):\n",
        "    print('Score: {} \\t {} '.format(score, triple))"
      ],
      "execution_count": null,
      "outputs": [
        {
          "output_type": "stream",
          "text": [
            "Score: -12.528743743896484 \t ['covid-19' 'disease_treat_procedure' 'inoculation'] \n",
            "Score: -12.528912544250488 \t ['covid-19' 'disease_treat_procedure' 'infiltration'] \n",
            "Score: -12.54183578491211 \t ['covid-19' 'disease_treat_procedure' 'presence'] \n",
            "Score: -12.562738418579102 \t ['covid-19' 'disease_treat_procedure' 'vaccination'] \n",
            "Score: -12.579742431640625 \t ['covid-19' 'disease_treat_procedure' 'detected'] \n",
            "Score: -12.590995788574219 \t ['covid-19' 'disease_treat_procedure' 'treatment'] \n",
            "Score: -12.625072479248047 \t ['covid-19' 'disease_treat_procedure' 'extracted'] \n",
            "Score: -12.647272109985352 \t ['covid-19' 'disease_treat_procedure' '5'] \n",
            "Score: -12.651243209838867 \t ['covid-19' 'disease_treat_procedure' 'mechanical ventilation'] \n",
            "Score: -12.663618087768555 \t ['covid-19' 'disease_treat_procedure' 'surgery'] \n",
            "Score: -12.679913520812988 \t ['covid-19' 'disease_treat_procedure' 'therapy'] \n",
            "Score: -12.689506530761719 \t ['covid-19' 'disease_treat_procedure' '2'] \n",
            "Score: -12.692441940307617 \t ['covid-19' 'disease_treat_procedure' 'destruction'] \n",
            "Score: -12.696867942810059 \t ['covid-19' 'disease_treat_procedure' 'isolation'] \n",
            "Score: -12.698793411254883 \t ['covid-19' 'disease_treat_procedure' 'reduction'] \n",
            "Score: -12.775643348693848 \t ['covid-19' 'disease_treat_procedure' '3'] \n",
            "Score: -12.82453441619873 \t ['covid-19' 'disease_treat_procedure' '35'] \n",
            "Score: -12.835095405578613 \t ['covid-19' 'disease_treat_procedure' 'detection'] \n",
            "Score: -12.860384941101074 \t ['covid-19' 'disease_treat_procedure' '6'] \n",
            "Score: -12.98269271850586 \t ['covid-19' 'disease_treat_procedure' 'elevation'] \n"
          ],
          "name": "stdout"
        }
      ]
    },
    {
      "cell_type": "code",
      "metadata": {
        "id": "njTpcGh0jBnU",
        "colab": {
          "base_uri": "https://localhost:8080/"
        },
        "outputId": "55d2695b-0bac-4e55-eb67-4671c082f517"
      },
      "source": [
        "# Query: what are the possible therapeutic procedure of covid-19??\n",
        "\n",
        "from ampligraph.discovery import query_topn\n",
        "\n",
        "# restore the previously saved model to save time\n",
        "model = restore_model('TransE.pkl')\n",
        "\n",
        "triples, scores = query_topn(model, top_n=20, \n",
        "                             head=None, \n",
        "                             relation='disease_treat_procedure', \n",
        "                             tail='covid-19', \n",
        "                             ents_to_consider=None, \n",
        "                             rels_to_consider=None)\n",
        "\n",
        "for triple, score in zip(triples, scores):\n",
        "    print('Score: {} \\t {} '.format(score, triple))"
      ],
      "execution_count": null,
      "outputs": [
        {
          "output_type": "stream",
          "text": [
            "Score: -14.198332786560059 \t ['rna' 'disease_treat_procedure' 'covid-19'] \n",
            "Score: -14.571569442749023 \t ['y' 'disease_treat_procedure' 'covid-19'] \n",
            "Score: -14.58637809753418 \t ['infection' 'disease_treat_procedure' 'covid-19'] \n",
            "Score: -14.610550880432129 \t ['vaccine' 'disease_treat_procedure' 'covid-19'] \n",
            "Score: -14.61115550994873 \t ['virus' 'disease_treat_procedure' 'covid-19'] \n",
            "Score: -14.833165168762207 \t ['r' 'disease_treat_procedure' 'covid-19'] \n",
            "Score: -14.864860534667969 \t ['respiratory virus' 'disease_treat_procedure' 'covid-19'] \n",
            "Score: -14.87765884399414 \t ['influenza virus' 'disease_treat_procedure' 'covid-19'] \n",
            "Score: -14.911301612854004 \t ['viral infection' 'disease_treat_procedure' 'covid-19'] \n",
            "Score: -14.933761596679688 \t ['type' 'disease_treat_procedure' 'covid-19'] \n",
            "Score: -14.93657112121582 \t ['hrv' 'disease_treat_procedure' 'covid-19'] \n",
            "Score: -14.961681365966797 \t ['covid pandemic' 'disease_treat_procedure' 'covid-19'] \n",
            "Score: -14.96232795715332 \t ['s' 'disease_treat_procedure' 'covid-19'] \n",
            "Score: -14.986213684082031 \t ['osteonecrosis' 'disease_treat_procedure' 'covid-19'] \n",
            "Score: -15.021865844726562 \t ['rsv' 'disease_treat_procedure' 'covid-19'] \n",
            "Score: -15.023807525634766 \t ['bronchiolitis obliterans' 'disease_treat_procedure' 'covid-19'] \n",
            "Score: -15.028730392456055 \t ['viral' 'disease_treat_procedure' 'covid-19'] \n",
            "Score: -15.037109375 \t ['condition' 'disease_treat_procedure' 'covid-19'] \n",
            "Score: -15.040205001831055 \t ['sars cov infection' 'disease_treat_procedure' 'covid-19'] \n",
            "Score: -15.042097091674805 \t ['inflammation' 'disease_treat_procedure' 'covid-19'] \n"
          ],
          "name": "stdout"
        }
      ]
    },
    {
      "cell_type": "markdown",
      "metadata": {
        "id": "M7ZUKoeVjuGN"
      },
      "source": [
        "### Query: What are related diseases of Covid-19"
      ]
    },
    {
      "cell_type": "code",
      "metadata": {
        "colab": {
          "base_uri": "https://localhost:8080/"
        },
        "id": "TSZ8QHf6QdgP",
        "outputId": "052ac474-1cae-41a3-9c42-991fd94a11d4"
      },
      "source": [
        "# Predict relation\n",
        "\n",
        "triples, scores = query_topn(model, top_n=20, \n",
        "                             head='covid-19', \n",
        "                             relation='disease_disease', \n",
        "                             tail= None, \n",
        "                             ents_to_consider=None, \n",
        "                             rels_to_consider=None)\n",
        "\n",
        "for triple, score in zip(triples, scores):\n",
        "    print('Score: {} \\t {} '.format(score, triple))"
      ],
      "execution_count": null,
      "outputs": [
        {
          "output_type": "stream",
          "text": [
            "Score: -13.92523193359375 \t ['covid-19' 'disease_disease' 'covid-19'] \n",
            "Score: -15.167387008666992 \t ['covid-19' 'disease_disease' 'infectious'] \n",
            "Score: -15.199078559875488 \t ['covid-19' 'disease_disease' '2009'] \n",
            "Score: -15.316337585449219 \t ['covid-19' 'disease_disease' 'severe'] \n",
            "Score: -15.414501190185547 \t ['covid-19' 'disease_disease' 'contagious'] \n",
            "Score: -15.552555084228516 \t ['covid-19' 'disease_disease' 'major'] \n",
            "Score: -15.597020149230957 \t ['covid-19' 'disease_disease' 'high'] \n",
            "Score: -15.612503051757812 \t ['covid-19' 'disease_disease' 'fatal'] \n",
            "Score: -15.613870620727539 \t ['covid-19' 'disease_disease' 'transmissible'] \n",
            "Score: -15.625604629516602 \t ['covid-19' 'disease_disease' 'acute respiratory syndrome coronavirus 2'] \n",
            "Score: -15.714166641235352 \t ['covid-19' 'disease_disease' 'respiratory'] \n",
            "Score: -15.72925853729248 \t ['covid-19' 'disease_disease' 'chronic'] \n",
            "Score: -15.75595474243164 \t ['covid-19' 'disease_disease' 'lower'] \n",
            "Score: -15.871280670166016 \t ['covid-19' 'disease_disease' 'childhood'] \n",
            "Score: -15.90311050415039 \t ['covid-19' 'disease_disease' 'emerging'] \n",
            "Score: -15.911666870117188 \t ['covid-19' 'disease_disease' 'organ failure'] \n",
            "Score: -15.930696487426758 \t ['covid-19' 'disease_disease' 'human health'] \n",
            "Score: -15.93366813659668 \t ['covid-19' 'disease_disease' 'shortness of breath'] \n",
            "Score: -16.0274658203125 \t ['covid-19' 'disease_disease' 'multiple organ failure'] \n",
            "Score: -16.068187713623047 \t ['covid-19' 'disease_disease' 'multi-organ failure'] \n"
          ],
          "name": "stdout"
        }
      ]
    },
    {
      "cell_type": "code",
      "metadata": {
        "id": "Fo9TXKFbkRRT",
        "colab": {
          "base_uri": "https://localhost:8080/"
        },
        "outputId": "8e0e83bc-a209-4075-dc91-fe80c75f592a"
      },
      "source": [
        "# Predict relation\n",
        "\n",
        "triples, scores = query_topn(model, top_n=20, \n",
        "                             head=None, \n",
        "                             relation='disease_disease', \n",
        "                             tail= 'covid-19', \n",
        "                             ents_to_consider=None, \n",
        "                             rels_to_consider=None)\n",
        "\n",
        "for triple, score in zip(triples, scores):\n",
        "    print('Score: {} \\t {} '.format(score, triple))"
      ],
      "execution_count": null,
      "outputs": [
        {
          "output_type": "stream",
          "text": [
            "Score: -13.92523193359375 \t ['covid-19' 'disease_disease' 'covid-19'] \n",
            "Score: -15.9541015625 \t ['he' 'disease_disease' 'covid-19'] \n",
            "Score: -16.78826904296875 \t ['blepharitis' 'disease_disease' 'covid-19'] \n",
            "Score: -16.802663803100586 \t ['covid' 'disease_disease' 'covid-19'] \n",
            "Score: -16.832122802734375 \t ['pneumoniae' 'disease_disease' 'covid-19'] \n",
            "Score: -16.835886001586914 \t ['alzheimer' 'disease_disease' 'covid-19'] \n",
            "Score: -16.861398696899414 \t ['tuberculosis' 'disease_disease' 'covid-19'] \n",
            "Score: -16.86189079284668 \t ['sars cov infection' 'disease_disease' 'covid-19'] \n",
            "Score: -16.866025924682617 \t ['fungal infection' 'disease_disease' 'covid-19'] \n",
            "Score: -16.890899658203125 \t ['ped' 'disease_disease' 'covid-19'] \n",
            "Score: -16.903242111206055 \t ['coronaviruses' 'disease_disease' 'covid-19'] \n",
            "Score: -16.91048240661621 \t ['coinfection' 'disease_disease' 'covid-19'] \n",
            "Score: -16.92896842956543 \t ['hbov' 'disease_disease' 'covid-19'] \n",
            "Score: -16.942283630371094 \t ['leishmaniasis' 'disease_disease' 'covid-19'] \n",
            "Score: -16.942306518554688 \t ['noroviruses' 'disease_disease' 'covid-19'] \n",
            "Score: -17.01491355895996 \t ['influenza a virus' 'disease_disease' 'covid-19'] \n",
            "Score: -17.023303985595703 \t ['dad' 'disease_disease' 'covid-19'] \n",
            "Score: -17.027862548828125 \t ['hypertension' 'disease_disease' 'covid-19'] \n",
            "Score: -17.028324127197266 \t ['gb' 'disease_disease' 'covid-19'] \n",
            "Score: -17.03522491455078 \t ['hcv' 'disease_disease' 'covid-19'] \n"
          ],
          "name": "stdout"
        }
      ]
    },
    {
      "cell_type": "markdown",
      "metadata": {
        "id": "1tXmffPBkw7Y"
      },
      "source": [
        "### Query: What are the genes/proteins related to Covid-19"
      ]
    },
    {
      "cell_type": "code",
      "metadata": {
        "colab": {
          "base_uri": "https://localhost:8080/"
        },
        "id": "RZU9pJBXEvIG",
        "outputId": "4fad6812-4c84-4fc3-ea3d-63cfdc6bb77e"
      },
      "source": [
        "# Predict relation\n",
        "\n",
        "triples, scores = query_topn(model, top_n=25, \n",
        "                             head='covid-19', \n",
        "                             relation='disease_gene', \n",
        "                             tail=None, \n",
        "                             ents_to_consider=None, \n",
        "                             rels_to_consider=None)\n",
        "\n",
        "for triple, score in zip(triples, scores):\n",
        "    print('Score: {} \\t {} '.format(score, triple))"
      ],
      "execution_count": null,
      "outputs": [
        {
          "output_type": "stream",
          "text": [
            "Score: -13.10327434539795 \t ['covid-19' 'disease_gene' 'rare'] \n",
            "Score: -13.399755477905273 \t ['covid-19' 'disease_gene' 'human'] \n",
            "Score: -13.443669319152832 \t ['covid-19' 'disease_gene' 'hong kong'] \n",
            "Score: -13.675713539123535 \t ['covid-19' 'disease_gene' 'end'] \n",
            "Score: -13.727230072021484 \t ['covid-19' 'disease_gene' 'past'] \n",
            "Score: -13.736001968383789 \t ['covid-19' 'disease_gene' 'impact'] \n",
            "Score: -13.736896514892578 \t ['covid-19' 'disease_gene' 'damage'] \n",
            "Score: -13.835280418395996 \t ['covid-19' 'disease_gene' 'host'] \n",
            "Score: -13.876059532165527 \t ['covid-19' 'disease_gene' 'set'] \n",
            "Score: -13.899578094482422 \t ['covid-19' 'disease_gene' 'cell'] \n",
            "Score: -13.906440734863281 \t ['covid-19' 'disease_gene' 'large'] \n",
            "Score: -13.910594940185547 \t ['covid-19' 'disease_gene' 'ace2 receptor'] \n",
            "Score: -13.949365615844727 \t ['covid-19' 'disease_gene' 'airway'] \n",
            "Score: -13.978567123413086 \t ['covid-19' 'disease_gene' 'spring'] \n",
            "Score: -13.995262145996094 \t ['covid-19' 'disease_gene' 'small'] \n",
            "Score: -14.00810718536377 \t ['covid-19' 'disease_gene' 'lobe'] \n",
            "Score: -14.01536750793457 \t ['covid-19' 'disease_gene' 'genome'] \n",
            "Score: -14.029680252075195 \t ['covid-19' 'disease_gene' 'air'] \n",
            "Score: -14.05029582977295 \t ['covid-19' 'disease_gene' 'body'] \n",
            "Score: -14.076419830322266 \t ['covid-19' 'disease_gene' 'host cell'] \n",
            "Score: -14.081243515014648 \t ['covid-19' 'disease_gene' 'membrane'] \n",
            "Score: -14.10970687866211 \t ['covid-19' 'disease_gene' 'bite'] \n",
            "Score: -14.148877143859863 \t ['covid-19' 'disease_gene' 'receptor'] \n",
            "Score: -14.162208557128906 \t ['covid-19' 'disease_gene' 'mass'] \n",
            "Score: -14.167791366577148 \t ['covid-19' 'disease_gene' 'pattern'] \n"
          ],
          "name": "stdout"
        }
      ]
    },
    {
      "cell_type": "code",
      "metadata": {
        "colab": {
          "base_uri": "https://localhost:8080/"
        },
        "id": "C5JyaTDrFMmG",
        "outputId": "0ae26278-37d0-4f56-f344-5f35c877bf5d"
      },
      "source": [
        "# Predict relation\n",
        "ent_control_list = ['cat', 'human','bat', 'monkey',  'dog' ]\n",
        "triples, scores = query_topn(model, top_n=30, \n",
        "                             head=None, \n",
        "                             relation='transmit', \n",
        "                             tail='covid-19', \n",
        "                             ents_to_consider=ent_control_list, \n",
        "                             rels_to_consider=None)\n",
        "\n",
        "for triple, score in zip(triples, scores):\n",
        "    print('Score: {} \\t {} '.format(score, triple))"
      ],
      "execution_count": null,
      "outputs": [
        {
          "output_type": "stream",
          "text": [
            "WARNING - `ents_to_consider` contains less than top_n values, return set will be truncated.\n",
            "Score: -14.479377746582031 \t ['human' 'transmit' 'covid-19'] \n",
            "Score: -15.203999519348145 \t ['bat' 'transmit' 'covid-19'] \n",
            "Score: -15.406490325927734 \t ['dog' 'transmit' 'covid-19'] \n",
            "Score: -17.068496704101562 \t ['monkey' 'transmit' 'covid-19'] \n",
            "Score: -17.196857452392578 \t ['cat' 'transmit' 'covid-19'] \n"
          ],
          "name": "stdout"
        }
      ]
    },
    {
      "cell_type": "code",
      "metadata": {
        "colab": {
          "base_uri": "https://localhost:8080/"
        },
        "id": "z-Y3oDDaGeLZ",
        "outputId": "74434747-3886-4fc9-81b2-67d5e5a10d04"
      },
      "source": [
        "\n",
        "triples, scores = query_topn(model, top_n=30, \n",
        "                             head=None, \n",
        "                             relation='be_related_with', \n",
        "                             tail='covid-19', \n",
        "                             ents_to_consider=None, \n",
        "                             rels_to_consider=None)\n",
        "\n",
        "for triple, score in zip(triples, scores):\n",
        "    print('Score: {} \\t {} '.format(score, triple))"
      ],
      "execution_count": null,
      "outputs": [
        {
          "output_type": "stream",
          "text": [
            "Score: -16.407957077026367 \t ['covid-19' 'be_related_with' 'covid-19'] \n",
            "Score: -16.447853088378906 \t ['patient' 'be_related_with' 'covid-19'] \n",
            "Score: -16.633697509765625 \t ['virus' 'be_related_with' 'covid-19'] \n",
            "Score: -16.792278289794922 \t ['%' 'be_related_with' 'covid-19'] \n",
            "Score: -16.93667221069336 \t ['symptom' 'be_related_with' 'covid-19'] \n",
            "Score: -16.963205337524414 \t ['inflection' 'be_related_with' 'covid-19'] \n",
            "Score: -17.318044662475586 \t ['data' 'be_related_with' 'covid-19'] \n",
            "Score: -17.333995819091797 \t ['child' 'be_related_with' 'covid-19'] \n",
            "Score: -17.363147735595703 \t ['antibody' 'be_related_with' 'covid-19'] \n",
            "Score: -17.38707733154297 \t ['person' 'be_related_with' 'covid-19'] \n",
            "Score: -17.523738861083984 \t ['coronavirus' 'be_related_with' 'covid-19'] \n",
            "Score: -17.556407928466797 \t ['influenza' 'be_related_with' 'covid-19'] \n",
            "Score: -17.590547561645508 \t ['sars' 'be_related_with' 'covid-19'] \n",
            "Score: -17.609272003173828 \t ['influenza virus' 'be_related_with' 'covid-19'] \n",
            "Score: -17.65839385986328 \t ['adenovirus' 'be_related_with' 'covid-19'] \n",
            "Score: -17.70309829711914 \t ['protein' 'be_related_with' 'covid-19'] \n",
            "Score: -17.71969985961914 \t ['mouse' 'be_related_with' 'covid-19'] \n",
            "Score: -17.80508804321289 \t ['woman' 'be_related_with' 'covid-19'] \n",
            "Score: -17.837684631347656 \t ['sars coronavirus' 'be_related_with' 'covid-19'] \n",
            "Score: -17.895334243774414 \t ['cov' 'be_related_with' 'covid-19'] \n",
            "Score: -17.909191131591797 \t ['qbd' 'be_related_with' 'covid-19'] \n",
            "Score: -17.983421325683594 \t ['pathogen' 'be_related_with' 'covid-19'] \n",
            "Score: -18.00802230834961 \t ['outbreak' 'be_related_with' 'covid-19'] \n",
            "Score: -18.080242156982422 \t ['pdcs' 'be_related_with' 'covid-19'] \n",
            "Score: -18.091571807861328 \t ['participant' 'be_related_with' 'covid-19'] \n",
            "Score: -18.125776290893555 \t ['ra' 'be_related_with' 'covid-19'] \n",
            "Score: -18.169736862182617 \t ['world health organization' 'be_related_with' 'covid-19'] \n",
            "Score: -18.24209213256836 \t ['dog' 'be_related_with' 'covid-19'] \n",
            "Score: -18.252086639404297 \t ['palivizumab' 'be_related_with' 'covid-19'] \n",
            "Score: -18.256393432617188 \t ['rsv' 'be_related_with' 'covid-19'] \n"
          ],
          "name": "stdout"
        }
      ]
    },
    {
      "cell_type": "code",
      "metadata": {
        "colab": {
          "base_uri": "https://localhost:8080/",
          "height": 676
        },
        "id": "qxXS3g4yJT15",
        "outputId": "a4ed074a-c6b8-4153-cf0e-cf15684befc6"
      },
      "source": [
        "# Compare the raw call and graph embedding results for the symptoms query\n",
        "\n",
        "## raw call\n",
        "dataset.loc[(dataset['subject']=='symptom')].head(20)\n",
        "\n",
        "#####==> the result of raw call seems to be better"
      ],
      "execution_count": null,
      "outputs": [
        {
          "output_type": "execute_result",
          "data": {
            "text/html": [
              "<div>\n",
              "<style scoped>\n",
              "    .dataframe tbody tr th:only-of-type {\n",
              "        vertical-align: middle;\n",
              "    }\n",
              "\n",
              "    .dataframe tbody tr th {\n",
              "        vertical-align: top;\n",
              "    }\n",
              "\n",
              "    .dataframe thead th {\n",
              "        text-align: right;\n",
              "    }\n",
              "</style>\n",
              "<table border=\"1\" class=\"dataframe\">\n",
              "  <thead>\n",
              "    <tr style=\"text-align: right;\">\n",
              "      <th></th>\n",
              "      <th>subject</th>\n",
              "      <th>new_relation</th>\n",
              "      <th>object</th>\n",
              "    </tr>\n",
              "  </thead>\n",
              "  <tbody>\n",
              "    <tr>\n",
              "      <th>17</th>\n",
              "      <td>symptom</td>\n",
              "      <td>be_related_with</td>\n",
              "      <td>pulmonary edema</td>\n",
              "    </tr>\n",
              "    <tr>\n",
              "      <th>51</th>\n",
              "      <td>symptom</td>\n",
              "      <td>be_related_with</td>\n",
              "      <td>cough</td>\n",
              "    </tr>\n",
              "    <tr>\n",
              "      <th>53</th>\n",
              "      <td>symptom</td>\n",
              "      <td>be_related_with</td>\n",
              "      <td>nasal congestion</td>\n",
              "    </tr>\n",
              "    <tr>\n",
              "      <th>57</th>\n",
              "      <td>symptom</td>\n",
              "      <td>transmit</td>\n",
              "      <td>sars</td>\n",
              "    </tr>\n",
              "    <tr>\n",
              "      <th>72</th>\n",
              "      <td>symptom</td>\n",
              "      <td>be_related_with</td>\n",
              "      <td>headache</td>\n",
              "    </tr>\n",
              "    <tr>\n",
              "      <th>75</th>\n",
              "      <td>symptom</td>\n",
              "      <td>be_related_with</td>\n",
              "      <td>acute respiratory distress syndrome</td>\n",
              "    </tr>\n",
              "    <tr>\n",
              "      <th>108</th>\n",
              "      <td>symptom</td>\n",
              "      <td>be_related_with</td>\n",
              "      <td>influenza-like illness</td>\n",
              "    </tr>\n",
              "    <tr>\n",
              "      <th>158</th>\n",
              "      <td>symptom</td>\n",
              "      <td>be_related_with</td>\n",
              "      <td>sore throat</td>\n",
              "    </tr>\n",
              "    <tr>\n",
              "      <th>168</th>\n",
              "      <td>symptom</td>\n",
              "      <td>be_related_with</td>\n",
              "      <td>respiratory symptom</td>\n",
              "    </tr>\n",
              "    <tr>\n",
              "      <th>188</th>\n",
              "      <td>symptom</td>\n",
              "      <td>be_related_with</td>\n",
              "      <td>congestion</td>\n",
              "    </tr>\n",
              "    <tr>\n",
              "      <th>195</th>\n",
              "      <td>symptom</td>\n",
              "      <td>be_related_with</td>\n",
              "      <td>edema</td>\n",
              "    </tr>\n",
              "    <tr>\n",
              "      <th>220</th>\n",
              "      <td>symptom</td>\n",
              "      <td>be_related_with</td>\n",
              "      <td>infection</td>\n",
              "    </tr>\n",
              "    <tr>\n",
              "      <th>264</th>\n",
              "      <td>symptom</td>\n",
              "      <td>be_related_with</td>\n",
              "      <td>fever</td>\n",
              "    </tr>\n",
              "    <tr>\n",
              "      <th>272</th>\n",
              "      <td>symptom</td>\n",
              "      <td>be_related_with</td>\n",
              "      <td>cough</td>\n",
              "    </tr>\n",
              "    <tr>\n",
              "      <th>334</th>\n",
              "      <td>symptom</td>\n",
              "      <td>be_related_with</td>\n",
              "      <td>pandemic</td>\n",
              "    </tr>\n",
              "    <tr>\n",
              "      <th>353</th>\n",
              "      <td>symptom</td>\n",
              "      <td>be_related_with</td>\n",
              "      <td>depression</td>\n",
              "    </tr>\n",
              "    <tr>\n",
              "      <th>415</th>\n",
              "      <td>symptom</td>\n",
              "      <td>be_related_with</td>\n",
              "      <td>dyspnea</td>\n",
              "    </tr>\n",
              "    <tr>\n",
              "      <th>442</th>\n",
              "      <td>symptom</td>\n",
              "      <td>be_related_with</td>\n",
              "      <td>respiratory symptom</td>\n",
              "    </tr>\n",
              "    <tr>\n",
              "      <th>449</th>\n",
              "      <td>symptom</td>\n",
              "      <td>be_related_with</td>\n",
              "      <td>pulmonary edema</td>\n",
              "    </tr>\n",
              "    <tr>\n",
              "      <th>466</th>\n",
              "      <td>symptom</td>\n",
              "      <td>be_related_with</td>\n",
              "      <td>hypoxia</td>\n",
              "    </tr>\n",
              "  </tbody>\n",
              "</table>\n",
              "</div>"
            ],
            "text/plain": [
              "     subject     new_relation                               object\n",
              "17   symptom  be_related_with                      pulmonary edema\n",
              "51   symptom  be_related_with                                cough\n",
              "53   symptom  be_related_with                     nasal congestion\n",
              "57   symptom         transmit                                 sars\n",
              "72   symptom  be_related_with                             headache\n",
              "75   symptom  be_related_with  acute respiratory distress syndrome\n",
              "108  symptom  be_related_with               influenza-like illness\n",
              "158  symptom  be_related_with                          sore throat\n",
              "168  symptom  be_related_with                  respiratory symptom\n",
              "188  symptom  be_related_with                           congestion\n",
              "195  symptom  be_related_with                                edema\n",
              "220  symptom  be_related_with                            infection\n",
              "264  symptom  be_related_with                                fever\n",
              "272  symptom  be_related_with                                cough\n",
              "334  symptom  be_related_with                             pandemic\n",
              "353  symptom  be_related_with                           depression\n",
              "415  symptom  be_related_with                              dyspnea\n",
              "442  symptom  be_related_with                  respiratory symptom\n",
              "449  symptom  be_related_with                      pulmonary edema\n",
              "466  symptom  be_related_with                              hypoxia"
            ]
          },
          "metadata": {
            "tags": []
          },
          "execution_count": 55
        }
      ]
    },
    {
      "cell_type": "code",
      "metadata": {
        "id": "mpVrcKflG2gK"
      },
      "source": [
        "##graph embedding\n",
        "triples, scores = query_topn(model, top_n=20, \n",
        "                             head='symptoms', \n",
        "                             relation='be_related_with', \n",
        "                             tail=None, \n",
        "                             ents_to_consider=None, \n",
        "                             rels_to_consider=None)\n",
        "\n",
        "for triple, score in zip(triples, scores):\n",
        "    print('Score: {} \\t {} '.format(score, triple))"
      ],
      "execution_count": null,
      "outputs": []
    },
    {
      "cell_type": "code",
      "metadata": {
        "id": "W-wl5yQgLRat"
      },
      "source": [
        ""
      ],
      "execution_count": null,
      "outputs": []
    }
  ]
}