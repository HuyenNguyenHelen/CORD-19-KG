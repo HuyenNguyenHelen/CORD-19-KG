{
  "nbformat": 4,
  "nbformat_minor": 0,
  "metadata": {
    "colab": {
      "name": "covid-19-kg-mining.ipynb",
      "provenance": [],
      "collapsed_sections": [],
      "toc_visible": true
    },
    "kernelspec": {
      "name": "python3",
      "display_name": "Python 3"
    },
    "language_info": {
      "name": "python"
    },
    "accelerator": "GPU"
  },
  "cells": [
    {
      "cell_type": "markdown",
      "metadata": {
        "id": "xUFXMJVdOltr"
      },
      "source": [
        "# 1. Preliminaries"
      ]
    },
    {
      "cell_type": "code",
      "metadata": {
        "id": "P7TZVvkzNwDF",
        "colab": {
          "base_uri": "https://localhost:8080/"
        },
        "outputId": "9d58eed3-a105-4979-ad5e-1a7771ccd91f"
      },
      "source": [
        "# If using Google Colab run this cell \n",
        "\n",
        "# select tensorflow version for colab \n",
        "%tensorflow_version 1.x"
      ],
      "execution_count": 1,
      "outputs": [
        {
          "output_type": "stream",
          "text": [
            "TensorFlow 1.x selected.\n"
          ],
          "name": "stdout"
        }
      ]
    },
    {
      "cell_type": "code",
      "metadata": {
        "colab": {
          "base_uri": "https://localhost:8080/"
        },
        "id": "h22uybHCOUyq",
        "outputId": "508f310a-3976-46de-8899-a60309788db2"
      },
      "source": [
        "import tensorflow as tf \n",
        "\n",
        "print('TensorFlow  version: {}'.format(tf.__version__))\n",
        "\n",
        "# Get the GPU name\n",
        "device_name = tf.test.gpu_device_name()\n",
        "if device_name != '/device:GPU:0':\n",
        "  raise SystemError('GPU device not found')\n",
        "print('Found GPU at: {}'.format(device_name))"
      ],
      "execution_count": 2,
      "outputs": [
        {
          "output_type": "stream",
          "text": [
            "TensorFlow  version: 1.15.2\n",
            "Found GPU at: /device:GPU:0\n"
          ],
          "name": "stdout"
        }
      ]
    },
    {
      "cell_type": "code",
      "metadata": {
        "id": "MgZPAPapOaLA"
      },
      "source": [
        "%%capture \n",
        "# Install AmpliGraph library\n",
        "! pip install ampligraph\n",
        "\n",
        "# Required to visualize embeddings with tensorboard projector, comment out if not required!\n",
        "! pip install --user tensorboard\n",
        "\n",
        "# Required to plot text on embedding clusters, comment out if not required!\n",
        "! pip install --user git+https://github.com/Phlya/adjustText"
      ],
      "execution_count": 3,
      "outputs": []
    },
    {
      "cell_type": "code",
      "metadata": {
        "colab": {
          "base_uri": "https://localhost:8080/"
        },
        "id": "9Bzg5vHqOfch",
        "outputId": "ffdcd313-e6c3-4afe-f92e-d60858d8336c"
      },
      "source": [
        "# All imports used in this tutorial \n",
        "%tensorflow_version 1.x\n",
        "import ampligraph\n",
        "import numpy as np\n",
        "import pandas as pd\n",
        "import tensorflow as tf\n",
        "from ampligraph.datasets import load_fb15k_237\n",
        "from ampligraph.evaluation import train_test_split_no_unseen, evaluate_performance, mr_score, mrr_score, hits_at_n_score\n",
        "from ampligraph.discovery import query_topn, discover_facts, find_clusters\n",
        "from ampligraph.latent_features import TransE, ComplEx, HolE, DistMult, ConvE, ConvKB\n",
        "from ampligraph.utils import save_model, restore_model\n",
        "\n",
        "def display_aggregate_metrics(ranks):\n",
        "    print('Mean Rank:', mr_score(ranks)) \n",
        "    print('Mean Reciprocal Rank:', mrr_score(ranks)) \n",
        "    print('Hits@1:', hits_at_n_score(ranks, 1))\n",
        "    print('Hits@10:', hits_at_n_score(ranks, 10))\n",
        "    print('Hits@100:', hits_at_n_score(ranks, 100))\n",
        "\n",
        "print('Ampligraph version: {}'.format(ampligraph.__version__))"
      ],
      "execution_count": 4,
      "outputs": [
        {
          "output_type": "stream",
          "text": [
            "Ampligraph version: 1.3.2\n"
          ],
          "name": "stdout"
        }
      ]
    },
    {
      "cell_type": "markdown",
      "metadata": {
        "id": "aBb8eVx6Osxx"
      },
      "source": [
        "# 2. Loading a Knowledge Graph dataset"
      ]
    },
    {
      "cell_type": "code",
      "metadata": {
        "id": "k96fp70dOyyS"
      },
      "source": [
        "from ampligraph.datasets import load_fb15k_237, load_wn18rr, load_yago3_10"
      ],
      "execution_count": 5,
      "outputs": []
    },
    {
      "cell_type": "code",
      "metadata": {
        "colab": {
          "base_uri": "https://localhost:8080/",
          "height": 219
        },
        "id": "G6V6F6nWO6cQ",
        "outputId": "9f018f7f-4175-40ce-b0e7-6ec44ce26514"
      },
      "source": [
        "import pandas as pd\n",
        "\n",
        "dataset = pd.read_csv('/content/final_triples_with_predefined_relations.csv')\n",
        "print(dataset.columns)\n",
        "dataset.drop(columns='Unnamed: 0', inplace=True)\n",
        "#dataset.columns = ['subject',  'object', 'predicate',]\n",
        "dataset = dataset[['subject','new_relation', 'object' ]]\n",
        "dataset.head(5)"
      ],
      "execution_count": 6,
      "outputs": [
        {
          "output_type": "stream",
          "text": [
            "Index(['Unnamed: 0', 'subject', 'object', 'new_relation'], dtype='object')\n"
          ],
          "name": "stdout"
        },
        {
          "output_type": "execute_result",
          "data": {
            "text/html": [
              "<div>\n",
              "<style scoped>\n",
              "    .dataframe tbody tr th:only-of-type {\n",
              "        vertical-align: middle;\n",
              "    }\n",
              "\n",
              "    .dataframe tbody tr th {\n",
              "        vertical-align: top;\n",
              "    }\n",
              "\n",
              "    .dataframe thead th {\n",
              "        text-align: right;\n",
              "    }\n",
              "</style>\n",
              "<table border=\"1\" class=\"dataframe\">\n",
              "  <thead>\n",
              "    <tr style=\"text-align: right;\">\n",
              "      <th></th>\n",
              "      <th>subject</th>\n",
              "      <th>new_relation</th>\n",
              "      <th>object</th>\n",
              "    </tr>\n",
              "  </thead>\n",
              "  <tbody>\n",
              "    <tr>\n",
              "      <th>0</th>\n",
              "      <td>aerosols</td>\n",
              "      <td>be_in</td>\n",
              "      <td>guinea pig</td>\n",
              "    </tr>\n",
              "    <tr>\n",
              "      <th>1</th>\n",
              "      <td>UK</td>\n",
              "      <td>transmit</td>\n",
              "      <td>influenza</td>\n",
              "    </tr>\n",
              "    <tr>\n",
              "      <th>2</th>\n",
              "      <td>MPs</td>\n",
              "      <td>be_related_with</td>\n",
              "      <td>SARS-CoV infection</td>\n",
              "    </tr>\n",
              "    <tr>\n",
              "      <th>3</th>\n",
              "      <td>Obesity</td>\n",
              "      <td>be_in</td>\n",
              "      <td>China</td>\n",
              "    </tr>\n",
              "    <tr>\n",
              "      <th>4</th>\n",
              "      <td>%</td>\n",
              "      <td>be_related_with</td>\n",
              "      <td>EBV</td>\n",
              "    </tr>\n",
              "  </tbody>\n",
              "</table>\n",
              "</div>"
            ],
            "text/plain": [
              "    subject     new_relation              object\n",
              "0  aerosols            be_in          guinea pig\n",
              "1        UK         transmit           influenza\n",
              "2       MPs  be_related_with  SARS-CoV infection\n",
              "3   Obesity            be_in               China\n",
              "4         %  be_related_with                 EBV"
            ]
          },
          "metadata": {
            "tags": []
          },
          "execution_count": 6
        }
      ]
    },
    {
      "cell_type": "code",
      "metadata": {
        "colab": {
          "base_uri": "https://localhost:8080/"
        },
        "id": "ne21mIAeO-Kh",
        "outputId": "443ece12-0e8a-48a9-bfc5-51b8c359b639"
      },
      "source": [
        "print('Total triples in the KG:', dataset.shape)"
      ],
      "execution_count": 7,
      "outputs": [
        {
          "output_type": "stream",
          "text": [
            "Total triples in the KG: (11605, 3)\n"
          ],
          "name": "stdout"
        }
      ]
    },
    {
      "cell_type": "markdown",
      "metadata": {
        "id": "fLlcSqIBPEAQ"
      },
      "source": [
        "## 2.1 Create training, validation and test splits"
      ]
    },
    {
      "cell_type": "code",
      "metadata": {
        "colab": {
          "base_uri": "https://localhost:8080/"
        },
        "id": "qaZipgBpPGop",
        "outputId": "54604722-4b64-4781-d3d8-fb30cde0c256"
      },
      "source": [
        "from ampligraph.evaluation import train_test_split_no_unseen\n",
        "# get the validation set of size 500\n",
        "test_train, X_valid = train_test_split_no_unseen(dataset.values, 500, seed=0)\n",
        "\n",
        "# get the test set of size 1000 from the remaining triples\n",
        "X_train, X_test = train_test_split_no_unseen(test_train, 1000, seed=0)\n",
        "\n",
        "print('Total triples:', dataset.shape)\n",
        "print('Size of train:', X_train.shape)\n",
        "print('Size of valid:', X_valid.shape)\n",
        "print('Size of test:', X_test.shape)"
      ],
      "execution_count": 8,
      "outputs": [
        {
          "output_type": "stream",
          "text": [
            "Total triples: (11605, 3)\n",
            "Size of train: (10105, 3)\n",
            "Size of valid: (500, 3)\n",
            "Size of test: (1000, 3)\n"
          ],
          "name": "stdout"
        }
      ]
    },
    {
      "cell_type": "markdown",
      "metadata": {
        "id": "fzsmWo0zPMR6"
      },
      "source": [
        "# 3. Model Training"
      ]
    },
    {
      "cell_type": "code",
      "metadata": {
        "colab": {
          "base_uri": "https://localhost:8080/"
        },
        "id": "p9POL-1mPOsJ",
        "outputId": "ba463445-b2bf-4d56-fd9d-1e0e3b14a8eb"
      },
      "source": [
        "from ampligraph.latent_features import TransE\n",
        "\n",
        "# Train a KGE model\n",
        "model = TransE(k=300, \n",
        "               epochs=100, \n",
        "               eta=1, \n",
        "               loss='multiclass_nll', \n",
        "               initializer='xavier', initializer_params={'uniform': False},\n",
        "               regularizer='LP', regularizer_params= {'lambda': 0.001, 'p': 3},\n",
        "               optimizer= 'adam', optimizer_params= {'lr': 0.0001}, \n",
        "               seed= 0, batches_count= 10, verbose=True)\n",
        "\n",
        "model.fit(X_train)\n",
        "# ----------------------\n",
        "# Evaluate: \n",
        "# Filtered evaluation with ranking strategy assigning worst rank to break ties\n",
        "\n",
        "from ampligraph.utils import save_model, restore_model\n",
        "save_model(model, 'TransE.pkl')\n",
        "model = restore_model('TransE.pkl')\n",
        "\n",
        "# create the filter \n",
        "X_filter = np.concatenate([X_train, X_valid, X_test], 0)\n",
        "\n",
        "# compute ranks\n",
        "ranks = evaluate_performance(X_test, \n",
        "                             model=model, \n",
        "                             filter_triples=X_filter)\n",
        "\n",
        "# ranks are computed per triple\n",
        "print('Test set:', X_test.shape)\n",
        "print('Size of ranks:', ranks.shape)\n",
        "\n",
        "# Aggregate metrics show the aggregate performance of the model on the test set using a single number\n",
        "display_aggregate_metrics(ranks)\n",
        "# ----------------------"
      ],
      "execution_count": 9,
      "outputs": [
        {
          "output_type": "stream",
          "text": [
            "Average Loss:   0.112582: 100%|██████████| 100/100 [00:03<00:00, 29.52epoch/s]\n",
            "100%|██████████| 1000/1000 [00:02<00:00, 333.92it/s]\n"
          ],
          "name": "stderr"
        },
        {
          "output_type": "stream",
          "text": [
            "Test set: (1000, 3)\n",
            "Size of ranks: (1000, 2)\n",
            "Mean Rank: 96.462\n",
            "Mean Reciprocal Rank: 0.2340034681281025\n",
            "Hits@1: 0.153\n",
            "Hits@10: 0.4125\n",
            "Hits@100: 0.802\n"
          ],
          "name": "stdout"
        }
      ]
    },
    {
      "cell_type": "markdown",
      "metadata": {
        "id": "sYMsDmRuQLem"
      },
      "source": [
        "# 4. Knowledge Discovery"
      ]
    },
    {
      "cell_type": "markdown",
      "metadata": {
        "id": "oGu6b-HnQRS3"
      },
      "source": [
        "## 4.1 Triple completion\n",
        "\n",
        "``` \n",
        "    <head, relation, ?> \n",
        "    <head, ?,        tail>\n",
        "    <?,    relation, tail>\n",
        "```"
      ]
    },
    {
      "cell_type": "code",
      "metadata": {
        "colab": {
          "base_uri": "https://localhost:8080/"
        },
        "id": "j_cm34I_QNH3",
        "outputId": "6d7daf41-6e21-4195-c761-9687ded74f37"
      },
      "source": [
        "# Predict tail\n",
        "\n",
        "from ampligraph.discovery import query_topn\n",
        "\n",
        "# restore the previously saved model to save time\n",
        "model = restore_model('TransE.pkl')\n",
        "\n",
        "triples, scores = query_topn(model, top_n=10, \n",
        "                             head='coronavirus', \n",
        "                             relation='be_in', \n",
        "                             tail=None, \n",
        "                             ents_to_consider=None, \n",
        "                             rels_to_consider=None)\n",
        "\n",
        "for triple, score in zip(triples, scores):\n",
        "    print('Score: {} \\t {} '.format(score, triple))"
      ],
      "execution_count": 10,
      "outputs": [
        {
          "output_type": "stream",
          "text": [
            "Score: -15.520257949829102 \t ['coronavirus' 'be_in' 'China'] \n",
            "Score: -15.616787910461426 \t ['coronavirus' 'be_in' 'United States'] \n",
            "Score: -15.692081451416016 \t ['coronavirus' 'be_in' 'India'] \n",
            "Score: -15.784998893737793 \t ['coronavirus' 'be_in' 'Africa'] \n",
            "Score: -15.860442161560059 \t ['coronavirus' 'be_in' 'Malaysia'] \n",
            "Score: -15.952444076538086 \t ['coronavirus' 'be_in' 'USA'] \n",
            "Score: -16.00545883178711 \t ['coronavirus' 'be_in' 'Taiwan'] \n",
            "Score: -16.015079498291016 \t ['coronavirus' 'be_in' 'UK'] \n",
            "Score: -16.031898498535156 \t ['coronavirus' 'be_in' 'Italy'] \n",
            "Score: -16.12082290649414 \t ['coronavirus' 'be_in' 'Beijing'] \n"
          ],
          "name": "stdout"
        }
      ]
    },
    {
      "cell_type": "code",
      "metadata": {
        "colab": {
          "base_uri": "https://localhost:8080/"
        },
        "id": "TSZ8QHf6QdgP",
        "outputId": "84f4c5b3-d9cd-4452-e789-ab5b87cc05df"
      },
      "source": [
        "# Predict relation\n",
        "\n",
        "triples, scores = query_topn(model, top_n=10, \n",
        "                             head=None, \n",
        "                             relation='treat', \n",
        "                             tail='coronavirus', \n",
        "                             ents_to_consider=None, \n",
        "                             rels_to_consider=None)\n",
        "\n",
        "for triple, score in zip(triples, scores):\n",
        "    print('Score: {} \\t {} '.format(score, triple))"
      ],
      "execution_count": 13,
      "outputs": [
        {
          "output_type": "stream",
          "text": [
            "Score: -16.83261489868164 \t ['ILD' 'treat' 'coronavirus'] \n",
            "Score: -17.153030395507812 \t ['Hyperoxia' 'treat' 'coronavirus'] \n",
            "Score: -17.154539108276367 \t ['Viruses' 'treat' 'coronavirus'] \n",
            "Score: -17.17650604248047 \t ['SLC11A1 locus' 'treat' 'coronavirus'] \n",
            "Score: -17.256359100341797 \t ['H' 'treat' 'coronavirus'] \n",
            "Score: -17.33230972290039 \t ['Influenza viruses' 'treat' 'coronavirus'] \n",
            "Score: -17.36236572265625 \t ['gelatinases' 'treat' 'coronavirus'] \n",
            "Score: -17.365161895751953 \t ['silica' 'treat' 'coronavirus'] \n",
            "Score: -17.376819610595703 \t ['Americas' 'treat' 'coronavirus'] \n",
            "Score: -17.393280029296875 \t ['U1' 'treat' 'coronavirus'] \n"
          ],
          "name": "stdout"
        }
      ]
    },
    {
      "cell_type": "code",
      "metadata": {
        "colab": {
          "base_uri": "https://localhost:8080/"
        },
        "id": "RZU9pJBXEvIG",
        "outputId": "76872f29-a5e5-45ba-d73a-350ee2007b96"
      },
      "source": [
        "# Predict relation\n",
        "\n",
        "triples, scores = query_topn(model, top_n=20, \n",
        "                             head=None, \n",
        "                             relation='be_in', \n",
        "                             tail='coronavirus', \n",
        "                             ents_to_consider=None, \n",
        "                             rels_to_consider=None)\n",
        "\n",
        "for triple, score in zip(triples, scores):\n",
        "    print('Score: {} \\t {} '.format(score, triple))"
      ],
      "execution_count": 21,
      "outputs": [
        {
          "output_type": "stream",
          "text": [
            "Score: -17.366352081298828 \t ['coronavirus' 'be_in' 'coronavirus'] \n",
            "Score: -17.57384490966797 \t ['participants' 'be_in' 'coronavirus'] \n",
            "Score: -17.641658782958984 \t ['Centers' 'be_in' 'coronavirus'] \n",
            "Score: -17.719989776611328 \t ['target' 'be_in' 'coronavirus'] \n",
            "Score: -17.84402084350586 \t ['SARS' 'be_in' 'coronavirus'] \n",
            "Score: -17.88368034362793 \t ['burden' 'be_in' 'coronavirus'] \n",
            "Score: -17.911575317382812 \t ['COVID-19' 'be_in' 'coronavirus'] \n",
            "Score: -17.955989837646484 \t ['protein' 'be_in' 'coronavirus'] \n",
            "Score: -17.956199645996094 \t ['lockdown' 'be_in' 'coronavirus'] \n",
            "Score: -17.965545654296875 \t ['Prevalence' 'be_in' 'coronavirus'] \n",
            "Score: -17.98221206665039 \t ['pDCs' 'be_in' 'coronavirus'] \n",
            "Score: -17.99897575378418 \t ['complications' 'be_in' 'coronavirus'] \n",
            "Score: -18.000625610351562 \t ['outbreaks' 'be_in' 'coronavirus'] \n",
            "Score: -18.056129455566406 \t ['Ministry' 'be_in' 'coronavirus'] \n",
            "Score: -18.064979553222656 \t ['A/H1N1' 'be_in' 'coronavirus'] \n",
            "Score: -18.103973388671875 \t ['inflection' 'be_in' 'coronavirus'] \n",
            "Score: -18.122127532958984 \t ['onset' 'be_in' 'coronavirus'] \n",
            "Score: -18.18982696533203 \t ['antigenic shift' 'be_in' 'coronavirus'] \n",
            "Score: -18.195587158203125 \t ['%' 'be_in' 'coronavirus'] \n",
            "Score: -18.217365264892578 \t ['TL1/CL' 'be_in' 'coronavirus'] \n"
          ],
          "name": "stdout"
        }
      ]
    },
    {
      "cell_type": "code",
      "metadata": {
        "colab": {
          "base_uri": "https://localhost:8080/"
        },
        "id": "C5JyaTDrFMmG",
        "outputId": "ee332ba4-e956-4f83-ffb6-1b9ea96c822a"
      },
      "source": [
        "# Predict relation\n",
        "\n",
        "triples, scores = query_topn(model, top_n=30, \n",
        "                             head=None, \n",
        "                             relation='transmit', \n",
        "                             tail='COVID-19', \n",
        "                             ents_to_consider=None, \n",
        "                             rels_to_consider=None)\n",
        "\n",
        "for triple, score in zip(triples, scores):\n",
        "    print('Score: {} \\t {} '.format(score, triple))"
      ],
      "execution_count": 22,
      "outputs": [
        {
          "output_type": "stream",
          "text": [
            "Score: -16.82418441772461 \t ['Infection' 'transmit' 'COVID-19'] \n",
            "Score: -17.130191802978516 \t ['COVID-19' 'transmit' 'COVID-19'] \n",
            "Score: -17.139598846435547 \t ['UDA' 'transmit' 'COVID-19'] \n",
            "Score: -17.200986862182617 \t ['virus' 'transmit' 'COVID-19'] \n",
            "Score: -17.20121955871582 \t ['person' 'transmit' 'COVID-19'] \n",
            "Score: -17.215730667114258 \t ['RT-PCR/ESI-MS' 'transmit' 'COVID-19'] \n",
            "Score: -17.21701431274414 \t ['I' 'transmit' 'COVID-19'] \n",
            "Score: -17.355167388916016 \t ['inflection' 'transmit' 'COVID-19'] \n",
            "Score: -17.417526245117188 \t ['Feline infectious peritonitis' 'transmit' 'COVID-19'] \n",
            "Score: -17.445676803588867 \t ['us' 'transmit' 'COVID-19'] \n",
            "Score: -17.47604751586914 \t ['mouse' 'transmit' 'COVID-19'] \n",
            "Score: -17.522369384765625 \t ['ACE2' 'transmit' 'COVID-19'] \n",
            "Score: -17.549999237060547 \t ['antibody' 'transmit' 'COVID-19'] \n",
            "Score: -17.605812072753906 \t ['Obesity' 'transmit' 'COVID-19'] \n",
            "Score: -17.63262176513672 \t ['cell' 'transmit' 'COVID-19'] \n",
            "Score: -17.687114715576172 \t ['infection' 'transmit' 'COVID-19'] \n",
            "Score: -17.78124237060547 \t ['\\\\' 'transmit' 'COVID-19'] \n",
            "Score: -17.813886642456055 \t ['Goudsmit' 'transmit' 'COVID-19'] \n",
            "Score: -17.822465896606445 \t ['patient' 'transmit' 'COVID-19'] \n",
            "Score: -17.833736419677734 \t ['IFITM proteins' 'transmit' 'COVID-19'] \n",
            "Score: -17.838851928710938 \t ['equine encephalitis virus' 'transmit' 'COVID-19'] \n",
            "Score: -17.867353439331055 \t ['Pneumothorax' 'transmit' 'COVID-19'] \n",
            "Score: -17.86785888671875 \t ['Adaptation' 'transmit' 'COVID-19'] \n",
            "Score: -17.882139205932617 \t ['hamsters' 'transmit' 'COVID-19'] \n",
            "Score: -17.904512405395508 \t ['child' 'transmit' 'COVID-19'] \n",
            "Score: -17.907272338867188 \t ['ATA' 'transmit' 'COVID-19'] \n",
            "Score: -17.936962127685547 \t ['cynomolgus macaques' 'transmit' 'COVID-19'] \n",
            "Score: -17.953996658325195 \t ['infectious peritonitis' 'transmit' 'COVID-19'] \n",
            "Score: -17.984766006469727 \t ['participants' 'transmit' 'COVID-19'] \n",
            "Score: -17.988750457763672 \t ['Severe acute respiratory syndrome' 'transmit' 'COVID-19'] \n"
          ],
          "name": "stdout"
        }
      ]
    },
    {
      "cell_type": "code",
      "metadata": {
        "colab": {
          "base_uri": "https://localhost:8080/"
        },
        "id": "z-Y3oDDaGeLZ",
        "outputId": "346ce799-ca67-41cd-f17a-79b90450adf9"
      },
      "source": [
        "\n",
        "triples, scores = query_topn(model, top_n=30, \n",
        "                             head=None, \n",
        "                             relation='be_related_with', \n",
        "                             tail='COVID-19', \n",
        "                             ents_to_consider=None, \n",
        "                             rels_to_consider=None)\n",
        "\n",
        "for triple, score in zip(triples, scores):\n",
        "    print('Score: {} \\t {} '.format(score, triple))"
      ],
      "execution_count": 23,
      "outputs": [
        {
          "output_type": "stream",
          "text": [
            "Score: -16.16590118408203 \t ['virus' 'be_related_with' 'COVID-19'] \n",
            "Score: -16.233020782470703 \t ['patient' 'be_related_with' 'COVID-19'] \n",
            "Score: -16.431358337402344 \t ['symptoms' 'be_related_with' 'COVID-19'] \n",
            "Score: -16.470134735107422 \t ['mouse' 'be_related_with' 'COVID-19'] \n",
            "Score: -16.526222229003906 \t ['COVID-19' 'be_related_with' 'COVID-19'] \n",
            "Score: -16.60723876953125 \t ['child' 'be_related_with' 'COVID-19'] \n",
            "Score: -16.850372314453125 \t ['person' 'be_related_with' 'COVID-19'] \n",
            "Score: -16.895915985107422 \t ['inflection' 'be_related_with' 'COVID-19'] \n",
            "Score: -16.99717140197754 \t ['%' 'be_related_with' 'COVID-19'] \n",
            "Score: -17.10623550415039 \t ['antibody' 'be_related_with' 'COVID-19'] \n",
            "Score: -17.176666259765625 \t ['woman' 'be_related_with' 'COVID-19'] \n",
            "Score: -17.36921501159668 \t ['Covid-19' 'be_related_with' 'COVID-19'] \n",
            "Score: -17.417644500732422 \t ['pDCs' 'be_related_with' 'COVID-19'] \n",
            "Score: -17.516820907592773 \t ['Infection' 'be_related_with' 'COVID-19'] \n",
            "Score: -17.551189422607422 \t ['dogs' 'be_related_with' 'COVID-19'] \n",
            "Score: -17.560394287109375 \t ['influenza viruses' 'be_related_with' 'COVID-19'] \n",
            "Score: -17.591808319091797 \t ['coronavirus' 'be_related_with' 'COVID-19'] \n",
            "Score: -17.738365173339844 \t ['World Health Organization' 'be_related_with' 'COVID-19'] \n",
            "Score: -17.846542358398438 \t ['pathogen' 'be_related_with' 'COVID-19'] \n",
            "Score: -17.849857330322266 \t ['QBD' 'be_related_with' 'COVID-19'] \n",
            "Score: -17.856842041015625 \t ['SARS' 'be_related_with' 'COVID-19'] \n",
            "Score: -17.883790969848633 \t ['parainfluenza viruses' 'be_related_with' 'COVID-19'] \n",
            "Score: -17.895793914794922 \t ['data' 'be_related_with' 'COVID-19'] \n",
            "Score: -17.909189224243164 \t ['apoptosis' 'be_related_with' 'COVID-19'] \n",
            "Score: -17.916362762451172 \t ['illness' 'be_related_with' 'COVID-19'] \n",
            "Score: -17.921886444091797 \t ['SARS coronavirus' 'be_related_with' 'COVID-19'] \n",
            "Score: -17.926374435424805 \t ['proteins' 'be_related_with' 'COVID-19'] \n",
            "Score: -17.935150146484375 \t ['outbreaks' 'be_related_with' 'COVID-19'] \n",
            "Score: -17.935379028320312 \t ['SARS-CoV-2' 'be_related_with' 'COVID-19'] \n",
            "Score: -17.94803810119629 \t ['CSF' 'be_related_with' 'COVID-19'] \n"
          ],
          "name": "stdout"
        }
      ]
    },
    {
      "cell_type": "code",
      "metadata": {
        "colab": {
          "base_uri": "https://localhost:8080/",
          "height": 662
        },
        "id": "qxXS3g4yJT15",
        "outputId": "32cd52f9-0e52-4cf2-b5a7-03453acb4770"
      },
      "source": [
        "# Compare the raw call and graph embedding results for the symptoms query\n",
        "\n",
        "## raw call\n",
        "dataset.loc[(dataset['subject']=='symptoms')].head(20)\n",
        "\n",
        "#####==> the result of raw call seems to be better"
      ],
      "execution_count": 31,
      "outputs": [
        {
          "output_type": "execute_result",
          "data": {
            "text/html": [
              "<div>\n",
              "<style scoped>\n",
              "    .dataframe tbody tr th:only-of-type {\n",
              "        vertical-align: middle;\n",
              "    }\n",
              "\n",
              "    .dataframe tbody tr th {\n",
              "        vertical-align: top;\n",
              "    }\n",
              "\n",
              "    .dataframe thead th {\n",
              "        text-align: right;\n",
              "    }\n",
              "</style>\n",
              "<table border=\"1\" class=\"dataframe\">\n",
              "  <thead>\n",
              "    <tr style=\"text-align: right;\">\n",
              "      <th></th>\n",
              "      <th>subject</th>\n",
              "      <th>new_relation</th>\n",
              "      <th>object</th>\n",
              "    </tr>\n",
              "  </thead>\n",
              "  <tbody>\n",
              "    <tr>\n",
              "      <th>16</th>\n",
              "      <td>symptoms</td>\n",
              "      <td>be_related_with</td>\n",
              "      <td>pulmonary edema</td>\n",
              "    </tr>\n",
              "    <tr>\n",
              "      <th>47</th>\n",
              "      <td>symptoms</td>\n",
              "      <td>be_related_with</td>\n",
              "      <td>cough</td>\n",
              "    </tr>\n",
              "    <tr>\n",
              "      <th>49</th>\n",
              "      <td>symptoms</td>\n",
              "      <td>be_related_with</td>\n",
              "      <td>nasal congestion</td>\n",
              "    </tr>\n",
              "    <tr>\n",
              "      <th>53</th>\n",
              "      <td>symptoms</td>\n",
              "      <td>transmit</td>\n",
              "      <td>SARS</td>\n",
              "    </tr>\n",
              "    <tr>\n",
              "      <th>65</th>\n",
              "      <td>symptoms</td>\n",
              "      <td>be_related_with</td>\n",
              "      <td>headache</td>\n",
              "    </tr>\n",
              "    <tr>\n",
              "      <th>68</th>\n",
              "      <td>symptoms</td>\n",
              "      <td>be_related_with</td>\n",
              "      <td>acute respiratory distress syndrome</td>\n",
              "    </tr>\n",
              "    <tr>\n",
              "      <th>95</th>\n",
              "      <td>symptoms</td>\n",
              "      <td>be_related_with</td>\n",
              "      <td>influenza-like illness</td>\n",
              "    </tr>\n",
              "    <tr>\n",
              "      <th>139</th>\n",
              "      <td>symptoms</td>\n",
              "      <td>be_related_with</td>\n",
              "      <td>sore throat</td>\n",
              "    </tr>\n",
              "    <tr>\n",
              "      <th>148</th>\n",
              "      <td>symptoms</td>\n",
              "      <td>be_related_with</td>\n",
              "      <td>respiratory symptoms</td>\n",
              "    </tr>\n",
              "    <tr>\n",
              "      <th>164</th>\n",
              "      <td>symptoms</td>\n",
              "      <td>be_related_with</td>\n",
              "      <td>congestion</td>\n",
              "    </tr>\n",
              "    <tr>\n",
              "      <th>171</th>\n",
              "      <td>symptoms</td>\n",
              "      <td>be_related_with</td>\n",
              "      <td>edema</td>\n",
              "    </tr>\n",
              "    <tr>\n",
              "      <th>194</th>\n",
              "      <td>symptoms</td>\n",
              "      <td>be_related_with</td>\n",
              "      <td>infection</td>\n",
              "    </tr>\n",
              "    <tr>\n",
              "      <th>232</th>\n",
              "      <td>symptoms</td>\n",
              "      <td>be_related_with</td>\n",
              "      <td>fever</td>\n",
              "    </tr>\n",
              "    <tr>\n",
              "      <th>237</th>\n",
              "      <td>symptoms</td>\n",
              "      <td>be_related_with</td>\n",
              "      <td>cough</td>\n",
              "    </tr>\n",
              "    <tr>\n",
              "      <th>290</th>\n",
              "      <td>symptoms</td>\n",
              "      <td>be_related_with</td>\n",
              "      <td>pandemic</td>\n",
              "    </tr>\n",
              "    <tr>\n",
              "      <th>307</th>\n",
              "      <td>symptoms</td>\n",
              "      <td>be_related_with</td>\n",
              "      <td>depression</td>\n",
              "    </tr>\n",
              "    <tr>\n",
              "      <th>394</th>\n",
              "      <td>symptoms</td>\n",
              "      <td>be_related_with</td>\n",
              "      <td>respiratory symptoms</td>\n",
              "    </tr>\n",
              "    <tr>\n",
              "      <th>400</th>\n",
              "      <td>symptoms</td>\n",
              "      <td>be_related_with</td>\n",
              "      <td>pulmonary edema</td>\n",
              "    </tr>\n",
              "    <tr>\n",
              "      <th>413</th>\n",
              "      <td>symptoms</td>\n",
              "      <td>be_related_with</td>\n",
              "      <td>hypoxia</td>\n",
              "    </tr>\n",
              "    <tr>\n",
              "      <th>446</th>\n",
              "      <td>symptoms</td>\n",
              "      <td>be_related_with</td>\n",
              "      <td>respiratory distress syndrome</td>\n",
              "    </tr>\n",
              "  </tbody>\n",
              "</table>\n",
              "</div>"
            ],
            "text/plain": [
              "      subject     new_relation                               object\n",
              "16   symptoms  be_related_with                      pulmonary edema\n",
              "47   symptoms  be_related_with                                cough\n",
              "49   symptoms  be_related_with                     nasal congestion\n",
              "53   symptoms         transmit                                 SARS\n",
              "65   symptoms  be_related_with                             headache\n",
              "68   symptoms  be_related_with  acute respiratory distress syndrome\n",
              "95   symptoms  be_related_with               influenza-like illness\n",
              "139  symptoms  be_related_with                          sore throat\n",
              "148  symptoms  be_related_with                 respiratory symptoms\n",
              "164  symptoms  be_related_with                           congestion\n",
              "171  symptoms  be_related_with                                edema\n",
              "194  symptoms  be_related_with                            infection\n",
              "232  symptoms  be_related_with                                fever\n",
              "237  symptoms  be_related_with                                cough\n",
              "290  symptoms  be_related_with                             pandemic\n",
              "307  symptoms  be_related_with                           depression\n",
              "394  symptoms  be_related_with                 respiratory symptoms\n",
              "400  symptoms  be_related_with                      pulmonary edema\n",
              "413  symptoms  be_related_with                              hypoxia\n",
              "446  symptoms  be_related_with        respiratory distress syndrome"
            ]
          },
          "metadata": {
            "tags": []
          },
          "execution_count": 31
        }
      ]
    },
    {
      "cell_type": "code",
      "metadata": {
        "colab": {
          "base_uri": "https://localhost:8080/"
        },
        "id": "mpVrcKflG2gK",
        "outputId": "e1c29920-6619-4f6e-e5d2-8c7477d2e531"
      },
      "source": [
        "##graph embedding\n",
        "triples, scores = query_topn(model, top_n=20, \n",
        "                             head='symptoms', \n",
        "                             relation='be_related_with', \n",
        "                             tail=None, \n",
        "                             ents_to_consider=None, \n",
        "                             rels_to_consider=None)\n",
        "\n",
        "for triple, score in zip(triples, scores):\n",
        "    print('Score: {} \\t {} '.format(score, triple))"
      ],
      "execution_count": 32,
      "outputs": [
        {
          "output_type": "stream",
          "text": [
            "Score: -12.373523712158203 \t ['symptoms' 'be_related_with' 'respiratory distress syndrome'] \n",
            "Score: -12.417543411254883 \t ['symptoms' 'be_related_with' 'major'] \n",
            "Score: -12.428304672241211 \t ['symptoms' 'be_related_with' 'viruses'] \n",
            "Score: -12.55955696105957 \t ['symptoms' 'be_related_with' 'critical'] \n",
            "Score: -12.591981887817383 \t ['symptoms' 'be_related_with' 'high'] \n",
            "Score: -12.617071151733398 \t ['symptoms' 'be_related_with' 'severe'] \n",
            "Score: -12.641407012939453 \t ['symptoms' 'be_related_with' 'cough'] \n",
            "Score: -12.652081489562988 \t ['symptoms' 'be_related_with' 'distress syndrome'] \n",
            "Score: -12.681467056274414 \t ['symptoms' 'be_related_with' 'CNS'] \n",
            "Score: -12.709613800048828 \t ['symptoms' 'be_related_with' 'pandemic'] \n",
            "Score: -12.776214599609375 \t ['symptoms' 'be_related_with' 'blood'] \n",
            "Score: -12.796131134033203 \t ['symptoms' 'be_related_with' 'infection'] \n",
            "Score: -12.796436309814453 \t ['symptoms' 'be_related_with' 'lung'] \n",
            "Score: -12.894087791442871 \t ['symptoms' 'be_related_with' 'acute respiratory distress syndrome'] \n",
            "Score: -12.946937561035156 \t ['symptoms' 'be_related_with' 'fever'] \n",
            "Score: -12.956558227539062 \t ['symptoms' 'be_related_with' 'demyelination'] \n",
            "Score: -12.986984252929688 \t ['symptoms' 'be_related_with' 'respiratory disease'] \n",
            "Score: -13.012921333312988 \t ['symptoms' 'be_related_with' 'pneumonia'] \n",
            "Score: -13.013614654541016 \t ['symptoms' 'be_related_with' 'bacterial infection'] \n",
            "Score: -13.050442695617676 \t ['symptoms' 'be_related_with' 'lower'] \n"
          ],
          "name": "stdout"
        }
      ]
    },
    {
      "cell_type": "code",
      "metadata": {
        "id": "W-wl5yQgLRat"
      },
      "source": [
        ""
      ],
      "execution_count": null,
      "outputs": []
    }
  ]
}