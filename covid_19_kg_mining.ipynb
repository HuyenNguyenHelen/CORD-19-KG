{
  "nbformat": 4,
  "nbformat_minor": 0,
  "metadata": {
    "colab": {
      "name": "covid-19-kg-mining.ipynb",
      "provenance": [],
      "collapsed_sections": [],
      "toc_visible": true,
      "include_colab_link": true
    },
    "kernelspec": {
      "name": "python3",
      "display_name": "Python 3"
    },
    "language_info": {
      "name": "python"
    },
    "accelerator": "GPU"
  },
  "cells": [
    {
      "cell_type": "markdown",
      "metadata": {
        "id": "view-in-github",
        "colab_type": "text"
      },
      "source": [
        "<a href=\"https://colab.research.google.com/github/HuyenNguyenHelen/CORD-19-KG/blob/master/covid_19_kg_mining.ipynb\" target=\"_parent\"><img src=\"https://colab.research.google.com/assets/colab-badge.svg\" alt=\"Open In Colab\"/></a>"
      ]
    },
    {
      "cell_type": "markdown",
      "metadata": {
        "id": "xUFXMJVdOltr"
      },
      "source": [
        "# 1. Preliminaries"
      ]
    },
    {
      "cell_type": "code",
      "metadata": {
        "id": "P7TZVvkzNwDF"
      },
      "source": [
        "# If using Google Colab run this cell \n",
        "\n",
        "# select tensorflow version for colab \n",
        "%tensorflow_version 1.x"
      ],
      "execution_count": null,
      "outputs": []
    },
    {
      "cell_type": "code",
      "metadata": {
        "colab": {
          "base_uri": "https://localhost:8080/"
        },
        "id": "h22uybHCOUyq",
        "outputId": "48bd12ec-62c2-491d-da88-515ffe16e4b2"
      },
      "source": [
        "import tensorflow as tf \n",
        "\n",
        "print('TensorFlow  version: {}'.format(tf.__version__))\n",
        "\n",
        "# Get the GPU name\n",
        "device_name = tf.test.gpu_device_name()\n",
        "if device_name != '/device:GPU:0':\n",
        "  raise SystemError('GPU device not found')\n",
        "print('Found GPU at: {}'.format(device_name))"
      ],
      "execution_count": null,
      "outputs": [
        {
          "output_type": "stream",
          "text": [
            "TensorFlow  version: 1.15.2\n",
            "Found GPU at: /device:GPU:0\n"
          ],
          "name": "stdout"
        }
      ]
    },
    {
      "cell_type": "code",
      "metadata": {
        "id": "MgZPAPapOaLA"
      },
      "source": [
        "%%capture \n",
        "# Install AmpliGraph library\n",
        "! pip install ampligraph\n",
        "\n",
        "# Required to visualize embeddings with tensorboard projector, comment out if not required!\n",
        "! pip install --user tensorboard\n",
        "\n",
        "# Required to plot text on embedding clusters, comment out if not required!\n",
        "! pip install --user git+https://github.com/Phlya/adjustText"
      ],
      "execution_count": null,
      "outputs": []
    },
    {
      "cell_type": "code",
      "metadata": {
        "colab": {
          "base_uri": "https://localhost:8080/"
        },
        "id": "9Bzg5vHqOfch",
        "outputId": "7913fb43-36eb-46c2-9896-f70d5468625c"
      },
      "source": [
        "# All imports used in this tutorial \n",
        "%tensorflow_version 1.x\n",
        "import ampligraph\n",
        "import numpy as np\n",
        "import pandas as pd\n",
        "import tensorflow as tf\n",
        "from ampligraph.datasets import load_fb15k_237\n",
        "from ampligraph.evaluation import train_test_split_no_unseen, evaluate_performance, mr_score, mrr_score, hits_at_n_score\n",
        "from ampligraph.discovery import query_topn, discover_facts, find_clusters\n",
        "from ampligraph.latent_features import TransE, ComplEx, HolE, DistMult, ConvE, ConvKB\n",
        "from ampligraph.utils import save_model, restore_model\n",
        "\n",
        "def display_aggregate_metrics(ranks):\n",
        "    print('Mean Rank:', mr_score(ranks)) \n",
        "    print('Mean Reciprocal Rank:', mrr_score(ranks)) \n",
        "    print('Hits@1:', hits_at_n_score(ranks, 1))\n",
        "    print('Hits@10:', hits_at_n_score(ranks, 10))\n",
        "    print('Hits@100:', hits_at_n_score(ranks, 100))\n",
        "\n",
        "print('Ampligraph version: {}'.format(ampligraph.__version__))"
      ],
      "execution_count": null,
      "outputs": [
        {
          "output_type": "stream",
          "text": [
            "Ampligraph version: 1.4.0\n"
          ],
          "name": "stdout"
        }
      ]
    },
    {
      "cell_type": "markdown",
      "metadata": {
        "id": "aBb8eVx6Osxx"
      },
      "source": [
        "# 2. Loading a Knowledge Graph dataset"
      ]
    },
    {
      "cell_type": "code",
      "metadata": {
        "id": "k96fp70dOyyS"
      },
      "source": [
        "from ampligraph.datasets import load_fb15k_237, load_wn18rr, load_yago3_10"
      ],
      "execution_count": null,
      "outputs": []
    },
    {
      "cell_type": "code",
      "metadata": {
        "colab": {
          "base_uri": "https://localhost:8080/",
          "height": 223
        },
        "id": "G6V6F6nWO6cQ",
        "outputId": "84196131-158a-4336-f3c4-8bb8beee5110"
      },
      "source": [
        "import pandas as pd\n",
        "\n",
        "dataset = pd.read_csv('/content/final_triples_with_predefined_relations_cleaned_stage1.csv')\n",
        "print(dataset.columns)\n",
        "dataset.drop(columns='Unnamed: 0', inplace=True)\n",
        "#dataset.columns = ['subject',  'object', 'predicate',]\n",
        "dataset = dataset[['subject','new_relation', 'object' ]]\n",
        "dataset.head(5)"
      ],
      "execution_count": null,
      "outputs": [
        {
          "output_type": "stream",
          "text": [
            "Index(['Unnamed: 0', 'Unnamed: 0.1', 'subject', 'object', 'new_relation'], dtype='object')\n"
          ],
          "name": "stdout"
        },
        {
          "output_type": "execute_result",
          "data": {
            "text/html": [
              "<div>\n",
              "<style scoped>\n",
              "    .dataframe tbody tr th:only-of-type {\n",
              "        vertical-align: middle;\n",
              "    }\n",
              "\n",
              "    .dataframe tbody tr th {\n",
              "        vertical-align: top;\n",
              "    }\n",
              "\n",
              "    .dataframe thead th {\n",
              "        text-align: right;\n",
              "    }\n",
              "</style>\n",
              "<table border=\"1\" class=\"dataframe\">\n",
              "  <thead>\n",
              "    <tr style=\"text-align: right;\">\n",
              "      <th></th>\n",
              "      <th>subject</th>\n",
              "      <th>new_relation</th>\n",
              "      <th>object</th>\n",
              "    </tr>\n",
              "  </thead>\n",
              "  <tbody>\n",
              "    <tr>\n",
              "      <th>0</th>\n",
              "      <td>aerosol</td>\n",
              "      <td>be_in</td>\n",
              "      <td>guinea pig</td>\n",
              "    </tr>\n",
              "    <tr>\n",
              "      <th>1</th>\n",
              "      <td>uk</td>\n",
              "      <td>transmit</td>\n",
              "      <td>influenza</td>\n",
              "    </tr>\n",
              "    <tr>\n",
              "      <th>2</th>\n",
              "      <td>mp</td>\n",
              "      <td>be_related_with</td>\n",
              "      <td>sars-cov infection</td>\n",
              "    </tr>\n",
              "    <tr>\n",
              "      <th>3</th>\n",
              "      <td>obesity</td>\n",
              "      <td>be_in</td>\n",
              "      <td>china</td>\n",
              "    </tr>\n",
              "    <tr>\n",
              "      <th>4</th>\n",
              "      <td>%</td>\n",
              "      <td>be_related_with</td>\n",
              "      <td>ebv</td>\n",
              "    </tr>\n",
              "  </tbody>\n",
              "</table>\n",
              "</div>"
            ],
            "text/plain": [
              "   subject     new_relation              object\n",
              "0  aerosol            be_in          guinea pig\n",
              "1       uk         transmit           influenza\n",
              "2       mp  be_related_with  sars-cov infection\n",
              "3  obesity            be_in               china\n",
              "4        %  be_related_with                 ebv"
            ]
          },
          "metadata": {
            "tags": []
          },
          "execution_count": 40
        }
      ]
    },
    {
      "cell_type": "code",
      "metadata": {
        "colab": {
          "base_uri": "https://localhost:8080/"
        },
        "id": "ne21mIAeO-Kh",
        "outputId": "7c11697f-3c55-4cad-f621-dca8f49af2d1"
      },
      "source": [
        "print('Total triples in the KG:', dataset.shape)"
      ],
      "execution_count": null,
      "outputs": [
        {
          "output_type": "stream",
          "text": [
            "Total triples in the KG: (12302, 3)\n"
          ],
          "name": "stdout"
        }
      ]
    },
    {
      "cell_type": "markdown",
      "metadata": {
        "id": "fLlcSqIBPEAQ"
      },
      "source": [
        "## 2.1 Create training, validation and test splits"
      ]
    },
    {
      "cell_type": "code",
      "metadata": {
        "colab": {
          "base_uri": "https://localhost:8080/"
        },
        "id": "qaZipgBpPGop",
        "outputId": "4f4554ca-17b6-4fb1-eb5d-0c103bf4e345"
      },
      "source": [
        "from ampligraph.evaluation import train_test_split_no_unseen\n",
        "# get the validation set of size 500\n",
        "test_train, X_valid = train_test_split_no_unseen(dataset.values, 500, seed=0)\n",
        "\n",
        "# get the test set of size 1000 from the remaining triples\n",
        "X_train, X_test = train_test_split_no_unseen(test_train, 1000, seed=0)\n",
        "\n",
        "print('Total triples:', dataset.shape)\n",
        "print('Size of train:', X_train.shape)\n",
        "print('Size of valid:', X_valid.shape)\n",
        "print('Size of test:', X_test.shape)"
      ],
      "execution_count": null,
      "outputs": [
        {
          "output_type": "stream",
          "text": [
            "Total triples: (12302, 3)\n",
            "Size of train: (10802, 3)\n",
            "Size of valid: (500, 3)\n",
            "Size of test: (1000, 3)\n"
          ],
          "name": "stdout"
        }
      ]
    },
    {
      "cell_type": "markdown",
      "metadata": {
        "id": "fzsmWo0zPMR6"
      },
      "source": [
        "# 3. Model Training"
      ]
    },
    {
      "cell_type": "code",
      "metadata": {
        "colab": {
          "base_uri": "https://localhost:8080/"
        },
        "id": "p9POL-1mPOsJ",
        "outputId": "27f3addf-c534-4375-8747-d31db882c90a"
      },
      "source": [
        "from ampligraph.latent_features import TransE\n",
        "\n",
        "# Train a KGE model\n",
        "model = TransE(k=300, \n",
        "               epochs=100, \n",
        "               eta=1, \n",
        "               loss='multiclass_nll', \n",
        "               initializer='xavier', initializer_params={'uniform': False},\n",
        "               regularizer='LP', regularizer_params= {'lambda': 0.001, 'p': 3},\n",
        "               optimizer= 'adam', optimizer_params= {'lr': 0.0001}, \n",
        "               seed= 0, batches_count= 10, verbose=True)\n",
        "\n",
        "model.fit(X_train)\n",
        "# ----------------------\n",
        "# Evaluate: \n",
        "# Filtered evaluation with ranking strategy assigning worst rank to break ties\n",
        "\n",
        "from ampligraph.utils import save_model, restore_model\n",
        "save_model(model, 'TransE.pkl')\n",
        "model = restore_model('TransE.pkl')\n",
        "\n",
        "# create the filter \n",
        "X_filter = np.concatenate([X_train, X_valid, X_test], 0)\n",
        "\n",
        "# compute ranks\n",
        "ranks = evaluate_performance(X_test, \n",
        "                             model=model, \n",
        "                             filter_triples=X_filter)\n",
        "\n",
        "# ranks are computed per triple\n",
        "print('Test set:', X_test.shape)\n",
        "print('Size of ranks:', ranks.shape)\n",
        "\n",
        "# Aggregate metrics show the aggregate performance of the model on the test set using a single number\n",
        "display_aggregate_metrics(ranks)\n",
        "# ----------------------"
      ],
      "execution_count": null,
      "outputs": [
        {
          "output_type": "stream",
          "text": [
            "Average TransE Loss:   0.112852: 100%|██████████| 100/100 [00:03<00:00, 26.00epoch/s]\n",
            "100%|██████████| 1000/1000 [00:03<00:00, 304.20it/s]\n"
          ],
          "name": "stderr"
        },
        {
          "output_type": "stream",
          "text": [
            "Test set: (1000, 3)\n",
            "Size of ranks: (1000, 2)\n",
            "Mean Rank: 107.834\n",
            "Mean Reciprocal Rank: 0.2297196173963971\n",
            "Hits@1: 0.148\n",
            "Hits@10: 0.402\n",
            "Hits@100: 0.792\n"
          ],
          "name": "stdout"
        }
      ]
    },
    {
      "cell_type": "markdown",
      "metadata": {
        "id": "sYMsDmRuQLem"
      },
      "source": [
        "# 4. Knowledge Discovery"
      ]
    },
    {
      "cell_type": "markdown",
      "metadata": {
        "id": "oGu6b-HnQRS3"
      },
      "source": [
        "## 4.1 Triple completion\n",
        "\n",
        "``` \n",
        "    <head, relation, ?> \n",
        "    <head, ?,        tail>\n",
        "    <?,    relation, tail>\n",
        "```"
      ]
    },
    {
      "cell_type": "code",
      "metadata": {
        "colab": {
          "base_uri": "https://localhost:8080/"
        },
        "id": "j_cm34I_QNH3",
        "outputId": "1f61bf2c-8149-4acf-fdf6-e4711c198eae"
      },
      "source": [
        "# Predict tail\n",
        "\n",
        "from ampligraph.discovery import query_topn\n",
        "\n",
        "# restore the previously saved model to save time\n",
        "model = restore_model('TransE.pkl')\n",
        "\n",
        "triples, scores = query_topn(model, top_n=30, \n",
        "                             head='covid-19', \n",
        "                             relation='be_in', \n",
        "                             tail=None, \n",
        "                             ents_to_consider=None, \n",
        "                             rels_to_consider=None)\n",
        "\n",
        "for triple, score in zip(triples, scores):\n",
        "    print('Score: {} \\t {} '.format(score, triple))"
      ],
      "execution_count": null,
      "outputs": [
        {
          "output_type": "stream",
          "text": [
            "Score: -14.355669975280762 \t ['covid-19' 'be_in' 'china'] \n",
            "Score: -14.779093742370605 \t ['covid-19' 'be_in' 'usa'] \n",
            "Score: -14.923473358154297 \t ['covid-19' 'be_in' 'australia'] \n",
            "Score: -14.94718074798584 \t ['covid-19' 'be_in' 'beijing'] \n",
            "Score: -15.050729751586914 \t ['covid-19' 'be_in' 'united state'] \n",
            "Score: -15.139759063720703 \t ['covid-19' 'be_in' 'africa'] \n",
            "Score: -15.151171684265137 \t ['covid-19' 'be_in' 'malaysia'] \n",
            "Score: -15.169055938720703 \t ['covid-19' 'be_in' 'india'] \n",
            "Score: -15.224349975585938 \t ['covid-19' 'be_in' 'mexico'] \n",
            "Score: -15.250919342041016 \t ['covid-19' 'be_in' 'france'] \n",
            "Score: -15.344208717346191 \t ['covid-19' 'be_in' 'sweden'] \n",
            "Score: -15.367685317993164 \t ['covid-19' 'be_in' 'nasopharyngeal swab'] \n",
            "Score: -15.39233684539795 \t ['covid-19' 'be_in' 'taiwan'] \n",
            "Score: -15.394640922546387 \t ['covid-19' 'be_in' 'italy'] \n",
            "Score: -15.429180145263672 \t ['covid-19' 'be_in' 'uk'] \n",
            "Score: -15.541807174682617 \t ['covid-19' 'be_in' 'u'] \n",
            "Score: -15.546154022216797 \t ['covid-19' 'be_in' 'saudi arabia'] \n",
            "Score: -15.551005363464355 \t ['covid-19' 'be_in' 'sre'] \n",
            "Score: -15.641180038452148 \t ['covid-19' 'be_in' 'human'] \n",
            "Score: -15.654417037963867 \t ['covid-19' 'be_in' 'ksa'] \n",
            "Score: -15.669865608215332 \t ['covid-19' 'be_in' 'singapore'] \n",
            "Score: -15.681466102600098 \t ['covid-19' 'be_in' 'thailand'] \n",
            "Score: -15.73448657989502 \t ['covid-19' 'be_in' 'ontario'] \n",
            "Score: -15.740104675292969 \t ['covid-19' 'be_in' 'scotland'] \n",
            "Score: -15.744184494018555 \t ['covid-19' 'be_in' '2005'] \n",
            "Score: -15.774059295654297 \t ['covid-19' 'be_in' 'indonesia'] \n",
            "Score: -15.824405670166016 \t ['covid-19' 'be_in' 'spleen'] \n",
            "Score: -15.850736618041992 \t ['covid-19' 'be_in' 'hong kong'] \n",
            "Score: -15.893077850341797 \t ['covid-19' 'be_in' 'control group'] \n",
            "Score: -15.902627944946289 \t ['covid-19' 'be_in' 'uganda'] \n"
          ],
          "name": "stdout"
        }
      ]
    },
    {
      "cell_type": "code",
      "metadata": {
        "colab": {
          "base_uri": "https://localhost:8080/"
        },
        "id": "TSZ8QHf6QdgP",
        "outputId": "89cb0ffd-1dc5-4c4d-b313-30fadf936013"
      },
      "source": [
        "# Predict relation\n",
        "\n",
        "triples, scores = query_topn(model, top_n=15, \n",
        "                             head=None, \n",
        "                             relation='treat', \n",
        "                             tail='covid-19', \n",
        "                             ents_to_consider=None, \n",
        "                             rels_to_consider=None)\n",
        "\n",
        "for triple, score in zip(triples, scores):\n",
        "    print('Score: {} \\t {} '.format(score, triple))"
      ],
      "execution_count": null,
      "outputs": [
        {
          "output_type": "stream",
          "text": [
            "Score: -17.283233642578125 \t ['covid-19' 'treat' 'covid-19'] \n",
            "Score: -17.303394317626953 \t ['gene' 'treat' 'covid-19'] \n",
            "Score: -17.369487762451172 \t ['membrane potential depolarization' 'treat' 'covid-19'] \n",
            "Score: -17.422821044921875 \t ['silica' 'treat' 'covid-19'] \n",
            "Score: -17.484542846679688 \t ['h' 'treat' 'covid-19'] \n",
            "Score: -17.495582580566406 \t ['t7 promoter' 'treat' 'covid-19'] \n",
            "Score: -17.534015655517578 \t ['man' 'treat' 'covid-19'] \n",
            "Score: -17.540334701538086 \t ['rpl11' 'treat' 'covid-19'] \n",
            "Score: -17.556020736694336 \t ['grippe' 'treat' 'covid-19'] \n",
            "Score: -17.644805908203125 \t ['america' 'treat' 'covid-19'] \n",
            "Score: -17.66366195678711 \t ['np' 'treat' 'covid-19'] \n",
            "Score: -17.69957160949707 \t ['hyperoxia' 'treat' 'covid-19'] \n",
            "Score: -17.750743865966797 \t ['influenza' 'treat' 'covid-19'] \n",
            "Score: -17.78937530517578 \t ['antibody' 'treat' 'covid-19'] \n",
            "Score: -17.811866760253906 \t ['poliovirus' 'treat' 'covid-19'] \n"
          ],
          "name": "stdout"
        }
      ]
    },
    {
      "cell_type": "code",
      "metadata": {
        "colab": {
          "base_uri": "https://localhost:8080/"
        },
        "id": "RZU9pJBXEvIG",
        "outputId": "3e2ce14f-d4f8-42aa-9343-6d72eafd3b25"
      },
      "source": [
        "# Predict relation\n",
        "\n",
        "triples, scores = query_topn(model, top_n=20, \n",
        "                             head=None, \n",
        "                             relation='be_in', \n",
        "                             tail='covid-19', \n",
        "                             ents_to_consider=None, \n",
        "                             rels_to_consider=None)\n",
        "\n",
        "for triple, score in zip(triples, scores):\n",
        "    print('Score: {} \\t {} '.format(score, triple))"
      ],
      "execution_count": null,
      "outputs": [
        {
          "output_type": "stream",
          "text": [
            "Score: -17.29572296142578 \t ['covid-19' 'be_in' 'covid-19'] \n",
            "Score: -17.888343811035156 \t ['outbreak' 'be_in' 'covid-19'] \n",
            "Score: -17.909421920776367 \t ['%' 'be_in' 'covid-19'] \n",
            "Score: -18.13340187072754 \t ['sars' 'be_in' 'covid-19'] \n",
            "Score: -18.158374786376953 \t ['hcov-nl63 inflection' 'be_in' 'covid-19'] \n",
            "Score: -18.24796485900879 \t ['target' 'be_in' 'covid-19'] \n",
            "Score: -18.357162475585938 \t ['time' 'be_in' 'covid-19'] \n",
            "Score: -18.362089157104492 \t ['lockdown' 'be_in' 'covid-19'] \n",
            "Score: -18.43448257446289 \t ['participant' 'be_in' 'covid-19'] \n",
            "Score: -18.437740325927734 \t ['measles' 'be_in' 'covid-19'] \n",
            "Score: -18.439647674560547 \t ['pandemic influenza' 'be_in' 'covid-19'] \n",
            "Score: -18.451114654541016 \t ['influenza' 'be_in' 'covid-19'] \n",
            "Score: -18.47132110595703 \t ['s. suis' 'be_in' 'covid-19'] \n",
            "Score: -18.488479614257812 \t ['prevalence' 'be_in' 'covid-19'] \n",
            "Score: -18.49022674560547 \t ['burden' 'be_in' 'covid-19'] \n",
            "Score: -18.498666763305664 \t ['complication' 'be_in' 'covid-19'] \n",
            "Score: -18.545581817626953 \t ['gps' 'be_in' 'covid-19'] \n",
            "Score: -18.547582626342773 \t ['inflection' 'be_in' 'covid-19'] \n",
            "Score: -18.56859016418457 \t ['covid-19 pandemic' 'be_in' 'covid-19'] \n",
            "Score: -18.596637725830078 \t ['fip' 'be_in' 'covid-19'] \n"
          ],
          "name": "stdout"
        }
      ]
    },
    {
      "cell_type": "code",
      "metadata": {
        "colab": {
          "base_uri": "https://localhost:8080/"
        },
        "id": "C5JyaTDrFMmG",
        "outputId": "0ae26278-37d0-4f56-f344-5f35c877bf5d"
      },
      "source": [
        "# Predict relation\n",
        "ent_control_list = ['cat', 'human','bat', 'monkey',  'dog' ]\n",
        "triples, scores = query_topn(model, top_n=30, \n",
        "                             head=None, \n",
        "                             relation='transmit', \n",
        "                             tail='covid-19', \n",
        "                             ents_to_consider=ent_control_list, \n",
        "                             rels_to_consider=None)\n",
        "\n",
        "for triple, score in zip(triples, scores):\n",
        "    print('Score: {} \\t {} '.format(score, triple))"
      ],
      "execution_count": null,
      "outputs": [
        {
          "output_type": "stream",
          "text": [
            "WARNING - `ents_to_consider` contains less than top_n values, return set will be truncated.\n",
            "Score: -14.479377746582031 \t ['human' 'transmit' 'covid-19'] \n",
            "Score: -15.203999519348145 \t ['bat' 'transmit' 'covid-19'] \n",
            "Score: -15.406490325927734 \t ['dog' 'transmit' 'covid-19'] \n",
            "Score: -17.068496704101562 \t ['monkey' 'transmit' 'covid-19'] \n",
            "Score: -17.196857452392578 \t ['cat' 'transmit' 'covid-19'] \n"
          ],
          "name": "stdout"
        }
      ]
    },
    {
      "cell_type": "code",
      "metadata": {
        "colab": {
          "base_uri": "https://localhost:8080/"
        },
        "id": "z-Y3oDDaGeLZ",
        "outputId": "74434747-3886-4fc9-81b2-67d5e5a10d04"
      },
      "source": [
        "\n",
        "triples, scores = query_topn(model, top_n=30, \n",
        "                             head=None, \n",
        "                             relation='be_related_with', \n",
        "                             tail='covid-19', \n",
        "                             ents_to_consider=None, \n",
        "                             rels_to_consider=None)\n",
        "\n",
        "for triple, score in zip(triples, scores):\n",
        "    print('Score: {} \\t {} '.format(score, triple))"
      ],
      "execution_count": null,
      "outputs": [
        {
          "output_type": "stream",
          "text": [
            "Score: -16.407957077026367 \t ['covid-19' 'be_related_with' 'covid-19'] \n",
            "Score: -16.447853088378906 \t ['patient' 'be_related_with' 'covid-19'] \n",
            "Score: -16.633697509765625 \t ['virus' 'be_related_with' 'covid-19'] \n",
            "Score: -16.792278289794922 \t ['%' 'be_related_with' 'covid-19'] \n",
            "Score: -16.93667221069336 \t ['symptom' 'be_related_with' 'covid-19'] \n",
            "Score: -16.963205337524414 \t ['inflection' 'be_related_with' 'covid-19'] \n",
            "Score: -17.318044662475586 \t ['data' 'be_related_with' 'covid-19'] \n",
            "Score: -17.333995819091797 \t ['child' 'be_related_with' 'covid-19'] \n",
            "Score: -17.363147735595703 \t ['antibody' 'be_related_with' 'covid-19'] \n",
            "Score: -17.38707733154297 \t ['person' 'be_related_with' 'covid-19'] \n",
            "Score: -17.523738861083984 \t ['coronavirus' 'be_related_with' 'covid-19'] \n",
            "Score: -17.556407928466797 \t ['influenza' 'be_related_with' 'covid-19'] \n",
            "Score: -17.590547561645508 \t ['sars' 'be_related_with' 'covid-19'] \n",
            "Score: -17.609272003173828 \t ['influenza virus' 'be_related_with' 'covid-19'] \n",
            "Score: -17.65839385986328 \t ['adenovirus' 'be_related_with' 'covid-19'] \n",
            "Score: -17.70309829711914 \t ['protein' 'be_related_with' 'covid-19'] \n",
            "Score: -17.71969985961914 \t ['mouse' 'be_related_with' 'covid-19'] \n",
            "Score: -17.80508804321289 \t ['woman' 'be_related_with' 'covid-19'] \n",
            "Score: -17.837684631347656 \t ['sars coronavirus' 'be_related_with' 'covid-19'] \n",
            "Score: -17.895334243774414 \t ['cov' 'be_related_with' 'covid-19'] \n",
            "Score: -17.909191131591797 \t ['qbd' 'be_related_with' 'covid-19'] \n",
            "Score: -17.983421325683594 \t ['pathogen' 'be_related_with' 'covid-19'] \n",
            "Score: -18.00802230834961 \t ['outbreak' 'be_related_with' 'covid-19'] \n",
            "Score: -18.080242156982422 \t ['pdcs' 'be_related_with' 'covid-19'] \n",
            "Score: -18.091571807861328 \t ['participant' 'be_related_with' 'covid-19'] \n",
            "Score: -18.125776290893555 \t ['ra' 'be_related_with' 'covid-19'] \n",
            "Score: -18.169736862182617 \t ['world health organization' 'be_related_with' 'covid-19'] \n",
            "Score: -18.24209213256836 \t ['dog' 'be_related_with' 'covid-19'] \n",
            "Score: -18.252086639404297 \t ['palivizumab' 'be_related_with' 'covid-19'] \n",
            "Score: -18.256393432617188 \t ['rsv' 'be_related_with' 'covid-19'] \n"
          ],
          "name": "stdout"
        }
      ]
    },
    {
      "cell_type": "code",
      "metadata": {
        "colab": {
          "base_uri": "https://localhost:8080/",
          "height": 676
        },
        "id": "qxXS3g4yJT15",
        "outputId": "a4ed074a-c6b8-4153-cf0e-cf15684befc6"
      },
      "source": [
        "# Compare the raw call and graph embedding results for the symptoms query\n",
        "\n",
        "## raw call\n",
        "dataset.loc[(dataset['subject']=='symptom')].head(20)\n",
        "\n",
        "#####==> the result of raw call seems to be better"
      ],
      "execution_count": null,
      "outputs": [
        {
          "output_type": "execute_result",
          "data": {
            "text/html": [
              "<div>\n",
              "<style scoped>\n",
              "    .dataframe tbody tr th:only-of-type {\n",
              "        vertical-align: middle;\n",
              "    }\n",
              "\n",
              "    .dataframe tbody tr th {\n",
              "        vertical-align: top;\n",
              "    }\n",
              "\n",
              "    .dataframe thead th {\n",
              "        text-align: right;\n",
              "    }\n",
              "</style>\n",
              "<table border=\"1\" class=\"dataframe\">\n",
              "  <thead>\n",
              "    <tr style=\"text-align: right;\">\n",
              "      <th></th>\n",
              "      <th>subject</th>\n",
              "      <th>new_relation</th>\n",
              "      <th>object</th>\n",
              "    </tr>\n",
              "  </thead>\n",
              "  <tbody>\n",
              "    <tr>\n",
              "      <th>17</th>\n",
              "      <td>symptom</td>\n",
              "      <td>be_related_with</td>\n",
              "      <td>pulmonary edema</td>\n",
              "    </tr>\n",
              "    <tr>\n",
              "      <th>51</th>\n",
              "      <td>symptom</td>\n",
              "      <td>be_related_with</td>\n",
              "      <td>cough</td>\n",
              "    </tr>\n",
              "    <tr>\n",
              "      <th>53</th>\n",
              "      <td>symptom</td>\n",
              "      <td>be_related_with</td>\n",
              "      <td>nasal congestion</td>\n",
              "    </tr>\n",
              "    <tr>\n",
              "      <th>57</th>\n",
              "      <td>symptom</td>\n",
              "      <td>transmit</td>\n",
              "      <td>sars</td>\n",
              "    </tr>\n",
              "    <tr>\n",
              "      <th>72</th>\n",
              "      <td>symptom</td>\n",
              "      <td>be_related_with</td>\n",
              "      <td>headache</td>\n",
              "    </tr>\n",
              "    <tr>\n",
              "      <th>75</th>\n",
              "      <td>symptom</td>\n",
              "      <td>be_related_with</td>\n",
              "      <td>acute respiratory distress syndrome</td>\n",
              "    </tr>\n",
              "    <tr>\n",
              "      <th>108</th>\n",
              "      <td>symptom</td>\n",
              "      <td>be_related_with</td>\n",
              "      <td>influenza-like illness</td>\n",
              "    </tr>\n",
              "    <tr>\n",
              "      <th>158</th>\n",
              "      <td>symptom</td>\n",
              "      <td>be_related_with</td>\n",
              "      <td>sore throat</td>\n",
              "    </tr>\n",
              "    <tr>\n",
              "      <th>168</th>\n",
              "      <td>symptom</td>\n",
              "      <td>be_related_with</td>\n",
              "      <td>respiratory symptom</td>\n",
              "    </tr>\n",
              "    <tr>\n",
              "      <th>188</th>\n",
              "      <td>symptom</td>\n",
              "      <td>be_related_with</td>\n",
              "      <td>congestion</td>\n",
              "    </tr>\n",
              "    <tr>\n",
              "      <th>195</th>\n",
              "      <td>symptom</td>\n",
              "      <td>be_related_with</td>\n",
              "      <td>edema</td>\n",
              "    </tr>\n",
              "    <tr>\n",
              "      <th>220</th>\n",
              "      <td>symptom</td>\n",
              "      <td>be_related_with</td>\n",
              "      <td>infection</td>\n",
              "    </tr>\n",
              "    <tr>\n",
              "      <th>264</th>\n",
              "      <td>symptom</td>\n",
              "      <td>be_related_with</td>\n",
              "      <td>fever</td>\n",
              "    </tr>\n",
              "    <tr>\n",
              "      <th>272</th>\n",
              "      <td>symptom</td>\n",
              "      <td>be_related_with</td>\n",
              "      <td>cough</td>\n",
              "    </tr>\n",
              "    <tr>\n",
              "      <th>334</th>\n",
              "      <td>symptom</td>\n",
              "      <td>be_related_with</td>\n",
              "      <td>pandemic</td>\n",
              "    </tr>\n",
              "    <tr>\n",
              "      <th>353</th>\n",
              "      <td>symptom</td>\n",
              "      <td>be_related_with</td>\n",
              "      <td>depression</td>\n",
              "    </tr>\n",
              "    <tr>\n",
              "      <th>415</th>\n",
              "      <td>symptom</td>\n",
              "      <td>be_related_with</td>\n",
              "      <td>dyspnea</td>\n",
              "    </tr>\n",
              "    <tr>\n",
              "      <th>442</th>\n",
              "      <td>symptom</td>\n",
              "      <td>be_related_with</td>\n",
              "      <td>respiratory symptom</td>\n",
              "    </tr>\n",
              "    <tr>\n",
              "      <th>449</th>\n",
              "      <td>symptom</td>\n",
              "      <td>be_related_with</td>\n",
              "      <td>pulmonary edema</td>\n",
              "    </tr>\n",
              "    <tr>\n",
              "      <th>466</th>\n",
              "      <td>symptom</td>\n",
              "      <td>be_related_with</td>\n",
              "      <td>hypoxia</td>\n",
              "    </tr>\n",
              "  </tbody>\n",
              "</table>\n",
              "</div>"
            ],
            "text/plain": [
              "     subject     new_relation                               object\n",
              "17   symptom  be_related_with                      pulmonary edema\n",
              "51   symptom  be_related_with                                cough\n",
              "53   symptom  be_related_with                     nasal congestion\n",
              "57   symptom         transmit                                 sars\n",
              "72   symptom  be_related_with                             headache\n",
              "75   symptom  be_related_with  acute respiratory distress syndrome\n",
              "108  symptom  be_related_with               influenza-like illness\n",
              "158  symptom  be_related_with                          sore throat\n",
              "168  symptom  be_related_with                  respiratory symptom\n",
              "188  symptom  be_related_with                           congestion\n",
              "195  symptom  be_related_with                                edema\n",
              "220  symptom  be_related_with                            infection\n",
              "264  symptom  be_related_with                                fever\n",
              "272  symptom  be_related_with                                cough\n",
              "334  symptom  be_related_with                             pandemic\n",
              "353  symptom  be_related_with                           depression\n",
              "415  symptom  be_related_with                              dyspnea\n",
              "442  symptom  be_related_with                  respiratory symptom\n",
              "449  symptom  be_related_with                      pulmonary edema\n",
              "466  symptom  be_related_with                              hypoxia"
            ]
          },
          "metadata": {
            "tags": []
          },
          "execution_count": 55
        }
      ]
    },
    {
      "cell_type": "code",
      "metadata": {
        "id": "mpVrcKflG2gK"
      },
      "source": [
        "##graph embedding\n",
        "triples, scores = query_topn(model, top_n=20, \n",
        "                             head='symptoms', \n",
        "                             relation='be_related_with', \n",
        "                             tail=None, \n",
        "                             ents_to_consider=None, \n",
        "                             rels_to_consider=None)\n",
        "\n",
        "for triple, score in zip(triples, scores):\n",
        "    print('Score: {} \\t {} '.format(score, triple))"
      ],
      "execution_count": null,
      "outputs": []
    },
    {
      "cell_type": "code",
      "metadata": {
        "id": "W-wl5yQgLRat"
      },
      "source": [
        ""
      ],
      "execution_count": null,
      "outputs": []
    }
  ]
}