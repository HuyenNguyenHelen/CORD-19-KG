{
  "nbformat": 4,
  "nbformat_minor": 0,
  "metadata": {
    "colab": {
      "name": "covid-19-kg-mining.ipynb",
      "provenance": [],
      "collapsed_sections": [],
      "toc_visible": true,
      "include_colab_link": true
    },
    "kernelspec": {
      "name": "python3",
      "display_name": "Python 3"
    },
    "language_info": {
      "name": "python"
    },
    "accelerator": "GPU"
  },
  "cells": [
    {
      "cell_type": "markdown",
      "metadata": {
        "id": "view-in-github",
        "colab_type": "text"
      },
      "source": [
        "<a href=\"https://colab.research.google.com/github/HuyenNguyenHelen/CORD-19-KG/blob/master/covid_19_kg_mining.ipynb\" target=\"_parent\"><img src=\"https://colab.research.google.com/assets/colab-badge.svg\" alt=\"Open In Colab\"/></a>"
      ]
    },
    {
      "cell_type": "markdown",
      "metadata": {
        "id": "xUFXMJVdOltr"
      },
      "source": [
        "# 1. Preliminaries"
      ]
    },
    {
      "cell_type": "code",
      "metadata": {
        "id": "P7TZVvkzNwDF",
        "colab": {
          "base_uri": "https://localhost:8080/"
        },
        "outputId": "2d510883-1873-4d59-b1c5-e73518bb5e08"
      },
      "source": [
        "# If using Google Colab run this cell \n",
        "\n",
        "# select tensorflow version for colab \n",
        "%tensorflow_version 1.x"
      ],
      "execution_count": 1,
      "outputs": [
        {
          "output_type": "stream",
          "text": [
            "TensorFlow 1.x selected.\n"
          ],
          "name": "stdout"
        }
      ]
    },
    {
      "cell_type": "code",
      "metadata": {
        "colab": {
          "base_uri": "https://localhost:8080/"
        },
        "id": "h22uybHCOUyq",
        "outputId": "6acc910e-6f48-48c5-db1a-a046a3b2780b"
      },
      "source": [
        "import tensorflow as tf \n",
        "\n",
        "print('TensorFlow  version: {}'.format(tf.__version__))\n",
        "\n",
        "# Get the GPU name\n",
        "device_name = tf.test.gpu_device_name()\n",
        "if device_name != '/device:GPU:0':\n",
        "  raise SystemError('GPU device not found')\n",
        "print('Found GPU at: {}'.format(device_name))"
      ],
      "execution_count": 2,
      "outputs": [
        {
          "output_type": "stream",
          "text": [
            "TensorFlow  version: 1.15.2\n",
            "Found GPU at: /device:GPU:0\n"
          ],
          "name": "stdout"
        }
      ]
    },
    {
      "cell_type": "code",
      "metadata": {
        "id": "MgZPAPapOaLA"
      },
      "source": [
        "%%capture \n",
        "# Install AmpliGraph library\n",
        "! pip install ampligraph\n",
        "\n",
        "# Required to visualize embeddings with tensorboard projector, comment out if not required!\n",
        "! pip install --user tensorboard\n",
        "\n",
        "# Required to plot text on embedding clusters, comment out if not required!\n",
        "! pip install --user git+https://github.com/Phlya/adjustText"
      ],
      "execution_count": 3,
      "outputs": []
    },
    {
      "cell_type": "code",
      "metadata": {
        "colab": {
          "base_uri": "https://localhost:8080/"
        },
        "id": "9Bzg5vHqOfch",
        "outputId": "bb8b07c2-ce47-4a17-a979-bd31ed66e6c7"
      },
      "source": [
        "# All imports used in this tutorial \n",
        "%tensorflow_version 1.x\n",
        "import ampligraph\n",
        "import numpy as np\n",
        "import pandas as pd\n",
        "import tensorflow as tf\n",
        "from ampligraph.datasets import load_fb15k_237\n",
        "from ampligraph.evaluation import train_test_split_no_unseen, evaluate_performance, mr_score, mrr_score, hits_at_n_score\n",
        "from ampligraph.discovery import query_topn, discover_facts, find_clusters\n",
        "from ampligraph.latent_features import TransE, ComplEx, HolE, DistMult, ConvE, ConvKB\n",
        "from ampligraph.utils import save_model, restore_model\n",
        "\n",
        "def display_aggregate_metrics(ranks):\n",
        "    print('Mean Rank:', mr_score(ranks)) \n",
        "    print('Mean Reciprocal Rank:', mrr_score(ranks)) \n",
        "    print('Hits@1:', hits_at_n_score(ranks, 1))\n",
        "    print('Hits@10:', hits_at_n_score(ranks, 10))\n",
        "    print('Hits@100:', hits_at_n_score(ranks, 100))\n",
        "\n",
        "print('Ampligraph version: {}'.format(ampligraph.__version__))"
      ],
      "execution_count": 4,
      "outputs": [
        {
          "output_type": "stream",
          "text": [
            "Ampligraph version: 1.4.0\n"
          ],
          "name": "stdout"
        }
      ]
    },
    {
      "cell_type": "markdown",
      "metadata": {
        "id": "aBb8eVx6Osxx"
      },
      "source": [
        "# 2. Loading a Knowledge Graph dataset"
      ]
    },
    {
      "cell_type": "code",
      "metadata": {
        "id": "k96fp70dOyyS"
      },
      "source": [
        "from ampligraph.datasets import load_fb15k_237, load_wn18rr, load_yago3_10\n",
        "import pandas as pd\n",
        "import requests\n",
        "import io"
      ],
      "execution_count": 5,
      "outputs": []
    },
    {
      "cell_type": "code",
      "metadata": {
        "id": "woNtfTQ2bRgL",
        "colab": {
          "base_uri": "https://localhost:8080/",
          "height": 218
        },
        "outputId": "05fe8d96-d73e-455e-dc5f-155f837b519c"
      },
      "source": [
        "# Downloading the csv file from your GitHub account\n",
        "re_pdf = requests.get('https://raw.githubusercontent.com/HuyenNguyenHelen/CORD-19-KG/master/new_triples_with_predefined_relations_pdf_June20_.csv').content\n",
        "re_pmc = requests.get('https://raw.githubusercontent.com/HuyenNguyenHelen/CORD-19-KG/master/new_triples_with_predefined_relations_pmc_June20_.csv').content\n",
        "pdf = pd.read_csv(io.StringIO(re_pdf.decode('utf-8')))\n",
        "pmc =  pd.read_csv(io.StringIO(re_pmc.decode('utf-8')))\n",
        "dataset = pd.concat([pmc, pdf])\n",
        "print(dataset.columns)\n",
        "dataset.drop(columns='Unnamed: 0', inplace=True)\n",
        "dataset = dataset[['subject','new_relation', 'object' ]]\n",
        "dataset.head(5)"
      ],
      "execution_count": 6,
      "outputs": [
        {
          "output_type": "stream",
          "text": [
            "Index(['Unnamed: 0', 'Unnamed: 0.1', 'subject', 'object', 'new_relation'], dtype='object')\n"
          ],
          "name": "stdout"
        },
        {
          "output_type": "execute_result",
          "data": {
            "text/html": [
              "<div>\n",
              "<style scoped>\n",
              "    .dataframe tbody tr th:only-of-type {\n",
              "        vertical-align: middle;\n",
              "    }\n",
              "\n",
              "    .dataframe tbody tr th {\n",
              "        vertical-align: top;\n",
              "    }\n",
              "\n",
              "    .dataframe thead th {\n",
              "        text-align: right;\n",
              "    }\n",
              "</style>\n",
              "<table border=\"1\" class=\"dataframe\">\n",
              "  <thead>\n",
              "    <tr style=\"text-align: right;\">\n",
              "      <th></th>\n",
              "      <th>subject</th>\n",
              "      <th>new_relation</th>\n",
              "      <th>object</th>\n",
              "    </tr>\n",
              "  </thead>\n",
              "  <tbody>\n",
              "    <tr>\n",
              "      <th>0</th>\n",
              "      <td>dysfunction</td>\n",
              "      <td>disease_species</td>\n",
              "      <td>child</td>\n",
              "    </tr>\n",
              "    <tr>\n",
              "      <th>1</th>\n",
              "      <td>et dysfunction</td>\n",
              "      <td>disease_species</td>\n",
              "      <td>child</td>\n",
              "    </tr>\n",
              "    <tr>\n",
              "      <th>2</th>\n",
              "      <td>et dysfunction</td>\n",
              "      <td>disease_species</td>\n",
              "      <td>child</td>\n",
              "    </tr>\n",
              "    <tr>\n",
              "      <th>3</th>\n",
              "      <td>rsv</td>\n",
              "      <td>disease_disease</td>\n",
              "      <td>virus</td>\n",
              "    </tr>\n",
              "    <tr>\n",
              "      <th>4</th>\n",
              "      <td>treatment</td>\n",
              "      <td>treat_procedure_species</td>\n",
              "      <td>child</td>\n",
              "    </tr>\n",
              "  </tbody>\n",
              "</table>\n",
              "</div>"
            ],
            "text/plain": [
              "          subject             new_relation object\n",
              "0     dysfunction          disease_species  child\n",
              "1  et dysfunction          disease_species  child\n",
              "2  et dysfunction          disease_species  child\n",
              "3             rsv          disease_disease  virus\n",
              "4       treatment  treat_procedure_species  child"
            ]
          },
          "metadata": {
            "tags": []
          },
          "execution_count": 6
        }
      ]
    },
    {
      "cell_type": "code",
      "metadata": {
        "colab": {
          "base_uri": "https://localhost:8080/"
        },
        "id": "ne21mIAeO-Kh",
        "outputId": "d54f2244-f74a-4d19-a073-8809ee46e314"
      },
      "source": [
        "print('Total triples in the KG:', dataset.shape)"
      ],
      "execution_count": 7,
      "outputs": [
        {
          "output_type": "stream",
          "text": [
            "Total triples in the KG: (230330, 3)\n"
          ],
          "name": "stdout"
        }
      ]
    },
    {
      "cell_type": "code",
      "metadata": {
        "id": "9WxrnxjodccM",
        "colab": {
          "base_uri": "https://localhost:8080/"
        },
        "outputId": "badf64d9-a3ca-4a3f-8d31-b918469a85f3"
      },
      "source": [
        "print('the number of relations: \\n', dataset['new_relation'].value_counts())"
      ],
      "execution_count": 8,
      "outputs": [
        {
          "output_type": "stream",
          "text": [
            "the number of relations: \n",
            " disease_disease                    63192\n",
            "gene_gene                          24172\n",
            "disease_species                    22370\n",
            "gene_disease                       14220\n",
            "disease_gene                       13347\n",
            "disease_treat_procedure            10184\n",
            "treat_procedure_disease             8223\n",
            "drug_disease                        7250\n",
            "gene_treat_procedure                6142\n",
            "treat_procedure_treat_procedure     5625\n",
            "gene_species                        5298\n",
            "drug_gene                           5270\n",
            "drug_drug                           4613\n",
            "treat_procedure_gene                4602\n",
            "disease_symptom                     4354\n",
            "treat_procedure_species             4263\n",
            "disease_drug                        4044\n",
            "drug_species                        3680\n",
            "gene_drug                           3603\n",
            "symptom_disease                     3411\n",
            "symptom_symptom                     3266\n",
            "drug_treat_procedure                3229\n",
            "treat_procedure_drug                2578\n",
            "symptom_species                     1020\n",
            "gene_symptom                         614\n",
            "drug_symptom                         466\n",
            "treat_procedure_symptom              446\n",
            "symptom_treat_procedure              370\n",
            "symptom_gene                         309\n",
            "symptom_drug                         169\n",
            "Name: new_relation, dtype: int64\n"
          ],
          "name": "stdout"
        }
      ]
    },
    {
      "cell_type": "markdown",
      "metadata": {
        "id": "fLlcSqIBPEAQ"
      },
      "source": [
        "## 2.1 Create training, validation and test splits"
      ]
    },
    {
      "cell_type": "code",
      "metadata": {
        "colab": {
          "base_uri": "https://localhost:8080/"
        },
        "id": "qaZipgBpPGop",
        "outputId": "57e7bf64-4baf-4d40-cc64-3a8dc1b9ecbf"
      },
      "source": [
        "from ampligraph.evaluation import train_test_split_no_unseen\n",
        "# get the validation set of size 500\n",
        "test_train, X_valid = train_test_split_no_unseen(dataset.values, 500, seed=0)\n",
        "\n",
        "# get the test set of size 1000 from the remaining triples\n",
        "X_train, X_test = train_test_split_no_unseen(test_train, 1000, seed=0)\n",
        "\n",
        "print('Total triples:', dataset.shape)\n",
        "print('Size of train:', X_train.shape)\n",
        "print('Size of valid:', X_valid.shape)\n",
        "print('Size of test:', X_test.shape)"
      ],
      "execution_count": 9,
      "outputs": [
        {
          "output_type": "stream",
          "text": [
            "Total triples: (230330, 3)\n",
            "Size of train: (228830, 3)\n",
            "Size of valid: (500, 3)\n",
            "Size of test: (1000, 3)\n"
          ],
          "name": "stdout"
        }
      ]
    },
    {
      "cell_type": "markdown",
      "metadata": {
        "id": "fzsmWo0zPMR6"
      },
      "source": [
        "# 3. Model Training"
      ]
    },
    {
      "cell_type": "code",
      "metadata": {
        "colab": {
          "base_uri": "https://localhost:8080/"
        },
        "id": "p9POL-1mPOsJ",
        "outputId": "f9d07827-72fd-4fdd-8ded-781bdffeee59"
      },
      "source": [
        "from ampligraph.latent_features import TransE\n",
        "\n",
        "# Train a KGE model\n",
        "model = TransE(k=300, \n",
        "               epochs=100, \n",
        "               eta=1, \n",
        "               loss='multiclass_nll', \n",
        "               initializer='xavier', initializer_params={'uniform': False},\n",
        "               regularizer='LP', regularizer_params= {'lambda': 0.001, 'p': 3},\n",
        "               optimizer= 'adam', optimizer_params= {'lr': 0.0001}, \n",
        "               seed= 0, batches_count= 10, verbose=True)\n",
        "\n",
        "model.fit(X_train)\n",
        "# ----------------------\n",
        "# Evaluate: \n",
        "# Filtered evaluation with ranking strategy assigning worst rank to break ties\n",
        "\n",
        "from ampligraph.utils import save_model, restore_model\n",
        "save_model(model, 'TransE.pkl')\n",
        "model = restore_model('TransE.pkl')\n",
        "\n",
        "# create the filter \n",
        "X_filter = np.concatenate([X_train, X_valid, X_test], 0)\n",
        "\n",
        "# compute ranks\n",
        "ranks = evaluate_performance(X_test, \n",
        "                             model=model, \n",
        "                             filter_triples=X_filter)\n",
        "\n",
        "# ranks are computed per triple\n",
        "print('Test set:', X_test.shape)\n",
        "print('Size of ranks:', ranks.shape)\n",
        "\n",
        "# Aggregate metrics show the aggregate performance of the model on the test set using a single number\n",
        "display_aggregate_metrics(ranks)\n",
        "# ----------------------"
      ],
      "execution_count": 10,
      "outputs": [
        {
          "output_type": "stream",
          "text": [
            "Average TransE Loss:   0.070291: 100%|██████████| 100/100 [00:12<00:00,  8.16epoch/s]\n",
            "100%|██████████| 1000/1000 [00:05<00:00, 176.16it/s]\n"
          ],
          "name": "stderr"
        },
        {
          "output_type": "stream",
          "text": [
            "Test set: (1000, 3)\n",
            "Size of ranks: (1000, 2)\n",
            "Mean Rank: 266.9585\n",
            "Mean Reciprocal Rank: 0.1970958051101608\n",
            "Hits@1: 0.1235\n",
            "Hits@10: 0.3445\n",
            "Hits@100: 0.6635\n"
          ],
          "name": "stdout"
        }
      ]
    },
    {
      "cell_type": "markdown",
      "metadata": {
        "id": "sYMsDmRuQLem"
      },
      "source": [
        "# 4. Knowledge Discovery"
      ]
    },
    {
      "cell_type": "markdown",
      "metadata": {
        "id": "Xd_bvL6dkkj6"
      },
      "source": [
        "### Relations"
      ]
    },
    {
      "cell_type": "code",
      "metadata": {
        "id": "_xWtlPK3fstK",
        "colab": {
          "base_uri": "https://localhost:8080/"
        },
        "outputId": "f8023a49-5152-4b81-ed36-4768b20d8ed6"
      },
      "source": [
        "print('the number of relations: \\n', dataset['new_relation'].value_counts())"
      ],
      "execution_count": 28,
      "outputs": [
        {
          "output_type": "stream",
          "text": [
            "the number of relations: \n",
            " disease_disease                    63192\n",
            "gene_gene                          24172\n",
            "disease_species                    22370\n",
            "gene_disease                       14220\n",
            "disease_gene                       13347\n",
            "disease_treat_procedure            10184\n",
            "treat_procedure_disease             8223\n",
            "drug_disease                        7250\n",
            "gene_treat_procedure                6142\n",
            "treat_procedure_treat_procedure     5625\n",
            "gene_species                        5298\n",
            "drug_gene                           5270\n",
            "drug_drug                           4613\n",
            "treat_procedure_gene                4602\n",
            "disease_symptom                     4354\n",
            "treat_procedure_species             4263\n",
            "disease_drug                        4044\n",
            "drug_species                        3680\n",
            "gene_drug                           3603\n",
            "symptom_disease                     3411\n",
            "symptom_symptom                     3266\n",
            "drug_treat_procedure                3229\n",
            "treat_procedure_drug                2578\n",
            "symptom_species                     1020\n",
            "gene_symptom                         614\n",
            "drug_symptom                         466\n",
            "treat_procedure_symptom              446\n",
            "symptom_treat_procedure              370\n",
            "symptom_gene                         309\n",
            "symptom_drug                         169\n",
            "Name: new_relation, dtype: int64\n"
          ],
          "name": "stdout"
        }
      ]
    },
    {
      "cell_type": "markdown",
      "metadata": {
        "id": "oGu6b-HnQRS3"
      },
      "source": [
        "##  Question - Answering\n",
        "\n",
        "``` \n",
        "    <head, relation, ?> \n",
        "    <head, ?,        tail>\n",
        "    <?,    relation, tail>\n",
        "```"
      ]
    },
    {
      "cell_type": "markdown",
      "metadata": {
        "id": "zq_rwrt5jTVJ"
      },
      "source": [
        "### Query: what are the possible therapeutic procedure of covid-19??"
      ]
    },
    {
      "cell_type": "code",
      "metadata": {
        "colab": {
          "base_uri": "https://localhost:8080/"
        },
        "id": "j_cm34I_QNH3",
        "outputId": "5f448ba1-5b13-4c2d-e0a7-36c5027b09f6"
      },
      "source": [
        "# Query: what are the possible therapeutic procedure of covid-19??\n",
        "\n",
        "from ampligraph.discovery import query_topn\n",
        "\n",
        "# restore the previously saved model to save time\n",
        "model = restore_model('TransE.pkl')\n",
        "\n",
        "triples, scores = query_topn(model, top_n=20, \n",
        "                             head='covid-19', \n",
        "                             relation='disease_treat_procedure', \n",
        "                             tail=None, \n",
        "                             ents_to_consider=None, \n",
        "                             rels_to_consider=None)\n",
        "\n",
        "for triple, score in zip(triples, scores):\n",
        "    print('Score: {} \\t {} '.format(score, triple))"
      ],
      "execution_count": 12,
      "outputs": [
        {
          "output_type": "stream",
          "text": [
            "Score: -10.239635467529297 \t ['covid-19' 'disease_treat_procedure' 'extracted'] \n",
            "Score: -10.519999504089355 \t ['covid-19' 'disease_treat_procedure' 'detected'] \n",
            "Score: -10.678789138793945 \t ['covid-19' 'disease_treat_procedure' 'destruction'] \n",
            "Score: -10.81458854675293 \t ['covid-19' 'disease_treat_procedure' 'induction'] \n",
            "Score: -10.815917015075684 \t ['covid-19' 'disease_treat_procedure' 'adjustment'] \n",
            "Score: -10.87232780456543 \t ['covid-19' 'disease_treat_procedure' 'expression'] \n",
            "Score: -10.888626098632812 \t ['covid-19' 'disease_treat_procedure' 'infiltration'] \n",
            "Score: -10.890941619873047 \t ['covid-19' 'disease_treat_procedure' 'diet'] \n",
            "Score: -10.910229682922363 \t ['covid-19' 'disease_treat_procedure' 'release'] \n",
            "Score: -10.937187194824219 \t ['covid-19' 'disease_treat_procedure' 'reduction'] \n",
            "Score: -10.941555976867676 \t ['covid-19' 'disease_treat_procedure' 'mechanical ventilation'] \n",
            "Score: -10.951570510864258 \t ['covid-19' 'disease_treat_procedure' 'isolation'] \n",
            "Score: -10.955157279968262 \t ['covid-19' 'disease_treat_procedure' 'change'] \n",
            "Score: -10.956331253051758 \t ['covid-19' 'disease_treat_procedure' 'clearance'] \n",
            "Score: -10.963724136352539 \t ['covid-19' 'disease_treat_procedure' 'treatment'] \n",
            "Score: -10.963991165161133 \t ['covid-19' 'disease_treat_procedure' 'enlarged'] \n",
            "Score: -10.975061416625977 \t ['covid-19' 'disease_treat_procedure' 'delivery'] \n",
            "Score: -10.980920791625977 \t ['covid-19' 'disease_treat_procedure' 'removal'] \n",
            "Score: -10.98779296875 \t ['covid-19' 'disease_treat_procedure' 'presence'] \n",
            "Score: -10.990951538085938 \t ['covid-19' 'disease_treat_procedure' 'flooding'] \n"
          ],
          "name": "stdout"
        }
      ]
    },
    {
      "cell_type": "code",
      "metadata": {
        "id": "njTpcGh0jBnU",
        "colab": {
          "base_uri": "https://localhost:8080/"
        },
        "outputId": "19c3526e-e8e0-47b4-b097-3ae13a5fe452"
      },
      "source": [
        "# Query: what are the possible therapeutic procedure of covid-19??\n",
        "\n",
        "from ampligraph.discovery import query_topn\n",
        "\n",
        "# restore the previously saved model to save time\n",
        "model = restore_model('TransE.pkl')\n",
        "\n",
        "triples, scores = query_topn(model, top_n=20, \n",
        "                             head=None, \n",
        "                             relation='treat_procedure_disease', \n",
        "                             tail='covid-19', \n",
        "                             ents_to_consider=None, \n",
        "                             rels_to_consider=None)\n",
        "\n",
        "for triple, score in zip(triples, scores):\n",
        "    print('Score: {} \\t {} '.format(score, triple))"
      ],
      "execution_count": 13,
      "outputs": [
        {
          "output_type": "stream",
          "text": [
            "Score: -11.22701358795166 \t ['vaccination' 'treat_procedure_disease' 'covid-19'] \n",
            "Score: -11.275487899780273 \t ['administration' 'treat_procedure_disease' 'covid-19'] \n",
            "Score: -11.320928573608398 \t ['reduction' 'treat_procedure_disease' 'covid-19'] \n",
            "Score: -11.335749626159668 \t ['detection' 'treat_procedure_disease' 'covid-19'] \n",
            "Score: -11.370582580566406 \t ['treatment' 'treat_procedure_disease' 'covid-19'] \n",
            "Score: -11.393146514892578 \t ['inoculation' 'treat_procedure_disease' 'covid-19'] \n",
            "Score: -11.401979446411133 \t ['adoptive transfer' 'treat_procedure_disease' 'covid-19'] \n",
            "Score: -11.411062240600586 \t ['injection' 'treat_procedure_disease' 'covid-19'] \n",
            "Score: -11.428948402404785 \t ['isolation' 'treat_procedure_disease' 'covid-19'] \n",
            "Score: -11.433673858642578 \t ['coagulation' 'treat_procedure_disease' 'covid-19'] \n",
            "Score: -11.468090057373047 \t ['delivery' 'treat_procedure_disease' 'covid-19'] \n",
            "Score: -11.468165397644043 \t ['change' 'treat_procedure_disease' 'covid-19'] \n",
            "Score: -11.49097728729248 \t ['stimulation' 'treat_procedure_disease' 'covid-19'] \n",
            "Score: -11.491228103637695 \t ['expression' 'treat_procedure_disease' 'covid-19'] \n",
            "Score: -11.501176834106445 \t ['prophylaxis' 'treat_procedure_disease' 'covid-19'] \n",
            "Score: -11.502198219299316 \t ['immunization' 'treat_procedure_disease' 'covid-19'] \n",
            "Score: -11.502951622009277 \t ['enlargement' 'treat_procedure_disease' 'covid-19'] \n",
            "Score: -11.508218765258789 \t ['presence' 'treat_procedure_disease' 'covid-19'] \n",
            "Score: -11.511528015136719 \t ['combination therapy' 'treat_procedure_disease' 'covid-19'] \n",
            "Score: -11.515924453735352 \t ['therapy' 'treat_procedure_disease' 'covid-19'] \n"
          ],
          "name": "stdout"
        }
      ]
    },
    {
      "cell_type": "markdown",
      "metadata": {
        "id": "M7ZUKoeVjuGN"
      },
      "source": [
        "### Query: What are related diseases of Covid-19"
      ]
    },
    {
      "cell_type": "code",
      "metadata": {
        "colab": {
          "base_uri": "https://localhost:8080/"
        },
        "id": "TSZ8QHf6QdgP",
        "outputId": "0b69b7e9-aa49-4749-b9bd-40d6d3485af7"
      },
      "source": [
        "# Predict relation\n",
        "\n",
        "triples, scores = query_topn(model, top_n=20, \n",
        "                             head='covid-19', \n",
        "                             relation='disease_disease', \n",
        "                             tail= None, \n",
        "                             ents_to_consider=None, \n",
        "                             rels_to_consider=None)\n",
        "\n",
        "for triple, score in zip(triples, scores):\n",
        "    print('Score: {} \\t {} '.format(score, triple))"
      ],
      "execution_count": 14,
      "outputs": [
        {
          "output_type": "stream",
          "text": [
            "Score: -12.314218521118164 \t ['covid-19' 'disease_disease' 'covid-19'] \n",
            "Score: -13.747383117675781 \t ['covid-19' 'disease_disease' '2009'] \n",
            "Score: -13.805061340332031 \t ['covid-19' 'disease_disease' 'infectious'] \n",
            "Score: -13.832538604736328 \t ['covid-19' 'disease_disease' 'severe'] \n",
            "Score: -13.853185653686523 \t ['covid-19' 'disease_disease' 'fatal'] \n",
            "Score: -13.881415367126465 \t ['covid-19' 'disease_disease' 'major'] \n",
            "Score: -13.927454948425293 \t ['covid-19' 'disease_disease' 'contagious'] \n",
            "Score: -14.063346862792969 \t ['covid-19' 'disease_disease' 'chronic'] \n",
            "Score: -14.13708782196045 \t ['covid-19' 'disease_disease' 'transmissible'] \n",
            "Score: -14.186688423156738 \t ['covid-19' 'disease_disease' 'childhood'] \n",
            "Score: -14.204536437988281 \t ['covid-19' 'disease_disease' 'acute respiratory syndrome coronavirus 2'] \n",
            "Score: -14.283987998962402 \t ['covid-19' 'disease_disease' 'lower'] \n",
            "Score: -14.322210311889648 \t ['covid-19' 'disease_disease' 'multi-organ failure'] \n",
            "Score: -14.443628311157227 \t ['covid-19' 'disease_disease' 'cns'] \n",
            "Score: -14.531892776489258 \t ['covid-19' 'disease_disease' 'high'] \n",
            "Score: -14.534180641174316 \t ['covid-19' 'disease_disease' 'human health'] \n",
            "Score: -14.53642463684082 \t ['covid-19' 'disease_disease' 'emerging'] \n",
            "Score: -14.538919448852539 \t ['covid-19' 'disease_disease' 'inflammatory'] \n",
            "Score: -14.551042556762695 \t ['covid-19' 'disease_disease'\n",
            " 'severe acute respiratory syndrome coronavirus 2'] \n",
            "Score: -14.575150489807129 \t ['covid-19' 'disease_disease' 'contagious disease'] \n"
          ],
          "name": "stdout"
        }
      ]
    },
    {
      "cell_type": "code",
      "metadata": {
        "id": "Fo9TXKFbkRRT",
        "colab": {
          "base_uri": "https://localhost:8080/"
        },
        "outputId": "756a33a3-47c1-4512-b494-c9aa12506f76"
      },
      "source": [
        "# Predict relation\n",
        "\n",
        "triples, scores = query_topn(model, top_n=20, \n",
        "                             head=None, \n",
        "                             relation='disease_disease', \n",
        "                             tail= 'covid-19', \n",
        "                             ents_to_consider=None, \n",
        "                             rels_to_consider=None)\n",
        "\n",
        "for triple, score in zip(triples, scores):\n",
        "    print('Score: {} \\t {} '.format(score, triple))"
      ],
      "execution_count": 15,
      "outputs": [
        {
          "output_type": "stream",
          "text": [
            "Score: -12.314218521118164 \t ['covid-19' 'disease_disease' 'covid-19'] \n",
            "Score: -14.252700805664062 \t ['he' 'disease_disease' 'covid-19'] \n",
            "Score: -14.604111671447754 \t ['coronaviruses' 'disease_disease' 'covid-19'] \n",
            "Score: -14.629844665527344 \t ['alzheimer' 'disease_disease' 'covid-19'] \n",
            "Score: -14.666099548339844 \t ['noroviruses' 'disease_disease' 'covid-19'] \n",
            "Score: -14.688876152038574 \t ['sars cov infection' 'disease_disease' 'covid-19'] \n",
            "Score: -14.689584732055664 \t ['pneumoniae' 'disease_disease' 'covid-19'] \n",
            "Score: -14.724080085754395 \t ['fungal infection' 'disease_disease' 'covid-19'] \n",
            "Score: -14.724721908569336 \t ['rabies' 'disease_disease' 'covid-19'] \n",
            "Score: -14.733174324035645 \t ['blepharitis' 'disease_disease' 'covid-19'] \n",
            "Score: -14.773030281066895 \t ['dad' 'disease_disease' 'covid-19'] \n",
            "Score: -14.79124641418457 \t ['covid' 'disease_disease' 'covid-19'] \n",
            "Score: -14.80870532989502 \t ['hbov' 'disease_disease' 'covid-19'] \n",
            "Score: -14.832033157348633 \t ['cholera' 'disease_disease' 'covid-19'] \n",
            "Score: -14.847408294677734 \t ['leishmaniasis' 'disease_disease' 'covid-19'] \n",
            "Score: -14.867109298706055 \t ['infectious bronchitis virus' 'disease_disease' 'covid-19'] \n",
            "Score: -14.871298789978027 \t ['copd' 'disease_disease' 'covid-19'] \n",
            "Score: -14.8936767578125 \t ['feline infectious peritonitis virus' 'disease_disease' 'covid-19'] \n",
            "Score: -14.911076545715332 \t ['prcv' 'disease_disease' 'covid-19'] \n",
            "Score: -14.918771743774414 \t ['cryptosporidiosis' 'disease_disease' 'covid-19'] \n"
          ],
          "name": "stdout"
        }
      ]
    },
    {
      "cell_type": "markdown",
      "metadata": {
        "id": "1tXmffPBkw7Y"
      },
      "source": [
        "### Query: What are the genes/proteins related to Covid-19"
      ]
    },
    {
      "cell_type": "code",
      "metadata": {
        "colab": {
          "base_uri": "https://localhost:8080/"
        },
        "id": "RZU9pJBXEvIG",
        "outputId": "55d86365-aaee-4a64-c695-736a9014f9bf"
      },
      "source": [
        "# Predict relation\n",
        "\n",
        "triples, scores = query_topn(model, top_n=25, \n",
        "                             head='covid-19', \n",
        "                             relation='disease_gene', \n",
        "                             tail=None, \n",
        "                             ents_to_consider=None, \n",
        "                             rels_to_consider=None)\n",
        "\n",
        "for triple, score in zip(triples, scores):\n",
        "    print('Score: {} \\t {} '.format(score, triple))"
      ],
      "execution_count": 16,
      "outputs": [
        {
          "output_type": "stream",
          "text": [
            "Score: -11.301939010620117 \t ['covid-19' 'disease_gene' 'rare'] \n",
            "Score: -11.593245506286621 \t ['covid-19' 'disease_gene' 'hong kong'] \n",
            "Score: -11.721550941467285 \t ['covid-19' 'disease_gene' 'spring'] \n",
            "Score: -11.920463562011719 \t ['covid-19' 'disease_gene' 'lobe'] \n",
            "Score: -12.016401290893555 \t ['covid-19' 'disease_gene' 'airway'] \n",
            "Score: -12.056889533996582 \t ['covid-19' 'disease_gene' 'wild'] \n",
            "Score: -12.132339477539062 \t ['covid-19' 'disease_gene' 'damage'] \n",
            "Score: -12.144424438476562 \t ['covid-19' 'disease_gene' 'small'] \n",
            "Score: -12.155984878540039 \t ['covid-19' 'disease_gene' 'end'] \n",
            "Score: -12.161270141601562 \t ['covid-19' 'disease_gene' 'cell'] \n",
            "Score: -12.18165397644043 \t ['covid-19' 'disease_gene' 'past'] \n",
            "Score: -12.194324493408203 \t ['covid-19' 'disease_gene' 'impact'] \n",
            "Score: -12.207731246948242 \t ['covid-19' 'disease_gene' 'host'] \n",
            "Score: -12.241068840026855 \t ['covid-19' 'disease_gene' 'bite'] \n",
            "Score: -12.254423141479492 \t ['covid-19' 'disease_gene' 'genome'] \n",
            "Score: -12.26656723022461 \t ['covid-19' 'disease_gene' 'body'] \n",
            "Score: -12.290754318237305 \t ['covid-19' 'disease_gene' 'c reactive protein'] \n",
            "Score: -12.312433242797852 \t ['covid-19' 'disease_gene' 'set'] \n",
            "Score: -12.34184455871582 \t ['covid-19' 'disease_gene' 'transport'] \n",
            "Score: -12.362447738647461 \t ['covid-19' 'disease_gene' 'light'] \n",
            "Score: -12.370647430419922 \t ['covid-19' 'disease_gene' 'trait'] \n",
            "Score: -12.372406005859375 \t ['covid-19' 'disease_gene' 'host cell'] \n",
            "Score: -12.386414527893066 \t ['covid-19' 'disease_gene' 'neck'] \n",
            "Score: -12.388315200805664 \t ['covid-19' 'disease_gene' 'air'] \n",
            "Score: -12.391389846801758 \t ['covid-19' 'disease_gene' '16'] \n"
          ],
          "name": "stdout"
        }
      ]
    },
    {
      "cell_type": "code",
      "metadata": {
        "colab": {
          "base_uri": "https://localhost:8080/"
        },
        "id": "8Z7SxVTfIyCP",
        "outputId": "1b9f5e8a-d395-46f4-ec6c-22c7e1a8d42e"
      },
      "source": [
        "# Predict relation\n",
        "\n",
        "triples, scores = query_topn(model, top_n=25, \n",
        "                             head= None, \n",
        "                             relation='gene_disease', \n",
        "                             tail='covid-19', \n",
        "                             ents_to_consider=None, \n",
        "                             rels_to_consider=None)\n",
        "\n",
        "for triple, score in zip(triples, scores):\n",
        "    print('Score: {} \\t {} '.format(score, triple))"
      ],
      "execution_count": 17,
      "outputs": [
        {
          "output_type": "stream",
          "text": [
            "Score: -9.742734909057617 \t ['she' 'gene_disease' 'covid-19'] \n",
            "Score: -9.76704216003418 \t ['il' 'gene_disease' 'covid-19'] \n",
            "Score: -9.95561408996582 \t ['pattern' 'gene_disease' 'covid-19'] \n",
            "Score: -9.9683837890625 \t ['sex' 'gene_disease' 'covid-19'] \n",
            "Score: -9.998523712158203 \t ['damage' 'gene_disease' 'covid-19'] \n",
            "Score: -10.009273529052734 \t ['impact' 'gene_disease' 'covid-19'] \n",
            "Score: -10.01913070678711 \t ['ace2' 'gene_disease' 'covid-19'] \n",
            "Score: -10.035797119140625 \t ['protein' 'gene_disease' 'covid-19'] \n",
            "Score: -10.038834571838379 \t ['antibody' 'gene_disease' 'covid-19'] \n",
            "Score: -10.039408683776855 \t ['all' 'gene_disease' 'covid-19'] \n",
            "Score: -10.101898193359375 \t ['csf' 'gene_disease' 'covid-19'] \n",
            "Score: -10.102152824401855 \t ['autophagy' 'gene_disease' 'covid-19'] \n",
            "Score: -10.107024192810059 \t ['gene' 'gene_disease' 'covid-19'] \n",
            "Score: -10.127727508544922 \t ['mabs' 'gene_disease' 'covid-19'] \n",
            "Score: -10.131169319152832 \t ['ifn' 'gene_disease' 'covid-19'] \n",
            "Score: -10.149798393249512 \t ['hcov nl63' 'gene_disease' 'covid-19'] \n",
            "Score: -10.193754196166992 \t ['n protein' 'gene_disease' 'covid-19'] \n",
            "Score: -10.19672966003418 \t ['s protein' 'gene_disease' 'covid-19'] \n",
            "Score: -10.196924209594727 \t ['host' 'gene_disease' 'covid-19'] \n",
            "Score: -10.198911666870117 \t ['crp' 'gene_disease' 'covid-19'] \n",
            "Score: -10.228818893432617 \t ['antigen' 'gene_disease' 'covid-19'] \n",
            "Score: -10.232439041137695 \t ['cfr' 'gene_disease' 'covid-19'] \n",
            "Score: -10.237117767333984 \t ['cd4' 'gene_disease' 'covid-19'] \n",
            "Score: -10.237650871276855 \t ['mbl' 'gene_disease' 'covid-19'] \n",
            "Score: -10.240189552307129 \t ['tube' 'gene_disease' 'covid-19'] \n"
          ],
          "name": "stdout"
        }
      ]
    },
    {
      "cell_type": "markdown",
      "metadata": {
        "id": "6cuiw9D6ND6J"
      },
      "source": [
        "### Query: What species transmit the covid-19"
      ]
    },
    {
      "cell_type": "code",
      "metadata": {
        "colab": {
          "base_uri": "https://localhost:8080/"
        },
        "id": "C5JyaTDrFMmG",
        "outputId": "29e09c80-6802-4e82-c368-65f082008e69"
      },
      "source": [
        "# Predict relation\n",
        "triples, scores = query_topn(model, top_n=20, \n",
        "                             tail=None, \n",
        "                             relation='disease_species', \n",
        "                             head='covid-19', \n",
        "                             ents_to_consider=None, \n",
        "                             rels_to_consider=None)\n",
        "\n",
        "for triple, score in zip(triples, scores):\n",
        "    print('Score: {} \\t {} '.format(score, triple))"
      ],
      "execution_count": 18,
      "outputs": [
        {
          "output_type": "stream",
          "text": [
            "Score: -11.424055099487305 \t ['covid-19' 'disease_species' 'child'] \n",
            "Score: -11.514713287353516 \t ['covid-19' 'disease_species' 'dog'] \n",
            "Score: -11.559194564819336 \t ['covid-19' 'disease_species' 'cattle'] \n",
            "Score: -11.57503890991211 \t ['covid-19' 'disease_species' 'patient'] \n",
            "Score: -11.654004096984863 \t ['covid-19' 'disease_species' 'rabbit'] \n",
            "Score: -11.669891357421875 \t ['covid-19' 'disease_species' 'specie'] \n",
            "Score: -11.695438385009766 \t ['covid-19' 'disease_species' 'woman'] \n",
            "Score: -11.699715614318848 \t ['covid-19' 'disease_species' 'piglet'] \n",
            "Score: -11.706042289733887 \t ['covid-19' 'disease_species' 'horse'] \n",
            "Score: -11.741148948669434 \t ['covid-19' 'disease_species' 'swine'] \n",
            "Score: -11.748517990112305 \t ['covid-19' 'disease_species' 'calf'] \n",
            "Score: -11.773248672485352 \t ['covid-19' 'disease_species' 'sheep'] \n",
            "Score: -11.791015625 \t ['covid-19' 'disease_species' 'human'] \n",
            "Score: -11.791841506958008 \t ['covid-19' 'disease_species' 'people'] \n",
            "Score: -11.792166709899902 \t ['covid-19' 'disease_species' 'pig'] \n",
            "Score: -11.793617248535156 \t ['covid-19' 'disease_species' 'person'] \n",
            "Score: -11.794900894165039 \t ['covid-19' 'disease_species' 'infant'] \n",
            "Score: -11.822175979614258 \t ['covid-19' 'disease_species' 'chicken'] \n",
            "Score: -11.917377471923828 \t ['covid-19' 'disease_species' 'mouse'] \n",
            "Score: -11.941934585571289 \t ['covid-19' 'disease_species' 'man'] \n"
          ],
          "name": "stdout"
        }
      ]
    },
    {
      "cell_type": "markdown",
      "metadata": {
        "id": "ZEt3e55_NwvA"
      },
      "source": [
        "### Query: what are symptoms of the covid-19"
      ]
    },
    {
      "cell_type": "code",
      "metadata": {
        "colab": {
          "base_uri": "https://localhost:8080/"
        },
        "id": "z-Y3oDDaGeLZ",
        "outputId": "ebf71fb9-21ea-4464-bfa1-b76982134a01"
      },
      "source": [
        "\n",
        "triples, scores = query_topn(model, top_n=25, \n",
        "                             head=None, \n",
        "                             relation='symptom_disease', \n",
        "                             tail='covid-19', \n",
        "                             ents_to_consider=None, \n",
        "                             rels_to_consider=None)\n",
        "\n",
        "for triple, score in zip(triples, scores):\n",
        "    print('Score: {} \\t {} '.format(score, triple))"
      ],
      "execution_count": 25,
      "outputs": [
        {
          "output_type": "stream",
          "text": [
            "Score: -9.744991302490234 \t ['finding' 'symptom_disease' 'covid-19'] \n",
            "Score: -9.843525886535645 \t ['severe diarrhea' 'symptom_disease' 'covid-19'] \n",
            "Score: -9.850793838500977 \t ['imbalance' 'symptom_disease' 'covid-19'] \n",
            "Score: -9.889549255371094 \t ['discharge' 'symptom_disease' 'covid-19'] \n",
            "Score: -9.985763549804688 \t ['symptom' 'symptom_disease' 'covid-19'] \n",
            "Score: -10.038444519042969 \t ['discomfort' 'symptom_disease' 'covid-19'] \n",
            "Score: -10.122014999389648 \t ['weakness' 'symptom_disease' 'covid-19'] \n",
            "Score: -10.127248764038086 \t ['joint pain' 'symptom_disease' 'covid-19'] \n",
            "Score: -10.127302169799805 \t ['cyanosis' 'symptom_disease' 'covid-19'] \n",
            "Score: -10.161859512329102 \t ['nasal congestion' 'symptom_disease' 'covid-19'] \n",
            "Score: -10.248138427734375 \t ['syncope' 'symptom_disease' 'covid-19'] \n",
            "Score: -10.281612396240234 \t ['watery diarrhea' 'symptom_disease' 'covid-19'] \n",
            "Score: -10.328786849975586 \t ['pyrexia' 'symptom_disease' 'covid-19'] \n",
            "Score: -10.328922271728516 \t ['anesthesia' 'symptom_disease' 'covid-19'] \n",
            "Score: -10.339433670043945 \t ['muscle pain' 'symptom_disease' 'covid-19'] \n",
            "Score: -10.349751472473145 \t ['vomiting' 'symptom_disease' 'covid-19'] \n",
            "Score: -10.353372573852539 \t ['pain' 'symptom_disease' 'covid-19'] \n",
            "Score: -10.355941772460938 \t ['rash' 'symptom_disease' 'covid-19'] \n",
            "Score: -10.357872009277344 \t ['disorientation' 'symptom_disease' 'covid-19'] \n",
            "Score: -10.360679626464844 \t ['jaundice' 'symptom_disease' 'covid-19'] \n",
            "Score: -10.374162673950195 \t ['agitation' 'symptom_disease' 'covid-19'] \n",
            "Score: -10.382644653320312 \t ['dyspnoea' 'symptom_disease' 'covid-19'] \n",
            "Score: -10.406932830810547 \t ['diarrhoea' 'symptom_disease' 'covid-19'] \n",
            "Score: -10.407307624816895 \t ['dry cough' 'symptom_disease' 'covid-19'] \n",
            "Score: -10.415154457092285 \t ['abdominal discomfort' 'symptom_disease' 'covid-19'] \n"
          ],
          "name": "stdout"
        }
      ]
    },
    {
      "cell_type": "code",
      "metadata": {
        "colab": {
          "base_uri": "https://localhost:8080/"
        },
        "id": "EMoR_zzIOnLJ",
        "outputId": "2ca65a87-35a6-4727-b47d-e3e85e35688c"
      },
      "source": [
        "triples, scores = query_topn(model, top_n=25, \n",
        "                             tail=None, \n",
        "                             relation='disease_symptom', \n",
        "                             head='covid-19', \n",
        "                             ents_to_consider=None, \n",
        "                             rels_to_consider=None)\n",
        "\n",
        "for triple, score in zip(triples, scores):\n",
        "    print('Score: {} \\t {} '.format(score, triple))"
      ],
      "execution_count": 26,
      "outputs": [
        {
          "output_type": "stream",
          "text": [
            "Score: -10.660646438598633 \t ['covid-19' 'disease_symptom' 'discharge'] \n",
            "Score: -10.675355911254883 \t ['covid-19' 'disease_symptom' 'discomfort'] \n",
            "Score: -10.728038787841797 \t ['covid-19' 'disease_symptom' 'severe diarrhea'] \n",
            "Score: -10.75567626953125 \t ['covid-19' 'disease_symptom' 'finding'] \n",
            "Score: -10.75689697265625 \t ['covid-19' 'disease_symptom' 'imbalance'] \n",
            "Score: -10.820416450500488 \t ['covid-19' 'disease_symptom' 'organ failure'] \n",
            "Score: -10.840065002441406 \t ['covid-19' 'disease_symptom' 'symptom'] \n",
            "Score: -10.903345108032227 \t ['covid-19' 'disease_symptom' 'insomnia'] \n",
            "Score: -10.933250427246094 \t ['covid-19' 'disease_symptom' 'flaccid paralysis'] \n",
            "Score: -10.991533279418945 \t ['covid-19' 'disease_symptom' 'emaciation'] \n",
            "Score: -11.03813362121582 \t ['covid-19' 'disease_symptom' 'illness'] \n",
            "Score: -11.041977882385254 \t ['covid-19' 'disease_symptom' 'febrile'] \n",
            "Score: -11.09693717956543 \t ['covid-19' 'disease_symptom' 'ill'] \n",
            "Score: -11.105957984924316 \t ['covid-19' 'disease_symptom' 'prodrome'] \n",
            "Score: -11.10618782043457 \t ['covid-19' 'disease_symptom' 'mass'] \n",
            "Score: -11.124324798583984 \t ['covid-19' 'disease_symptom' 'exhaustion'] \n",
            "Score: -11.136005401611328 \t ['covid-19' 'disease_symptom' 'rash'] \n",
            "Score: -11.141836166381836 \t ['covid-19' 'disease_symptom' 'quality of life'] \n",
            "Score: -11.153905868530273 \t ['covid-19' 'disease_symptom' 'abdominal pain'] \n",
            "Score: -11.154897689819336 \t ['covid-19' 'disease_symptom' 'muscle weakness'] \n",
            "Score: -11.161006927490234 \t ['covid-19' 'disease_symptom' 'emesis'] \n",
            "Score: -11.1949462890625 \t ['covid-19' 'disease_symptom' 'dry'] \n",
            "Score: -11.202352523803711 \t ['covid-19' 'disease_symptom' 'jaundice'] \n",
            "Score: -11.20515251159668 \t ['covid-19' 'disease_symptom' 'painful'] \n",
            "Score: -11.212297439575195 \t ['covid-19' 'disease_symptom' 'agitation'] \n"
          ],
          "name": "stdout"
        }
      ]
    },
    {
      "cell_type": "markdown",
      "metadata": {
        "id": "94nJ6TmMd8pE"
      },
      "source": [
        "### What are potential drugs to treat COVID-19?"
      ]
    },
    {
      "cell_type": "code",
      "metadata": {
        "colab": {
          "base_uri": "https://localhost:8080/"
        },
        "id": "7sPl6SFZeXX-",
        "outputId": "abbbd07b-93f1-461b-fb86-9978896c6600"
      },
      "source": [
        "\n",
        "triples, scores = query_topn(model, top_n=30, \n",
        "                             head=None, \n",
        "                             relation='drug_disease', \n",
        "                             tail='covid-19', \n",
        "                             ents_to_consider=None, \n",
        "                             rels_to_consider=None)\n",
        "\n",
        "for triple, score in zip(triples, scores):\n",
        "    print('Score: {} \\t {} '.format(score, triple))"
      ],
      "execution_count": 32,
      "outputs": [
        {
          "output_type": "stream",
          "text": [
            "Score: -9.394088745117188 \t ['i' 'drug_disease' 'covid-19'] \n",
            "Score: -9.472557067871094 \t ['metformin' 'drug_disease' 'covid-19'] \n",
            "Score: -9.535256385803223 \t ['5' 'drug_disease' 'covid-19'] \n",
            "Score: -9.555984497070312 \t ['ribavirin' 'drug_disease' 'covid-19'] \n",
            "Score: -9.582306861877441 \t ['vitamin d' 'drug_disease' 'covid-19'] \n",
            "Score: -9.585634231567383 \t ['melatonin' 'drug_disease' 'covid-19'] \n",
            "Score: -9.606701850891113 \t ['chloroquine' 'drug_disease' 'covid-19'] \n",
            "Score: -9.611522674560547 \t ['drug' 'drug_disease' 'covid-19'] \n",
            "Score: -9.615221977233887 \t ['2' 'drug_disease' 'covid-19'] \n",
            "Score: -9.621654510498047 \t ['glycyrrhizin' 'drug_disease' 'covid-19'] \n",
            "Score: -9.665054321289062 \t ['β' 'drug_disease' 'covid-19'] \n",
            "Score: -9.678360939025879 \t ['curcumin' 'drug_disease' 'covid-19'] \n",
            "Score: -9.69880485534668 \t ['corticosteroid' 'drug_disease' 'covid-19'] \n",
            "Score: -9.712905883789062 \t ['3' 'drug_disease' 'covid-19'] \n",
            "Score: -9.743366241455078 \t ['α' 'drug_disease' 'covid-19'] \n",
            "Score: -9.751035690307617 \t ['steroid' 'drug_disease' 'covid-19'] \n",
            "Score: -9.757349014282227 \t ['hcq' 'drug_disease' 'covid-19'] \n",
            "Score: -9.757850646972656 \t ['isopropanol' 'drug_disease' 'covid-19'] \n",
            "Score: -9.765739440917969 \t ['arbidol' 'drug_disease' 'covid-19'] \n",
            "Score: -9.806914329528809 \t ['6' 'drug_disease' 'covid-19'] \n",
            "Score: -9.807647705078125 \t ['oseltamivir' 'drug_disease' 'covid-19'] \n",
            "Score: -9.826000213623047 \t ['hmpv' 'drug_disease' 'covid-19'] \n",
            "Score: -9.828910827636719 \t ['co' 'drug_disease' 'covid-19'] \n",
            "Score: -9.834228515625 \t ['peptide' 'drug_disease' 'covid-19'] \n",
            "Score: -9.839775085449219 \t ['mg132' 'drug_disease' 'covid-19'] \n",
            "Score: -9.856895446777344 \t ['pcv' 'drug_disease' 'covid-19'] \n",
            "Score: -9.86444091796875 \t ['tmev' 'drug_disease' 'covid-19'] \n",
            "Score: -9.866056442260742 \t ['quercetin' 'drug_disease' 'covid-19'] \n",
            "Score: -9.867961883544922 \t ['acid' 'drug_disease' 'covid-19'] \n",
            "Score: -9.894501686096191 \t ['cholesterol' 'drug_disease' 'covid-19'] \n"
          ],
          "name": "stdout"
        }
      ]
    },
    {
      "cell_type": "code",
      "metadata": {
        "id": "qxXS3g4yJT15"
      },
      "source": [
        "# Compare the raw call and graph embedding results for the symptoms query\n",
        "\n",
        "## raw call\n",
        "#dataset.loc[(dataset['subject']=='symptom')].head(20)\n",
        "\n",
        "#####==> the result of raw call seems to be better"
      ],
      "execution_count": 23,
      "outputs": []
    },
    {
      "cell_type": "code",
      "metadata": {
        "id": "W-wl5yQgLRat"
      },
      "source": [
        ""
      ],
      "execution_count": null,
      "outputs": []
    }
  ]
}