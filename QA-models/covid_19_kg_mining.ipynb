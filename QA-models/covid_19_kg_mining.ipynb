{
  "nbformat": 4,
  "nbformat_minor": 0,
  "metadata": {
    "colab": {
      "name": "covid-19-kg-mining.ipynb",
      "provenance": [],
      "collapsed_sections": [],
      "toc_visible": true,
      "include_colab_link": true
    },
    "kernelspec": {
      "name": "python3",
      "display_name": "Python 3"
    },
    "language_info": {
      "name": "python"
    },
    "accelerator": "GPU"
  },
  "cells": [
    {
      "cell_type": "markdown",
      "metadata": {
        "id": "view-in-github",
        "colab_type": "text"
      },
      "source": [
        "<a href=\"https://colab.research.google.com/github/HuyenNguyenHelen/CORD-19-KG/blob/master/QA-models/covid_19_kg_mining.ipynb\" target=\"_parent\"><img src=\"https://colab.research.google.com/assets/colab-badge.svg\" alt=\"Open In Colab\"/></a>"
      ]
    },
    {
      "cell_type": "markdown",
      "metadata": {
        "id": "xUFXMJVdOltr"
      },
      "source": [
        "## Preliminaries"
      ]
    },
    {
      "cell_type": "code",
      "metadata": {
        "id": "P7TZVvkzNwDF",
        "colab": {
          "base_uri": "https://localhost:8080/"
        },
        "outputId": "bbae0353-6b58-4ca1-fa7e-bdd6fb053f1c"
      },
      "source": [
        "# If using Google Colab run this cell \n",
        "\n",
        "# select tensorflow version for colab \n",
        "%tensorflow_version 1.x"
      ],
      "execution_count": 1,
      "outputs": [
        {
          "output_type": "stream",
          "name": "stdout",
          "text": [
            "TensorFlow 1.x selected.\n"
          ]
        }
      ]
    },
    {
      "cell_type": "code",
      "metadata": {
        "colab": {
          "base_uri": "https://localhost:8080/"
        },
        "id": "h22uybHCOUyq",
        "outputId": "963f27d8-f595-4da9-8d73-550d87d790d4"
      },
      "source": [
        "import tensorflow as tf \n",
        "\n",
        "print('TensorFlow  version: {}'.format(tf.__version__))\n",
        "\n",
        "# Get the GPU name\n",
        "device_name = tf.test.gpu_device_name()\n",
        "if device_name != '/device:GPU:0':\n",
        "  raise SystemError('GPU device not found')\n",
        "print('Found GPU at: {}'.format(device_name))"
      ],
      "execution_count": 2,
      "outputs": [
        {
          "output_type": "stream",
          "name": "stdout",
          "text": [
            "TensorFlow  version: 1.15.2\n",
            "Found GPU at: /device:GPU:0\n"
          ]
        }
      ]
    },
    {
      "cell_type": "code",
      "metadata": {
        "id": "MgZPAPapOaLA"
      },
      "source": [
        "%%capture \n",
        "# Install AmpliGraph library\n",
        "! pip install ampligraph\n",
        "\n",
        "# Required to visualize embeddings with tensorboard projector, comment out if not required!\n",
        "! pip install --user tensorboard\n",
        "\n",
        "# Required to plot text on embedding clusters, comment out if not required!\n",
        "! pip install --user git+https://github.com/Phlya/adjustText"
      ],
      "execution_count": 3,
      "outputs": []
    },
    {
      "cell_type": "code",
      "metadata": {
        "colab": {
          "base_uri": "https://localhost:8080/"
        },
        "id": "9Bzg5vHqOfch",
        "outputId": "d61de343-b918-4269-d6ea-46204b1a1093"
      },
      "source": [
        "# All imports used in this tutorial \n",
        "%tensorflow_version 1.x\n",
        "import ampligraph\n",
        "import numpy as np\n",
        "import pandas as pd\n",
        "import tensorflow as tf\n",
        "from ampligraph.datasets import load_fb15k_237\n",
        "from ampligraph.evaluation import train_test_split_no_unseen, evaluate_performance, mr_score, mrr_score, hits_at_n_score\n",
        "from ampligraph.discovery import query_topn, discover_facts, find_clusters\n",
        "from ampligraph.latent_features import TransE, ComplEx, HolE, DistMult, ConvE, ConvKB\n",
        "from ampligraph.utils import save_model, restore_model\n",
        "\n",
        "def display_aggregate_metrics(ranks):\n",
        "    print('Mean Rank:', mr_score(ranks)) \n",
        "    print('Mean Reciprocal Rank:', mrr_score(ranks)) \n",
        "    print('Hits@1:', hits_at_n_score(ranks, 1))\n",
        "    print('Hits@10:', hits_at_n_score(ranks, 10))\n",
        "    print('Hits@100:', hits_at_n_score(ranks, 100))\n",
        "\n",
        "print('Ampligraph version: {}'.format(ampligraph.__version__))"
      ],
      "execution_count": 4,
      "outputs": [
        {
          "output_type": "stream",
          "name": "stdout",
          "text": [
            "Ampligraph version: 1.4.0\n"
          ]
        }
      ]
    },
    {
      "cell_type": "code",
      "metadata": {
        "id": "k96fp70dOyyS"
      },
      "source": [
        "from ampligraph.datasets import load_fb15k_237, load_wn18rr, load_yago3_10\n",
        "import pandas as pd\n",
        "import requests\n",
        "import io"
      ],
      "execution_count": 5,
      "outputs": []
    },
    {
      "cell_type": "markdown",
      "metadata": {
        "id": "aBb8eVx6Osxx"
      },
      "source": [
        "## Loading Data \n",
        "(a triples dataset)"
      ]
    },
    {
      "cell_type": "code",
      "metadata": {
        "id": "woNtfTQ2bRgL",
        "colab": {
          "base_uri": "https://localhost:8080/",
          "height": 224
        },
        "outputId": "5525f881-ea5a-4ece-fb60-7ae1e5e516d2"
      },
      "source": [
        "# Downloading the csv file from your GitHub account\n",
        "re_pdf = requests.get('https://raw.githubusercontent.com/HuyenNguyenHelen/CORD-19-KG/master/Data/new_triples_with_predefined_relations_pdf_June20_.csv').content\n",
        "re_pmc = requests.get('https://raw.githubusercontent.com/HuyenNguyenHelen/CORD-19-KG/master/Data/new_triples_with_predefined_relations_pmc_June20_.csv').content\n",
        "pdf = pd.read_csv(io.StringIO(re_pdf.decode('utf-8')))\n",
        "pmc =  pd.read_csv(io.StringIO(re_pmc.decode('utf-8')))\n",
        "dataset = pd.concat([pmc, pdf])\n",
        "print(dataset.columns)\n",
        "dataset.drop(columns='Unnamed: 0', inplace=True)\n",
        "dataset = dataset[['subject','new_relation', 'object' ]]\n",
        "dataset.head(5)"
      ],
      "execution_count": 6,
      "outputs": [
        {
          "output_type": "stream",
          "name": "stdout",
          "text": [
            "Index(['Unnamed: 0', 'Unnamed: 0.1', 'subject', 'object', 'new_relation'], dtype='object')\n"
          ]
        },
        {
          "output_type": "execute_result",
          "data": {
            "text/html": [
              "<div>\n",
              "<style scoped>\n",
              "    .dataframe tbody tr th:only-of-type {\n",
              "        vertical-align: middle;\n",
              "    }\n",
              "\n",
              "    .dataframe tbody tr th {\n",
              "        vertical-align: top;\n",
              "    }\n",
              "\n",
              "    .dataframe thead th {\n",
              "        text-align: right;\n",
              "    }\n",
              "</style>\n",
              "<table border=\"1\" class=\"dataframe\">\n",
              "  <thead>\n",
              "    <tr style=\"text-align: right;\">\n",
              "      <th></th>\n",
              "      <th>subject</th>\n",
              "      <th>new_relation</th>\n",
              "      <th>object</th>\n",
              "    </tr>\n",
              "  </thead>\n",
              "  <tbody>\n",
              "    <tr>\n",
              "      <th>0</th>\n",
              "      <td>dysfunction</td>\n",
              "      <td>disease_species</td>\n",
              "      <td>child</td>\n",
              "    </tr>\n",
              "    <tr>\n",
              "      <th>1</th>\n",
              "      <td>et dysfunction</td>\n",
              "      <td>disease_species</td>\n",
              "      <td>child</td>\n",
              "    </tr>\n",
              "    <tr>\n",
              "      <th>2</th>\n",
              "      <td>et dysfunction</td>\n",
              "      <td>disease_species</td>\n",
              "      <td>child</td>\n",
              "    </tr>\n",
              "    <tr>\n",
              "      <th>3</th>\n",
              "      <td>rsv</td>\n",
              "      <td>disease_disease</td>\n",
              "      <td>virus</td>\n",
              "    </tr>\n",
              "    <tr>\n",
              "      <th>4</th>\n",
              "      <td>treatment</td>\n",
              "      <td>treat_procedure_species</td>\n",
              "      <td>child</td>\n",
              "    </tr>\n",
              "  </tbody>\n",
              "</table>\n",
              "</div>"
            ],
            "text/plain": [
              "          subject             new_relation object\n",
              "0     dysfunction          disease_species  child\n",
              "1  et dysfunction          disease_species  child\n",
              "2  et dysfunction          disease_species  child\n",
              "3             rsv          disease_disease  virus\n",
              "4       treatment  treat_procedure_species  child"
            ]
          },
          "metadata": {},
          "execution_count": 6
        }
      ]
    },
    {
      "cell_type": "code",
      "metadata": {
        "colab": {
          "base_uri": "https://localhost:8080/"
        },
        "id": "ne21mIAeO-Kh",
        "outputId": "5d795b74-f797-4bb4-bd43-9d83e65d13c6"
      },
      "source": [
        "print('Total triples in the KG:', dataset.shape)"
      ],
      "execution_count": 7,
      "outputs": [
        {
          "output_type": "stream",
          "name": "stdout",
          "text": [
            "Total triples in the KG: (230330, 3)\n"
          ]
        }
      ]
    },
    {
      "cell_type": "code",
      "metadata": {
        "id": "9WxrnxjodccM",
        "colab": {
          "base_uri": "https://localhost:8080/"
        },
        "outputId": "120cd8a6-bf25-4f7b-dd63-ba037cab9478"
      },
      "source": [
        "print('the number of relations: \\n', dataset['new_relation'].value_counts())"
      ],
      "execution_count": 8,
      "outputs": [
        {
          "output_type": "stream",
          "name": "stdout",
          "text": [
            "the number of relations: \n",
            " disease_disease                    63192\n",
            "gene_gene                          24172\n",
            "disease_species                    22370\n",
            "gene_disease                       14220\n",
            "disease_gene                       13347\n",
            "disease_treat_procedure            10184\n",
            "treat_procedure_disease             8223\n",
            "drug_disease                        7250\n",
            "gene_treat_procedure                6142\n",
            "treat_procedure_treat_procedure     5625\n",
            "gene_species                        5298\n",
            "drug_gene                           5270\n",
            "drug_drug                           4613\n",
            "treat_procedure_gene                4602\n",
            "disease_symptom                     4354\n",
            "treat_procedure_species             4263\n",
            "disease_drug                        4044\n",
            "drug_species                        3680\n",
            "gene_drug                           3603\n",
            "symptom_disease                     3411\n",
            "symptom_symptom                     3266\n",
            "drug_treat_procedure                3229\n",
            "treat_procedure_drug                2578\n",
            "symptom_species                     1020\n",
            "gene_symptom                         614\n",
            "drug_symptom                         466\n",
            "treat_procedure_symptom              446\n",
            "symptom_treat_procedure              370\n",
            "symptom_gene                         309\n",
            "symptom_drug                         169\n",
            "Name: new_relation, dtype: int64\n"
          ]
        }
      ]
    },
    {
      "cell_type": "markdown",
      "source": [
        "# Data Processing\n",
        "Partition the triples into 10 portions that will be used for buiding QA systems"
      ],
      "metadata": {
        "id": "Faxo3McGqype"
      }
    },
    {
      "cell_type": "code",
      "source": [
        "# Shuffle the dataset\n",
        "dataset = dataset.sample(frac=1, axis=1).reset_index(drop=True)\n",
        "subsets = np.array_split(dataset, 10)  \n",
        "len(subsets)\n"
      ],
      "metadata": {
        "id": "pscvKD-2tIXP",
        "outputId": "0a4ef8c6-37d5-4d5f-d05b-e47b5554d777",
        "colab": {
          "base_uri": "https://localhost:8080/"
        }
      },
      "execution_count": 9,
      "outputs": [
        {
          "output_type": "execute_result",
          "data": {
            "text/plain": [
              "10"
            ]
          },
          "metadata": {},
          "execution_count": 9
        }
      ]
    },
    {
      "cell_type": "markdown",
      "source": [
        "# Developing QA system"
      ],
      "metadata": {
        "id": "nYe9PkDzrmgQ"
      }
    },
    {
      "cell_type": "markdown",
      "source": [
        "## Developing model"
      ],
      "metadata": {
        "id": "tGBIAwfSr_xJ"
      }
    },
    {
      "cell_type": "markdown",
      "metadata": {
        "id": "fLlcSqIBPEAQ"
      },
      "source": [
        "### Create training, validation and test splits"
      ]
    },
    {
      "cell_type": "code",
      "metadata": {
        "id": "qaZipgBpPGop"
      },
      "source": [
        "from ampligraph.evaluation import train_test_split_no_unseen\n",
        "def train_set_split (ds, test_frac = 200, val_frac = 100 ):\n",
        "  # get the validation set of size 500\n",
        "  test_train, X_test = train_test_split_no_unseen(ds.values, test_frac, seed=0)\n",
        "\n",
        "  # get the test set of size 1000 from the remaining triples\n",
        "  X_train, X_val = train_test_split_no_unseen(test_train, val_frac, seed=0)\n",
        "\n",
        "  print('Total triples:', dataset.shape)\n",
        "  print('Size of train:', X_train.shape)\n",
        "  print('Size of valid:', X_val.shape)\n",
        "  print('Size of test:', X_test.shape)\n",
        "  return X_train, X_val, X_test"
      ],
      "execution_count": 10,
      "outputs": []
    },
    {
      "cell_type": "markdown",
      "metadata": {
        "id": "fzsmWo0zPMR6"
      },
      "source": [
        "### Model Training"
      ]
    },
    {
      "cell_type": "code",
      "metadata": {
        "id": "p9POL-1mPOsJ",
        "outputId": "86364a20-3eae-418d-fa1c-5f0fcf1738bb",
        "colab": {
          "base_uri": "https://localhost:8080/"
        }
      },
      "source": [
        "from ampligraph.latent_features import TransE\n",
        "\n",
        "def training (train_ds, val_ds, test_ds):\n",
        "  # Train a KGE model\n",
        "  model = TransE(k=300, \n",
        "                epochs=100, \n",
        "                eta=1, \n",
        "                loss='multiclass_nll', \n",
        "                initializer='xavier', initializer_params={'uniform': False},\n",
        "                regularizer='LP', regularizer_params= {'lambda': 0.001, 'p': 3},\n",
        "                optimizer= 'adam', optimizer_params= {'lr': 0.0001}, \n",
        "                seed= 0, batches_count= 100, verbose=True)\n",
        "\n",
        "  model.fit(train_ds)\n",
        "  # ----------------------\n",
        "  # Evaluate: \n",
        "  # Filtered evaluation with ranking strategy assigning worst rank to break ties\n",
        "  from ampligraph.utils import save_model, restore_model\n",
        "  save_model(model, 'TransE.pkl')\n",
        "  model = restore_model('TransE.pkl')\n",
        "\n",
        "  # create the filter \n",
        "  X_filter = np.concatenate([train_ds, val_ds, test_ds], 0)\n",
        "\n",
        "  # compute ranks\n",
        "  ranks = evaluate_performance(test_ds, \n",
        "                              model=model, \n",
        "                              filter_triples=X_filter)\n",
        "\n",
        "  # ranks are computed per triple\n",
        "  print('Test set:', X_test.shape)\n",
        "  print('Size of ranks:', ranks.shape)\n",
        "\n",
        "  # Aggregate metrics show the aggregate performance of the model on the test set using a single number\n",
        "  display_aggregate_metrics(ranks)\n",
        "  # ----------------------\n",
        "  \n",
        "  return display_aggregate_metrics(ranks)\n",
        "\n",
        "X_train, X_val, X_test = train_set_split(dataset)\n",
        "training (X_train, X_val, X_test) #dataset.to_numpy()"
      ],
      "execution_count": 11,
      "outputs": [
        {
          "output_type": "stream",
          "name": "stdout",
          "text": [
            "Total triples: (230330, 3)\n",
            "Size of train: (230030, 3)\n",
            "Size of valid: (100, 3)\n",
            "Size of test: (200, 3)\n"
          ]
        },
        {
          "output_type": "stream",
          "name": "stderr",
          "text": [
            "Average TransE Loss:   0.023377: 100%|██████████| 100/100 [01:30<00:00,  1.11epoch/s]\n",
            "100%|██████████| 200/200 [00:02<00:00, 85.82it/s]\n"
          ]
        },
        {
          "output_type": "stream",
          "name": "stdout",
          "text": [
            "Test set: (200, 3)\n",
            "Size of ranks: (200, 2)\n",
            "Mean Rank: 146.66\n",
            "Mean Reciprocal Rank: 0.3404348344603207\n",
            "Hits@1: 0.245\n",
            "Hits@10: 0.52\n",
            "Hits@100: 0.795\n",
            "Mean Rank: 146.66\n",
            "Mean Reciprocal Rank: 0.3404348344603207\n",
            "Hits@1: 0.245\n",
            "Hits@10: 0.52\n",
            "Hits@100: 0.795\n"
          ]
        }
      ]
    },
    {
      "cell_type": "markdown",
      "metadata": {
        "id": "sYMsDmRuQLem"
      },
      "source": [
        "## Knowledge Discovery"
      ]
    },
    {
      "cell_type": "code",
      "source": [
        "from ampligraph.discovery import query_topn\n",
        "\n",
        "def QA_retrieve (input, top_n ):\n",
        "  head, relation1, tail = input[0], input[1], input[2]\n",
        "  if len(relation1.split('_')) <= 2:\n",
        "    relation2 = '{}_{}'.format(relation1.split('_')[1], relation1.split('_')[0])\n",
        "  elif len(relation1.split('_')) == 3:\n",
        "     relation2 = '{}_{}_{}'.format(relation1.split('_')[1], relation1.split('_')[2], relation1.split('_')[0])\n",
        "  else:\n",
        "    raise ValueError('error: relation length issue')\n",
        "  # restore the previously saved model to save time\n",
        "  model = restore_model('TransE.pkl')\n",
        "  if relation1  in dataset['new_relation'].tolist():\n",
        "    triples1, scores1 = query_topn(model, top_n=top_n, \n",
        "                                head=head, \n",
        "                                relation=relation1, \n",
        "                                tail=tail, \n",
        "                                ents_to_consider=None, \n",
        "                                rels_to_consider=None)\n",
        "  else:\n",
        "    triples1, scores1 = [], []\n",
        "\n",
        "  if relation2  in dataset['new_relation'].tolist():\n",
        "    triples2, scores2 = query_topn(model, top_n=top_n, \n",
        "                                head=tail, \n",
        "                                relation=relation2, \n",
        "                                tail=head, \n",
        "                                ents_to_consider=None, \n",
        "                                rels_to_consider=None)\n",
        "  else:\n",
        "    triples2, scores2 = [], []\n",
        "\n",
        "  if len(triples1) + len(triples2) == top_n:\n",
        "    if len(triples1) ==0: \n",
        "      triples = triples1 + triples2.tolist()\n",
        "      scores = scores1+ scores2.tolist()\n",
        "    else:\n",
        "      triples = triples1.tolist() + triples2\n",
        "      scores = scores1.tolist() + scores2\n",
        "  else:\n",
        "    end_idx = round(top_n/2)\n",
        "    triples = triples1.tolist()[:end_idx] + triples2.tolist()[:end_idx]\n",
        "    scores = scores1.tolist()[:end_idx] + scores2.tolist()[:end_idx]\n",
        "   \n",
        "  for triple, score in zip(triples, scores):\n",
        "      print('Score: {} \\t {} '.format(score, triple))\n",
        "  return triples, scores\n",
        " \n"
      ],
      "metadata": {
        "id": "MnG3epqEU5Cz",
        "outputId": "c4f318f9-ba40-42f9-fdf3-8f0631bdbec8",
        "colab": {
          "base_uri": "https://localhost:8080/"
        }
      },
      "execution_count": 18,
      "outputs": [
        {
          "output_type": "stream",
          "name": "stdout",
          "text": [
            "------------------------------------------------------------\n",
            "what are the possible therapeutic procedure of covid-19?\n",
            "Score: -16.434627532958984 \t ['covid-19', 'disease_treat_procedure', 'rna'] \n",
            "Score: -17.02564239501953 \t ['covid-19', 'disease_treat_procedure', 'vaccine'] \n",
            "Score: -17.09100341796875 \t ['covid-19', 'disease_treat_procedure', 'virus'] \n",
            "Score: -17.256481170654297 \t ['covid-19', 'disease_treat_procedure', 'pandemic'] \n",
            "Score: -17.416189193725586 \t ['covid-19', 'disease_treat_procedure', 'infection'] \n",
            "Score: -17.526891708374023 \t ['covid-19', 'disease_treat_procedure', 'inflammation'] \n",
            "Score: -17.546966552734375 \t ['covid-19', 'disease_treat_procedure', 'pneumonia'] \n",
            "Score: -17.608928680419922 \t ['covid-19', 'disease_treat_procedure', 'covid'] \n",
            "Score: -17.630043029785156 \t ['covid-19', 'disease_treat_procedure', 'u'] \n",
            "Score: -17.782428741455078 \t ['covid-19', 'disease_treat_procedure', 'sars cov infection'] \n",
            "Score: -17.480186462402344 \t ['critical', 'treat_procedure_disease', 'covid-19'] \n",
            "Score: -17.547893524169922 \t ['lower', 'treat_procedure_disease', 'covid-19'] \n",
            "Score: -17.594173431396484 \t ['pandemic', 'treat_procedure_disease', 'covid-19'] \n",
            "Score: -17.7694091796875 \t ['lung', 'treat_procedure_disease', 'covid-19'] \n",
            "Score: -17.83169937133789 \t ['2009', 'treat_procedure_disease', 'covid-19'] \n",
            "Score: -17.841638565063477 \t ['infection', 'treat_procedure_disease', 'covid-19'] \n",
            "Score: -17.861759185791016 \t ['vaccine', 'treat_procedure_disease', 'covid-19'] \n",
            "Score: -17.877063751220703 \t ['rna', 'treat_procedure_disease', 'covid-19'] \n",
            "Score: -17.922958374023438 \t ['blood', 'treat_procedure_disease', 'covid-19'] \n",
            "Score: -17.980854034423828 \t ['disease', 'treat_procedure_disease', 'covid-19'] \n",
            "------------------------------------------------------------\n",
            "What are related diseases of Covid-19\n",
            "Score: -8.645862579345703 \t ['covid-19', 'disease_disease', 'covid-19'] \n",
            "Score: -13.765108108520508 \t ['covid-19', 'disease_disease', 'he'] \n",
            "Score: -13.881608963012695 \t ['covid-19', 'disease_disease', 'same'] \n",
            "Score: -14.093953132629395 \t ['covid-19', 'disease_disease', 'sars cov infection'] \n",
            "Score: -14.219968795776367 \t ['covid-19', 'disease_disease', 'covid'] \n",
            "Score: -14.27951717376709 \t ['covid-19', 'disease_disease', 'obesity'] \n",
            "Score: -14.355500221252441 \t ['covid-19', 'disease_disease', 'lupus erythematosus'] \n",
            "Score: -14.387307167053223 \t ['covid-19', 'disease_disease', 'copd'] \n",
            "Score: -14.403966903686523 \t ['covid-19', 'disease_disease', 'yellow fever'] \n",
            "Score: -14.428641319274902 \t ['covid-19', 'disease_disease', 'cytomegalovirus'] \n",
            "Score: -8.645862579345703 \t ['covid-19', 'disease_disease', 'covid-19'] \n",
            "Score: -12.899194717407227 \t ['2009', 'disease_disease', 'covid-19'] \n",
            "Score: -12.988446235656738 \t ['major', 'disease_disease', 'covid-19'] \n",
            "Score: -13.588272094726562 \t ['inflammatory', 'disease_disease', 'covid-19'] \n",
            "Score: -13.743194580078125 \t ['same', 'disease_disease', 'covid-19'] \n",
            "Score: -13.765483856201172 \t ['infectious', 'disease_disease', 'covid-19'] \n",
            "Score: -13.865945816040039 \t ['lower', 'disease_disease', 'covid-19'] \n",
            "Score: -13.949602127075195 \t ['severe', 'disease_disease', 'covid-19'] \n",
            "Score: -14.052038192749023 \t ['emerging', 'disease_disease', 'covid-19'] \n",
            "Score: -14.30272102355957 \t ['high', 'disease_disease', 'covid-19'] \n",
            "------------------------------------------------------------\n",
            "What are the genes/proteins related to Covid-19\n",
            "Score: -17.248306274414062 \t ['covid-19', 'disease_gene', 'rna'] \n",
            "Score: -17.30697250366211 \t ['covid-19', 'disease_gene', 'virus'] \n",
            "Score: -17.559188842773438 \t ['covid-19', 'disease_gene', 'rbd'] \n",
            "Score: -17.833660125732422 \t ['covid-19', 'disease_gene', 'infection'] \n",
            "Score: -18.398649215698242 \t ['covid-19', 'disease_gene', 'vaccine'] \n",
            "Score: -18.3986873626709 \t ['covid-19', 'disease_gene', 'ctd'] \n",
            "Score: -18.588504791259766 \t ['covid-19', 'disease_gene', 'rna virus'] \n",
            "Score: -18.65026092529297 \t ['covid-19', 'disease_gene', 'viral infection'] \n",
            "Score: -18.68259620666504 \t ['covid-19', 'disease_gene', 'pandemic'] \n",
            "Score: -18.772077560424805 \t ['covid-19', 'disease_gene', 'v'] \n",
            "Score: -19.103702545166016 \t ['rna', 'gene_disease', 'covid-19'] \n",
            "Score: -19.25002098083496 \t ['2009', 'gene_disease', 'covid-19'] \n",
            "Score: -19.661710739135742 \t ['virus', 'gene_disease', 'covid-19'] \n",
            "Score: -19.691076278686523 \t ['infection', 'gene_disease', 'covid-19'] \n",
            "Score: -19.764516830444336 \t ['critical', 'gene_disease', 'covid-19'] \n",
            "Score: -19.913490295410156 \t ['viral infection', 'gene_disease', 'covid-19'] \n",
            "Score: -20.128971099853516 \t ['virus infection', 'gene_disease', 'covid-19'] \n",
            "Score: -20.129980087280273 \t ['lower', 'gene_disease', 'covid-19'] \n",
            "Score: -20.14559555053711 \t ['lung', 'gene_disease', 'covid-19'] \n",
            "Score: -20.176620483398438 \t ['rbd', 'gene_disease', 'covid-19'] \n",
            "------------------------------------------------------------\n",
            "What species transmit the covid-19?\n",
            "Score: -16.713050842285156 \t ['covid-19', 'disease_species', 'covid-19'] \n",
            "Score: -17.207841873168945 \t ['covid-19', 'disease_species', 'infection'] \n",
            "Score: -17.241226196289062 \t ['covid-19', 'disease_species', 'disease'] \n",
            "Score: -17.349605560302734 \t ['covid-19', 'disease_species', 'virus'] \n",
            "Score: -17.81090545654297 \t ['covid-19', 'disease_species', 'sars cov infection'] \n",
            "Score: -17.88253402709961 \t ['covid-19', 'disease_species', 'vaccine'] \n",
            "Score: -17.957801818847656 \t ['covid-19', 'disease_species', 'covid'] \n",
            "Score: -18.017560958862305 \t ['covid-19', 'disease_species', 'pneumonia'] \n",
            "Score: -18.082244873046875 \t ['covid-19', 'disease_species', 'viral infection'] \n",
            "Score: -18.12738037109375 \t ['covid-19', 'disease_species', 'tuberculosis'] \n",
            "Score: -18.215770721435547 \t ['covid-19', 'disease_species', 'coronavirus infection'] \n",
            "Score: -18.269088745117188 \t ['covid-19', 'disease_species', 'condition'] \n",
            "Score: -18.29644775390625 \t ['covid-19', 'disease_species', 'pandemic'] \n",
            "Score: -18.299625396728516 \t ['covid-19', 'disease_species', 'enteritis'] \n",
            "Score: -18.31499481201172 \t ['covid-19', 'disease_species', 'rotavirus infection'] \n",
            "Score: -18.34790802001953 \t ['covid-19', 'disease_species', 'syndrome'] \n",
            "Score: -18.408401489257812 \t ['covid-19', 'disease_species', 'epidemic'] \n",
            "Score: -18.43988800048828 \t ['covid-19', 'disease_species', 'obesity'] \n",
            "Score: -18.470218658447266 \t ['covid-19', 'disease_species', 'infectious disease'] \n",
            "Score: -18.518409729003906 \t ['covid-19', 'disease_species', 'respiratory infection'] \n",
            "------------------------------------------------------------\n",
            "what are symptoms of the covid-19?\n",
            "Score: -12.8814697265625 \t ['covid-19', 'disease_symptom', 'covid-19'] \n",
            "Score: -14.501760482788086 \t ['covid-19', 'disease_symptom', 'disease'] \n",
            "Score: -14.729450225830078 \t ['covid-19', 'disease_symptom', 'covid'] \n",
            "Score: -14.795159339904785 \t ['covid-19', 'disease_symptom', 'infection'] \n",
            "Score: -14.833374977111816 \t ['covid-19', 'disease_symptom', 'malaria'] \n",
            "Score: -14.84648323059082 \t ['covid-19', 'disease_symptom', 'depression'] \n",
            "Score: -14.930879592895508 \t ['covid-19', 'disease_symptom', 'condition'] \n",
            "Score: -14.938597679138184 \t ['covid-19', 'disease_symptom', 'b'] \n",
            "Score: -14.944305419921875 \t ['covid-19', 'disease_symptom', 'virus'] \n",
            "Score: -14.964784622192383 \t ['covid-19', 'disease_symptom', 'viral infection'] \n",
            "Score: -13.699708938598633 \t ['covid-19', 'symptom_disease', 'covid-19'] \n",
            "Score: -14.581747055053711 \t ['dehydration', 'symptom_disease', 'covid-19'] \n",
            "Score: -14.600129127502441 \t ['severe', 'symptom_disease', 'covid-19'] \n",
            "Score: -14.648176193237305 \t ['mitochondrial dysfunction', 'symptom_disease', 'covid-19'] \n",
            "Score: -14.684820175170898 \t ['same', 'symptom_disease', 'covid-19'] \n",
            "Score: -14.766514778137207 \t ['lower', 'symptom_disease', 'covid-19'] \n",
            "Score: -14.857848167419434 \t ['icu', 'symptom_disease', 'covid-19'] \n",
            "Score: -14.88479232788086 \t ['pulmonary edema', 'symptom_disease', 'covid-19'] \n",
            "Score: -14.959451675415039 \t ['edema', 'symptom_disease', 'covid-19'] \n",
            "Score: -14.963744163513184 \t ['depression', 'symptom_disease', 'covid-19'] \n",
            "------------------------------------------------------------\n",
            "What are potential drugs to treat COVID-19?\n",
            "Score: -14.380311965942383 \t ['covid-19', 'disease_drug', 'covid-19'] \n",
            "Score: -15.393205642700195 \t ['covid-19', 'disease_drug', 'rna'] \n",
            "Score: -15.475703239440918 \t ['covid-19', 'disease_drug', 'virus'] \n",
            "Score: -15.489034652709961 \t ['covid-19', 'disease_drug', 'infection'] \n",
            "Score: -15.608049392700195 \t ['covid-19', 'disease_drug', 'covid'] \n",
            "Score: -15.65832233428955 \t ['covid-19', 'disease_drug', 'y'] \n",
            "Score: -15.663623809814453 \t ['covid-19', 'disease_drug', 'vaccine'] \n",
            "Score: -15.69981861114502 \t ['covid-19', 'disease_drug', 'disease'] \n",
            "Score: -15.732964515686035 \t ['covid-19', 'disease_drug', 'v'] \n",
            "Score: -15.782668113708496 \t ['covid-19', 'disease_drug', 'inflammation'] \n",
            "Score: -15.606760025024414 \t ['covid-19', 'drug_disease', 'covid-19'] \n",
            "Score: -17.59408187866211 \t ['high', 'drug_disease', 'covid-19'] \n",
            "Score: -17.68429946899414 \t ['lower', 'drug_disease', 'covid-19'] \n",
            "Score: -17.718463897705078 \t ['critical', 'drug_disease', 'covid-19'] \n",
            "Score: -17.791866302490234 \t ['rna', 'drug_disease', 'covid-19'] \n",
            "Score: -17.82610321044922 \t ['2009', 'drug_disease', 'covid-19'] \n",
            "Score: -17.831253051757812 \t ['disease', 'drug_disease', 'covid-19'] \n",
            "Score: -17.857580184936523 \t ['infection', 'drug_disease', 'covid-19'] \n",
            "Score: -17.86646842956543 \t ['utr', 'drug_disease', 'covid-19'] \n",
            "Score: -17.898300170898438 \t ['lung injury', 'drug_disease', 'covid-19'] \n"
          ]
        }
      ]
    },
    {
      "cell_type": "code",
      "source": [
        "# Query1: what are the possible therapeutic procedure of covid-19??\n",
        "print ('------------------------------------------------------------')\n",
        "print('what are the possible therapeutic procedure of covid-19?')\n",
        "question1 = QA_retrieve (['covid-19', 'disease_treat_procedure', None], top_n = 20)\n",
        "\n",
        "# Query2: What are related diseases of Covid-19\n",
        "print ('------------------------------------------------------------')\n",
        "print('What are related diseases of Covid-19')\n",
        "question2 = QA_retrieve (['covid-19', 'disease_disease', None], top_n = 20)\n",
        "\n",
        "# Query3: What are the genes/proteins related to Covid-19\n",
        "print ('------------------------------------------------------------')\n",
        "print('What are the genes/proteins related to Covid-19')\n",
        "question3 = QA_retrieve (['covid-19', 'disease_gene', None], top_n = 20)\n",
        "\n",
        "# Query4: What species transmit the covid-19\n",
        "print ('------------------------------------------------------------')\n",
        "print('What species transmit the covid-19?')\n",
        "question4 = QA_retrieve (['covid-19', 'disease_species', None], top_n = 20)\n",
        "\n",
        "# Query: what are symptoms of the covid-19\n",
        "print ('------------------------------------------------------------')\n",
        "print('what are symptoms of the covid-19?')\n",
        "question5 = QA_retrieve (['covid-19', 'disease_symptom', None], top_n = 20)\n",
        "\n",
        "# What are potential drugs to treat COVID-19?\n",
        "print ('------------------------------------------------------------')\n",
        "print('What are potential drugs to treat COVID-19?')\n",
        "question6 = QA_retrieve (['covid-19', 'disease_drug', None], top_n = 20)"
      ],
      "metadata": {
        "id": "5opzaNdZ-DtE"
      },
      "execution_count": null,
      "outputs": []
    },
    {
      "cell_type": "code",
      "metadata": {
        "id": "qxXS3g4yJT15"
      },
      "source": [
        "# Compare the raw call and graph embedding results for the symptoms query\n",
        "\n",
        "## raw call\n",
        "#dataset.loc[(dataset['subject']=='symptom')].head(20)\n",
        "\n",
        "#####==> the result of raw call seems to be better"
      ],
      "execution_count": null,
      "outputs": []
    },
    {
      "cell_type": "markdown",
      "source": [
        "# Train model, and Knowledge mining with different % of dataset"
      ],
      "metadata": {
        "id": "sCzC8K_m_pq0"
      }
    },
    {
      "cell_type": "code",
      "metadata": {
        "id": "W-wl5yQgLRat"
      },
      "source": [
        "for idx in range(len(subsets)):\n",
        "  data = subsets[:idx+1]"
      ],
      "execution_count": null,
      "outputs": []
    }
  ]
}