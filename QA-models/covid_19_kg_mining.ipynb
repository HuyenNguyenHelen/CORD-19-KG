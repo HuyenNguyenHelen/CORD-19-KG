{
  "nbformat": 4,
  "nbformat_minor": 0,
  "metadata": {
    "colab": {
      "name": "covid-19-kg-mining.ipynb",
      "provenance": [],
      "collapsed_sections": [],
      "toc_visible": true,
      "include_colab_link": true
    },
    "kernelspec": {
      "name": "python3",
      "display_name": "Python 3"
    },
    "language_info": {
      "name": "python"
    },
    "accelerator": "GPU"
  },
  "cells": [
    {
      "cell_type": "markdown",
      "metadata": {
        "id": "view-in-github",
        "colab_type": "text"
      },
      "source": [
        "<a href=\"https://colab.research.google.com/github/HuyenNguyenHelen/CORD-19-KG/blob/master/QA-models/covid_19_kg_mining.ipynb\" target=\"_parent\"><img src=\"https://colab.research.google.com/assets/colab-badge.svg\" alt=\"Open In Colab\"/></a>"
      ]
    },
    {
      "cell_type": "markdown",
      "metadata": {
        "id": "xUFXMJVdOltr"
      },
      "source": [
        "## Preliminaries"
      ]
    },
    {
      "cell_type": "code",
      "metadata": {
        "id": "P7TZVvkzNwDF",
        "colab": {
          "base_uri": "https://localhost:8080/"
        },
        "outputId": "fc687a46-eb93-4ba8-e866-bc52241a52f2"
      },
      "source": [
        "# If using Google Colab run this cell \n",
        "\n",
        "# select tensorflow version for colab \n",
        "%tensorflow_version 1.x"
      ],
      "execution_count": 1,
      "outputs": [
        {
          "output_type": "stream",
          "name": "stdout",
          "text": [
            "TensorFlow 1.x selected.\n"
          ]
        }
      ]
    },
    {
      "cell_type": "code",
      "metadata": {
        "colab": {
          "base_uri": "https://localhost:8080/"
        },
        "id": "h22uybHCOUyq",
        "outputId": "712c1155-0d7d-49a4-fa73-6ac76bd5185a"
      },
      "source": [
        "import tensorflow as tf \n",
        "\n",
        "print('TensorFlow  version: {}'.format(tf.__version__))\n",
        "\n",
        "# Get the GPU name\n",
        "device_name = tf.test.gpu_device_name()\n",
        "if device_name != '/device:GPU:0':\n",
        "  raise SystemError('GPU device not found')\n",
        "print('Found GPU at: {}'.format(device_name))"
      ],
      "execution_count": 2,
      "outputs": [
        {
          "output_type": "stream",
          "name": "stdout",
          "text": [
            "TensorFlow  version: 1.15.2\n",
            "Found GPU at: /device:GPU:0\n"
          ]
        }
      ]
    },
    {
      "cell_type": "code",
      "metadata": {
        "id": "MgZPAPapOaLA"
      },
      "source": [
        "%%capture \n",
        "# Install AmpliGraph library\n",
        "! pip install ampligraph\n",
        "\n",
        "# Required to visualize embeddings with tensorboard projector, comment out if not required!\n",
        "! pip install --user tensorboard\n",
        "\n",
        "# Required to plot text on embedding clusters, comment out if not required!\n",
        "! pip install --user git+https://github.com/Phlya/adjustText"
      ],
      "execution_count": 3,
      "outputs": []
    },
    {
      "cell_type": "code",
      "metadata": {
        "colab": {
          "base_uri": "https://localhost:8080/"
        },
        "id": "9Bzg5vHqOfch",
        "outputId": "c9d5d984-c4b4-49b0-fb0b-ab8a8b76caa7"
      },
      "source": [
        "# All imports used in this tutorial \n",
        "%tensorflow_version 1.x\n",
        "import ampligraph\n",
        "import numpy as np\n",
        "import pandas as pd\n",
        "import tensorflow as tf\n",
        "from ampligraph.datasets import load_fb15k_237\n",
        "from ampligraph.evaluation import train_test_split_no_unseen, evaluate_performance, mr_score, mrr_score, hits_at_n_score\n",
        "from ampligraph.discovery import query_topn, discover_facts, find_clusters\n",
        "from ampligraph.latent_features import TransE, ComplEx, HolE, DistMult, ConvE, ConvKB\n",
        "from ampligraph.utils import save_model, restore_model\n",
        "\n",
        "def display_aggregate_metrics(ranks):\n",
        "    print('Mean Rank:', mr_score(ranks)) \n",
        "    print('Mean Reciprocal Rank:', mrr_score(ranks)) \n",
        "    print('Hits@1:', hits_at_n_score(ranks, 1))\n",
        "    print('Hits@10:', hits_at_n_score(ranks, 10))\n",
        "    print('Hits@100:', hits_at_n_score(ranks, 100))\n",
        "\n",
        "print('Ampligraph version: {}'.format(ampligraph.__version__))"
      ],
      "execution_count": 4,
      "outputs": [
        {
          "output_type": "stream",
          "name": "stdout",
          "text": [
            "Ampligraph version: 1.4.0\n"
          ]
        }
      ]
    },
    {
      "cell_type": "code",
      "metadata": {
        "id": "k96fp70dOyyS"
      },
      "source": [
        "from ampligraph.datasets import load_fb15k_237, load_wn18rr, load_yago3_10\n",
        "import pandas as pd\n",
        "import requests\n",
        "import io"
      ],
      "execution_count": 5,
      "outputs": []
    },
    {
      "cell_type": "markdown",
      "metadata": {
        "id": "aBb8eVx6Osxx"
      },
      "source": [
        "## Loading Data \n",
        "(a triples dataset)"
      ]
    },
    {
      "cell_type": "code",
      "metadata": {
        "id": "woNtfTQ2bRgL",
        "colab": {
          "base_uri": "https://localhost:8080/",
          "height": 244
        },
        "outputId": "9e03de14-3b34-43ee-d26c-8b9ffdd25eca"
      },
      "source": [
        "# Downloading the csv file from your GitHub account\n",
        "re_pdf = requests.get('https://raw.githubusercontent.com/HuyenNguyenHelen/CORD-19-KG/master/Data/new_triples_with_predefined_relations_pdf_June20_.csv').content\n",
        "re_pmc = requests.get('https://raw.githubusercontent.com/HuyenNguyenHelen/CORD-19-KG/master/Data/new_triples_with_predefined_relations_pmc_June20_.csv').content\n",
        "pdf = pd.read_csv(io.StringIO(re_pdf.decode('utf-8')))\n",
        "pmc =  pd.read_csv(io.StringIO(re_pmc.decode('utf-8')))\n",
        "dataset = pd.concat([pmc, pdf])\n",
        "print(dataset.columns)\n",
        "dataset.drop(columns='Unnamed: 0', inplace=True)\n",
        "dataset = dataset[['subject','new_relation', 'object' ]]\n",
        "dataset.head(5)"
      ],
      "execution_count": 6,
      "outputs": [
        {
          "output_type": "stream",
          "name": "stdout",
          "text": [
            "Index(['Unnamed: 0', 'Unnamed: 0.1', 'subject', 'object', 'new_relation'], dtype='object')\n"
          ]
        },
        {
          "output_type": "execute_result",
          "data": {
            "text/html": [
              "<div>\n",
              "<style scoped>\n",
              "    .dataframe tbody tr th:only-of-type {\n",
              "        vertical-align: middle;\n",
              "    }\n",
              "\n",
              "    .dataframe tbody tr th {\n",
              "        vertical-align: top;\n",
              "    }\n",
              "\n",
              "    .dataframe thead th {\n",
              "        text-align: right;\n",
              "    }\n",
              "</style>\n",
              "<table border=\"1\" class=\"dataframe\">\n",
              "  <thead>\n",
              "    <tr style=\"text-align: right;\">\n",
              "      <th></th>\n",
              "      <th>subject</th>\n",
              "      <th>new_relation</th>\n",
              "      <th>object</th>\n",
              "    </tr>\n",
              "  </thead>\n",
              "  <tbody>\n",
              "    <tr>\n",
              "      <th>0</th>\n",
              "      <td>dysfunction</td>\n",
              "      <td>disease_species</td>\n",
              "      <td>child</td>\n",
              "    </tr>\n",
              "    <tr>\n",
              "      <th>1</th>\n",
              "      <td>et dysfunction</td>\n",
              "      <td>disease_species</td>\n",
              "      <td>child</td>\n",
              "    </tr>\n",
              "    <tr>\n",
              "      <th>2</th>\n",
              "      <td>et dysfunction</td>\n",
              "      <td>disease_species</td>\n",
              "      <td>child</td>\n",
              "    </tr>\n",
              "    <tr>\n",
              "      <th>3</th>\n",
              "      <td>rsv</td>\n",
              "      <td>disease_disease</td>\n",
              "      <td>virus</td>\n",
              "    </tr>\n",
              "    <tr>\n",
              "      <th>4</th>\n",
              "      <td>treatment</td>\n",
              "      <td>treat_procedure_species</td>\n",
              "      <td>child</td>\n",
              "    </tr>\n",
              "  </tbody>\n",
              "</table>\n",
              "</div>"
            ],
            "text/plain": [
              "          subject             new_relation object\n",
              "0     dysfunction          disease_species  child\n",
              "1  et dysfunction          disease_species  child\n",
              "2  et dysfunction          disease_species  child\n",
              "3             rsv          disease_disease  virus\n",
              "4       treatment  treat_procedure_species  child"
            ]
          },
          "metadata": {},
          "execution_count": 6
        }
      ]
    },
    {
      "cell_type": "code",
      "metadata": {
        "colab": {
          "base_uri": "https://localhost:8080/"
        },
        "id": "ne21mIAeO-Kh",
        "outputId": "1104d4f4-9043-44d1-a182-8aa4df4f30fe"
      },
      "source": [
        "print('Total triples in the KG:', dataset.shape)"
      ],
      "execution_count": 7,
      "outputs": [
        {
          "output_type": "stream",
          "name": "stdout",
          "text": [
            "Total triples in the KG: (230330, 3)\n"
          ]
        }
      ]
    },
    {
      "cell_type": "code",
      "metadata": {
        "id": "9WxrnxjodccM",
        "colab": {
          "base_uri": "https://localhost:8080/"
        },
        "outputId": "096ac22c-f3e8-4d51-897d-3dfbbb37aa16"
      },
      "source": [
        "print('the number of relations: \\n', dataset['new_relation'].value_counts())"
      ],
      "execution_count": 8,
      "outputs": [
        {
          "output_type": "stream",
          "name": "stdout",
          "text": [
            "the number of relations: \n",
            " disease_disease                    63192\n",
            "gene_gene                          24172\n",
            "disease_species                    22370\n",
            "gene_disease                       14220\n",
            "disease_gene                       13347\n",
            "disease_treat_procedure            10184\n",
            "treat_procedure_disease             8223\n",
            "drug_disease                        7250\n",
            "gene_treat_procedure                6142\n",
            "treat_procedure_treat_procedure     5625\n",
            "gene_species                        5298\n",
            "drug_gene                           5270\n",
            "drug_drug                           4613\n",
            "treat_procedure_gene                4602\n",
            "disease_symptom                     4354\n",
            "treat_procedure_species             4263\n",
            "disease_drug                        4044\n",
            "drug_species                        3680\n",
            "gene_drug                           3603\n",
            "symptom_disease                     3411\n",
            "symptom_symptom                     3266\n",
            "drug_treat_procedure                3229\n",
            "treat_procedure_drug                2578\n",
            "symptom_species                     1020\n",
            "gene_symptom                         614\n",
            "drug_symptom                         466\n",
            "treat_procedure_symptom              446\n",
            "symptom_treat_procedure              370\n",
            "symptom_gene                         309\n",
            "symptom_drug                         169\n",
            "Name: new_relation, dtype: int64\n"
          ]
        }
      ]
    },
    {
      "cell_type": "markdown",
      "source": [
        "# Data Processing\n",
        "Partition the triples into 10 portions that will be used for buiding QA systems"
      ],
      "metadata": {
        "id": "Faxo3McGqype"
      }
    },
    {
      "cell_type": "code",
      "source": [
        "# Shuffle the dataset\n",
        "dataset = dataset.sample(frac=1, axis=1).reset_index(drop=True)\n",
        "subsets = np.array_split(dataset, 10)  \n",
        "len(subsets)\n"
      ],
      "metadata": {
        "id": "pscvKD-2tIXP",
        "outputId": "136dd188-c43e-441c-f741-2586978a2793",
        "colab": {
          "base_uri": "https://localhost:8080/"
        }
      },
      "execution_count": 9,
      "outputs": [
        {
          "output_type": "execute_result",
          "data": {
            "text/plain": [
              "10"
            ]
          },
          "metadata": {},
          "execution_count": 9
        }
      ]
    },
    {
      "cell_type": "markdown",
      "source": [
        "# Developing QA system"
      ],
      "metadata": {
        "id": "nYe9PkDzrmgQ"
      }
    },
    {
      "cell_type": "markdown",
      "source": [
        "## Developing model"
      ],
      "metadata": {
        "id": "tGBIAwfSr_xJ"
      }
    },
    {
      "cell_type": "markdown",
      "metadata": {
        "id": "fLlcSqIBPEAQ"
      },
      "source": [
        "### Create training, validation and test splits"
      ]
    },
    {
      "cell_type": "code",
      "metadata": {
        "id": "qaZipgBpPGop"
      },
      "source": [
        "from ampligraph.evaluation import train_test_split_no_unseen\n",
        "def train_set_split (ds, test_frac = 1000, val_frac = 500 ):\n",
        "  # get the validation set of size 500\n",
        "  test_train, X_test = train_test_split_no_unseen(ds.values, test_frac, seed=0)\n",
        "\n",
        "  # get the test set of size 1000 from the remaining triples\n",
        "  X_train, X_val = train_test_split_no_unseen(test_train, val_frac, seed=0)\n",
        "\n",
        "  print('Total triples:', dataset.shape)\n",
        "  print('Size of train:', X_train.shape)\n",
        "  print('Size of valid:', X_val.shape)\n",
        "  print('Size of test:', X_test.shape)\n",
        "  return X_train, X_val, X_test"
      ],
      "execution_count": 10,
      "outputs": []
    },
    {
      "cell_type": "markdown",
      "metadata": {
        "id": "fzsmWo0zPMR6"
      },
      "source": [
        "### Model Training"
      ]
    },
    {
      "cell_type": "code",
      "metadata": {
        "id": "p9POL-1mPOsJ",
        "outputId": "5f24c8e7-9523-4079-d9b9-af428b41d680",
        "colab": {
          "base_uri": "https://localhost:8080/"
        }
      },
      "source": [
        "from ampligraph.latent_features import TransE\n",
        "\n",
        "def training (train_ds, val_ds, test_ds):\n",
        "  # Train a KGE model\n",
        "  model = TransE(k=300, \n",
        "                epochs=100, \n",
        "                eta=1, \n",
        "                loss='multiclass_nll', \n",
        "                initializer='xavier', initializer_params={'uniform': False},\n",
        "                regularizer='LP', regularizer_params= {'lambda': 0.001, 'p': 3},\n",
        "                optimizer= 'adam', optimizer_params= {'lr': 0.0001}, \n",
        "                seed= 0, batches_count= 10, verbose=True)\n",
        "\n",
        "  model.fit(train_ds)\n",
        "  # ----------------------\n",
        "  # Evaluate: \n",
        "  # Filtered evaluation with ranking strategy assigning worst rank to break ties\n",
        "  from ampligraph.utils import save_model, restore_model\n",
        "  save_model(model, 'TransE.pkl')\n",
        "  model = restore_model('TransE.pkl')\n",
        "\n",
        "  # create the filter \n",
        "  X_filter = np.concatenate([train_ds, val_ds, test_ds], 0)\n",
        "\n",
        "  # compute ranks\n",
        "  ranks = evaluate_performance(test_ds, \n",
        "                              model=model, \n",
        "                              filter_triples=X_filter)\n",
        "\n",
        "  # ranks are computed per triple\n",
        "  print('Test set:', X_test.shape)\n",
        "  print('Size of ranks:', ranks.shape)\n",
        "\n",
        "  # Aggregate metrics show the aggregate performance of the model on the test set using a single number\n",
        "  display_aggregate_metrics(ranks)\n",
        "  # ----------------------\n",
        "  \n",
        "  return display_aggregate_metrics(ranks)\n",
        "\n",
        "X_train, X_val, X_test = train_set_split(dataset)\n",
        "training (dataset.to_numpy(), X_val, X_test)"
      ],
      "execution_count": 13,
      "outputs": [
        {
          "output_type": "stream",
          "name": "stdout",
          "text": [
            "Total triples: (230330, 3)\n",
            "Size of train: (228830, 3)\n",
            "Size of valid: (500, 3)\n",
            "Size of test: (1000, 3)\n"
          ]
        },
        {
          "output_type": "stream",
          "name": "stderr",
          "text": [
            "Average TransE Loss:   0.037057: 100%|██████████| 100/100 [00:25<00:00,  3.92epoch/s]\n",
            "100%|██████████| 1000/1000 [00:09<00:00, 107.46it/s]\n"
          ]
        },
        {
          "output_type": "stream",
          "name": "stdout",
          "text": [
            "Test set: (1000, 3)\n",
            "Size of ranks: (1000, 2)\n",
            "Mean Rank: 90.363\n",
            "Mean Reciprocal Rank: 0.5182153751160196\n",
            "Hits@1: 0.363\n",
            "Hits@10: 0.7005\n",
            "Hits@100: 0.8475\n",
            "Mean Rank: 90.363\n",
            "Mean Reciprocal Rank: 0.5182153751160196\n",
            "Hits@1: 0.363\n",
            "Hits@10: 0.7005\n",
            "Hits@100: 0.8475\n"
          ]
        }
      ]
    },
    {
      "cell_type": "markdown",
      "metadata": {
        "id": "sYMsDmRuQLem"
      },
      "source": [
        "## Knowledge Discovery"
      ]
    },
    {
      "cell_type": "code",
      "source": [
        "from ampligraph.discovery import query_topn\n",
        "def QA_retrieve (input, top_n ):\n",
        "  head, relation, tail = input[0], input[1], input[2]\n",
        "  # restore the previously saved model to save time\n",
        "  model = restore_model('TransE.pkl')\n",
        "  triples1, scores1 = query_topn(model, top_n=top_n, \n",
        "                              head=head, \n",
        "                              relation=relation, \n",
        "                              tail=tail, \n",
        "                              ents_to_consider=None, \n",
        "                              rels_to_consider=None)\n",
        "  triples2, scores2 = query_topn(model, top_n=top_n, \n",
        "                              head=tail, \n",
        "                              relation=relation, \n",
        "                              tail=head, \n",
        "                              ents_to_consider=None, \n",
        "                              rels_to_consider=None)\n",
        "  if len(triples1) + len(triples2) == top_n:\n",
        "    triples = np.concatenate((triples1, triples2), axis=0) \n",
        "    scores = np.concatenate((scores1, scores2), axis=0)\n",
        "  else:\n",
        "    triples = np.concatenate((triples1[:(round(top_n/2))], triples2 [:(round(top_n/2))]), axis=0) \n",
        "    scores = np.concatenate((scores1[:(round(top_n/2))] + scores2[:(round(top_n/2))]), axis=0) \n",
        "  \n",
        "  for triple, score in zip(triples, scores):\n",
        "      print('Score: {} \\t {} '.format(score, triple))\n",
        "  return triples, scores\n",
        "  # print(type(triples1))\n",
        "  # print(type(scores1))\n",
        "  # print(type(triples2))\n",
        "  # print(type(scores2))\n",
        "  # print(triples1)\n",
        "\n",
        "question1 = QA_retrieve (['covid-19', 'disease_symptom', None], top_n = 20)\n",
        "\n",
        "# for rel in dataset['new_relation'].value_counts():\n",
        "#   QA_retrieve (['covid-19', rel, None], top_n = 20)\n",
        "\n"
      ],
      "metadata": {
        "id": "MnG3epqEU5Cz",
        "outputId": "a1f33d93-6708-4843-810e-cd29cea6812c",
        "colab": {
          "base_uri": "https://localhost:8080/",
          "height": 523
        }
      },
      "execution_count": 14,
      "outputs": [
        {
          "output_type": "stream",
          "name": "stdout",
          "text": [
            "ERROR - Input triples include one or more relations not present in the training set. Please filter all concepts in X that do not occur in the training test (set filter_unseen=True in evaluate_performance) or retrain the model on a training set that includes all the desired concept types.\n"
          ]
        },
        {
          "output_type": "error",
          "ename": "ValueError",
          "evalue": "ignored",
          "traceback": [
            "\u001b[0;31m---------------------------------------------------------------------------\u001b[0m",
            "\u001b[0;31mValueError\u001b[0m                                Traceback (most recent call last)",
            "\u001b[0;32m<ipython-input-14-22ecc33c5bbc>\u001b[0m in \u001b[0;36m<module>\u001b[0;34m()\u001b[0m\n\u001b[1;32m     32\u001b[0m   \u001b[0;31m# print(triples1)\u001b[0m\u001b[0;34m\u001b[0m\u001b[0;34m\u001b[0m\u001b[0;34m\u001b[0m\u001b[0m\n\u001b[1;32m     33\u001b[0m \u001b[0;34m\u001b[0m\u001b[0m\n\u001b[0;32m---> 34\u001b[0;31m \u001b[0mquestion1\u001b[0m \u001b[0;34m=\u001b[0m \u001b[0mQA_retrieve\u001b[0m \u001b[0;34m(\u001b[0m\u001b[0;34m[\u001b[0m\u001b[0;34m'covid-19'\u001b[0m\u001b[0;34m,\u001b[0m \u001b[0;34m'disease_symptom'\u001b[0m\u001b[0;34m,\u001b[0m \u001b[0;32mNone\u001b[0m\u001b[0;34m]\u001b[0m\u001b[0;34m,\u001b[0m \u001b[0mtop_n\u001b[0m \u001b[0;34m=\u001b[0m \u001b[0;36m20\u001b[0m\u001b[0;34m)\u001b[0m\u001b[0;34m\u001b[0m\u001b[0;34m\u001b[0m\u001b[0m\n\u001b[0m\u001b[1;32m     35\u001b[0m \u001b[0;34m\u001b[0m\u001b[0m\n\u001b[1;32m     36\u001b[0m \u001b[0;31m# for rel in dataset['new_relation'].value_counts():\u001b[0m\u001b[0;34m\u001b[0m\u001b[0;34m\u001b[0m\u001b[0;34m\u001b[0m\u001b[0m\n",
            "\u001b[0;32m<ipython-input-14-22ecc33c5bbc>\u001b[0m in \u001b[0;36mQA_retrieve\u001b[0;34m(input, top_n)\u001b[0m\n\u001b[1;32m      9\u001b[0m                               \u001b[0mtail\u001b[0m\u001b[0;34m=\u001b[0m\u001b[0mtail\u001b[0m\u001b[0;34m,\u001b[0m\u001b[0;34m\u001b[0m\u001b[0;34m\u001b[0m\u001b[0m\n\u001b[1;32m     10\u001b[0m                               \u001b[0ments_to_consider\u001b[0m\u001b[0;34m=\u001b[0m\u001b[0;32mNone\u001b[0m\u001b[0;34m,\u001b[0m\u001b[0;34m\u001b[0m\u001b[0;34m\u001b[0m\u001b[0m\n\u001b[0;32m---> 11\u001b[0;31m                               rels_to_consider=None)\n\u001b[0m\u001b[1;32m     12\u001b[0m   triples2, scores2 = query_topn(model, top_n=top_n, \n\u001b[1;32m     13\u001b[0m                               \u001b[0mhead\u001b[0m\u001b[0;34m=\u001b[0m\u001b[0mtail\u001b[0m\u001b[0;34m,\u001b[0m\u001b[0;34m\u001b[0m\u001b[0;34m\u001b[0m\u001b[0m\n",
            "\u001b[0;32m/usr/local/lib/python3.7/dist-packages/ampligraph/discovery/discovery.py\u001b[0m in \u001b[0;36mquery_topn\u001b[0;34m(model, top_n, head, relation, tail, ents_to_consider, rels_to_consider)\u001b[0m\n\u001b[1;32m    958\u001b[0m \u001b[0;34m\u001b[0m\u001b[0m\n\u001b[1;32m    959\u001b[0m     \u001b[0;31m# Get scores for completed triples\u001b[0m\u001b[0;34m\u001b[0m\u001b[0;34m\u001b[0m\u001b[0;34m\u001b[0m\u001b[0m\n\u001b[0;32m--> 960\u001b[0;31m     \u001b[0mscores\u001b[0m \u001b[0;34m=\u001b[0m \u001b[0mmodel\u001b[0m\u001b[0;34m.\u001b[0m\u001b[0mpredict\u001b[0m\u001b[0;34m(\u001b[0m\u001b[0mtriples\u001b[0m\u001b[0;34m)\u001b[0m\u001b[0;34m\u001b[0m\u001b[0;34m\u001b[0m\u001b[0m\n\u001b[0m\u001b[1;32m    961\u001b[0m \u001b[0;34m\u001b[0m\u001b[0m\n\u001b[1;32m    962\u001b[0m     \u001b[0;31m# Join triples and scores, sort ascending by scores, then take top_n results\u001b[0m\u001b[0;34m\u001b[0m\u001b[0;34m\u001b[0m\u001b[0;34m\u001b[0m\u001b[0m\n",
            "\u001b[0;32m/usr/local/lib/python3.7/dist-packages/ampligraph/latent_features/models/TransE.py\u001b[0m in \u001b[0;36mpredict\u001b[0;34m(self, X, from_idx)\u001b[0m\n\u001b[1;32m    327\u001b[0m     \u001b[0;32mdef\u001b[0m \u001b[0mpredict\u001b[0m\u001b[0;34m(\u001b[0m\u001b[0mself\u001b[0m\u001b[0;34m,\u001b[0m \u001b[0mX\u001b[0m\u001b[0;34m,\u001b[0m \u001b[0mfrom_idx\u001b[0m\u001b[0;34m=\u001b[0m\u001b[0;32mFalse\u001b[0m\u001b[0;34m)\u001b[0m\u001b[0;34m:\u001b[0m\u001b[0;34m\u001b[0m\u001b[0;34m\u001b[0m\u001b[0m\n\u001b[1;32m    328\u001b[0m         \u001b[0m__doc__\u001b[0m \u001b[0;34m=\u001b[0m \u001b[0msuper\u001b[0m\u001b[0;34m(\u001b[0m\u001b[0;34m)\u001b[0m\u001b[0;34m.\u001b[0m\u001b[0mpredict\u001b[0m\u001b[0;34m.\u001b[0m\u001b[0m__doc__\u001b[0m  \u001b[0;31m# NOQA\u001b[0m\u001b[0;34m\u001b[0m\u001b[0;34m\u001b[0m\u001b[0m\n\u001b[0;32m--> 329\u001b[0;31m         \u001b[0;32mreturn\u001b[0m \u001b[0msuper\u001b[0m\u001b[0;34m(\u001b[0m\u001b[0;34m)\u001b[0m\u001b[0;34m.\u001b[0m\u001b[0mpredict\u001b[0m\u001b[0;34m(\u001b[0m\u001b[0mX\u001b[0m\u001b[0;34m,\u001b[0m \u001b[0mfrom_idx\u001b[0m\u001b[0;34m=\u001b[0m\u001b[0mfrom_idx\u001b[0m\u001b[0;34m)\u001b[0m\u001b[0;34m\u001b[0m\u001b[0;34m\u001b[0m\u001b[0m\n\u001b[0m\u001b[1;32m    330\u001b[0m \u001b[0;34m\u001b[0m\u001b[0m\n\u001b[1;32m    331\u001b[0m     \u001b[0;32mdef\u001b[0m \u001b[0mcalibrate\u001b[0m\u001b[0;34m(\u001b[0m\u001b[0mself\u001b[0m\u001b[0;34m,\u001b[0m \u001b[0mX_pos\u001b[0m\u001b[0;34m,\u001b[0m \u001b[0mX_neg\u001b[0m\u001b[0;34m=\u001b[0m\u001b[0;32mNone\u001b[0m\u001b[0;34m,\u001b[0m \u001b[0mpositive_base_rate\u001b[0m\u001b[0;34m=\u001b[0m\u001b[0;32mNone\u001b[0m\u001b[0;34m,\u001b[0m \u001b[0mbatches_count\u001b[0m\u001b[0;34m=\u001b[0m\u001b[0;36m100\u001b[0m\u001b[0;34m,\u001b[0m \u001b[0mepochs\u001b[0m\u001b[0;34m=\u001b[0m\u001b[0;36m50\u001b[0m\u001b[0;34m)\u001b[0m\u001b[0;34m:\u001b[0m\u001b[0;34m\u001b[0m\u001b[0;34m\u001b[0m\u001b[0m\n",
            "\u001b[0;32m/usr/local/lib/python3.7/dist-packages/ampligraph/latent_features/models/EmbeddingModel.py\u001b[0m in \u001b[0;36mpredict\u001b[0;34m(self, X, from_idx)\u001b[0m\n\u001b[1;32m   1727\u001b[0m         \u001b[0;32mif\u001b[0m \u001b[0;32mnot\u001b[0m \u001b[0mself\u001b[0m\u001b[0;34m.\u001b[0m\u001b[0mdealing_with_large_graphs\u001b[0m\u001b[0;34m:\u001b[0m\u001b[0;34m\u001b[0m\u001b[0;34m\u001b[0m\u001b[0m\n\u001b[1;32m   1728\u001b[0m             \u001b[0;32mif\u001b[0m \u001b[0;32mnot\u001b[0m \u001b[0mfrom_idx\u001b[0m\u001b[0;34m:\u001b[0m\u001b[0;34m\u001b[0m\u001b[0;34m\u001b[0m\u001b[0m\n\u001b[0;32m-> 1729\u001b[0;31m                 \u001b[0mX\u001b[0m \u001b[0;34m=\u001b[0m \u001b[0mto_idx\u001b[0m\u001b[0;34m(\u001b[0m\u001b[0mX\u001b[0m\u001b[0;34m,\u001b[0m \u001b[0ment_to_idx\u001b[0m\u001b[0;34m=\u001b[0m\u001b[0mself\u001b[0m\u001b[0;34m.\u001b[0m\u001b[0ment_to_idx\u001b[0m\u001b[0;34m,\u001b[0m \u001b[0mrel_to_idx\u001b[0m\u001b[0;34m=\u001b[0m\u001b[0mself\u001b[0m\u001b[0;34m.\u001b[0m\u001b[0mrel_to_idx\u001b[0m\u001b[0;34m)\u001b[0m\u001b[0;34m\u001b[0m\u001b[0;34m\u001b[0m\u001b[0m\n\u001b[0m\u001b[1;32m   1730\u001b[0m             \u001b[0mx_tf\u001b[0m \u001b[0;34m=\u001b[0m \u001b[0mtf\u001b[0m\u001b[0;34m.\u001b[0m\u001b[0mVariable\u001b[0m\u001b[0;34m(\u001b[0m\u001b[0mX\u001b[0m\u001b[0;34m,\u001b[0m \u001b[0mdtype\u001b[0m\u001b[0;34m=\u001b[0m\u001b[0mtf\u001b[0m\u001b[0;34m.\u001b[0m\u001b[0mint32\u001b[0m\u001b[0;34m,\u001b[0m \u001b[0mtrainable\u001b[0m\u001b[0;34m=\u001b[0m\u001b[0;32mFalse\u001b[0m\u001b[0;34m)\u001b[0m\u001b[0;34m\u001b[0m\u001b[0;34m\u001b[0m\u001b[0m\n\u001b[1;32m   1731\u001b[0m \u001b[0;34m\u001b[0m\u001b[0m\n",
            "\u001b[0;32m/usr/local/lib/python3.7/dist-packages/ampligraph/evaluation/protocol.py\u001b[0m in \u001b[0;36mto_idx\u001b[0;34m(X, ent_to_idx, rel_to_idx)\u001b[0m\n\u001b[1;32m    686\u001b[0m     \u001b[0;32mif\u001b[0m \u001b[0mX\u001b[0m\u001b[0;34m.\u001b[0m\u001b[0mndim\u001b[0m \u001b[0;34m==\u001b[0m \u001b[0;36m1\u001b[0m\u001b[0;34m:\u001b[0m\u001b[0;34m\u001b[0m\u001b[0;34m\u001b[0m\u001b[0m\n\u001b[1;32m    687\u001b[0m         \u001b[0mX\u001b[0m \u001b[0;34m=\u001b[0m \u001b[0mX\u001b[0m\u001b[0;34m[\u001b[0m\u001b[0mnp\u001b[0m\u001b[0;34m.\u001b[0m\u001b[0mnewaxis\u001b[0m\u001b[0;34m,\u001b[0m \u001b[0;34m:\u001b[0m\u001b[0;34m]\u001b[0m\u001b[0;34m\u001b[0m\u001b[0;34m\u001b[0m\u001b[0m\n\u001b[0;32m--> 688\u001b[0;31m     \u001b[0;32mreturn\u001b[0m \u001b[0m_convert_to_idx\u001b[0m\u001b[0;34m(\u001b[0m\u001b[0mX\u001b[0m\u001b[0;34m,\u001b[0m \u001b[0ment_to_idx\u001b[0m\u001b[0;34m,\u001b[0m \u001b[0mrel_to_idx\u001b[0m\u001b[0;34m,\u001b[0m \u001b[0ment_to_idx\u001b[0m\u001b[0;34m)\u001b[0m\u001b[0;34m\u001b[0m\u001b[0;34m\u001b[0m\u001b[0m\n\u001b[0m\u001b[1;32m    689\u001b[0m \u001b[0;34m\u001b[0m\u001b[0m\n\u001b[1;32m    690\u001b[0m \u001b[0;34m\u001b[0m\u001b[0m\n",
            "\u001b[0;32m/usr/local/lib/python3.7/dist-packages/ampligraph/evaluation/protocol.py\u001b[0m in \u001b[0;36m_convert_to_idx\u001b[0;34m(X, ent_to_idx, rel_to_idx, obj_to_idx)\u001b[0m\n\u001b[1;32m    662\u001b[0m         \u001b[0munseen_msg\u001b[0m \u001b[0;34m=\u001b[0m \u001b[0munseen_msg\u001b[0m\u001b[0;34m.\u001b[0m\u001b[0mformat\u001b[0m\u001b[0;34m(\u001b[0m\u001b[0;34m**\u001b[0m\u001b[0;34m{\u001b[0m\u001b[0;34m'concept_type'\u001b[0m\u001b[0;34m:\u001b[0m \u001b[0;34m'relations'\u001b[0m\u001b[0;34m}\u001b[0m\u001b[0;34m)\u001b[0m\u001b[0;34m\u001b[0m\u001b[0;34m\u001b[0m\u001b[0m\n\u001b[1;32m    663\u001b[0m         \u001b[0mlogger\u001b[0m\u001b[0;34m.\u001b[0m\u001b[0merror\u001b[0m\u001b[0;34m(\u001b[0m\u001b[0munseen_msg\u001b[0m\u001b[0;34m)\u001b[0m\u001b[0;34m\u001b[0m\u001b[0;34m\u001b[0m\u001b[0m\n\u001b[0;32m--> 664\u001b[0;31m         \u001b[0;32mraise\u001b[0m \u001b[0mValueError\u001b[0m\u001b[0;34m(\u001b[0m\u001b[0munseen_msg\u001b[0m\u001b[0;34m)\u001b[0m\u001b[0;34m\u001b[0m\u001b[0;34m\u001b[0m\u001b[0m\n\u001b[0m\u001b[1;32m    665\u001b[0m \u001b[0;34m\u001b[0m\u001b[0m\n\u001b[1;32m    666\u001b[0m     \u001b[0;32mreturn\u001b[0m \u001b[0mnp\u001b[0m\u001b[0;34m.\u001b[0m\u001b[0mdstack\u001b[0m\u001b[0;34m(\u001b[0m\u001b[0;34m[\u001b[0m\u001b[0mx_idx_s\u001b[0m\u001b[0;34m,\u001b[0m \u001b[0mx_idx_p\u001b[0m\u001b[0;34m,\u001b[0m \u001b[0mx_idx_o\u001b[0m\u001b[0;34m]\u001b[0m\u001b[0;34m)\u001b[0m\u001b[0;34m.\u001b[0m\u001b[0mreshape\u001b[0m\u001b[0;34m(\u001b[0m\u001b[0;34m(\u001b[0m\u001b[0;34m-\u001b[0m\u001b[0;36m1\u001b[0m\u001b[0;34m,\u001b[0m \u001b[0;36m3\u001b[0m\u001b[0;34m)\u001b[0m\u001b[0;34m)\u001b[0m\u001b[0;34m\u001b[0m\u001b[0;34m\u001b[0m\u001b[0m\n",
            "\u001b[0;31mValueError\u001b[0m: Input triples include one or more relations not present in the training set. Please filter all concepts in X that do not occur in the training test (set filter_unseen=True in evaluate_performance) or retrain the model on a training set that includes all the desired concept types."
          ]
        }
      ]
    },
    {
      "cell_type": "markdown",
      "metadata": {
        "id": "Xd_bvL6dkkj6"
      },
      "source": [
        "### Relations"
      ]
    },
    {
      "cell_type": "code",
      "metadata": {
        "id": "_xWtlPK3fstK"
      },
      "source": [
        "print('the number of relations: \\n', dataset['new_relation'].value_counts())"
      ],
      "execution_count": null,
      "outputs": []
    },
    {
      "cell_type": "markdown",
      "metadata": {
        "id": "oGu6b-HnQRS3"
      },
      "source": [
        "``` \n",
        "    <head, relation, ?> \n",
        "    <head, ?,        tail>\n",
        "    <?,    relation, tail>\n",
        "```"
      ]
    },
    {
      "cell_type": "markdown",
      "metadata": {
        "id": "zq_rwrt5jTVJ"
      },
      "source": [
        "### Query: what are the possible therapeutic procedure of covid-19??"
      ]
    },
    {
      "cell_type": "code",
      "metadata": {
        "id": "j_cm34I_QNH3"
      },
      "source": [
        "# Query: what are the possible therapeutic procedure of covid-19??\n",
        "\n",
        "from ampligraph.discovery import query_topn\n",
        "\n",
        "# restore the previously saved model to save time\n",
        "model = restore_model('TransE.pkl')\n",
        "\n",
        "triples, scores = query_topn(model, top_n=20, \n",
        "                             head='covid-19', \n",
        "                             relation='disease_treat_procedure', \n",
        "                             tail=None, \n",
        "                             ents_to_consider=None, \n",
        "                             rels_to_consider=None)\n",
        "\n",
        "for triple, score in zip(triples, scores):\n",
        "    print('Score: {} \\t {} '.format(score, triple))"
      ],
      "execution_count": null,
      "outputs": []
    },
    {
      "cell_type": "code",
      "metadata": {
        "id": "njTpcGh0jBnU"
      },
      "source": [
        "# Query: what are the possible therapeutic procedure of covid-19??\n",
        "\n",
        "from ampligraph.discovery import query_topn\n",
        "\n",
        "# restore the previously saved model to save time\n",
        "model = restore_model('TransE.pkl')\n",
        "\n",
        "triples, scores = query_topn(model, top_n=20, \n",
        "                             head=None, \n",
        "                             relation='treat_procedure_disease', \n",
        "                             tail='covid-19', \n",
        "                             ents_to_consider=None, \n",
        "                             rels_to_consider=None)\n",
        "\n",
        "for triple, score in zip(triples, scores):\n",
        "    print('Score: {} \\t {} '.format(score, triple))"
      ],
      "execution_count": null,
      "outputs": []
    },
    {
      "cell_type": "markdown",
      "metadata": {
        "id": "M7ZUKoeVjuGN"
      },
      "source": [
        "### Query: What are related diseases of Covid-19"
      ]
    },
    {
      "cell_type": "code",
      "metadata": {
        "id": "TSZ8QHf6QdgP"
      },
      "source": [
        "# Predict relation\n",
        "\n",
        "triples, scores = query_topn(model, top_n=20, \n",
        "                             head='covid-19', \n",
        "                             relation='disease_disease', \n",
        "                             tail= None, \n",
        "                             ents_to_consider=None, \n",
        "                             rels_to_consider=None)\n",
        "\n",
        "for triple, score in zip(triples, scores):\n",
        "    print('Score: {} \\t {} '.format(score, triple))"
      ],
      "execution_count": null,
      "outputs": []
    },
    {
      "cell_type": "code",
      "metadata": {
        "id": "Fo9TXKFbkRRT"
      },
      "source": [
        "# Predict relation\n",
        "\n",
        "triples, scores = query_topn(model, top_n=20, \n",
        "                             head=None, \n",
        "                             relation='disease_disease', \n",
        "                             tail= 'covid-19', \n",
        "                             ents_to_consider=None, \n",
        "                             rels_to_consider=None)\n",
        "\n",
        "for triple, score in zip(triples, scores):\n",
        "    print('Score: {} \\t {} '.format(score, triple))"
      ],
      "execution_count": null,
      "outputs": []
    },
    {
      "cell_type": "markdown",
      "metadata": {
        "id": "1tXmffPBkw7Y"
      },
      "source": [
        "### Query: What are the genes/proteins related to Covid-19"
      ]
    },
    {
      "cell_type": "code",
      "metadata": {
        "id": "RZU9pJBXEvIG"
      },
      "source": [
        "# Predict relation\n",
        "\n",
        "triples, scores = query_topn(model, top_n=25, \n",
        "                             head='covid-19', \n",
        "                             relation='disease_gene', \n",
        "                             tail=None, \n",
        "                             ents_to_consider=None, \n",
        "                             rels_to_consider=None)\n",
        "\n",
        "for triple, score in zip(triples, scores):\n",
        "    print('Score: {} \\t {} '.format(score, triple))"
      ],
      "execution_count": null,
      "outputs": []
    },
    {
      "cell_type": "code",
      "metadata": {
        "id": "8Z7SxVTfIyCP"
      },
      "source": [
        "# Predict relation\n",
        "\n",
        "triples, scores = query_topn(model, top_n=25, \n",
        "                             head= None, \n",
        "                             relation='gene_disease', \n",
        "                             tail='covid-19', \n",
        "                             ents_to_consider=None, \n",
        "                             rels_to_consider=None)\n",
        "\n",
        "for triple, score in zip(triples, scores):\n",
        "    print('Score: {} \\t {} '.format(score, triple))"
      ],
      "execution_count": null,
      "outputs": []
    },
    {
      "cell_type": "markdown",
      "metadata": {
        "id": "6cuiw9D6ND6J"
      },
      "source": [
        "### Query: What species transmit the covid-19"
      ]
    },
    {
      "cell_type": "code",
      "metadata": {
        "id": "C5JyaTDrFMmG"
      },
      "source": [
        "# Predict relation\n",
        "triples, scores = query_topn(model, top_n=20, \n",
        "                             tail=None, \n",
        "                             relation='disease_species', \n",
        "                             head='covid-19', \n",
        "                             ents_to_consider=None, \n",
        "                             rels_to_consider=None)\n",
        "\n",
        "for triple, score in zip(triples, scores):\n",
        "    print('Score: {} \\t {} '.format(score, triple))"
      ],
      "execution_count": null,
      "outputs": []
    },
    {
      "cell_type": "markdown",
      "metadata": {
        "id": "ZEt3e55_NwvA"
      },
      "source": [
        "### Query: what are symptoms of the covid-19"
      ]
    },
    {
      "cell_type": "code",
      "metadata": {
        "id": "z-Y3oDDaGeLZ"
      },
      "source": [
        "\n",
        "triples, scores = query_topn(model, top_n=25, \n",
        "                             head=None, \n",
        "                             relation='symptom_disease', \n",
        "                             tail='covid-19', \n",
        "                             ents_to_consider=None, \n",
        "                             rels_to_consider=None)\n",
        "\n",
        "for triple, score in zip(triples, scores):\n",
        "    print('Score: {} \\t {} '.format(score, triple))"
      ],
      "execution_count": null,
      "outputs": []
    },
    {
      "cell_type": "code",
      "metadata": {
        "id": "EMoR_zzIOnLJ"
      },
      "source": [
        "triples, scores = query_topn(model, top_n=25, \n",
        "                             tail=None, \n",
        "                             relation='disease_symptom', \n",
        "                             head='covid-19', \n",
        "                             ents_to_consider=None, \n",
        "                             rels_to_consider=None)\n",
        "\n",
        "for triple, score in zip(triples, scores):\n",
        "    print('Score: {} \\t {} '.format(score, triple))"
      ],
      "execution_count": null,
      "outputs": []
    },
    {
      "cell_type": "markdown",
      "metadata": {
        "id": "94nJ6TmMd8pE"
      },
      "source": [
        "### What are potential drugs to treat COVID-19?"
      ]
    },
    {
      "cell_type": "code",
      "metadata": {
        "id": "7sPl6SFZeXX-"
      },
      "source": [
        "\n",
        "triples, scores = query_topn(model, top_n=30, \n",
        "                             head=None, \n",
        "                             relation='drug_disease', \n",
        "                             tail='covid-19', \n",
        "                             ents_to_consider=None, \n",
        "                             rels_to_consider=None)\n",
        "\n",
        "for triple, score in zip(triples, scores):\n",
        "    print('Score: {} \\t {} '.format(score, triple))"
      ],
      "execution_count": null,
      "outputs": []
    },
    {
      "cell_type": "code",
      "metadata": {
        "id": "qxXS3g4yJT15"
      },
      "source": [
        "# Compare the raw call and graph embedding results for the symptoms query\n",
        "\n",
        "## raw call\n",
        "#dataset.loc[(dataset['subject']=='symptom')].head(20)\n",
        "\n",
        "#####==> the result of raw call seems to be better"
      ],
      "execution_count": null,
      "outputs": []
    },
    {
      "cell_type": "code",
      "metadata": {
        "id": "W-wl5yQgLRat"
      },
      "source": [
        ""
      ],
      "execution_count": null,
      "outputs": []
    }
  ]
}