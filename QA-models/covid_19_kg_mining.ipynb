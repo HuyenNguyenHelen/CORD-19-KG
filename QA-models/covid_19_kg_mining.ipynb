{
  "nbformat": 4,
  "nbformat_minor": 0,
  "metadata": {
    "colab": {
      "name": "covid-19-kg-mining.ipynb",
      "provenance": [],
      "collapsed_sections": [],
      "toc_visible": true,
      "include_colab_link": true
    },
    "kernelspec": {
      "name": "python3",
      "display_name": "Python 3"
    },
    "language_info": {
      "name": "python"
    },
    "accelerator": "GPU"
  },
  "cells": [
    {
      "cell_type": "markdown",
      "metadata": {
        "id": "view-in-github",
        "colab_type": "text"
      },
      "source": [
        "<a href=\"https://colab.research.google.com/github/HuyenNguyenHelen/CORD-19-KG/blob/master/QA-models/covid_19_kg_mining.ipynb\" target=\"_parent\"><img src=\"https://colab.research.google.com/assets/colab-badge.svg\" alt=\"Open In Colab\"/></a>"
      ]
    },
    {
      "cell_type": "markdown",
      "metadata": {
        "id": "xUFXMJVdOltr"
      },
      "source": [
        "## Preliminaries"
      ]
    },
    {
      "cell_type": "code",
      "metadata": {
        "id": "P7TZVvkzNwDF",
        "colab": {
          "base_uri": "https://localhost:8080/"
        },
        "outputId": "d84c5fad-055a-4a9b-fdac-554cef6cfc8d"
      },
      "source": [
        "# If using Google Colab run this cell \n",
        "\n",
        "# select tensorflow version for colab \n",
        "%tensorflow_version 1.x"
      ],
      "execution_count": 1,
      "outputs": [
        {
          "output_type": "stream",
          "name": "stdout",
          "text": [
            "TensorFlow 1.x selected.\n"
          ]
        }
      ]
    },
    {
      "cell_type": "code",
      "metadata": {
        "colab": {
          "base_uri": "https://localhost:8080/"
        },
        "id": "h22uybHCOUyq",
        "outputId": "d62c0719-716f-4d55-a08b-871aabdc3911"
      },
      "source": [
        "import tensorflow as tf \n",
        "\n",
        "print('TensorFlow  version: {}'.format(tf.__version__))\n",
        "\n",
        "# Get the GPU name\n",
        "device_name = tf.test.gpu_device_name()\n",
        "if device_name != '/device:GPU:0':\n",
        "  raise SystemError('GPU device not found')\n",
        "print('Found GPU at: {}'.format(device_name))"
      ],
      "execution_count": 2,
      "outputs": [
        {
          "output_type": "stream",
          "name": "stdout",
          "text": [
            "TensorFlow  version: 1.15.2\n",
            "Found GPU at: /device:GPU:0\n"
          ]
        }
      ]
    },
    {
      "cell_type": "code",
      "metadata": {
        "id": "MgZPAPapOaLA"
      },
      "source": [
        "%%capture \n",
        "# Install AmpliGraph library\n",
        "! pip install ampligraph\n",
        "\n",
        "# Required to visualize embeddings with tensorboard projector, comment out if not required!\n",
        "! pip install --user tensorboard\n",
        "\n",
        "# Required to plot text on embedding clusters, comment out if not required!\n",
        "! pip install --user git+https://github.com/Phlya/adjustText"
      ],
      "execution_count": 3,
      "outputs": []
    },
    {
      "cell_type": "code",
      "metadata": {
        "colab": {
          "base_uri": "https://localhost:8080/"
        },
        "id": "9Bzg5vHqOfch",
        "outputId": "858cc63e-1899-4476-d97b-79962600eb4a"
      },
      "source": [
        "# All imports used in this tutorial \n",
        "%tensorflow_version 1.x\n",
        "import ampligraph\n",
        "import numpy as np\n",
        "import pandas as pd\n",
        "import tensorflow as tf\n",
        "from ampligraph.datasets import load_fb15k_237\n",
        "from ampligraph.evaluation import train_test_split_no_unseen, evaluate_performance, mr_score, mrr_score, hits_at_n_score\n",
        "from ampligraph.discovery import query_topn, discover_facts, find_clusters\n",
        "from ampligraph.latent_features import TransE, ComplEx, HolE, DistMult, ConvE, ConvKB\n",
        "from ampligraph.utils import save_model, restore_model\n",
        "\n",
        "def display_aggregate_metrics(ranks):\n",
        "    print('Mean Rank:', mr_score(ranks)) \n",
        "    print('Mean Reciprocal Rank:', mrr_score(ranks)) \n",
        "    print('Hits@1:', hits_at_n_score(ranks, 1))\n",
        "    print('Hits@10:', hits_at_n_score(ranks, 10))\n",
        "    print('Hits@100:', hits_at_n_score(ranks, 100))\n",
        "\n",
        "print('Ampligraph version: {}'.format(ampligraph.__version__))"
      ],
      "execution_count": 4,
      "outputs": [
        {
          "output_type": "stream",
          "name": "stdout",
          "text": [
            "Ampligraph version: 1.4.0\n"
          ]
        }
      ]
    },
    {
      "cell_type": "code",
      "metadata": {
        "id": "k96fp70dOyyS"
      },
      "source": [
        "from ampligraph.datasets import load_fb15k_237, load_wn18rr, load_yago3_10\n",
        "import pandas as pd\n",
        "import requests\n",
        "import io"
      ],
      "execution_count": 5,
      "outputs": []
    },
    {
      "cell_type": "markdown",
      "metadata": {
        "id": "aBb8eVx6Osxx"
      },
      "source": [
        "## Loading Data \n",
        "(a triples dataset)"
      ]
    },
    {
      "cell_type": "code",
      "metadata": {
        "id": "woNtfTQ2bRgL",
        "colab": {
          "base_uri": "https://localhost:8080/",
          "height": 224
        },
        "outputId": "68571725-bfdc-477f-a059-fbdd98fece83"
      },
      "source": [
        "# Downloading the csv file from your GitHub account\n",
        "re_pdf = requests.get('https://raw.githubusercontent.com/HuyenNguyenHelen/CORD-19-KG/master/Data/new_triples_with_predefined_relations_pdf_June20_.csv').content\n",
        "re_pmc = requests.get('https://raw.githubusercontent.com/HuyenNguyenHelen/CORD-19-KG/master/Data/new_triples_with_predefined_relations_pmc_June20_.csv').content\n",
        "pdf = pd.read_csv(io.StringIO(re_pdf.decode('utf-8')))\n",
        "pmc =  pd.read_csv(io.StringIO(re_pmc.decode('utf-8')))\n",
        "dataset = pd.concat([pmc, pdf])\n",
        "print(dataset.columns)\n",
        "dataset.drop(columns='Unnamed: 0', inplace=True)\n",
        "dataset = dataset[['subject','new_relation', 'object' ]]\n",
        "dataset.head(5)"
      ],
      "execution_count": 6,
      "outputs": [
        {
          "output_type": "stream",
          "name": "stdout",
          "text": [
            "Index(['Unnamed: 0', 'Unnamed: 0.1', 'subject', 'object', 'new_relation'], dtype='object')\n"
          ]
        },
        {
          "output_type": "execute_result",
          "data": {
            "text/html": [
              "<div>\n",
              "<style scoped>\n",
              "    .dataframe tbody tr th:only-of-type {\n",
              "        vertical-align: middle;\n",
              "    }\n",
              "\n",
              "    .dataframe tbody tr th {\n",
              "        vertical-align: top;\n",
              "    }\n",
              "\n",
              "    .dataframe thead th {\n",
              "        text-align: right;\n",
              "    }\n",
              "</style>\n",
              "<table border=\"1\" class=\"dataframe\">\n",
              "  <thead>\n",
              "    <tr style=\"text-align: right;\">\n",
              "      <th></th>\n",
              "      <th>subject</th>\n",
              "      <th>new_relation</th>\n",
              "      <th>object</th>\n",
              "    </tr>\n",
              "  </thead>\n",
              "  <tbody>\n",
              "    <tr>\n",
              "      <th>0</th>\n",
              "      <td>dysfunction</td>\n",
              "      <td>disease_species</td>\n",
              "      <td>child</td>\n",
              "    </tr>\n",
              "    <tr>\n",
              "      <th>1</th>\n",
              "      <td>et dysfunction</td>\n",
              "      <td>disease_species</td>\n",
              "      <td>child</td>\n",
              "    </tr>\n",
              "    <tr>\n",
              "      <th>2</th>\n",
              "      <td>et dysfunction</td>\n",
              "      <td>disease_species</td>\n",
              "      <td>child</td>\n",
              "    </tr>\n",
              "    <tr>\n",
              "      <th>3</th>\n",
              "      <td>rsv</td>\n",
              "      <td>disease_disease</td>\n",
              "      <td>virus</td>\n",
              "    </tr>\n",
              "    <tr>\n",
              "      <th>4</th>\n",
              "      <td>treatment</td>\n",
              "      <td>treat_procedure_species</td>\n",
              "      <td>child</td>\n",
              "    </tr>\n",
              "  </tbody>\n",
              "</table>\n",
              "</div>"
            ],
            "text/plain": [
              "          subject             new_relation object\n",
              "0     dysfunction          disease_species  child\n",
              "1  et dysfunction          disease_species  child\n",
              "2  et dysfunction          disease_species  child\n",
              "3             rsv          disease_disease  virus\n",
              "4       treatment  treat_procedure_species  child"
            ]
          },
          "metadata": {},
          "execution_count": 6
        }
      ]
    },
    {
      "cell_type": "code",
      "metadata": {
        "colab": {
          "base_uri": "https://localhost:8080/"
        },
        "id": "ne21mIAeO-Kh",
        "outputId": "1c71d8cf-04e2-41a2-c3e0-e52163f56439"
      },
      "source": [
        "print('Total triples in the KG:', dataset.shape)"
      ],
      "execution_count": 7,
      "outputs": [
        {
          "output_type": "stream",
          "name": "stdout",
          "text": [
            "Total triples in the KG: (230330, 3)\n"
          ]
        }
      ]
    },
    {
      "cell_type": "code",
      "metadata": {
        "id": "9WxrnxjodccM",
        "colab": {
          "base_uri": "https://localhost:8080/"
        },
        "outputId": "197b002f-d019-4917-b642-2ae7ac642cb4"
      },
      "source": [
        "print('the number of relations: \\n', dataset['new_relation'].value_counts())"
      ],
      "execution_count": 8,
      "outputs": [
        {
          "output_type": "stream",
          "name": "stdout",
          "text": [
            "the number of relations: \n",
            " disease_disease                    63192\n",
            "gene_gene                          24172\n",
            "disease_species                    22370\n",
            "gene_disease                       14220\n",
            "disease_gene                       13347\n",
            "disease_treat_procedure            10184\n",
            "treat_procedure_disease             8223\n",
            "drug_disease                        7250\n",
            "gene_treat_procedure                6142\n",
            "treat_procedure_treat_procedure     5625\n",
            "gene_species                        5298\n",
            "drug_gene                           5270\n",
            "drug_drug                           4613\n",
            "treat_procedure_gene                4602\n",
            "disease_symptom                     4354\n",
            "treat_procedure_species             4263\n",
            "disease_drug                        4044\n",
            "drug_species                        3680\n",
            "gene_drug                           3603\n",
            "symptom_disease                     3411\n",
            "symptom_symptom                     3266\n",
            "drug_treat_procedure                3229\n",
            "treat_procedure_drug                2578\n",
            "symptom_species                     1020\n",
            "gene_symptom                         614\n",
            "drug_symptom                         466\n",
            "treat_procedure_symptom              446\n",
            "symptom_treat_procedure              370\n",
            "symptom_gene                         309\n",
            "symptom_drug                         169\n",
            "Name: new_relation, dtype: int64\n"
          ]
        }
      ]
    },
    {
      "cell_type": "markdown",
      "source": [
        "# Data Processing\n",
        "Partition the triples into 10 portions that will be used for buiding QA systems"
      ],
      "metadata": {
        "id": "Faxo3McGqype"
      }
    },
    {
      "cell_type": "code",
      "source": [
        "# Shuffle the dataset\n",
        "dataset = dataset.sample(frac=1, axis=1).reset_index(drop=True)\n",
        "subsets = np.array_split(dataset, 10)  \n",
        "len(subsets)\n"
      ],
      "metadata": {
        "id": "pscvKD-2tIXP",
        "outputId": "c1359f76-ad80-4933-8954-3e57b9a2aeae",
        "colab": {
          "base_uri": "https://localhost:8080/"
        }
      },
      "execution_count": 9,
      "outputs": [
        {
          "output_type": "execute_result",
          "data": {
            "text/plain": [
              "10"
            ]
          },
          "metadata": {},
          "execution_count": 9
        }
      ]
    },
    {
      "cell_type": "markdown",
      "source": [
        "# Developing QA system"
      ],
      "metadata": {
        "id": "nYe9PkDzrmgQ"
      }
    },
    {
      "cell_type": "markdown",
      "source": [
        "## Developing model"
      ],
      "metadata": {
        "id": "tGBIAwfSr_xJ"
      }
    },
    {
      "cell_type": "markdown",
      "metadata": {
        "id": "fLlcSqIBPEAQ"
      },
      "source": [
        "### Create training, validation and test splits"
      ]
    },
    {
      "cell_type": "code",
      "metadata": {
        "id": "qaZipgBpPGop"
      },
      "source": [
        "from ampligraph.evaluation import train_test_split_no_unseen\n",
        "def train_set_split (ds, test_frac = 1000, val_frac = 500 ):\n",
        "  # get the validation set of size 500\n",
        "  test_train, X_test = train_test_split_no_unseen(ds.values, test_frac, seed=0)\n",
        "\n",
        "  # get the test set of size 1000 from the remaining triples\n",
        "  X_train, X_val = train_test_split_no_unseen(test_train, val_frac, seed=0)\n",
        "\n",
        "  print('Total triples:', dataset.shape)\n",
        "  print('Size of train:', X_train.shape)\n",
        "  print('Size of valid:', X_val.shape)\n",
        "  print('Size of test:', X_test.shape)\n",
        "  return X_train, X_val, X_test"
      ],
      "execution_count": 10,
      "outputs": []
    },
    {
      "cell_type": "markdown",
      "metadata": {
        "id": "fzsmWo0zPMR6"
      },
      "source": [
        "### Model Training"
      ]
    },
    {
      "cell_type": "code",
      "metadata": {
        "id": "p9POL-1mPOsJ",
        "outputId": "14b009ea-f7e6-4f2a-c41a-08749329f530",
        "colab": {
          "base_uri": "https://localhost:8080/"
        }
      },
      "source": [
        "from ampligraph.latent_features import TransE\n",
        "\n",
        "def training (train_ds, val_ds, test_ds):\n",
        "  # Train a KGE model\n",
        "  model = TransE(k=300, \n",
        "                epochs=100, \n",
        "                eta=1, \n",
        "                loss='multiclass_nll', \n",
        "                initializer='xavier', initializer_params={'uniform': False},\n",
        "                regularizer='LP', regularizer_params= {'lambda': 0.001, 'p': 3},\n",
        "                optimizer= 'adam', optimizer_params= {'lr': 0.0001}, \n",
        "                seed= 0, batches_count= 10, verbose=True)\n",
        "\n",
        "  model.fit(train_ds)\n",
        "  # ----------------------\n",
        "  # Evaluate: \n",
        "  # Filtered evaluation with ranking strategy assigning worst rank to break ties\n",
        "  from ampligraph.utils import save_model, restore_model\n",
        "  save_model(model, 'TransE.pkl')\n",
        "  model = restore_model('TransE.pkl')\n",
        "\n",
        "  # create the filter \n",
        "  X_filter = np.concatenate([train_ds, val_ds, test_ds], 0)\n",
        "\n",
        "  # compute ranks\n",
        "  ranks = evaluate_performance(test_ds, \n",
        "                              model=model, \n",
        "                              filter_triples=X_filter)\n",
        "\n",
        "  # ranks are computed per triple\n",
        "  print('Test set:', X_test.shape)\n",
        "  print('Size of ranks:', ranks.shape)\n",
        "\n",
        "  # Aggregate metrics show the aggregate performance of the model on the test set using a single number\n",
        "  display_aggregate_metrics(ranks)\n",
        "  # ----------------------\n",
        "  \n",
        "  return display_aggregate_metrics(ranks)\n",
        "\n",
        "X_train, X_val, X_test = train_set_split(dataset)\n",
        "training (X_train, X_val, X_test) #dataset.to_numpy()"
      ],
      "execution_count": 13,
      "outputs": [
        {
          "output_type": "stream",
          "name": "stdout",
          "text": [
            "Total triples: (230330, 3)\n",
            "Size of train: (228830, 3)\n",
            "Size of valid: (500, 3)\n",
            "Size of test: (1000, 3)\n"
          ]
        },
        {
          "output_type": "stream",
          "name": "stderr",
          "text": [
            "Average TransE Loss:   0.036616: 100%|██████████| 100/100 [00:25<00:00,  3.90epoch/s]\n",
            "100%|██████████| 1000/1000 [00:09<00:00, 104.91it/s]\n"
          ]
        },
        {
          "output_type": "stream",
          "name": "stdout",
          "text": [
            "Test set: (1000, 3)\n",
            "Size of ranks: (1000, 2)\n",
            "Mean Rank: 78.804\n",
            "Mean Reciprocal Rank: 0.5136551094732245\n",
            "Hits@1: 0.359\n",
            "Hits@10: 0.714\n",
            "Hits@100: 0.8735\n",
            "Mean Rank: 78.804\n",
            "Mean Reciprocal Rank: 0.5136551094732245\n",
            "Hits@1: 0.359\n",
            "Hits@10: 0.714\n",
            "Hits@100: 0.8735\n"
          ]
        }
      ]
    },
    {
      "cell_type": "markdown",
      "metadata": {
        "id": "sYMsDmRuQLem"
      },
      "source": [
        "## Knowledge Discovery"
      ]
    },
    {
      "cell_type": "code",
      "source": [
        "from ampligraph.discovery import query_topn\n",
        "def QA_retrieve (input, top_n ):\n",
        "  head, relation1, tail = input[0], input[1], input[2]\n",
        "  if len(relation1.split('_')) <= 2:\n",
        "    relation2 = '{}_{}'.format(relation1.split('_')[1], relation1.split('_')[0])\n",
        "  elif len(relation1.split('_')) == 3:\n",
        "     relation2 = '{}_{}_{}'.format(relation1.split('_')[1], relation1.split('_')[2], relation1.split('_')[0])\n",
        "  else:\n",
        "    raise ValueError('error: relation length issue')\n",
        "  # restore the previously saved model to save time\n",
        "  model = restore_model('TransE.pkl')\n",
        "  triples1, scores1 = query_topn(model, top_n=top_n, \n",
        "                              head=head, \n",
        "                              relation=relation1, \n",
        "                              tail=tail, \n",
        "                              ents_to_consider=None, \n",
        "                              rels_to_consider=None)\n",
        "  triples2, scores2 = query_topn(model, top_n=top_n, \n",
        "                              head=tail, \n",
        "                              relation=relation2, \n",
        "                              tail=head, \n",
        "                              ents_to_consider=None, \n",
        "                              rels_to_consider=None)\n",
        "  if len(triples1) + len(triples2) == top_n:\n",
        "    # triples = triples1.tolist() + triples2.tolist()\n",
        "    # scores = scores1.tolist() + scores2.tolist()\n",
        "    triples = np.concatenate((triples1, triples2), axis=0) \n",
        "    scores = np.concatenate((scores1, scores2), axis=0)\n",
        "  else:\n",
        "    end_idx = round(top_n/2)\n",
        "    triples = triples1.tolist()[:end_idx] + triples2.tolist()[:end_idx]\n",
        "    scores = scores1.tolist()[:end_idx] + scores2.tolist()[:end_idx]\n",
        "    # triples = np.concatenate((triples1[:(round(top_n/2))], triples2 [:(round(top_n/2))]), axis=0) \n",
        "    # scores = np.concatenate((scores1[:(round(top_n/2))] + scores2[:(round(top_n/2))]), axis=0) \n",
        "  \n",
        "  for triple, score in zip(triples, scores):\n",
        "      print('Score: {} \\t {} '.format(score, triple))\n",
        "  return triples, scores\n",
        " \n",
        "# Query1: what are the possible therapeutic procedure of covid-19??\n",
        "print ('------------------------------------------------------------')\n",
        "print('what are the possible therapeutic procedure of covid-19?')\n",
        "question1 = QA_retrieve (['covid-19', 'disease_treat_procedure', None], top_n = 20)\n",
        "\n",
        "# Query2: What are related diseases of Covid-19\n",
        "print ('------------------------------------------------------------')\n",
        "print('What are related diseases of Covid-19')\n",
        "question2 = QA_retrieve (['covid-19', 'disease_disease', None], top_n = 20)\n",
        "\n",
        "# Query3: What are the genes/proteins related to Covid-19\n",
        "print ('------------------------------------------------------------')\n",
        "print('What are the genes/proteins related to Covid-19')\n",
        "question3 = QA_retrieve (['covid-19', 'disease_gene', None], top_n = 20)\n",
        "\n",
        "# Query4: What species transmit the covid-19\n",
        "print ('------------------------------------------------------------')\n",
        "print('What species transmit the covid-19?')\n",
        "question4 = QA_retrieve (['covid-19', 'disease_species', None], top_n = 20)\n",
        "\n",
        "# Query: what are symptoms of the covid-19\n",
        "print ('------------------------------------------------------------')\n",
        "print('what are symptoms of the covid-19?')\n",
        "question5 = QA_retrieve (['covid-19', 'disease_symptom', None], top_n = 20)\n",
        "\n",
        "# What are potential drugs to treat COVID-19?\n",
        "print ('------------------------------------------------------------')\n",
        "print('What are potential drugs to treat COVID-19?')\n",
        "question6 = QA_retrieve (['covid-19', 'disease_drug', None], top_n = 20)"
      ],
      "metadata": {
        "id": "MnG3epqEU5Cz",
        "outputId": "c4ef55ae-c6ed-418a-a98a-61e8b5ae1a41",
        "colab": {
          "base_uri": "https://localhost:8080/",
          "height": 431
        }
      },
      "execution_count": 17,
      "outputs": [
        {
          "output_type": "stream",
          "name": "stdout",
          "text": [
            "------------------------------------------------------------\n",
            "what are the possible therapeutic procedure of covid-19?\n"
          ]
        },
        {
          "output_type": "error",
          "ename": "TypeError",
          "evalue": "ignored",
          "traceback": [
            "\u001b[0;31m---------------------------------------------------------------------------\u001b[0m",
            "\u001b[0;31mTypeError\u001b[0m                                 Traceback (most recent call last)",
            "\u001b[0;32m<ipython-input-17-683469ed10de>\u001b[0m in \u001b[0;36m<module>\u001b[0;34m()\u001b[0m\n\u001b[1;32m     41\u001b[0m \u001b[0mprint\u001b[0m \u001b[0;34m(\u001b[0m\u001b[0;34m'------------------------------------------------------------'\u001b[0m\u001b[0;34m)\u001b[0m\u001b[0;34m\u001b[0m\u001b[0;34m\u001b[0m\u001b[0m\n\u001b[1;32m     42\u001b[0m \u001b[0mprint\u001b[0m\u001b[0;34m(\u001b[0m\u001b[0;34m'what are the possible therapeutic procedure of covid-19?'\u001b[0m\u001b[0;34m)\u001b[0m\u001b[0;34m\u001b[0m\u001b[0;34m\u001b[0m\u001b[0m\n\u001b[0;32m---> 43\u001b[0;31m \u001b[0mquestion1\u001b[0m \u001b[0;34m=\u001b[0m \u001b[0mQA_retrieve\u001b[0m \u001b[0;34m(\u001b[0m\u001b[0;34m[\u001b[0m\u001b[0;34m'covid-19'\u001b[0m\u001b[0;34m,\u001b[0m \u001b[0;34m'disease_treat_procedure'\u001b[0m\u001b[0;34m,\u001b[0m \u001b[0;32mNone\u001b[0m\u001b[0;34m]\u001b[0m\u001b[0;34m,\u001b[0m \u001b[0mtop_n\u001b[0m \u001b[0;34m=\u001b[0m \u001b[0;36m20\u001b[0m\u001b[0;34m)\u001b[0m\u001b[0;34m\u001b[0m\u001b[0;34m\u001b[0m\u001b[0m\n\u001b[0m\u001b[1;32m     44\u001b[0m \u001b[0;34m\u001b[0m\u001b[0m\n\u001b[1;32m     45\u001b[0m \u001b[0;31m# Query2: What are related diseases of Covid-19\u001b[0m\u001b[0;34m\u001b[0m\u001b[0;34m\u001b[0m\u001b[0;34m\u001b[0m\u001b[0m\n",
            "\u001b[0;32m<ipython-input-17-683469ed10de>\u001b[0m in \u001b[0;36mQA_retrieve\u001b[0;34m(input, top_n)\u001b[0m\n\u001b[1;32m     15\u001b[0m                               \u001b[0mtail\u001b[0m\u001b[0;34m=\u001b[0m\u001b[0mtail\u001b[0m\u001b[0;34m,\u001b[0m\u001b[0;34m\u001b[0m\u001b[0;34m\u001b[0m\u001b[0m\n\u001b[1;32m     16\u001b[0m                               \u001b[0ments_to_consider\u001b[0m\u001b[0;34m=\u001b[0m\u001b[0;32mNone\u001b[0m\u001b[0;34m,\u001b[0m\u001b[0;34m\u001b[0m\u001b[0;34m\u001b[0m\u001b[0m\n\u001b[0;32m---> 17\u001b[0;31m                               rels_to_consider=None)\n\u001b[0m\u001b[1;32m     18\u001b[0m   triples2, scores2 = query_topn(model, top_n=top_n, \n\u001b[1;32m     19\u001b[0m                               \u001b[0mhead\u001b[0m\u001b[0;34m=\u001b[0m\u001b[0mtail\u001b[0m\u001b[0;34m,\u001b[0m\u001b[0;34m\u001b[0m\u001b[0;34m\u001b[0m\u001b[0m\n",
            "\u001b[0;32m/usr/local/lib/python3.7/dist-packages/ampligraph/discovery/discovery.py\u001b[0m in \u001b[0;36mquery_topn\u001b[0;34m(model, top_n, head, relation, tail, ents_to_consider, rels_to_consider)\u001b[0m\n\u001b[1;32m    958\u001b[0m \u001b[0;34m\u001b[0m\u001b[0m\n\u001b[1;32m    959\u001b[0m     \u001b[0;31m# Get scores for completed triples\u001b[0m\u001b[0;34m\u001b[0m\u001b[0;34m\u001b[0m\u001b[0;34m\u001b[0m\u001b[0m\n\u001b[0;32m--> 960\u001b[0;31m     \u001b[0mscores\u001b[0m \u001b[0;34m=\u001b[0m \u001b[0mmodel\u001b[0m\u001b[0;34m.\u001b[0m\u001b[0mpredict\u001b[0m\u001b[0;34m(\u001b[0m\u001b[0mtriples\u001b[0m\u001b[0;34m)\u001b[0m\u001b[0;34m\u001b[0m\u001b[0;34m\u001b[0m\u001b[0m\n\u001b[0m\u001b[1;32m    961\u001b[0m \u001b[0;34m\u001b[0m\u001b[0m\n\u001b[1;32m    962\u001b[0m     \u001b[0;31m# Join triples and scores, sort ascending by scores, then take top_n results\u001b[0m\u001b[0;34m\u001b[0m\u001b[0;34m\u001b[0m\u001b[0;34m\u001b[0m\u001b[0m\n",
            "\u001b[0;32m/usr/local/lib/python3.7/dist-packages/ampligraph/latent_features/models/TransE.py\u001b[0m in \u001b[0;36mpredict\u001b[0;34m(self, X, from_idx)\u001b[0m\n\u001b[1;32m    327\u001b[0m     \u001b[0;32mdef\u001b[0m \u001b[0mpredict\u001b[0m\u001b[0;34m(\u001b[0m\u001b[0mself\u001b[0m\u001b[0;34m,\u001b[0m \u001b[0mX\u001b[0m\u001b[0;34m,\u001b[0m \u001b[0mfrom_idx\u001b[0m\u001b[0;34m=\u001b[0m\u001b[0;32mFalse\u001b[0m\u001b[0;34m)\u001b[0m\u001b[0;34m:\u001b[0m\u001b[0;34m\u001b[0m\u001b[0;34m\u001b[0m\u001b[0m\n\u001b[1;32m    328\u001b[0m         \u001b[0m__doc__\u001b[0m \u001b[0;34m=\u001b[0m \u001b[0msuper\u001b[0m\u001b[0;34m(\u001b[0m\u001b[0;34m)\u001b[0m\u001b[0;34m.\u001b[0m\u001b[0mpredict\u001b[0m\u001b[0;34m.\u001b[0m\u001b[0m__doc__\u001b[0m  \u001b[0;31m# NOQA\u001b[0m\u001b[0;34m\u001b[0m\u001b[0;34m\u001b[0m\u001b[0m\n\u001b[0;32m--> 329\u001b[0;31m         \u001b[0;32mreturn\u001b[0m \u001b[0msuper\u001b[0m\u001b[0;34m(\u001b[0m\u001b[0;34m)\u001b[0m\u001b[0;34m.\u001b[0m\u001b[0mpredict\u001b[0m\u001b[0;34m(\u001b[0m\u001b[0mX\u001b[0m\u001b[0;34m,\u001b[0m \u001b[0mfrom_idx\u001b[0m\u001b[0;34m=\u001b[0m\u001b[0mfrom_idx\u001b[0m\u001b[0;34m)\u001b[0m\u001b[0;34m\u001b[0m\u001b[0;34m\u001b[0m\u001b[0m\n\u001b[0m\u001b[1;32m    330\u001b[0m \u001b[0;34m\u001b[0m\u001b[0m\n\u001b[1;32m    331\u001b[0m     \u001b[0;32mdef\u001b[0m \u001b[0mcalibrate\u001b[0m\u001b[0;34m(\u001b[0m\u001b[0mself\u001b[0m\u001b[0;34m,\u001b[0m \u001b[0mX_pos\u001b[0m\u001b[0;34m,\u001b[0m \u001b[0mX_neg\u001b[0m\u001b[0;34m=\u001b[0m\u001b[0;32mNone\u001b[0m\u001b[0;34m,\u001b[0m \u001b[0mpositive_base_rate\u001b[0m\u001b[0;34m=\u001b[0m\u001b[0;32mNone\u001b[0m\u001b[0;34m,\u001b[0m \u001b[0mbatches_count\u001b[0m\u001b[0;34m=\u001b[0m\u001b[0;36m100\u001b[0m\u001b[0;34m,\u001b[0m \u001b[0mepochs\u001b[0m\u001b[0;34m=\u001b[0m\u001b[0;36m50\u001b[0m\u001b[0;34m)\u001b[0m\u001b[0;34m:\u001b[0m\u001b[0;34m\u001b[0m\u001b[0;34m\u001b[0m\u001b[0m\n",
            "\u001b[0;32m/usr/local/lib/python3.7/dist-packages/ampligraph/latent_features/models/EmbeddingModel.py\u001b[0m in \u001b[0;36mpredict\u001b[0;34m(self, X, from_idx)\u001b[0m\n\u001b[1;32m   1728\u001b[0m             \u001b[0;32mif\u001b[0m \u001b[0;32mnot\u001b[0m \u001b[0mfrom_idx\u001b[0m\u001b[0;34m:\u001b[0m\u001b[0;34m\u001b[0m\u001b[0;34m\u001b[0m\u001b[0m\n\u001b[1;32m   1729\u001b[0m                 \u001b[0mX\u001b[0m \u001b[0;34m=\u001b[0m \u001b[0mto_idx\u001b[0m\u001b[0;34m(\u001b[0m\u001b[0mX\u001b[0m\u001b[0;34m,\u001b[0m \u001b[0ment_to_idx\u001b[0m\u001b[0;34m=\u001b[0m\u001b[0mself\u001b[0m\u001b[0;34m.\u001b[0m\u001b[0ment_to_idx\u001b[0m\u001b[0;34m,\u001b[0m \u001b[0mrel_to_idx\u001b[0m\u001b[0;34m=\u001b[0m\u001b[0mself\u001b[0m\u001b[0;34m.\u001b[0m\u001b[0mrel_to_idx\u001b[0m\u001b[0;34m)\u001b[0m\u001b[0;34m\u001b[0m\u001b[0;34m\u001b[0m\u001b[0m\n\u001b[0;32m-> 1730\u001b[0;31m             \u001b[0mx_tf\u001b[0m \u001b[0;34m=\u001b[0m \u001b[0mtf\u001b[0m\u001b[0;34m.\u001b[0m\u001b[0mVariable\u001b[0m\u001b[0;34m(\u001b[0m\u001b[0mX\u001b[0m\u001b[0;34m,\u001b[0m \u001b[0mdtype\u001b[0m\u001b[0;34m=\u001b[0m\u001b[0mtf\u001b[0m\u001b[0;34m.\u001b[0m\u001b[0mint32\u001b[0m\u001b[0;34m,\u001b[0m \u001b[0mtrainable\u001b[0m\u001b[0;34m=\u001b[0m\u001b[0;32mFalse\u001b[0m\u001b[0;34m)\u001b[0m\u001b[0;34m\u001b[0m\u001b[0;34m\u001b[0m\u001b[0m\n\u001b[0m\u001b[1;32m   1731\u001b[0m \u001b[0;34m\u001b[0m\u001b[0m\n\u001b[1;32m   1732\u001b[0m             \u001b[0me_s\u001b[0m\u001b[0;34m,\u001b[0m \u001b[0me_p\u001b[0m\u001b[0;34m,\u001b[0m \u001b[0me_o\u001b[0m \u001b[0;34m=\u001b[0m \u001b[0mself\u001b[0m\u001b[0;34m.\u001b[0m\u001b[0m_lookup_embeddings\u001b[0m\u001b[0;34m(\u001b[0m\u001b[0mx_tf\u001b[0m\u001b[0;34m)\u001b[0m\u001b[0;34m\u001b[0m\u001b[0;34m\u001b[0m\u001b[0m\n",
            "\u001b[0;32m/tensorflow-1.15.2/python3.7/tensorflow_core/python/ops/variables.py\u001b[0m in \u001b[0;36m__call__\u001b[0;34m(cls, *args, **kwargs)\u001b[0m\n\u001b[1;32m    256\u001b[0m   \u001b[0;32mdef\u001b[0m \u001b[0m__call__\u001b[0m\u001b[0;34m(\u001b[0m\u001b[0mcls\u001b[0m\u001b[0;34m,\u001b[0m \u001b[0;34m*\u001b[0m\u001b[0margs\u001b[0m\u001b[0;34m,\u001b[0m \u001b[0;34m**\u001b[0m\u001b[0mkwargs\u001b[0m\u001b[0;34m)\u001b[0m\u001b[0;34m:\u001b[0m\u001b[0;34m\u001b[0m\u001b[0;34m\u001b[0m\u001b[0m\n\u001b[1;32m    257\u001b[0m     \u001b[0;32mif\u001b[0m \u001b[0mcls\u001b[0m \u001b[0;32mis\u001b[0m \u001b[0mVariableV1\u001b[0m\u001b[0;34m:\u001b[0m\u001b[0;34m\u001b[0m\u001b[0;34m\u001b[0m\u001b[0m\n\u001b[0;32m--> 258\u001b[0;31m       \u001b[0;32mreturn\u001b[0m \u001b[0mcls\u001b[0m\u001b[0;34m.\u001b[0m\u001b[0m_variable_v1_call\u001b[0m\u001b[0;34m(\u001b[0m\u001b[0;34m*\u001b[0m\u001b[0margs\u001b[0m\u001b[0;34m,\u001b[0m \u001b[0;34m**\u001b[0m\u001b[0mkwargs\u001b[0m\u001b[0;34m)\u001b[0m\u001b[0;34m\u001b[0m\u001b[0;34m\u001b[0m\u001b[0m\n\u001b[0m\u001b[1;32m    259\u001b[0m     \u001b[0;32melif\u001b[0m \u001b[0mcls\u001b[0m \u001b[0;32mis\u001b[0m \u001b[0mVariable\u001b[0m\u001b[0;34m:\u001b[0m\u001b[0;34m\u001b[0m\u001b[0;34m\u001b[0m\u001b[0m\n\u001b[1;32m    260\u001b[0m       \u001b[0;32mreturn\u001b[0m \u001b[0mcls\u001b[0m\u001b[0;34m.\u001b[0m\u001b[0m_variable_v2_call\u001b[0m\u001b[0;34m(\u001b[0m\u001b[0;34m*\u001b[0m\u001b[0margs\u001b[0m\u001b[0;34m,\u001b[0m \u001b[0;34m**\u001b[0m\u001b[0mkwargs\u001b[0m\u001b[0;34m)\u001b[0m\u001b[0;34m\u001b[0m\u001b[0;34m\u001b[0m\u001b[0m\n",
            "\u001b[0;32m/tensorflow-1.15.2/python3.7/tensorflow_core/python/ops/variables.py\u001b[0m in \u001b[0;36m_variable_v1_call\u001b[0;34m(cls, initial_value, trainable, collections, validate_shape, caching_device, name, variable_def, dtype, expected_shape, import_scope, constraint, use_resource, synchronization, aggregation, shape)\u001b[0m\n\u001b[1;32m    217\u001b[0m         \u001b[0msynchronization\u001b[0m\u001b[0;34m=\u001b[0m\u001b[0msynchronization\u001b[0m\u001b[0;34m,\u001b[0m\u001b[0;34m\u001b[0m\u001b[0;34m\u001b[0m\u001b[0m\n\u001b[1;32m    218\u001b[0m         \u001b[0maggregation\u001b[0m\u001b[0;34m=\u001b[0m\u001b[0maggregation\u001b[0m\u001b[0;34m,\u001b[0m\u001b[0;34m\u001b[0m\u001b[0;34m\u001b[0m\u001b[0m\n\u001b[0;32m--> 219\u001b[0;31m         shape=shape)\n\u001b[0m\u001b[1;32m    220\u001b[0m \u001b[0;34m\u001b[0m\u001b[0m\n\u001b[1;32m    221\u001b[0m   def _variable_v2_call(cls,\n",
            "\u001b[0;32m/tensorflow-1.15.2/python3.7/tensorflow_core/python/ops/variables.py\u001b[0m in \u001b[0;36m<lambda>\u001b[0;34m(**kwargs)\u001b[0m\n\u001b[1;32m    195\u001b[0m                         shape=None):\n\u001b[1;32m    196\u001b[0m     \u001b[0;34m\"\"\"Call on Variable class. Useful to force the signature.\"\"\"\u001b[0m\u001b[0;34m\u001b[0m\u001b[0;34m\u001b[0m\u001b[0m\n\u001b[0;32m--> 197\u001b[0;31m     \u001b[0mprevious_getter\u001b[0m \u001b[0;34m=\u001b[0m \u001b[0;32mlambda\u001b[0m \u001b[0;34m**\u001b[0m\u001b[0mkwargs\u001b[0m\u001b[0;34m:\u001b[0m \u001b[0mdefault_variable_creator\u001b[0m\u001b[0;34m(\u001b[0m\u001b[0;32mNone\u001b[0m\u001b[0;34m,\u001b[0m \u001b[0;34m**\u001b[0m\u001b[0mkwargs\u001b[0m\u001b[0;34m)\u001b[0m\u001b[0;34m\u001b[0m\u001b[0;34m\u001b[0m\u001b[0m\n\u001b[0m\u001b[1;32m    198\u001b[0m     \u001b[0;32mfor\u001b[0m \u001b[0m_\u001b[0m\u001b[0;34m,\u001b[0m \u001b[0mgetter\u001b[0m \u001b[0;32min\u001b[0m \u001b[0mops\u001b[0m\u001b[0;34m.\u001b[0m\u001b[0mget_default_graph\u001b[0m\u001b[0;34m(\u001b[0m\u001b[0;34m)\u001b[0m\u001b[0;34m.\u001b[0m\u001b[0m_variable_creator_stack\u001b[0m\u001b[0;34m:\u001b[0m  \u001b[0;31m# pylint: disable=protected-access\u001b[0m\u001b[0;34m\u001b[0m\u001b[0;34m\u001b[0m\u001b[0m\n\u001b[1;32m    199\u001b[0m       \u001b[0mprevious_getter\u001b[0m \u001b[0;34m=\u001b[0m \u001b[0m_make_getter\u001b[0m\u001b[0;34m(\u001b[0m\u001b[0mgetter\u001b[0m\u001b[0;34m,\u001b[0m \u001b[0mprevious_getter\u001b[0m\u001b[0;34m)\u001b[0m\u001b[0;34m\u001b[0m\u001b[0;34m\u001b[0m\u001b[0m\n",
            "\u001b[0;32m/tensorflow-1.15.2/python3.7/tensorflow_core/python/ops/variable_scope.py\u001b[0m in \u001b[0;36mdefault_variable_creator\u001b[0;34m(next_creator, **kwargs)\u001b[0m\n\u001b[1;32m   2517\u001b[0m         \u001b[0msynchronization\u001b[0m\u001b[0;34m=\u001b[0m\u001b[0msynchronization\u001b[0m\u001b[0;34m,\u001b[0m\u001b[0;34m\u001b[0m\u001b[0;34m\u001b[0m\u001b[0m\n\u001b[1;32m   2518\u001b[0m         \u001b[0maggregation\u001b[0m\u001b[0;34m=\u001b[0m\u001b[0maggregation\u001b[0m\u001b[0;34m,\u001b[0m\u001b[0;34m\u001b[0m\u001b[0;34m\u001b[0m\u001b[0m\n\u001b[0;32m-> 2519\u001b[0;31m         shape=shape)\n\u001b[0m\u001b[1;32m   2520\u001b[0m \u001b[0;34m\u001b[0m\u001b[0m\n\u001b[1;32m   2521\u001b[0m \u001b[0;34m\u001b[0m\u001b[0m\n",
            "\u001b[0;32m/tensorflow-1.15.2/python3.7/tensorflow_core/python/ops/variables.py\u001b[0m in \u001b[0;36m__call__\u001b[0;34m(cls, *args, **kwargs)\u001b[0m\n\u001b[1;32m    260\u001b[0m       \u001b[0;32mreturn\u001b[0m \u001b[0mcls\u001b[0m\u001b[0;34m.\u001b[0m\u001b[0m_variable_v2_call\u001b[0m\u001b[0;34m(\u001b[0m\u001b[0;34m*\u001b[0m\u001b[0margs\u001b[0m\u001b[0;34m,\u001b[0m \u001b[0;34m**\u001b[0m\u001b[0mkwargs\u001b[0m\u001b[0;34m)\u001b[0m\u001b[0;34m\u001b[0m\u001b[0;34m\u001b[0m\u001b[0m\n\u001b[1;32m    261\u001b[0m     \u001b[0;32melse\u001b[0m\u001b[0;34m:\u001b[0m\u001b[0;34m\u001b[0m\u001b[0;34m\u001b[0m\u001b[0m\n\u001b[0;32m--> 262\u001b[0;31m       \u001b[0;32mreturn\u001b[0m \u001b[0msuper\u001b[0m\u001b[0;34m(\u001b[0m\u001b[0mVariableMetaclass\u001b[0m\u001b[0;34m,\u001b[0m \u001b[0mcls\u001b[0m\u001b[0;34m)\u001b[0m\u001b[0;34m.\u001b[0m\u001b[0m__call__\u001b[0m\u001b[0;34m(\u001b[0m\u001b[0;34m*\u001b[0m\u001b[0margs\u001b[0m\u001b[0;34m,\u001b[0m \u001b[0;34m**\u001b[0m\u001b[0mkwargs\u001b[0m\u001b[0;34m)\u001b[0m\u001b[0;34m\u001b[0m\u001b[0;34m\u001b[0m\u001b[0m\n\u001b[0m\u001b[1;32m    263\u001b[0m \u001b[0;34m\u001b[0m\u001b[0m\n\u001b[1;32m    264\u001b[0m \u001b[0;34m\u001b[0m\u001b[0m\n",
            "\u001b[0;32m/tensorflow-1.15.2/python3.7/tensorflow_core/python/ops/variables.py\u001b[0m in \u001b[0;36m__init__\u001b[0;34m(self, initial_value, trainable, collections, validate_shape, caching_device, name, variable_def, dtype, expected_shape, import_scope, constraint, synchronization, aggregation, shape)\u001b[0m\n\u001b[1;32m   1686\u001b[0m           \u001b[0msynchronization\u001b[0m\u001b[0;34m=\u001b[0m\u001b[0msynchronization\u001b[0m\u001b[0;34m,\u001b[0m\u001b[0;34m\u001b[0m\u001b[0;34m\u001b[0m\u001b[0m\n\u001b[1;32m   1687\u001b[0m           \u001b[0maggregation\u001b[0m\u001b[0;34m=\u001b[0m\u001b[0maggregation\u001b[0m\u001b[0;34m,\u001b[0m\u001b[0;34m\u001b[0m\u001b[0;34m\u001b[0m\u001b[0m\n\u001b[0;32m-> 1688\u001b[0;31m           shape=shape)\n\u001b[0m\u001b[1;32m   1689\u001b[0m \u001b[0;34m\u001b[0m\u001b[0m\n\u001b[1;32m   1690\u001b[0m   \u001b[0;32mdef\u001b[0m \u001b[0m__repr__\u001b[0m\u001b[0;34m(\u001b[0m\u001b[0mself\u001b[0m\u001b[0;34m)\u001b[0m\u001b[0;34m:\u001b[0m\u001b[0;34m\u001b[0m\u001b[0;34m\u001b[0m\u001b[0m\n",
            "\u001b[0;32m/tensorflow-1.15.2/python3.7/tensorflow_core/python/ops/variables.py\u001b[0m in \u001b[0;36m_init_from_args\u001b[0;34m(self, initial_value, trainable, collections, validate_shape, caching_device, name, dtype, expected_shape, constraint, synchronization, aggregation, shape)\u001b[0m\n\u001b[1;32m   1828\u001b[0m         \u001b[0;32melse\u001b[0m\u001b[0;34m:\u001b[0m\u001b[0;34m\u001b[0m\u001b[0;34m\u001b[0m\u001b[0m\n\u001b[1;32m   1829\u001b[0m           self._initial_value = ops.convert_to_tensor(\n\u001b[0;32m-> 1830\u001b[0;31m               initial_value, name=\"initial_value\", dtype=dtype)\n\u001b[0m\u001b[1;32m   1831\u001b[0m           \u001b[0;31m# pylint: disable=protected-access\u001b[0m\u001b[0;34m\u001b[0m\u001b[0;34m\u001b[0m\u001b[0;34m\u001b[0m\u001b[0m\n\u001b[1;32m   1832\u001b[0m           \u001b[0;32mif\u001b[0m \u001b[0mself\u001b[0m\u001b[0;34m.\u001b[0m\u001b[0m_initial_value\u001b[0m\u001b[0;34m.\u001b[0m\u001b[0mop\u001b[0m\u001b[0;34m.\u001b[0m\u001b[0m_get_control_flow_context\u001b[0m\u001b[0;34m(\u001b[0m\u001b[0;34m)\u001b[0m \u001b[0;32mis\u001b[0m \u001b[0;32mnot\u001b[0m \u001b[0;32mNone\u001b[0m\u001b[0;34m:\u001b[0m\u001b[0;34m\u001b[0m\u001b[0;34m\u001b[0m\u001b[0m\n",
            "\u001b[0;32m/tensorflow-1.15.2/python3.7/tensorflow_core/python/framework/ops.py\u001b[0m in \u001b[0;36mconvert_to_tensor\u001b[0;34m(value, dtype, name, preferred_dtype, dtype_hint)\u001b[0m\n\u001b[1;32m   1182\u001b[0m   preferred_dtype = deprecation.deprecated_argument_lookup(\n\u001b[1;32m   1183\u001b[0m       \"dtype_hint\", dtype_hint, \"preferred_dtype\", preferred_dtype)\n\u001b[0;32m-> 1184\u001b[0;31m   \u001b[0;32mreturn\u001b[0m \u001b[0mconvert_to_tensor_v2\u001b[0m\u001b[0;34m(\u001b[0m\u001b[0mvalue\u001b[0m\u001b[0;34m,\u001b[0m \u001b[0mdtype\u001b[0m\u001b[0;34m,\u001b[0m \u001b[0mpreferred_dtype\u001b[0m\u001b[0;34m,\u001b[0m \u001b[0mname\u001b[0m\u001b[0;34m)\u001b[0m\u001b[0;34m\u001b[0m\u001b[0;34m\u001b[0m\u001b[0m\n\u001b[0m\u001b[1;32m   1185\u001b[0m \u001b[0;34m\u001b[0m\u001b[0m\n\u001b[1;32m   1186\u001b[0m \u001b[0;34m\u001b[0m\u001b[0m\n",
            "\u001b[0;32m/tensorflow-1.15.2/python3.7/tensorflow_core/python/framework/ops.py\u001b[0m in \u001b[0;36mconvert_to_tensor_v2\u001b[0;34m(value, dtype, dtype_hint, name)\u001b[0m\n\u001b[1;32m   1240\u001b[0m       \u001b[0mname\u001b[0m\u001b[0;34m=\u001b[0m\u001b[0mname\u001b[0m\u001b[0;34m,\u001b[0m\u001b[0;34m\u001b[0m\u001b[0;34m\u001b[0m\u001b[0m\n\u001b[1;32m   1241\u001b[0m       \u001b[0mpreferred_dtype\u001b[0m\u001b[0;34m=\u001b[0m\u001b[0mdtype_hint\u001b[0m\u001b[0;34m,\u001b[0m\u001b[0;34m\u001b[0m\u001b[0;34m\u001b[0m\u001b[0m\n\u001b[0;32m-> 1242\u001b[0;31m       as_ref=False)\n\u001b[0m\u001b[1;32m   1243\u001b[0m \u001b[0;34m\u001b[0m\u001b[0m\n\u001b[1;32m   1244\u001b[0m \u001b[0;34m\u001b[0m\u001b[0m\n",
            "\u001b[0;32m/tensorflow-1.15.2/python3.7/tensorflow_core/python/framework/ops.py\u001b[0m in \u001b[0;36minternal_convert_to_tensor\u001b[0;34m(value, dtype, name, as_ref, preferred_dtype, ctx, accepted_result_types)\u001b[0m\n\u001b[1;32m   1295\u001b[0m \u001b[0;34m\u001b[0m\u001b[0m\n\u001b[1;32m   1296\u001b[0m     \u001b[0;32mif\u001b[0m \u001b[0mret\u001b[0m \u001b[0;32mis\u001b[0m \u001b[0;32mNone\u001b[0m\u001b[0;34m:\u001b[0m\u001b[0;34m\u001b[0m\u001b[0;34m\u001b[0m\u001b[0m\n\u001b[0;32m-> 1297\u001b[0;31m       \u001b[0mret\u001b[0m \u001b[0;34m=\u001b[0m \u001b[0mconversion_func\u001b[0m\u001b[0;34m(\u001b[0m\u001b[0mvalue\u001b[0m\u001b[0;34m,\u001b[0m \u001b[0mdtype\u001b[0m\u001b[0;34m=\u001b[0m\u001b[0mdtype\u001b[0m\u001b[0;34m,\u001b[0m \u001b[0mname\u001b[0m\u001b[0;34m=\u001b[0m\u001b[0mname\u001b[0m\u001b[0;34m,\u001b[0m \u001b[0mas_ref\u001b[0m\u001b[0;34m=\u001b[0m\u001b[0mas_ref\u001b[0m\u001b[0;34m)\u001b[0m\u001b[0;34m\u001b[0m\u001b[0;34m\u001b[0m\u001b[0m\n\u001b[0m\u001b[1;32m   1298\u001b[0m \u001b[0;34m\u001b[0m\u001b[0m\n\u001b[1;32m   1299\u001b[0m     \u001b[0;32mif\u001b[0m \u001b[0mret\u001b[0m \u001b[0;32mis\u001b[0m \u001b[0mNotImplemented\u001b[0m\u001b[0;34m:\u001b[0m\u001b[0;34m\u001b[0m\u001b[0;34m\u001b[0m\u001b[0m\n",
            "\u001b[0;32m/tensorflow-1.15.2/python3.7/tensorflow_core/python/framework/tensor_conversion_registry.py\u001b[0m in \u001b[0;36m_default_conversion_function\u001b[0;34m(***failed resolving arguments***)\u001b[0m\n\u001b[1;32m     50\u001b[0m \u001b[0;32mdef\u001b[0m \u001b[0m_default_conversion_function\u001b[0m\u001b[0;34m(\u001b[0m\u001b[0mvalue\u001b[0m\u001b[0;34m,\u001b[0m \u001b[0mdtype\u001b[0m\u001b[0;34m,\u001b[0m \u001b[0mname\u001b[0m\u001b[0;34m,\u001b[0m \u001b[0mas_ref\u001b[0m\u001b[0;34m)\u001b[0m\u001b[0;34m:\u001b[0m\u001b[0;34m\u001b[0m\u001b[0;34m\u001b[0m\u001b[0m\n\u001b[1;32m     51\u001b[0m   \u001b[0;32mdel\u001b[0m \u001b[0mas_ref\u001b[0m  \u001b[0;31m# Unused.\u001b[0m\u001b[0;34m\u001b[0m\u001b[0;34m\u001b[0m\u001b[0m\n\u001b[0;32m---> 52\u001b[0;31m   \u001b[0;32mreturn\u001b[0m \u001b[0mconstant_op\u001b[0m\u001b[0;34m.\u001b[0m\u001b[0mconstant\u001b[0m\u001b[0;34m(\u001b[0m\u001b[0mvalue\u001b[0m\u001b[0;34m,\u001b[0m \u001b[0mdtype\u001b[0m\u001b[0;34m,\u001b[0m \u001b[0mname\u001b[0m\u001b[0;34m=\u001b[0m\u001b[0mname\u001b[0m\u001b[0;34m)\u001b[0m\u001b[0;34m\u001b[0m\u001b[0;34m\u001b[0m\u001b[0m\n\u001b[0m\u001b[1;32m     53\u001b[0m \u001b[0;34m\u001b[0m\u001b[0m\n\u001b[1;32m     54\u001b[0m \u001b[0;34m\u001b[0m\u001b[0m\n",
            "\u001b[0;32m/tensorflow-1.15.2/python3.7/tensorflow_core/python/framework/constant_op.py\u001b[0m in \u001b[0;36mconstant\u001b[0;34m(value, dtype, shape, name)\u001b[0m\n\u001b[1;32m    225\u001b[0m   \"\"\"\n\u001b[1;32m    226\u001b[0m   return _constant_impl(value, dtype, shape, name, verify_shape=False,\n\u001b[0;32m--> 227\u001b[0;31m                         allow_broadcast=True)\n\u001b[0m\u001b[1;32m    228\u001b[0m \u001b[0;34m\u001b[0m\u001b[0m\n\u001b[1;32m    229\u001b[0m \u001b[0;34m\u001b[0m\u001b[0m\n",
            "\u001b[0;32m/tensorflow-1.15.2/python3.7/tensorflow_core/python/framework/constant_op.py\u001b[0m in \u001b[0;36m_constant_impl\u001b[0;34m(value, dtype, shape, name, verify_shape, allow_broadcast)\u001b[0m\n\u001b[1;32m    263\u001b[0m       tensor_util.make_tensor_proto(\n\u001b[1;32m    264\u001b[0m           \u001b[0mvalue\u001b[0m\u001b[0;34m,\u001b[0m \u001b[0mdtype\u001b[0m\u001b[0;34m=\u001b[0m\u001b[0mdtype\u001b[0m\u001b[0;34m,\u001b[0m \u001b[0mshape\u001b[0m\u001b[0;34m=\u001b[0m\u001b[0mshape\u001b[0m\u001b[0;34m,\u001b[0m \u001b[0mverify_shape\u001b[0m\u001b[0;34m=\u001b[0m\u001b[0mverify_shape\u001b[0m\u001b[0;34m,\u001b[0m\u001b[0;34m\u001b[0m\u001b[0;34m\u001b[0m\u001b[0m\n\u001b[0;32m--> 265\u001b[0;31m           allow_broadcast=allow_broadcast))\n\u001b[0m\u001b[1;32m    266\u001b[0m   \u001b[0mdtype_value\u001b[0m \u001b[0;34m=\u001b[0m \u001b[0mattr_value_pb2\u001b[0m\u001b[0;34m.\u001b[0m\u001b[0mAttrValue\u001b[0m\u001b[0;34m(\u001b[0m\u001b[0mtype\u001b[0m\u001b[0;34m=\u001b[0m\u001b[0mtensor_value\u001b[0m\u001b[0;34m.\u001b[0m\u001b[0mtensor\u001b[0m\u001b[0;34m.\u001b[0m\u001b[0mdtype\u001b[0m\u001b[0;34m)\u001b[0m\u001b[0;34m\u001b[0m\u001b[0;34m\u001b[0m\u001b[0m\n\u001b[1;32m    267\u001b[0m   const_tensor = g.create_op(\n",
            "\u001b[0;32m/tensorflow-1.15.2/python3.7/tensorflow_core/python/framework/tensor_util.py\u001b[0m in \u001b[0;36mmake_tensor_proto\u001b[0;34m(values, dtype, shape, verify_shape, allow_broadcast)\u001b[0m\n\u001b[1;32m    430\u001b[0m   \u001b[0;32mif\u001b[0m \u001b[0misinstance\u001b[0m\u001b[0;34m(\u001b[0m\u001b[0mvalues\u001b[0m\u001b[0;34m,\u001b[0m \u001b[0;34m(\u001b[0m\u001b[0mnp\u001b[0m\u001b[0;34m.\u001b[0m\u001b[0mndarray\u001b[0m\u001b[0;34m,\u001b[0m \u001b[0mnp\u001b[0m\u001b[0;34m.\u001b[0m\u001b[0mgeneric\u001b[0m\u001b[0;34m)\u001b[0m\u001b[0;34m)\u001b[0m\u001b[0;34m:\u001b[0m\u001b[0;34m\u001b[0m\u001b[0;34m\u001b[0m\u001b[0m\n\u001b[1;32m    431\u001b[0m     \u001b[0;32mif\u001b[0m \u001b[0mdtype\u001b[0m \u001b[0;32mand\u001b[0m \u001b[0mdtype\u001b[0m\u001b[0;34m.\u001b[0m\u001b[0mis_numpy_compatible\u001b[0m\u001b[0;34m:\u001b[0m\u001b[0;34m\u001b[0m\u001b[0;34m\u001b[0m\u001b[0m\n\u001b[0;32m--> 432\u001b[0;31m       \u001b[0mnparray\u001b[0m \u001b[0;34m=\u001b[0m \u001b[0mvalues\u001b[0m\u001b[0;34m.\u001b[0m\u001b[0mastype\u001b[0m\u001b[0;34m(\u001b[0m\u001b[0mdtype\u001b[0m\u001b[0;34m.\u001b[0m\u001b[0mas_numpy_dtype\u001b[0m\u001b[0;34m)\u001b[0m\u001b[0;34m\u001b[0m\u001b[0;34m\u001b[0m\u001b[0m\n\u001b[0m\u001b[1;32m    433\u001b[0m     \u001b[0;32melse\u001b[0m\u001b[0;34m:\u001b[0m\u001b[0;34m\u001b[0m\u001b[0;34m\u001b[0m\u001b[0m\n\u001b[1;32m    434\u001b[0m       \u001b[0mnparray\u001b[0m \u001b[0;34m=\u001b[0m \u001b[0mvalues\u001b[0m\u001b[0;34m\u001b[0m\u001b[0;34m\u001b[0m\u001b[0m\n",
            "\u001b[0;31mTypeError\u001b[0m: int() argument must be a string, a bytes-like object or a number, not 'NoneType'"
          ]
        }
      ]
    },
    {
      "cell_type": "markdown",
      "metadata": {
        "id": "Xd_bvL6dkkj6"
      },
      "source": [
        "### Relations"
      ]
    },
    {
      "cell_type": "markdown",
      "metadata": {
        "id": "zq_rwrt5jTVJ"
      },
      "source": [
        "### Query: what are the possible therapeutic procedure of covid-19??"
      ]
    },
    {
      "cell_type": "code",
      "metadata": {
        "id": "j_cm34I_QNH3"
      },
      "source": [
        "# Query: what are the possible therapeutic procedure of covid-19??\n",
        "\n",
        "from ampligraph.discovery import query_topn\n",
        "\n",
        "# restore the previously saved model to save time\n",
        "model = restore_model('TransE.pkl')\n",
        "\n",
        "triples, scores = query_topn(model, top_n=20, \n",
        "                             head='covid-19', \n",
        "                             relation='disease_treat_procedure', \n",
        "                             tail=None, \n",
        "                             ents_to_consider=None, \n",
        "                             rels_to_consider=None)\n",
        "\n",
        "for triple, score in zip(triples, scores):\n",
        "    print('Score: {} \\t {} '.format(score, triple))"
      ],
      "execution_count": null,
      "outputs": []
    },
    {
      "cell_type": "code",
      "metadata": {
        "id": "njTpcGh0jBnU"
      },
      "source": [
        "# Query: what are the possible therapeutic procedure of covid-19??\n",
        "\n",
        "from ampligraph.discovery import query_topn\n",
        "\n",
        "# restore the previously saved model to save time\n",
        "model = restore_model('TransE.pkl')\n",
        "\n",
        "triples, scores = query_topn(model, top_n=20, \n",
        "                             head=None, \n",
        "                             relation='treat_procedure_disease', \n",
        "                             tail='covid-19', \n",
        "                             ents_to_consider=None, \n",
        "                             rels_to_consider=None)\n",
        "\n",
        "for triple, score in zip(triples, scores):\n",
        "    print('Score: {} \\t {} '.format(score, triple))"
      ],
      "execution_count": null,
      "outputs": []
    },
    {
      "cell_type": "markdown",
      "metadata": {
        "id": "M7ZUKoeVjuGN"
      },
      "source": [
        "### Query: What are related diseases of Covid-19"
      ]
    },
    {
      "cell_type": "code",
      "metadata": {
        "id": "TSZ8QHf6QdgP"
      },
      "source": [
        "# Predict relation\n",
        "\n",
        "triples, scores = query_topn(model, top_n=20, \n",
        "                             head='covid-19', \n",
        "                             relation='disease_disease', \n",
        "                             tail= None, \n",
        "                             ents_to_consider=None, \n",
        "                             rels_to_consider=None)\n",
        "\n",
        "for triple, score in zip(triples, scores):\n",
        "    print('Score: {} \\t {} '.format(score, triple))"
      ],
      "execution_count": null,
      "outputs": []
    },
    {
      "cell_type": "code",
      "metadata": {
        "id": "Fo9TXKFbkRRT"
      },
      "source": [
        "# Predict relation\n",
        "\n",
        "triples, scores = query_topn(model, top_n=20, \n",
        "                             head=None, \n",
        "                             relation='disease_disease', \n",
        "                             tail= 'covid-19', \n",
        "                             ents_to_consider=None, \n",
        "                             rels_to_consider=None)\n",
        "\n",
        "for triple, score in zip(triples, scores):\n",
        "    print('Score: {} \\t {} '.format(score, triple))"
      ],
      "execution_count": null,
      "outputs": []
    },
    {
      "cell_type": "markdown",
      "metadata": {
        "id": "1tXmffPBkw7Y"
      },
      "source": [
        "### Query: What are the genes/proteins related to Covid-19"
      ]
    },
    {
      "cell_type": "code",
      "metadata": {
        "id": "RZU9pJBXEvIG"
      },
      "source": [
        "# Predict relation\n",
        "\n",
        "triples, scores = query_topn(model, top_n=25, \n",
        "                             head='covid-19', \n",
        "                             relation='disease_gene', \n",
        "                             tail=None, \n",
        "                             ents_to_consider=None, \n",
        "                             rels_to_consider=None)\n",
        "\n",
        "for triple, score in zip(triples, scores):\n",
        "    print('Score: {} \\t {} '.format(score, triple))"
      ],
      "execution_count": null,
      "outputs": []
    },
    {
      "cell_type": "code",
      "metadata": {
        "id": "8Z7SxVTfIyCP"
      },
      "source": [
        "# Predict relation\n",
        "\n",
        "triples, scores = query_topn(model, top_n=25, \n",
        "                             head= None, \n",
        "                             relation='gene_disease', \n",
        "                             tail='covid-19', \n",
        "                             ents_to_consider=None, \n",
        "                             rels_to_consider=None)\n",
        "\n",
        "for triple, score in zip(triples, scores):\n",
        "    print('Score: {} \\t {} '.format(score, triple))"
      ],
      "execution_count": null,
      "outputs": []
    },
    {
      "cell_type": "markdown",
      "metadata": {
        "id": "6cuiw9D6ND6J"
      },
      "source": [
        "### Query: What species transmit the covid-19"
      ]
    },
    {
      "cell_type": "code",
      "metadata": {
        "id": "C5JyaTDrFMmG"
      },
      "source": [
        "# Predict relation\n",
        "triples, scores = query_topn(model, top_n=20, \n",
        "                             tail=None, \n",
        "                             relation='disease_species', \n",
        "                             head='covid-19', \n",
        "                             ents_to_consider=None, \n",
        "                             rels_to_consider=None)\n",
        "\n",
        "for triple, score in zip(triples, scores):\n",
        "    print('Score: {} \\t {} '.format(score, triple))"
      ],
      "execution_count": null,
      "outputs": []
    },
    {
      "cell_type": "markdown",
      "metadata": {
        "id": "ZEt3e55_NwvA"
      },
      "source": [
        "### Query: what are symptoms of the covid-19"
      ]
    },
    {
      "cell_type": "code",
      "metadata": {
        "id": "z-Y3oDDaGeLZ"
      },
      "source": [
        "\n",
        "triples, scores = query_topn(model, top_n=25, \n",
        "                             head=None, \n",
        "                             relation='symptom_disease', \n",
        "                             tail='covid-19', \n",
        "                             ents_to_consider=None, \n",
        "                             rels_to_consider=None)\n",
        "\n",
        "for triple, score in zip(triples, scores):\n",
        "    print('Score: {} \\t {} '.format(score, triple))"
      ],
      "execution_count": null,
      "outputs": []
    },
    {
      "cell_type": "code",
      "metadata": {
        "id": "EMoR_zzIOnLJ"
      },
      "source": [
        "triples, scores = query_topn(model, top_n=25, \n",
        "                             tail=None, \n",
        "                             relation='disease_symptom', \n",
        "                             head='covid-19', \n",
        "                             ents_to_consider=None, \n",
        "                             rels_to_consider=None)\n",
        "\n",
        "for triple, score in zip(triples, scores):\n",
        "    print('Score: {} \\t {} '.format(score, triple))"
      ],
      "execution_count": null,
      "outputs": []
    },
    {
      "cell_type": "markdown",
      "metadata": {
        "id": "94nJ6TmMd8pE"
      },
      "source": [
        "### What are potential drugs to treat COVID-19?"
      ]
    },
    {
      "cell_type": "code",
      "metadata": {
        "id": "7sPl6SFZeXX-"
      },
      "source": [
        "\n",
        "triples, scores = query_topn(model, top_n=30, \n",
        "                             head=None, \n",
        "                             relation='drug_disease', \n",
        "                             tail='covid-19', \n",
        "                             ents_to_consider=None, \n",
        "                             rels_to_consider=None)\n",
        "\n",
        "for triple, score in zip(triples, scores):\n",
        "    print('Score: {} \\t {} '.format(score, triple))"
      ],
      "execution_count": null,
      "outputs": []
    },
    {
      "cell_type": "code",
      "metadata": {
        "id": "qxXS3g4yJT15"
      },
      "source": [
        "# Compare the raw call and graph embedding results for the symptoms query\n",
        "\n",
        "## raw call\n",
        "#dataset.loc[(dataset['subject']=='symptom')].head(20)\n",
        "\n",
        "#####==> the result of raw call seems to be better"
      ],
      "execution_count": null,
      "outputs": []
    },
    {
      "cell_type": "code",
      "metadata": {
        "id": "W-wl5yQgLRat"
      },
      "source": [
        ""
      ],
      "execution_count": null,
      "outputs": []
    }
  ]
}