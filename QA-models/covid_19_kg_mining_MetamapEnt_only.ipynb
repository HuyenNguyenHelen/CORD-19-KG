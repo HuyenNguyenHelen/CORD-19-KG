{
  "nbformat": 4,
  "nbformat_minor": 0,
  "metadata": {
    "colab": {
      "name": "covid-19-kg-mining_MetamapEnt_only.ipynb",
      "provenance": [],
      "collapsed_sections": [],
      "include_colab_link": true
    },
    "kernelspec": {
      "name": "python3",
      "display_name": "Python 3"
    },
    "language_info": {
      "name": "python"
    },
    "accelerator": "GPU"
  },
  "cells": [
    {
      "cell_type": "markdown",
      "metadata": {
        "id": "view-in-github",
        "colab_type": "text"
      },
      "source": [
        "<a href=\"https://colab.research.google.com/github/HuyenNguyenHelen/CORD-19-KG/blob/master/covid_19_kg_mining_MetamapEnt_only.ipynb\" target=\"_parent\"><img src=\"https://colab.research.google.com/assets/colab-badge.svg\" alt=\"Open In Colab\"/></a>"
      ]
    },
    {
      "cell_type": "markdown",
      "metadata": {
        "id": "xUFXMJVdOltr"
      },
      "source": [
        "# 1. Preliminaries"
      ]
    },
    {
      "cell_type": "code",
      "metadata": {
        "id": "P7TZVvkzNwDF",
        "colab": {
          "base_uri": "https://localhost:8080/"
        },
        "outputId": "40e648c0-a86f-49cb-9e21-644472efb05c"
      },
      "source": [
        "# If using Google Colab run this cell \n",
        "\n",
        "# select tensorflow version for colab \n",
        "%tensorflow_version 1.x"
      ],
      "execution_count": 1,
      "outputs": [
        {
          "output_type": "stream",
          "text": [
            "TensorFlow 1.x selected.\n"
          ],
          "name": "stdout"
        }
      ]
    },
    {
      "cell_type": "code",
      "metadata": {
        "colab": {
          "base_uri": "https://localhost:8080/"
        },
        "id": "h22uybHCOUyq",
        "outputId": "7c5839e4-44c5-4235-80ab-21cf68a79de2"
      },
      "source": [
        "import tensorflow as tf \n",
        "\n",
        "print('TensorFlow  version: {}'.format(tf.__version__))\n",
        "\n",
        "# Get the GPU name\n",
        "device_name = tf.test.gpu_device_name()\n",
        "if device_name != '/device:GPU:0':\n",
        "  raise SystemError('GPU device not found')\n",
        "print('Found GPU at: {}'.format(device_name))"
      ],
      "execution_count": 2,
      "outputs": [
        {
          "output_type": "stream",
          "text": [
            "TensorFlow  version: 1.15.2\n",
            "Found GPU at: /device:GPU:0\n"
          ],
          "name": "stdout"
        }
      ]
    },
    {
      "cell_type": "code",
      "metadata": {
        "id": "MgZPAPapOaLA"
      },
      "source": [
        "%%capture \n",
        "# Install AmpliGraph library\n",
        "! pip install ampligraph\n",
        "\n",
        "# Required to visualize embeddings with tensorboard projector, comment out if not required!\n",
        "! pip install --user tensorboard\n",
        "\n",
        "# Required to plot text on embedding clusters, comment out if not required!\n",
        "! pip install --user git+https://github.com/Phlya/adjustText"
      ],
      "execution_count": 3,
      "outputs": []
    },
    {
      "cell_type": "code",
      "metadata": {
        "colab": {
          "base_uri": "https://localhost:8080/"
        },
        "id": "9Bzg5vHqOfch",
        "outputId": "8f4432d6-b8a0-44f8-c1ff-32e2bce301ef"
      },
      "source": [
        "# All imports used in this tutorial \n",
        "%tensorflow_version 1.x\n",
        "import ampligraph\n",
        "import numpy as np\n",
        "import pandas as pd\n",
        "import tensorflow as tf\n",
        "from ampligraph.datasets import load_fb15k_237\n",
        "from ampligraph.evaluation import train_test_split_no_unseen, evaluate_performance, mr_score, mrr_score, hits_at_n_score\n",
        "from ampligraph.discovery import query_topn, discover_facts, find_clusters\n",
        "from ampligraph.latent_features import TransE, ComplEx, HolE, DistMult, ConvE, ConvKB\n",
        "from ampligraph.utils import save_model, restore_model\n",
        "\n",
        "def display_aggregate_metrics(ranks):\n",
        "    print('Mean Rank:', mr_score(ranks)) \n",
        "    print('Mean Reciprocal Rank:', mrr_score(ranks)) \n",
        "    print('Hits@1:', hits_at_n_score(ranks, 1))\n",
        "    print('Hits@10:', hits_at_n_score(ranks, 10))\n",
        "    print('Hits@100:', hits_at_n_score(ranks, 100))\n",
        "\n",
        "print('Ampligraph version: {}'.format(ampligraph.__version__))"
      ],
      "execution_count": 4,
      "outputs": [
        {
          "output_type": "stream",
          "text": [
            "Ampligraph version: 1.4.0\n"
          ],
          "name": "stdout"
        }
      ]
    },
    {
      "cell_type": "markdown",
      "metadata": {
        "id": "aBb8eVx6Osxx"
      },
      "source": [
        "# 2. Loading a Knowledge Graph dataset"
      ]
    },
    {
      "cell_type": "code",
      "metadata": {
        "id": "k96fp70dOyyS"
      },
      "source": [
        "from ampligraph.datasets import load_fb15k_237, load_wn18rr, load_yago3_10\n",
        "import io\n",
        "import requests"
      ],
      "execution_count": 9,
      "outputs": []
    },
    {
      "cell_type": "code",
      "metadata": {
        "colab": {
          "base_uri": "https://localhost:8080/",
          "height": 218
        },
        "id": "G6V6F6nWO6cQ",
        "outputId": "afe64eab-e779-4be0-c909-977ebe7ee1b5"
      },
      "source": [
        "# Downloading the csv file from your GitHub account\n",
        "re_pdf = requests.get('https://raw.githubusercontent.com/HuyenNguyenHelen/CORD-19-KG/master/new_triples_with_predefined_relations_pdf_June20_meta-only.csv').content\n",
        "re_pmc = requests.get('https://raw.githubusercontent.com/HuyenNguyenHelen/CORD-19-KG/master/new_triples_with_predefined_relations_pmc_June20_meta-only.csv').content\n",
        "pdf = pd.read_csv(io.StringIO(re_pdf.decode('utf-8')))\n",
        "pmc =  pd.read_csv(io.StringIO(re_pmc.decode('utf-8')))\n",
        "dataset = pd.concat([pmc, pdf])\n",
        "print(dataset.columns)\n",
        "dataset.drop(columns='Unnamed: 0', inplace=True)\n",
        "dataset = dataset[['subject','new_relation', 'object' ]]\n",
        "dataset.head(5)"
      ],
      "execution_count": 10,
      "outputs": [
        {
          "output_type": "stream",
          "text": [
            "Index(['Unnamed: 0', 'Unnamed: 0.1', 'subject', 'object', 'new_relation'], dtype='object')\n"
          ],
          "name": "stdout"
        },
        {
          "output_type": "execute_result",
          "data": {
            "text/html": [
              "<div>\n",
              "<style scoped>\n",
              "    .dataframe tbody tr th:only-of-type {\n",
              "        vertical-align: middle;\n",
              "    }\n",
              "\n",
              "    .dataframe tbody tr th {\n",
              "        vertical-align: top;\n",
              "    }\n",
              "\n",
              "    .dataframe thead th {\n",
              "        text-align: right;\n",
              "    }\n",
              "</style>\n",
              "<table border=\"1\" class=\"dataframe\">\n",
              "  <thead>\n",
              "    <tr style=\"text-align: right;\">\n",
              "      <th></th>\n",
              "      <th>subject</th>\n",
              "      <th>new_relation</th>\n",
              "      <th>object</th>\n",
              "    </tr>\n",
              "  </thead>\n",
              "  <tbody>\n",
              "    <tr>\n",
              "      <th>0</th>\n",
              "      <td>step</td>\n",
              "      <td>gene_gene</td>\n",
              "      <td>endosomes</td>\n",
              "    </tr>\n",
              "    <tr>\n",
              "      <th>1</th>\n",
              "      <td>disease</td>\n",
              "      <td>disease_disease</td>\n",
              "      <td>pneumonia</td>\n",
              "    </tr>\n",
              "    <tr>\n",
              "      <th>2</th>\n",
              "      <td>prophylaxis</td>\n",
              "      <td>treat_procedure_gene</td>\n",
              "      <td>end</td>\n",
              "    </tr>\n",
              "    <tr>\n",
              "      <th>3</th>\n",
              "      <td>prophylaxis</td>\n",
              "      <td>treat_procedure_gene</td>\n",
              "      <td>end</td>\n",
              "    </tr>\n",
              "    <tr>\n",
              "      <th>4</th>\n",
              "      <td>impact</td>\n",
              "      <td>gene_gene</td>\n",
              "      <td>past</td>\n",
              "    </tr>\n",
              "  </tbody>\n",
              "</table>\n",
              "</div>"
            ],
            "text/plain": [
              "       subject          new_relation     object\n",
              "0         step             gene_gene  endosomes\n",
              "1      disease       disease_disease  pneumonia\n",
              "2  prophylaxis  treat_procedure_gene        end\n",
              "3  prophylaxis  treat_procedure_gene        end\n",
              "4       impact             gene_gene       past"
            ]
          },
          "metadata": {
            "tags": []
          },
          "execution_count": 10
        }
      ]
    },
    {
      "cell_type": "code",
      "metadata": {
        "colab": {
          "base_uri": "https://localhost:8080/",
          "height": 414
        },
        "id": "AZ1XPfuExw6_",
        "outputId": "fe707785-f074-4d95-9b48-260968f6e7c0"
      },
      "source": [
        "dataset[dataset['subject']=='coronavirus']"
      ],
      "execution_count": 20,
      "outputs": [
        {
          "output_type": "execute_result",
          "data": {
            "text/html": [
              "<div>\n",
              "<style scoped>\n",
              "    .dataframe tbody tr th:only-of-type {\n",
              "        vertical-align: middle;\n",
              "    }\n",
              "\n",
              "    .dataframe tbody tr th {\n",
              "        vertical-align: top;\n",
              "    }\n",
              "\n",
              "    .dataframe thead th {\n",
              "        text-align: right;\n",
              "    }\n",
              "</style>\n",
              "<table border=\"1\" class=\"dataframe\">\n",
              "  <thead>\n",
              "    <tr style=\"text-align: right;\">\n",
              "      <th></th>\n",
              "      <th>subject</th>\n",
              "      <th>new_relation</th>\n",
              "      <th>object</th>\n",
              "    </tr>\n",
              "  </thead>\n",
              "  <tbody>\n",
              "    <tr>\n",
              "      <th>57</th>\n",
              "      <td>coronavirus</td>\n",
              "      <td>disease_disease</td>\n",
              "      <td>mouse hepatitis virus</td>\n",
              "    </tr>\n",
              "    <tr>\n",
              "      <th>387</th>\n",
              "      <td>coronavirus</td>\n",
              "      <td>disease_disease</td>\n",
              "      <td>kobuvirus</td>\n",
              "    </tr>\n",
              "    <tr>\n",
              "      <th>577</th>\n",
              "      <td>coronavirus</td>\n",
              "      <td>disease_disease</td>\n",
              "      <td>severe acute respiratory syndrome</td>\n",
              "    </tr>\n",
              "    <tr>\n",
              "      <th>578</th>\n",
              "      <td>coronavirus</td>\n",
              "      <td>disease_disease</td>\n",
              "      <td>syndrome</td>\n",
              "    </tr>\n",
              "    <tr>\n",
              "      <th>583</th>\n",
              "      <td>coronavirus</td>\n",
              "      <td>disease_disease</td>\n",
              "      <td>renal failure</td>\n",
              "    </tr>\n",
              "    <tr>\n",
              "      <th>...</th>\n",
              "      <td>...</td>\n",
              "      <td>...</td>\n",
              "      <td>...</td>\n",
              "    </tr>\n",
              "    <tr>\n",
              "      <th>46540</th>\n",
              "      <td>coronavirus</td>\n",
              "      <td>disease_disease</td>\n",
              "      <td>liver</td>\n",
              "    </tr>\n",
              "    <tr>\n",
              "      <th>46546</th>\n",
              "      <td>coronavirus</td>\n",
              "      <td>disease_disease</td>\n",
              "      <td>syndrome</td>\n",
              "    </tr>\n",
              "    <tr>\n",
              "      <th>46547</th>\n",
              "      <td>coronavirus</td>\n",
              "      <td>disease_disease</td>\n",
              "      <td>syndrome</td>\n",
              "    </tr>\n",
              "    <tr>\n",
              "      <th>46548</th>\n",
              "      <td>coronavirus</td>\n",
              "      <td>disease_disease</td>\n",
              "      <td>severe acute respiratory syndrome</td>\n",
              "    </tr>\n",
              "    <tr>\n",
              "      <th>46549</th>\n",
              "      <td>coronavirus</td>\n",
              "      <td>disease_disease</td>\n",
              "      <td>severe acute respiratory syndrome</td>\n",
              "    </tr>\n",
              "  </tbody>\n",
              "</table>\n",
              "<p>529 rows × 3 columns</p>\n",
              "</div>"
            ],
            "text/plain": [
              "           subject     new_relation                             object\n",
              "57     coronavirus  disease_disease              mouse hepatitis virus\n",
              "387    coronavirus  disease_disease                          kobuvirus\n",
              "577    coronavirus  disease_disease  severe acute respiratory syndrome\n",
              "578    coronavirus  disease_disease                           syndrome\n",
              "583    coronavirus  disease_disease                      renal failure\n",
              "...            ...              ...                                ...\n",
              "46540  coronavirus  disease_disease                              liver\n",
              "46546  coronavirus  disease_disease                           syndrome\n",
              "46547  coronavirus  disease_disease                           syndrome\n",
              "46548  coronavirus  disease_disease  severe acute respiratory syndrome\n",
              "46549  coronavirus  disease_disease  severe acute respiratory syndrome\n",
              "\n",
              "[529 rows x 3 columns]"
            ]
          },
          "metadata": {
            "tags": []
          },
          "execution_count": 20
        }
      ]
    },
    {
      "cell_type": "code",
      "metadata": {
        "colab": {
          "base_uri": "https://localhost:8080/"
        },
        "id": "ne21mIAeO-Kh",
        "outputId": "defd52a8-4e26-4061-a187-f1495f74807e"
      },
      "source": [
        "print('Total triples in the KG:', dataset.shape)"
      ],
      "execution_count": 11,
      "outputs": [
        {
          "output_type": "stream",
          "text": [
            "Total triples in the KG: (59070, 3)\n"
          ],
          "name": "stdout"
        }
      ]
    },
    {
      "cell_type": "code",
      "metadata": {
        "id": "9WxrnxjodccM",
        "colab": {
          "base_uri": "https://localhost:8080/"
        },
        "outputId": "998b5050-788e-4b92-d299-1e5912d71be5"
      },
      "source": [
        "print('the number of relations: \\n', dataset['new_relation'].value_counts())"
      ],
      "execution_count": 12,
      "outputs": [
        {
          "output_type": "stream",
          "text": [
            "the number of relations: \n",
            " disease_disease                    18995\n",
            "treat_procedure_treat_procedure     5528\n",
            "gene_gene                           4366\n",
            "disease_treat_procedure             4175\n",
            "treat_procedure_disease             3894\n",
            "symptom_symptom                     3772\n",
            "disease_gene                        3397\n",
            "disease_symptom                     2742\n",
            "gene_disease                        2573\n",
            "gene_treat_procedure                2276\n",
            "symptom_disease                     2260\n",
            "treat_procedure_gene                2191\n",
            "gene_symptom                         526\n",
            "treat_procedure_symptom              466\n",
            "symptom_treat_procedure              406\n",
            "disease_species                      348\n",
            "symptom_gene                         235\n",
            "drug_treat_procedure                 183\n",
            "drug_disease                         153\n",
            "gene_species                         149\n",
            "treat_procedure_species              125\n",
            "treat_procedure_drug                  81\n",
            "drug_gene                             78\n",
            "disease_drug                          43\n",
            "gene_drug                             41\n",
            "drug_drug                             35\n",
            "symptom_species                       20\n",
            "drug_symptom                           8\n",
            "symptom_drug                           2\n",
            "drug_species                           2\n",
            "Name: new_relation, dtype: int64\n"
          ],
          "name": "stdout"
        }
      ]
    },
    {
      "cell_type": "markdown",
      "metadata": {
        "id": "fLlcSqIBPEAQ"
      },
      "source": [
        "## 2.1 Create training, validation and test splits"
      ]
    },
    {
      "cell_type": "code",
      "metadata": {
        "colab": {
          "base_uri": "https://localhost:8080/"
        },
        "id": "qaZipgBpPGop",
        "outputId": "ca063789-aaf4-4892-d74d-9dc9a47fc91a"
      },
      "source": [
        "from ampligraph.evaluation import train_test_split_no_unseen\n",
        "# get the validation set of size 500\n",
        "test_train, X_valid = train_test_split_no_unseen(dataset.values, 500, seed=0)\n",
        "\n",
        "# get the test set of size 1000 from the remaining triples\n",
        "X_train, X_test = train_test_split_no_unseen(test_train, 1000, seed=0)\n",
        "\n",
        "print('Total triples:', dataset.shape)\n",
        "print('Size of train:', X_train.shape)\n",
        "print('Size of valid:', X_valid.shape)\n",
        "print('Size of test:', X_test.shape)"
      ],
      "execution_count": 13,
      "outputs": [
        {
          "output_type": "stream",
          "text": [
            "Total triples: (59070, 3)\n",
            "Size of train: (57570, 3)\n",
            "Size of valid: (500, 3)\n",
            "Size of test: (1000, 3)\n"
          ],
          "name": "stdout"
        }
      ]
    },
    {
      "cell_type": "markdown",
      "metadata": {
        "id": "fzsmWo0zPMR6"
      },
      "source": [
        "# 3. Model Training"
      ]
    },
    {
      "cell_type": "code",
      "metadata": {
        "colab": {
          "base_uri": "https://localhost:8080/"
        },
        "id": "p9POL-1mPOsJ",
        "outputId": "45350fd8-b345-4df4-ea64-f2afdd548201"
      },
      "source": [
        "from ampligraph.latent_features import TransE\n",
        "\n",
        "# Train a KGE model\n",
        "model = TransE(k=300, \n",
        "               epochs=100, \n",
        "               eta=1, \n",
        "               loss='multiclass_nll', \n",
        "               initializer='xavier', initializer_params={'uniform': False},\n",
        "               regularizer='LP', regularizer_params= {'lambda': 0.001, 'p': 3},\n",
        "               optimizer= 'adam', optimizer_params= {'lr': 0.0001}, \n",
        "               seed= 0, batches_count= 10, verbose=True)\n",
        "\n",
        "model.fit(X_train)\n",
        "# ----------------------\n",
        "# Evaluate: \n",
        "# Filtered evaluation with ranking strategy assigning worst rank to break ties\n",
        "\n",
        "from ampligraph.utils import save_model, restore_model\n",
        "save_model(model, 'TransE.pkl')\n",
        "model = restore_model('TransE.pkl')\n",
        "\n",
        "# create the filter \n",
        "X_filter = np.concatenate([X_train, X_valid, X_test], 0)\n",
        "\n",
        "# compute ranks\n",
        "ranks = evaluate_performance(X_test, \n",
        "                             model=model, \n",
        "                             filter_triples=X_filter)\n",
        "\n",
        "# ranks are computed per triple\n",
        "print('Test set:', X_test.shape)\n",
        "print('Size of ranks:', ranks.shape)\n",
        "\n",
        "# Aggregate metrics show the aggregate performance of the model on the test set using a single number\n",
        "display_aggregate_metrics(ranks)\n",
        "# ----------------------"
      ],
      "execution_count": 14,
      "outputs": [
        {
          "output_type": "stream",
          "text": [
            "Average TransE Loss:   0.046343: 100%|██████████| 100/100 [00:05<00:00, 18.89epoch/s]\n",
            "100%|██████████| 1000/1000 [00:03<00:00, 274.01it/s]\n"
          ],
          "name": "stderr"
        },
        {
          "output_type": "stream",
          "text": [
            "Test set: (1000, 3)\n",
            "Size of ranks: (1000, 2)\n",
            "Mean Rank: 386.886\n",
            "Mean Reciprocal Rank: 0.23319439198377404\n",
            "Hits@1: 0.1595\n",
            "Hits@10: 0.381\n",
            "Hits@100: 0.6625\n"
          ],
          "name": "stdout"
        }
      ]
    },
    {
      "cell_type": "markdown",
      "metadata": {
        "id": "sYMsDmRuQLem"
      },
      "source": [
        "# 4. Knowledge Discovery"
      ]
    },
    {
      "cell_type": "markdown",
      "metadata": {
        "id": "Xd_bvL6dkkj6"
      },
      "source": [
        "### Relations"
      ]
    },
    {
      "cell_type": "code",
      "metadata": {
        "id": "_xWtlPK3fstK",
        "colab": {
          "base_uri": "https://localhost:8080/",
          "height": 102
        },
        "outputId": "dff67638-d46b-4a84-dfcf-c441906761b7"
      },
      "source": [
        "# Relations\n",
        "'''\n",
        "disease_disease                    87479\n",
        "gene_gene                          25101\n",
        "disease_species                    21152\n",
        "gene_disease                       17414\n",
        "disease_gene                       17383\n",
        "treat_procedure_disease            15221\n",
        "disease_treat_procedure            14696\n",
        "treat_procedure_treat_procedure    13533\n",
        "treat_procedure_gene                8913\n",
        "gene_treat_procedure                8913\n",
        "treat_procedure_species             5307\n",
        "gene_species                        3894\n",
        "disease_symptom                     2501\n",
        "symptom_disease                     1409\n",
        "treat_procedure_symptom              391\n",
        "gene_symptom                         310\n",
        "symptom_species                      253\n",
        "symptom_treat_procedure              211\n",
        "symptom_gene                         170\n",
        "symptom_symptom                      141\n",
        "'''"
      ],
      "execution_count": 15,
      "outputs": [
        {
          "output_type": "execute_result",
          "data": {
            "application/vnd.google.colaboratory.intrinsic+json": {
              "type": "string"
            },
            "text/plain": [
              "'\\ndisease_disease                    87479\\ngene_gene                          25101\\ndisease_species                    21152\\ngene_disease                       17414\\ndisease_gene                       17383\\ntreat_procedure_disease            15221\\ndisease_treat_procedure            14696\\ntreat_procedure_treat_procedure    13533\\ntreat_procedure_gene                8913\\ngene_treat_procedure                8913\\ntreat_procedure_species             5307\\ngene_species                        3894\\ndisease_symptom                     2501\\nsymptom_disease                     1409\\ntreat_procedure_symptom              391\\ngene_symptom                         310\\nsymptom_species                      253\\nsymptom_treat_procedure              211\\nsymptom_gene                         170\\nsymptom_symptom                      141\\n'"
            ]
          },
          "metadata": {
            "tags": []
          },
          "execution_count": 15
        }
      ]
    },
    {
      "cell_type": "markdown",
      "metadata": {
        "id": "oGu6b-HnQRS3"
      },
      "source": [
        "##  Question - Answering\n",
        "\n",
        "``` \n",
        "    <head, relation, ?> \n",
        "    <head, ?,        tail>\n",
        "    <?,    relation, tail>\n",
        "```"
      ]
    },
    {
      "cell_type": "markdown",
      "metadata": {
        "id": "zq_rwrt5jTVJ"
      },
      "source": [
        "### Query: what are the possible therapeutic procedure of covid-19??"
      ]
    },
    {
      "cell_type": "code",
      "metadata": {
        "colab": {
          "base_uri": "https://localhost:8080/"
        },
        "id": "j_cm34I_QNH3",
        "outputId": "cf20db81-c5a6-464c-8a2c-99473fc0c169"
      },
      "source": [
        "# Query: what are the possible therapeutic procedure of covid-19??\n",
        "\n",
        "from ampligraph.discovery import query_topn\n",
        "\n",
        "# restore the previously saved model to save time\n",
        "model = restore_model('TransE.pkl')\n",
        "\n",
        "triples, scores = query_topn(model, top_n=20, \n",
        "                             head='coronavirus', \n",
        "                             relation='disease_treat_procedure', \n",
        "                             tail=None, \n",
        "                             ents_to_consider=None, \n",
        "                             rels_to_consider=None)\n",
        "\n",
        "for triple, score in zip(triples, scores):\n",
        "    print('Score: {} \\t {} '.format(score, triple))"
      ],
      "execution_count": 21,
      "outputs": [
        {
          "output_type": "stream",
          "text": [
            "Score: -10.11337947845459 \t ['coronavirus' 'disease_treat_procedure' 'detected'] \n",
            "Score: -10.829673767089844 \t ['coronavirus' 'disease_treat_procedure' 'destruction'] \n",
            "Score: -11.142451286315918 \t ['coronavirus' 'disease_treat_procedure' 'mechanical ventilation'] \n",
            "Score: -11.163158416748047 \t ['coronavirus' 'disease_treat_procedure' 'elevation'] \n",
            "Score: -11.16749382019043 \t ['coronavirus' 'disease_treat_procedure' 'clearance'] \n",
            "Score: -11.181879043579102 \t ['coronavirus' 'disease_treat_procedure' 'release'] \n",
            "Score: -11.247224807739258 \t ['coronavirus' 'disease_treat_procedure' 'expression'] \n",
            "Score: -11.263041496276855 \t ['coronavirus' 'disease_treat_procedure' 'presence'] \n",
            "Score: -11.357131958007812 \t ['coronavirus' 'disease_treat_procedure' 'detection'] \n",
            "Score: -11.363958358764648 \t ['coronavirus' 'disease_treat_procedure' 'induction'] \n",
            "Score: -11.469465255737305 \t ['coronavirus' 'disease_treat_procedure' 'quarantine'] \n",
            "Score: -11.522125244140625 \t ['coronavirus' 'disease_treat_procedure' 'treatment'] \n",
            "Score: -11.524251937866211 \t ['coronavirus' 'disease_treat_procedure' 'open'] \n",
            "Score: -11.535842895507812 \t ['coronavirus' 'disease_treat_procedure' 'removal'] \n",
            "Score: -11.53947925567627 \t ['coronavirus' 'disease_treat_procedure' 'vaccination'] \n",
            "Score: -11.573905944824219 \t ['coronavirus' 'disease_treat_procedure' 'change'] \n",
            "Score: -11.58726978302002 \t ['coronavirus' 'disease_treat_procedure' 'ischemia'] \n",
            "Score: -11.613364219665527 \t ['coronavirus' 'disease_treat_procedure' 'reduction'] \n",
            "Score: -11.66502571105957 \t ['coronavirus' 'disease_treat_procedure' 'diet'] \n",
            "Score: -11.730810165405273 \t ['coronavirus' 'disease_treat_procedure' 'intervention'] \n"
          ],
          "name": "stdout"
        }
      ]
    },
    {
      "cell_type": "code",
      "metadata": {
        "id": "njTpcGh0jBnU",
        "colab": {
          "base_uri": "https://localhost:8080/"
        },
        "outputId": "0d46ccaa-58aa-465e-8c11-ce285f6dab03"
      },
      "source": [
        "# Query: what are the possible therapeutic procedure of covid-19??\n",
        "\n",
        "from ampligraph.discovery import query_topn\n",
        "\n",
        "# restore the previously saved model to save time\n",
        "model = restore_model('TransE.pkl')\n",
        "\n",
        "triples, scores = query_topn(model, top_n=20, \n",
        "                             head=None, \n",
        "                             relation='treat_procedure_disease', \n",
        "                             tail='coronavirus', \n",
        "                             ents_to_consider=None, \n",
        "                             rels_to_consider=None)\n",
        "\n",
        "for triple, score in zip(triples, scores):\n",
        "    print('Score: {} \\t {} '.format(score, triple))"
      ],
      "execution_count": 22,
      "outputs": [
        {
          "output_type": "stream",
          "text": [
            "Score: -10.722274780273438 \t ['administration' 'treat_procedure_disease' 'coronavirus'] \n",
            "Score: -10.930908203125 \t ['inoculation' 'treat_procedure_disease' 'coronavirus'] \n",
            "Score: -11.050116539001465 \t ['immunization' 'treat_procedure_disease' 'coronavirus'] \n",
            "Score: -11.142293930053711 \t ['expression' 'treat_procedure_disease' 'coronavirus'] \n",
            "Score: -11.151449203491211 \t ['isolation' 'treat_procedure_disease' 'coronavirus'] \n",
            "Score: -11.154409408569336 \t ['reduction' 'treat_procedure_disease' 'coronavirus'] \n",
            "Score: -11.167686462402344 \t ['therapy' 'treat_procedure_disease' 'coronavirus'] \n",
            "Score: -11.179778099060059 \t ['presence' 'treat_procedure_disease' 'coronavirus'] \n",
            "Score: -11.205928802490234 \t ['application' 'treat_procedure_disease' 'coronavirus'] \n",
            "Score: -11.253530502319336 \t ['influenza vaccination' 'treat_procedure_disease' 'coronavirus'] \n",
            "Score: -11.35280704498291 \t ['infiltration' 'treat_procedure_disease' 'coronavirus'] \n",
            "Score: -11.402839660644531 \t ['vaccination' 'treat_procedure_disease' 'coronavirus'] \n",
            "Score: -11.429327964782715 \t ['oral administration' 'treat_procedure_disease' 'coronavirus'] \n",
            "Score: -11.484577178955078 \t ['treatment' 'treat_procedure_disease' 'coronavirus'] \n",
            "Score: -11.489538192749023 \t ['delivery' 'treat_procedure_disease' 'coronavirus'] \n",
            "Score: -11.502979278564453 \t ['coagulation' 'treat_procedure_disease' 'coronavirus'] \n",
            "Score: -11.504010200500488 \t ['insertion' 'treat_procedure_disease' 'coronavirus'] \n",
            "Score: -11.505521774291992 \t ['aspiration' 'treat_procedure_disease' 'coronavirus'] \n",
            "Score: -11.565353393554688 \t ['prevention' 'treat_procedure_disease' 'coronavirus'] \n",
            "Score: -11.616765975952148 \t ['replacement' 'treat_procedure_disease' 'coronavirus'] \n"
          ],
          "name": "stdout"
        }
      ]
    },
    {
      "cell_type": "markdown",
      "metadata": {
        "id": "M7ZUKoeVjuGN"
      },
      "source": [
        "### Query: What are related diseases of Covid-19"
      ]
    },
    {
      "cell_type": "code",
      "metadata": {
        "colab": {
          "base_uri": "https://localhost:8080/"
        },
        "id": "TSZ8QHf6QdgP",
        "outputId": "e43e563b-bcbc-4fd9-da1f-b79539b71a45"
      },
      "source": [
        "# Predict relation\n",
        "\n",
        "triples, scores = query_topn(model, top_n=20, \n",
        "                             head='coronavirus', \n",
        "                             relation='disease_disease', \n",
        "                             tail= None, \n",
        "                             ents_to_consider=None, \n",
        "                             rels_to_consider=None)\n",
        "\n",
        "for triple, score in zip(triples, scores):\n",
        "    print('Score: {} \\t {} '.format(score, triple))"
      ],
      "execution_count": 23,
      "outputs": [
        {
          "output_type": "stream",
          "text": [
            "Score: -13.101186752319336 \t ['coronavirus' 'disease_disease' 'human metapneumovirus'] \n",
            "Score: -13.128988265991211 \t ['coronavirus' 'disease_disease' 'bat coronavirus'] \n",
            "Score: -13.156639099121094 \t ['coronavirus' 'disease_disease' 'febrile illness'] \n",
            "Score: -13.279833793640137 \t ['coronavirus' 'disease_disease' 'acute respiratory tract infection'] \n",
            "Score: -13.337406158447266 \t ['coronavirus' 'disease_disease' 'respiratory tract disease'] \n",
            "Score: -13.427349090576172 \t ['coronavirus' 'disease_disease' 'hepatic necrosis'] \n",
            "Score: -13.551551818847656 \t ['coronavirus' 'disease_disease' 'contagious disease'] \n",
            "Score: -13.66872501373291 \t ['coronavirus' 'disease_disease' 'viral disease'] \n",
            "Score: -13.688700675964355 \t ['coronavirus' 'disease_disease' 'kidney failure'] \n",
            "Score: -13.695825576782227 \t ['coronavirus' 'disease_disease' 'lower respiratory tract infection'] \n",
            "Score: -13.723230361938477 \t ['coronavirus' 'disease_disease' 'severe acute respiratory syndrome'] \n",
            "Score: -13.760993003845215 \t ['coronavirus' 'disease_disease' 'endemic disease'] \n",
            "Score: -13.817605972290039 \t ['coronavirus' 'disease_disease' 'urinary tract infection'] \n",
            "Score: -13.819217681884766 \t ['coronavirus' 'disease_disease' 'coagulopathies'] \n",
            "Score: -13.828727722167969 \t ['coronavirus' 'disease_disease' 'cold'] \n",
            "Score: -13.8707275390625 \t ['coronavirus' 'disease_disease' 'enveloped virus'] \n",
            "Score: -13.907981872558594 \t ['coronavirus' 'disease_disease' 'spinal cord'] \n",
            "Score: -13.924057960510254 \t ['coronavirus' 'disease_disease' 'immunopathology'] \n",
            "Score: -13.934009552001953 \t ['coronavirus' 'disease_disease' 'avian influenza'] \n",
            "Score: -13.953447341918945 \t ['coronavirus' 'disease_disease' 'canine adenovirus 1'] \n"
          ],
          "name": "stdout"
        }
      ]
    },
    {
      "cell_type": "code",
      "metadata": {
        "id": "Fo9TXKFbkRRT",
        "colab": {
          "base_uri": "https://localhost:8080/"
        },
        "outputId": "8fcd6e44-e36f-42a1-fe00-04f339ea3ef2"
      },
      "source": [
        "# Predict relation\n",
        "\n",
        "triples, scores = query_topn(model, top_n=20, \n",
        "                             head=None, \n",
        "                             relation='disease_disease', \n",
        "                             tail= 'coronavirus', \n",
        "                             ents_to_consider=None, \n",
        "                             rels_to_consider=None)\n",
        "\n",
        "for triple, score in zip(triples, scores):\n",
        "    print('Score: {} \\t {} '.format(score, triple))"
      ],
      "execution_count": 24,
      "outputs": [
        {
          "output_type": "stream",
          "text": [
            "Score: -13.22624397277832 \t ['reovirus' 'disease_disease' 'coronavirus'] \n",
            "Score: -13.256596565246582 \t ['calicivirus' 'disease_disease' 'coronavirus'] \n",
            "Score: -13.46108627319336 \t ['mucopurulent conjunctivitis' 'disease_disease' 'coronavirus'] \n",
            "Score: -13.461867332458496 \t ['he' 'disease_disease' 'coronavirus'] \n",
            "Score: -13.741909980773926 \t ['normocytic anemia' 'disease_disease' 'coronavirus'] \n",
            "Score: -13.764816284179688 \t ['virus infection' 'disease_disease' 'coronavirus'] \n",
            "Score: -13.825664520263672 \t ['bronchiolitis obliterans' 'disease_disease' 'coronavirus'] \n",
            "Score: -13.83259391784668 \t ['deltacoronavirus' 'disease_disease' 'coronavirus'] \n",
            "Score: -13.838094711303711 \t ['autoimmune hemolytic anemia' 'disease_disease' 'coronavirus'] \n",
            "Score: -13.922308921813965 \t ['respiratory virus' 'disease_disease' 'coronavirus'] \n",
            "Score: -13.954536437988281 \t ['tuberculosis' 'disease_disease' 'coronavirus'] \n",
            "Score: -13.995033264160156 \t ['fungal infection' 'disease_disease' 'coronavirus'] \n",
            "Score: -14.000375747680664 \t ['septicaemia' 'disease_disease' 'coronavirus'] \n",
            "Score: -14.003029823303223 \t ['pulmonary pathology' 'disease_disease' 'coronavirus'] \n",
            "Score: -14.014059066772461 \t ['coinfections' 'disease_disease' 'coronavirus'] \n",
            "Score: -14.029790878295898 \t ['gammacoronaviruses' 'disease_disease' 'coronavirus'] \n",
            "Score: -14.036849975585938 \t ['lung inflammation' 'disease_disease' 'coronavirus'] \n",
            "Score: -14.055383682250977 \t ['clinical syndrome' 'disease_disease' 'coronavirus'] \n",
            "Score: -14.067649841308594 \t ['parainfluenza virus' 'disease_disease' 'coronavirus'] \n",
            "Score: -14.073217391967773 \t ['adenoviral pneumonia' 'disease_disease' 'coronavirus'] \n"
          ],
          "name": "stdout"
        }
      ]
    },
    {
      "cell_type": "markdown",
      "metadata": {
        "id": "1tXmffPBkw7Y"
      },
      "source": [
        "### Query: What are the genes/proteins related to Covid-19"
      ]
    },
    {
      "cell_type": "code",
      "metadata": {
        "colab": {
          "base_uri": "https://localhost:8080/"
        },
        "id": "RZU9pJBXEvIG",
        "outputId": "481c3230-369e-4dfb-c947-072aa32509af"
      },
      "source": [
        "# Predict relation\n",
        "\n",
        "triples, scores = query_topn(model, top_n=25, \n",
        "                             head='coronavirus', \n",
        "                             relation='disease_gene', \n",
        "                             tail=None, \n",
        "                             ents_to_consider=None, \n",
        "                             rels_to_consider=None)\n",
        "\n",
        "for triple, score in zip(triples, scores):\n",
        "    print('Score: {} \\t {} '.format(score, triple))"
      ],
      "execution_count": 25,
      "outputs": [
        {
          "output_type": "stream",
          "text": [
            "Score: -10.575424194335938 \t ['coronavirus' 'disease_gene' 'damage'] \n",
            "Score: -10.588289260864258 \t ['coronavirus' 'disease_gene' 'rare'] \n",
            "Score: -10.624994277954102 \t ['coronavirus' 'disease_gene' 'cell'] \n",
            "Score: -10.67475700378418 \t ['coronavirus' 'disease_gene' 'body'] \n",
            "Score: -10.783074378967285 \t ['coronavirus' 'disease_gene' 'air'] \n",
            "Score: -10.804056167602539 \t ['coronavirus' 'disease_gene' '16'] \n",
            "Score: -10.921653747558594 \t ['coronavirus' 'disease_gene' 'set'] \n",
            "Score: -10.932303428649902 \t ['coronavirus' 'disease_gene' 'genome'] \n",
            "Score: -10.934850692749023 \t ['coronavirus' 'disease_gene' 'large'] \n",
            "Score: -10.97941780090332 \t ['coronavirus' 'disease_gene' 'host cell'] \n",
            "Score: -11.019573211669922 \t ['coronavirus' 'disease_gene' 'mask'] \n",
            "Score: -11.050115585327148 \t ['coronavirus' 'disease_gene' 'type'] \n",
            "Score: -11.151134490966797 \t ['coronavirus' 'disease_gene' 'end'] \n",
            "Score: -11.156850814819336 \t ['coronavirus' 'disease_gene' 'hepatocytes'] \n",
            "Score: -11.242757797241211 \t ['coronavirus' 'disease_gene' 'serum'] \n",
            "Score: -11.253435134887695 \t ['coronavirus' 'disease_gene' 'men'] \n",
            "Score: -11.255495071411133 \t ['coronavirus' 'disease_gene' 'impact'] \n",
            "Score: -11.336305618286133 \t ['coronavirus' 'disease_gene' 'toll'] \n",
            "Score: -11.390897750854492 \t ['coronavirus' 'disease_gene' 'antibody'] \n",
            "Score: -11.43548583984375 \t ['coronavirus' 'disease_gene' 'base'] \n",
            "Score: -11.446949005126953 \t ['coronavirus' 'disease_gene' 'cytoplasm'] \n",
            "Score: -11.447725296020508 \t ['coronavirus' 'disease_gene' '12'] \n",
            "Score: -11.453910827636719 \t ['coronavirus' 'disease_gene' 'virion'] \n",
            "Score: -11.47979736328125 \t ['coronavirus' 'disease_gene' 'camel'] \n",
            "Score: -11.491789817810059 \t ['coronavirus' 'disease_gene' 'trade'] \n"
          ],
          "name": "stdout"
        }
      ]
    },
    {
      "cell_type": "code",
      "metadata": {
        "colab": {
          "base_uri": "https://localhost:8080/"
        },
        "id": "8Z7SxVTfIyCP",
        "outputId": "0d9563e1-caec-4da0-a60c-987899d4b9e6"
      },
      "source": [
        "# Predict relation\n",
        "\n",
        "triples, scores = query_topn(model, top_n=20, \n",
        "                             head= None, \n",
        "                             relation='gene_disease', \n",
        "                             tail='coronavirus', \n",
        "                             ents_to_consider=None, \n",
        "                             rels_to_consider=None)\n",
        "\n",
        "for triple, score in zip(triples, scores):\n",
        "    print('Score: {} \\t {} '.format(score, triple))"
      ],
      "execution_count": 26,
      "outputs": [
        {
          "output_type": "stream",
          "text": [
            "Score: -11.049840927124023 \t ['all' 'gene_disease' 'coronavirus'] \n",
            "Score: -11.282011032104492 \t ['she' 'gene_disease' 'coronavirus'] \n",
            "Score: -11.325490951538086 \t ['cat' 'gene_disease' 'coronavirus'] \n",
            "Score: -11.33282470703125 \t ['gene' 'gene_disease' 'coronavirus'] \n",
            "Score: -11.393682479858398 \t ['aim' 'gene_disease' 'coronavirus'] \n",
            "Score: -11.51169204711914 \t ['light' 'gene_disease' 'coronavirus'] \n",
            "Score: -11.579887390136719 \t ['sex' 'gene_disease' 'coronavirus'] \n",
            "Score: -11.691695213317871 \t ['rest' 'gene_disease' 'coronavirus'] \n",
            "Score: -11.747001647949219 \t ['protein' 'gene_disease' 'coronavirus'] \n",
            "Score: -11.851118087768555 \t ['damage' 'gene_disease' 'coronavirus'] \n",
            "Score: -11.85301685333252 \t ['pig' 'gene_disease' 'coronavirus'] \n",
            "Score: -11.883543014526367 \t ['impact' 'gene_disease' 'coronavirus'] \n",
            "Score: -11.902676582336426 \t ['type' 'gene_disease' 'coronavirus'] \n",
            "Score: -11.935670852661133 \t ['microglia' 'gene_disease' 'coronavirus'] \n",
            "Score: -11.99493408203125 \t ['mix' 'gene_disease' 'coronavirus'] \n",
            "Score: -12.031808853149414 \t ['bat' 'gene_disease' 'coronavirus'] \n",
            "Score: -12.034927368164062 \t ['mass' 'gene_disease' 'coronavirus'] \n",
            "Score: -12.039339065551758 \t ['best' 'gene_disease' 'coronavirus'] \n",
            "Score: -12.043113708496094 \t ['clone' 'gene_disease' 'coronavirus'] \n",
            "Score: -12.043581008911133 \t ['antibody' 'gene_disease' 'coronavirus'] \n"
          ],
          "name": "stdout"
        }
      ]
    },
    {
      "cell_type": "markdown",
      "metadata": {
        "id": "6cuiw9D6ND6J"
      },
      "source": [
        "### Query: What species transmit the covid-19"
      ]
    },
    {
      "cell_type": "code",
      "metadata": {
        "colab": {
          "base_uri": "https://localhost:8080/"
        },
        "id": "C5JyaTDrFMmG",
        "outputId": "69d3ef20-5943-4d83-96f9-bee14649e9b0"
      },
      "source": [
        "# Predict relation\n",
        "triples, scores = query_topn(model, top_n=20, \n",
        "                             tail=None, \n",
        "                             relation='disease_species', \n",
        "                             head='coronavirus', \n",
        "                             ents_to_consider=None, \n",
        "                             rels_to_consider=None)\n",
        "\n",
        "for triple, score in zip(triples, scores):\n",
        "    print('Score: {} \\t {} '.format(score, triple))"
      ],
      "execution_count": 29,
      "outputs": [
        {
          "output_type": "stream",
          "text": [
            "Score: -9.288200378417969 \t ['coronavirus' 'disease_species' 'specie'] \n",
            "Score: -10.098377227783203 \t ['coronavirus' 'disease_species' 'livestock'] \n",
            "Score: -10.185588836669922 \t ['coronavirus' 'disease_species' 'animal'] \n",
            "Score: -10.312093734741211 \t ['coronavirus' 'disease_species' 'vector'] \n",
            "Score: -10.668992042541504 \t ['coronavirus' 'disease_species' 'animal model'] \n",
            "Score: -10.89625072479248 \t ['coronavirus' 'disease_species' 'working'] \n",
            "Score: -10.973854064941406 \t ['coronavirus' 'disease_species' 'meat'] \n",
            "Score: -11.993785858154297 \t ['coronavirus' 'disease_species' 'show'] \n",
            "Score: -12.48626708984375 \t ['coronavirus' 'disease_species' 'pet'] \n",
            "Score: -12.537677764892578 \t ['coronavirus' 'disease_species' 'experimental animal model'] \n",
            "Score: -12.714065551757812 \t ['coronavirus' 'disease_species' 'animal kingdom'] \n",
            "Score: -12.84627914428711 \t ['coronavirus' 'disease_species' 'thoracotomy'] \n",
            "Score: -12.9278564453125 \t ['coronavirus' 'disease_species' 'cor pulmonale'] \n",
            "Score: -12.934165954589844 \t ['coronavirus' 'disease_species' 'coronavirus infection'] \n",
            "Score: -12.942878723144531 \t ['coronavirus' 'disease_species' 'nucleus'] \n",
            "Score: -13.033716201782227 \t ['coronavirus' 'disease_species' 'bacterial pneumonia'] \n",
            "Score: -13.048004150390625 \t ['coronavirus' 'disease_species' 'atrial fibrillation'] \n",
            "Score: -13.051426887512207 \t ['coronavirus' 'disease_species' 'polyarthritis'] \n",
            "Score: -13.052083969116211 \t ['coronavirus' 'disease_species' 'laboratory animal model'] \n",
            "Score: -13.076845169067383 \t ['coronavirus' 'disease_species' 'dieter'] \n"
          ],
          "name": "stdout"
        }
      ]
    },
    {
      "cell_type": "markdown",
      "metadata": {
        "id": "ZEt3e55_NwvA"
      },
      "source": [
        "### Query: what are symptoms of the covid-19"
      ]
    },
    {
      "cell_type": "code",
      "metadata": {
        "colab": {
          "base_uri": "https://localhost:8080/"
        },
        "id": "z-Y3oDDaGeLZ",
        "outputId": "25612777-9d61-434f-e00b-66836e4b27e2"
      },
      "source": [
        "\n",
        "triples, scores = query_topn(model, top_n=20, \n",
        "                             head=None, \n",
        "                             relation='symptom_disease', \n",
        "                             tail='coronavirus', \n",
        "                             ents_to_consider=None, \n",
        "                             rels_to_consider=None)\n",
        "\n",
        "for triple, score in zip(triples, scores):\n",
        "    print('Score: {} \\t {} '.format(score, triple))"
      ],
      "execution_count": 30,
      "outputs": [
        {
          "output_type": "stream",
          "text": [
            "Score: -10.903974533081055 \t ['fever' 'symptom_disease' 'coronavirus'] \n",
            "Score: -11.251813888549805 \t ['finding' 'symptom_disease' 'coronavirus'] \n",
            "Score: -11.260201454162598 \t ['pain' 'symptom_disease' 'coronavirus'] \n",
            "Score: -11.329851150512695 \t ['cough' 'symptom_disease' 'coronavirus'] \n",
            "Score: -11.337830543518066 \t ['diarrhea' 'symptom_disease' 'coronavirus'] \n",
            "Score: -11.344078063964844 \t ['diarrhoea' 'symptom_disease' 'coronavirus'] \n",
            "Score: -11.375017166137695 \t ['headache' 'symptom_disease' 'coronavirus'] \n",
            "Score: -11.386722564697266 \t ['illness' 'symptom_disease' 'coronavirus'] \n",
            "Score: -11.449350357055664 \t ['weakness' 'symptom_disease' 'coronavirus'] \n",
            "Score: -11.482715606689453 \t ['dyspnea' 'symptom_disease' 'coronavirus'] \n",
            "Score: -11.487443923950195 \t ['lethargy' 'symptom_disease' 'coronavirus'] \n",
            "Score: -11.492292404174805 \t ['watery diarrhea' 'symptom_disease' 'coronavirus'] \n",
            "Score: -11.53415298461914 \t ['malaise' 'symptom_disease' 'coronavirus'] \n",
            "Score: -11.568134307861328 \t ['discharge' 'symptom_disease' 'coronavirus'] \n",
            "Score: -11.593055725097656 \t ['abdominal pain' 'symptom_disease' 'coronavirus'] \n",
            "Score: -11.613630294799805 \t ['vomiting' 'symptom_disease' 'coronavirus'] \n",
            "Score: -11.922340393066406 \t ['imbalance' 'symptom_disease' 'coronavirus'] \n",
            "Score: -11.942312240600586 \t ['respiratory distress' 'symptom_disease' 'coronavirus'] \n",
            "Score: -11.951432228088379 \t ['fatigue' 'symptom_disease' 'coronavirus'] \n",
            "Score: -11.997576713562012 \t ['severe diarrhea' 'symptom_disease' 'coronavirus'] \n"
          ],
          "name": "stdout"
        }
      ]
    },
    {
      "cell_type": "code",
      "metadata": {
        "colab": {
          "base_uri": "https://localhost:8080/"
        },
        "id": "EMoR_zzIOnLJ",
        "outputId": "b226d395-2692-48c1-a70e-91527b6da606"
      },
      "source": [
        "triples, scores = query_topn(model, top_n=20, \n",
        "                             tail=None, \n",
        "                             relation='disease_symptom', \n",
        "                             head='coronavirus', \n",
        "                             ents_to_consider=None, \n",
        "                             rels_to_consider=None)\n",
        "\n",
        "for triple, score in zip(triples, scores):\n",
        "    print('Score: {} \\t {} '.format(score, triple))"
      ],
      "execution_count": 31,
      "outputs": [
        {
          "output_type": "stream",
          "text": [
            "Score: -10.91246223449707 \t ['coronavirus' 'disease_symptom' 'illness'] \n",
            "Score: -10.998165130615234 \t ['coronavirus' 'disease_symptom' 'diarrhea'] \n",
            "Score: -11.126043319702148 \t ['coronavirus' 'disease_symptom' 'organ failure'] \n",
            "Score: -11.241591453552246 \t ['coronavirus' 'disease_symptom' 'severe diarrhea'] \n",
            "Score: -11.34196662902832 \t ['coronavirus' 'disease_symptom' 'fever'] \n",
            "Score: -11.36102294921875 \t ['coronavirus' 'disease_symptom' 'symptom'] \n",
            "Score: -11.391937255859375 \t ['coronavirus' 'disease_symptom' 'coughing'] \n",
            "Score: -11.428824424743652 \t ['coronavirus' 'disease_symptom' 'nasal discharge'] \n",
            "Score: -11.528543472290039 \t ['coronavirus' 'disease_symptom' 'cough'] \n",
            "Score: -11.631805419921875 \t ['coronavirus' 'disease_symptom' 'respiratory distress'] \n",
            "Score: -11.722046852111816 \t ['coronavirus' 'disease_symptom' 'fatigue'] \n",
            "Score: -11.725456237792969 \t ['coronavirus' 'disease_symptom' 'dyspnea'] \n",
            "Score: -11.734771728515625 \t ['coronavirus' 'disease_symptom' 'nausea'] \n",
            "Score: -11.784355163574219 \t ['coronavirus' 'disease_symptom' 'discharge'] \n",
            "Score: -11.792222023010254 \t ['coronavirus' 'disease_symptom' 'pain'] \n",
            "Score: -11.812458038330078 \t ['coronavirus' 'disease_symptom' 'rhinorrhea'] \n",
            "Score: -11.816947937011719 \t ['coronavirus' 'disease_symptom' 'rash'] \n",
            "Score: -11.84115982055664 \t ['coronavirus' 'disease_symptom' 'vomiting'] \n",
            "Score: -11.844676971435547 \t ['coronavirus' 'disease_symptom' 'diarrhoea'] \n",
            "Score: -11.873907089233398 \t ['coronavirus' 'disease_symptom' 'finding'] \n"
          ],
          "name": "stdout"
        }
      ]
    },
    {
      "cell_type": "code",
      "metadata": {
        "id": "qxXS3g4yJT15"
      },
      "source": [
        "# Compare the raw call and graph embedding results for the symptoms query\n",
        "\n",
        "## raw call\n",
        "#dataset.loc[(dataset['subject']=='symptom')].head(20)\n",
        "\n",
        "#####==> the result of raw call seems to be better"
      ],
      "execution_count": null,
      "outputs": []
    },
    {
      "cell_type": "markdown",
      "metadata": {
        "id": "c_5_qdnFwurx"
      },
      "source": [
        "## Query: Potential Drug"
      ]
    },
    {
      "cell_type": "code",
      "metadata": {
        "id": "W-wl5yQgLRat",
        "colab": {
          "base_uri": "https://localhost:8080/"
        },
        "outputId": "01ee9da5-eb52-4b8c-85ec-803cd4d1475c"
      },
      "source": [
        "\n",
        "triples, scores = query_topn(model, top_n=30, \n",
        "                             head=None, \n",
        "                             relation='drug_disease', \n",
        "                             tail='coronavirus', \n",
        "                             ents_to_consider=None, \n",
        "                             rels_to_consider=None)\n",
        "\n",
        "for triple, score in zip(triples, scores):\n",
        "    print('Score: {} \\t {} '.format(score, triple))"
      ],
      "execution_count": 32,
      "outputs": [
        {
          "output_type": "stream",
          "text": [
            "Score: -10.676704406738281 \t ['drug' 'drug_disease' 'coronavirus'] \n",
            "Score: -11.033642768859863 \t ['monolayers' 'drug_disease' 'coronavirus'] \n",
            "Score: -11.795158386230469 \t ['azithromycin' 'drug_disease' 'coronavirus'] \n",
            "Score: -12.091232299804688 \t ['monoclonal antibody' 'drug_disease' 'coronavirus'] \n",
            "Score: -12.096012115478516 \t ['fluconazole' 'drug_disease' 'coronavirus'] \n",
            "Score: -13.230453491210938 \t ['impaction' 'drug_disease' 'coronavirus'] \n",
            "Score: -13.257286071777344 \t ['basiliximab' 'drug_disease' 'coronavirus'] \n",
            "Score: -13.307207107543945 \t ['tea' 'drug_disease' 'coronavirus'] \n",
            "Score: -13.329961776733398 \t ['bocavirus' 'drug_disease' 'coronavirus'] \n",
            "Score: -13.369889259338379 \t ['syphilis' 'drug_disease' 'coronavirus'] \n",
            "Score: -13.384997367858887 \t ['right ventricular impairment' 'drug_disease' 'coronavirus'] \n",
            "Score: -13.39857006072998 \t ['retinitis' 'drug_disease' 'coronavirus'] \n",
            "Score: -13.400906562805176 \t ['common cold' 'drug_disease' 'coronavirus'] \n",
            "Score: -13.407081604003906 \t ['communicable disease' 'drug_disease' 'coronavirus'] \n",
            "Score: -13.409019470214844 \t ['hemophilia' 'drug_disease' 'coronavirus'] \n",
            "Score: -13.410551071166992 \t ['combination therapy' 'drug_disease' 'coronavirus'] \n",
            "Score: -13.411579132080078 \t ['tiredness' 'drug_disease' 'coronavirus'] \n",
            "Score: -13.418264389038086 \t ['chronic diarrhea' 'drug_disease' 'coronavirus'] \n",
            "Score: -13.421638488769531 \t ['retinal atrophy' 'drug_disease' 'coronavirus'] \n",
            "Score: -13.422125816345215 \t ['macular rash' 'drug_disease' 'coronavirus'] \n",
            "Score: -13.436149597167969 \t ['respiratory disease' 'drug_disease' 'coronavirus'] \n",
            "Score: -13.449527740478516 \t ['dapagliflozin 10 mg' 'drug_disease' 'coronavirus'] \n",
            "Score: -13.450739860534668 \t ['endosome' 'drug_disease' 'coronavirus'] \n",
            "Score: -13.460372924804688 \t ['tuberculosis' 'drug_disease' 'coronavirus'] \n",
            "Score: -13.465095520019531 \t ['parvovirus' 'drug_disease' 'coronavirus'] \n",
            "Score: -13.467134475708008 \t ['ribosome' 'drug_disease' 'coronavirus'] \n",
            "Score: -13.468317031860352 \t ['tracheitis' 'drug_disease' 'coronavirus'] \n",
            "Score: -13.488870620727539 \t ['cardiovascular disease' 'drug_disease' 'coronavirus'] \n",
            "Score: -13.489562034606934 \t ['facial palsy' 'drug_disease' 'coronavirus'] \n",
            "Score: -13.494840621948242 \t ['infectious bronchitis virus' 'drug_disease' 'coronavirus'] \n"
          ],
          "name": "stdout"
        }
      ]
    },
    {
      "cell_type": "code",
      "metadata": {
        "colab": {
          "base_uri": "https://localhost:8080/"
        },
        "id": "iAfmpFvZ0Sza",
        "outputId": "23a74282-6b7d-47c6-cc1b-fabd40ec3127"
      },
      "source": [
        "\n",
        "triples, scores = query_topn(model, top_n=30, \n",
        "                             tail=None, \n",
        "                             relation='disease_drug', \n",
        "                             head='coronavirus', \n",
        "                             ents_to_consider=None, \n",
        "                             rels_to_consider=None)\n",
        "\n",
        "for triple, score in zip(triples, scores):\n",
        "    print('Score: {} \\t {} '.format(score, triple))"
      ],
      "execution_count": 34,
      "outputs": [
        {
          "output_type": "stream",
          "text": [
            "Score: -12.000625610351562 \t ['coronavirus' 'disease_drug' 'monoclonal antibody'] \n",
            "Score: -12.196426391601562 \t ['coronavirus' 'disease_drug' 'drug'] \n",
            "Score: -12.353361129760742 \t ['coronavirus' 'disease_drug' 'azithromycin'] \n",
            "Score: -12.447586059570312 \t ['coronavirus' 'disease_drug' 'monolayer'] \n",
            "Score: -12.935935974121094 \t ['coronavirus' 'disease_drug' 'monolayers'] \n",
            "Score: -13.008323669433594 \t ['coronavirus' 'disease_drug' 'azathioprine 75 mg'] \n",
            "Score: -13.153951644897461 \t ['coronavirus' 'disease_drug' 'human virus'] \n",
            "Score: -13.177911758422852 \t ['coronavirus' 'disease_drug' 'influenza virus'] \n",
            "Score: -13.182831764221191 \t ['coronavirus' 'disease_drug' 'emphysema'] \n",
            "Score: -13.193558692932129 \t ['coronavirus' 'disease_drug' 'hepatitis virus'] \n",
            "Score: -13.208952903747559 \t ['coronavirus' 'disease_drug' 'acinus'] \n",
            "Score: -13.228562355041504 \t ['coronavirus' 'disease_drug' 'cryoablation'] \n",
            "Score: -13.243635177612305 \t ['coronavirus' 'disease_drug' 'severe acute respiratory syndrome'] \n",
            "Score: -13.24940299987793 \t ['coronavirus' 'disease_drug' 'sepsis'] \n",
            "Score: -13.252534866333008 \t ['coronavirus' 'disease_drug' 'rhinorrhea'] \n",
            "Score: -13.259349822998047 \t ['coronavirus' 'disease_drug' 'enterovirus'] \n",
            "Score: -13.259828567504883 \t ['coronavirus' 'disease_drug' 'cell type'] \n",
            "Score: -13.272727966308594 \t ['coronavirus' 'disease_drug' 'wheeze'] \n",
            "Score: -13.277381896972656 \t ['coronavirus' 'disease_drug' 'hormonal therapy'] \n",
            "Score: -13.291183471679688 \t ['coronavirus' 'disease_drug' 'acromegaly'] \n",
            "Score: -13.303407669067383 \t ['coronavirus' 'disease_drug' 'acute respiratory distress syndrome'] \n",
            "Score: -13.313070297241211 \t ['coronavirus' 'disease_drug' 'biliary obstruction'] \n",
            "Score: -13.325334548950195 \t ['coronavirus' 'disease_drug' 'severe infection'] \n",
            "Score: -13.327363967895508 \t ['coronavirus' 'disease_drug' 'diabetes'] \n",
            "Score: -13.334569931030273 \t ['coronavirus' 'disease_drug' 'ered'] \n",
            "Score: -13.335465431213379 \t ['coronavirus' 'disease_drug' 'consumption'] \n",
            "Score: -13.340852737426758 \t ['coronavirus' 'disease_drug' 'vibration'] \n",
            "Score: -13.349159240722656 \t ['coronavirus' 'disease_drug' 'bacterial pneumonia'] \n",
            "Score: -13.370406150817871 \t ['coronavirus' 'disease_drug' 'smallpox'] \n",
            "Score: -13.37684154510498 \t ['coronavirus' 'disease_drug' 'enthesitis'] \n"
          ],
          "name": "stdout"
        }
      ]
    }
  ]
}