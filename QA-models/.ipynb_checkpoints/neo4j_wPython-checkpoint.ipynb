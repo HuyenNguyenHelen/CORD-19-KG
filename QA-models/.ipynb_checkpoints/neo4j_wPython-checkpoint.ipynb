{
 "cells": [
  {
   "cell_type": "code",
   "execution_count": 1,
   "id": "607cbb92",
   "metadata": {},
   "outputs": [],
   "source": [
    "import pandas as pd\n",
    "import requests\n",
    "import io\n",
    "import os\n",
    "import numpy as np"
   ]
  },
  {
   "cell_type": "markdown",
   "id": "b5cb67aa",
   "metadata": {},
   "source": [
    "# Data loading and processing"
   ]
  },
  {
   "cell_type": "code",
   "execution_count": 2,
   "id": "9ac3bfad",
   "metadata": {},
   "outputs": [],
   "source": [
    "# # Shuffle the dataset, and divide the dataset into 10 parts\n",
    "# with open(r\"C:\\Users\\huyen\\OneDrive\\Documents\\GitHub\\CORD-19-KG\\Data\\all-final-cleaned-triples_3.csv\", 'r', encoding = 'utf-8') as f:\n",
    "#     dataset = pd.read_csv(f)\n",
    "# # shuffle data\n",
    "# dataset = dataset.sample(frac=1, axis=1).reset_index(drop=True)\n",
    "# # divide data\n",
    "# subsets = np.array_split(dataset, 10)  \n",
    "# len(subsets)\n",
    "# for i in range(len(subsets)):\n",
    "#     data = subsets[:i+1]\n",
    "#     data_concat = pd.concat(data)\n",
    "#     with open(r\"C:\\Users\\huyen\\OneDrive\\Documents\\GitHub\\CORD-19-KG\\Data\\all-final-cleaned-triple3-10sets\\subset_{}.csv\".format(i+1), \n",
    "#               'w', encoding = 'utf-8', newline='') as f:\n",
    "#         data_concat.to_csv(f)"
   ]
  },
  {
   "cell_type": "markdown",
   "id": "f61e90ec",
   "metadata": {},
   "source": [
    "# Importing data into neo4j\n",
    " Done! Manually import in Neo4j interface    \n"
   ]
  },
  {
   "cell_type": "code",
   "execution_count": 3,
   "id": "22f4af06",
   "metadata": {},
   "outputs": [
    {
     "data": {
      "text/plain": [
       "'\\nLOAD CSV WITH HEADERS \\nFROM \"file:///subset_5/subset_5.csv\" \\nAS network\\nMERGE (n:Node_s {id:network.subject})\\nMERGE (m:Node_o {id:network.object})\\nWITH n,m,network\\nCALL apoc.create.relationship(n, network.relation, {}, m) yield rel\\nRETURN n, \\nrel, \\nm\\n'"
      ]
     },
     "execution_count": 3,
     "metadata": {},
     "output_type": "execute_result"
    }
   ],
   "source": [
    "## Statement for importing data in Neo4j\n",
    "\"\"\"\n",
    "LOAD CSV WITH HEADERS \n",
    "FROM \"file:///subset_5/subset_5.csv\" \n",
    "AS network\n",
    "MERGE (n:Node_s {id:network.subject})\n",
    "MERGE (m:Node_o {id:network.object})\n",
    "WITH n,m,network\n",
    "CALL apoc.create.relationship(n, network.relation, {}, m) yield rel\n",
    "RETURN n, \n",
    "rel, \n",
    "m\n",
    "\"\"\""
   ]
  },
  {
   "cell_type": "markdown",
   "id": "f3839551",
   "metadata": {},
   "source": [
    "# Retrieving"
   ]
  },
  {
   "cell_type": "code",
   "execution_count": 4,
   "id": "0646dd86",
   "metadata": {},
   "outputs": [],
   "source": [
    "#     ## Query1: What are the genes/proteins related to Covid-19\n",
    "#     ## Query2: What species transmit the covid-19\n",
    "#     ## Query3: what are symptoms of the covid-19\n",
    "#     ## Query4: what are the possible therapeutic procedure of covid-19??\n",
    "#     ## Query5: What are potential drugs to treat COVID-19?\n",
    "#     ## Query6: What are related diseases of Covid-19\n"
   ]
  },
  {
   "cell_type": "code",
   "execution_count": 5,
   "id": "9c2c6631",
   "metadata": {},
   "outputs": [
    {
     "name": "stdout",
     "output_type": "stream",
     "text": [
      "connected successfully!!\n"
     ]
    }
   ],
   "source": [
    "# !pip install neo4j\n",
    "from neo4j import GraphDatabase\n",
    "\n",
    "class Neo4jConnection:\n",
    "    \n",
    "    def __init__(self, uri, user, pwd):\n",
    "        self.__uri = uri\n",
    "        self.__user = user\n",
    "        self.__pwd = pwd\n",
    "        self.__driver = None\n",
    "        try:\n",
    "            self.__driver = GraphDatabase.driver(self.__uri, auth=(self.__user, self.__pwd))\n",
    "            print('connected successfully!!')\n",
    "        except Exception as e:\n",
    "            print(\"Failed to create the driver:\", e)\n",
    "        \n",
    "    def close(self):\n",
    "        if self.__driver is not None:\n",
    "            self.__driver.close()\n",
    "        \n",
    "    def query(self, query, parameters=None, db=None):\n",
    "        assert self.__driver is not None, \"Driver not initialized!\"\n",
    "        session = None\n",
    "        response = None\n",
    "        try: \n",
    "            session = self.__driver.session(database=db) if db is not None else self.__driver.session() \n",
    "            response = list(session.run(query, parameters))\n",
    "        except Exception as e:\n",
    "            print(\"Query failed:\", e)\n",
    "        finally: \n",
    "            if session is not None:\n",
    "                session.close()\n",
    "        return response\n",
    "\n",
    "\n",
    "        \n",
    "conn = Neo4jConnection(uri=\"bolt://localhost:7687\", \n",
    "                       user=\"neo4j\",              \n",
    "                       pwd=\"Huyen123\")\n"
   ]
  },
  {
   "cell_type": "code",
   "execution_count": 6,
   "id": "e717f3b0",
   "metadata": {},
   "outputs": [
    {
     "name": "stdout",
     "output_type": "stream",
     "text": [
      "subset_1 --------------------\n",
      "\n",
      "query_0----------\n",
      "query_1----------\n",
      "query_2----------\n",
      "query_3----------\n",
      "query_4----------\n",
      "query_5----------\n"
     ]
    }
   ],
   "source": [
    "# create a neo4j session in python\n",
    "\n",
    "def retrieval (conn):\n",
    "    rel_types = [['gene_disease', 'disease_gene'], \n",
    "             ['disease_species'],\n",
    "             ['disease_symptom', 'symptom_disease'],\n",
    "             ['disease_treat_procedure','treat_procedure_disease' ],\n",
    "             ['drug_disease', 'disease_drug'],\n",
    "             ['disease_disease']]  \n",
    "    covid_variants = ['covid-19', 'coronavirus', 'sars-cov', 'sars', 'covs', 'severe acute respiratory syndrome']\n",
    "    # Create query statements\n",
    "    all_answs = {}\n",
    "    for i,list_ in enumerate(rel_types):\n",
    "        query_answ = []\n",
    "#         print('Query: {}--------{}-----------------'.format(i+1,list_))\n",
    "        for rel in list_:\n",
    "            query_statement = \"\"\"MATCH (n)-[r:{}]->(m) where m.id in {} or n.id in {} RETURN n, m\"\"\".format(rel, covid_variants, covid_variants)\n",
    "            output = conn.query(query_statement)\n",
    "            for o in output:\n",
    "                ent = (list(o[0].values()))    \n",
    "                if ent[0] not in covid_variants:\n",
    "                    query_answ.extend(ent)\n",
    "\n",
    "        all_answs['query_%s' %str(i+1)] = set(query_answ)\n",
    "    return all_answs        \n",
    "\n",
    "\n",
    "\n",
    "def Retrieving2file(subset, retrieved_dict):\n",
    "    dir_path = r'C:\\Users\\huyen\\OneDrive\\Documents\\GitHub\\CORD-19-KG\\Results\\KG-output-neo4j-2'\n",
    "    isExist = os.path.exists(dir_path)\n",
    "    dir_s_path = r'C:\\Users\\huyen\\OneDrive\\Documents\\GitHub\\CORD-19-KG\\Results\\KG-output-neo4j-2\\%s' %subset\n",
    "    isExist_s = os.path.exists(dir_s_path)\n",
    "    print(subset, '--------------------\\n')\n",
    "    if not isExist:\n",
    "        os.makedirs(dir_path)\n",
    "    if not isExist_s:\n",
    "        dir = os.makedirs(dir_s_path)\n",
    "    for i in range(len(retrieved_dict)): \n",
    "        print('query_%s----------'%i)\n",
    "        path = r'C:\\Users\\huyen\\OneDrive\\Documents\\GitHub\\CORD-19-KG\\Results\\KG-output-neo4j-2\\{}\\query_{}.csv'.format(subset,i+1)\n",
    "        df = pd.DataFrame(retrieved_dict['query_%s' %str(i+1)], columns = ['query_%s' %str(i+1)])\n",
    "        with open(path, 'w', encoding = 'utf-8', newline='') as f:\n",
    "            df.to_csv(f)\n",
    "            \n",
    "retrieved_answ = retrieval (conn)           \n",
    "Retrieving2file('subset_1', retrieved_answ)"
   ]
  }
 ],
 "metadata": {
  "kernelspec": {
   "display_name": "Python 3",
   "language": "python",
   "name": "python3"
  },
  "language_info": {
   "codemirror_mode": {
    "name": "ipython",
    "version": 3
   },
   "file_extension": ".py",
   "mimetype": "text/x-python",
   "name": "python",
   "nbconvert_exporter": "python",
   "pygments_lexer": "ipython3",
   "version": "3.8.5"
  }
 },
 "nbformat": 4,
 "nbformat_minor": 5
}
