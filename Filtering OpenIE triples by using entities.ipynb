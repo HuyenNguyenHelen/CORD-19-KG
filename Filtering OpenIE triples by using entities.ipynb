{
 "cells": [
  {
   "cell_type": "markdown",
   "id": "caf13866",
   "metadata": {},
   "source": [
    "# Loading entities files\n"
   ]
  },
  {
   "cell_type": "markdown",
   "id": "21ac9306",
   "metadata": {},
   "source": [
    "### BERN entities"
   ]
  },
  {
   "cell_type": "code",
   "execution_count": 1,
   "id": "abafe33f",
   "metadata": {},
   "outputs": [],
   "source": [
    "import pandas as pd\n",
    "import ast\n",
    "import os"
   ]
  },
  {
   "cell_type": "code",
   "execution_count": 2,
   "id": "8c67b765",
   "metadata": {},
   "outputs": [
    {
     "name": "stdout",
     "output_type": "stream",
     "text": [
      "8129 4753 16888 1809\n"
     ]
    }
   ],
   "source": [
    "\n",
    "# Loading classified entities\n",
    "\n",
    "paths = (r\"C:\\Users\\huyen\\OneDrive - UNT System\\COURSES\\INFO 5731\\Final_Project\\Group6_Working\\AUG4\\KG\\ENTS\\BERN_Sample10k\\All_ENT_Types_V2\\All_Bern_Type_Disease_V2.csv\",\n",
    "r\"C:\\Users\\huyen\\OneDrive - UNT System\\COURSES\\INFO 5731\\Final_Project\\Group6_Working\\AUG4\\KG\\ENTS\\BERN_Sample10k\\All_ENT_Types_V2\\All_Bern_Type_Drug_V2.csv\",\n",
    "r\"C:\\Users\\huyen\\OneDrive - UNT System\\COURSES\\INFO 5731\\Final_Project\\Group6_Working\\AUG4\\KG\\ENTS\\BERN_Sample10k\\All_ENT_Types_V2\\All_Bern_Type_Gene_V2.csv\",\n",
    "r\"C:\\Users\\huyen\\OneDrive - UNT System\\COURSES\\INFO 5731\\Final_Project\\Group6_Working\\AUG4\\KG\\ENTS\\BERN_Sample10k\\All_ENT_Types_V2\\All_Bern_Type_Species_V2.csv\")\n",
    "\n",
    "def load_file(path, type_):\n",
    "    with open (path, 'r', encoding = 'utf-8') as file:\n",
    "        data = pd.read_csv(file)\n",
    "    return pd.DataFrame(data[type_].unique())  # get the unique\n",
    "\n",
    "disease_bern = load_file(paths[0], 'disease' )\n",
    "drug_bern = load_file(paths[1], 'drug' )\n",
    "gene_bern = load_file(paths[2], 'gene' )\n",
    "species_bern = load_file(paths[3], 'species' )\n",
    "print(len(disease_bern), len(drug_bern), len(gene_bern), len(species_bern))"
   ]
  },
  {
   "cell_type": "markdown",
   "id": "af043963",
   "metadata": {},
   "source": [
    "### UMLS entities"
   ]
  },
  {
   "cell_type": "code",
   "execution_count": 3,
   "id": "5ea5df3d",
   "metadata": {},
   "outputs": [],
   "source": [
    "# Loading metamap entities \n",
    "import pandas as pd\n",
    "paths = [r\"C:\\Users\\huyen\\OneDrive - UNT System\\COURSES\\INFO 5731\\Final_Project\\Group6_Working\\AUG4\\KG\\ENTS\\MetaMap\\Output\\cleanedNrefined-entities\\meta_refined_entities_pdf.csv\",\n",
    "r\"C:\\Users\\huyen\\OneDrive - UNT System\\COURSES\\INFO 5731\\Final_Project\\Group6_Working\\AUG4\\KG\\ENTS\\MetaMap\\Output\\cleanedNrefined-entities\\meta_refined_entities_pmc.csv\"]\n",
    "\n",
    "with open(paths[0], 'r', encoding = 'utf-8') as f:\n",
    "    pdf_ents = pd.read_csv(f)\n",
    "    \n",
    "with open(paths[1], 'r', encoding = 'utf-8') as f:\n",
    "    pmc_ents = pd.read_csv(f)\n",
    "    \n"
   ]
  },
  {
   "cell_type": "code",
   "execution_count": 4,
   "id": "637d6915",
   "metadata": {},
   "outputs": [
    {
     "data": {
      "text/html": [
       "<div>\n",
       "<style scoped>\n",
       "    .dataframe tbody tr th:only-of-type {\n",
       "        vertical-align: middle;\n",
       "    }\n",
       "\n",
       "    .dataframe tbody tr th {\n",
       "        vertical-align: top;\n",
       "    }\n",
       "\n",
       "    .dataframe thead th {\n",
       "        text-align: right;\n",
       "    }\n",
       "</style>\n",
       "<table border=\"1\" class=\"dataframe\">\n",
       "  <thead>\n",
       "    <tr style=\"text-align: right;\">\n",
       "      <th></th>\n",
       "      <th>Unnamed: 0</th>\n",
       "      <th>matchedtext</th>\n",
       "      <th>CUI</th>\n",
       "      <th>Preferred Name</th>\n",
       "      <th>synonym</th>\n",
       "      <th>Semantic types</th>\n",
       "    </tr>\n",
       "  </thead>\n",
       "  <tbody>\n",
       "    <tr>\n",
       "      <th>0</th>\n",
       "      <td>0</td>\n",
       "      <td>coronavirus</td>\n",
       "      <td>C0206419</td>\n",
       "      <td>Genus: Coronavirus</td>\n",
       "      <td>NaN</td>\n",
       "      <td>virs</td>\n",
       "    </tr>\n",
       "    <tr>\n",
       "      <th>1</th>\n",
       "      <td>1</td>\n",
       "      <td>severe acute respiratory syndrome coronavirus</td>\n",
       "      <td>C1175743</td>\n",
       "      <td>SARS coronavirus</td>\n",
       "      <td>NaN</td>\n",
       "      <td>virs</td>\n",
       "    </tr>\n",
       "    <tr>\n",
       "      <th>2</th>\n",
       "      <td>2</td>\n",
       "      <td>coronavirus</td>\n",
       "      <td>C0206419</td>\n",
       "      <td>Genus: Coronavirus</td>\n",
       "      <td>NaN</td>\n",
       "      <td>virs</td>\n",
       "    </tr>\n",
       "    <tr>\n",
       "      <th>3</th>\n",
       "      <td>3</td>\n",
       "      <td>disease</td>\n",
       "      <td>C0012634</td>\n",
       "      <td>Disease</td>\n",
       "      <td>NaN</td>\n",
       "      <td>dsyn</td>\n",
       "    </tr>\n",
       "    <tr>\n",
       "      <th>4</th>\n",
       "      <td>4</td>\n",
       "      <td>april</td>\n",
       "      <td>C3715025</td>\n",
       "      <td>TNFSF13 wt Allele</td>\n",
       "      <td>NaN</td>\n",
       "      <td>gngm</td>\n",
       "    </tr>\n",
       "  </tbody>\n",
       "</table>\n",
       "</div>"
      ],
      "text/plain": [
       "   Unnamed: 0                                    matchedtext       CUI  \\\n",
       "0           0                                    coronavirus  C0206419   \n",
       "1           1  severe acute respiratory syndrome coronavirus  C1175743   \n",
       "2           2                                    coronavirus  C0206419   \n",
       "3           3                                        disease  C0012634   \n",
       "4           4                                          april  C3715025   \n",
       "\n",
       "       Preferred Name  synonym Semantic types  \n",
       "0  Genus: Coronavirus      NaN           virs  \n",
       "1    SARS coronavirus      NaN           virs  \n",
       "2  Genus: Coronavirus      NaN           virs  \n",
       "3             Disease      NaN           dsyn  \n",
       "4   TNFSF13 wt Allele      NaN           gngm  "
      ]
     },
     "execution_count": 4,
     "metadata": {},
     "output_type": "execute_result"
    }
   ],
   "source": [
    "pmc_ents.head()"
   ]
  },
  {
   "cell_type": "code",
   "execution_count": 5,
   "id": "45a8e495",
   "metadata": {},
   "outputs": [],
   "source": [
    "aapp,anim,celc,cell,clnd,dsyn,gngm,sosy,topp,virs = [x for _, x in pmc_ents.groupby(pmc_ents['Semantic types'])]\n",
    "aapp1,anim1,celc1,cell1,clnd1,dsyn1,gngm1,sosy1,topp1,virs1 = [x for _, x in pdf_ents.groupby(pdf_ents['Semantic types'])]\n"
   ]
  },
  {
   "cell_type": "code",
   "execution_count": 6,
   "id": "ccfb477a",
   "metadata": {},
   "outputs": [],
   "source": [
    "disease_meta = pd.concat([dsyn,virs,dsyn1,virs1])\n",
    "gene_prot_meta = pd.concat([aapp,cell,celc,gngm,aapp1,cell1,celc1,gngm1])\n",
    "ani_species_meta = pd.concat([anim,anim1])\n",
    "symptom_meta = pd.concat([sosy,sosy1])\n",
    "treat_proc_meta = pd.concat([topp,topp1])\n",
    "drug_meta = pd.concat([clnd,clnd1])"
   ]
  },
  {
   "cell_type": "code",
   "execution_count": 7,
   "id": "31a9458c",
   "metadata": {},
   "outputs": [
    {
     "name": "stdout",
     "output_type": "stream",
     "text": [
      "6711358 13736269 216123 635553 5223685 27482\n"
     ]
    }
   ],
   "source": [
    "print(len(disease_meta), len(gene_prot_meta), len(ani_species_meta), len(symptom_meta), len(treat_proc_meta), len(drug_meta))"
   ]
  },
  {
   "cell_type": "markdown",
   "id": "58145e74",
   "metadata": {},
   "source": [
    "#### Combine bern and metamap "
   ]
  },
  {
   "cell_type": "code",
   "execution_count": 8,
   "id": "72d60cdb",
   "metadata": {},
   "outputs": [],
   "source": [
    "disease = pd.concat([disease_bern,disease_meta['matchedtext']])[0].to_list()\n",
    "gene_prot = pd.concat([gene_bern,gene_prot_meta ['matchedtext']])[0].to_list()\n",
    "ani_species = pd.concat([species_bern, ani_species_meta ['matchedtext']])[0].to_list()\n",
    "symptom = symptom_meta ['matchedtext'].to_list()\n",
    "treat_proc = treat_proc_meta ['matchedtext'].to_list()\n",
    "drug = pd.concat([drug_bern,drug_meta ['matchedtext']])[0].to_list()"
   ]
  },
  {
   "cell_type": "code",
   "execution_count": 9,
   "id": "d0ba07ab",
   "metadata": {},
   "outputs": [
    {
     "name": "stdout",
     "output_type": "stream",
     "text": [
      "6719487 13753157 217932 635553 5223685 32235\n"
     ]
    }
   ],
   "source": [
    "# Entities with duplicate\n",
    "print(len(disease), len(gene_prot), len(ani_species), len(symptom), len(treat_proc), len(drug))"
   ]
  },
  {
   "cell_type": "code",
   "execution_count": 10,
   "id": "edd0d9f9",
   "metadata": {},
   "outputs": [
    {
     "name": "stdout",
     "output_type": "stream",
     "text": [
      "25700 41928 1900 1678 5708 5351\n"
     ]
    }
   ],
   "source": [
    "# Entities without duplicate\n",
    "#print(len(disease[0].unique()), len(gene_prot[0].unique()), len(ani_species[0].unique()), len(symptom.unique()), len(treat_proc.unique()), len(drug[0].unique()))\n",
    "print(len(set(disease)), len(set(gene_prot)), len(set(ani_species)), len(set(symptom)), len(set(treat_proc)), len(set(drug)))"
   ]
  },
  {
   "cell_type": "markdown",
   "id": "ddc088a7",
   "metadata": {},
   "source": [
    "### Turn into a set\n"
   ]
  },
  {
   "cell_type": "code",
   "execution_count": 11,
   "id": "c3d2cb9e",
   "metadata": {},
   "outputs": [],
   "source": [
    "disease = list(set(disease))\n",
    "gene_prot = list(set(gene_prot))\n",
    "ani_species = list(set(ani_species))\n",
    "symptom = list(set(symptom))\n",
    "treat_proc = list(set(treat_proc))\n",
    "drug = list(set(drug))"
   ]
  },
  {
   "cell_type": "markdown",
   "id": "161fa3d2",
   "metadata": {},
   "source": [
    "#### Removing entities with names: disease, drug, gene, symptom"
   ]
  },
  {
   "cell_type": "code",
   "execution_count": 12,
   "id": "20dbba1a",
   "metadata": {},
   "outputs": [
    {
     "name": "stdout",
     "output_type": "stream",
     "text": [
      "25699 41927 1900 1677 5707 5351\n"
     ]
    }
   ],
   "source": [
    "def removeItem (list_):\n",
    "    removing_list = ['disease', 'drug', 'gene', 'symptom']\n",
    "    for i in removing_list:\n",
    "        if i in list_:\n",
    "            list_.remove(i)\n",
    "    return list_\n",
    "\n",
    "symptom = removeItem(symptom)\n",
    "disease = removeItem(disease)\n",
    "gene_prot =  removeItem(gene_prot)\n",
    "ani_species = removeItem(ani_species)\n",
    "treat_proc = removeItem(treat_proc)\n",
    "drug = removeItem(drug)\n",
    "print(len(disease), len(gene_prot), len(ani_species), len(symptom), len(treat_proc), len(drug))"
   ]
  },
  {
   "cell_type": "markdown",
   "id": "dbbc235c",
   "metadata": {},
   "source": [
    "# Loading OpenIE triples\n"
   ]
  },
  {
   "cell_type": "markdown",
   "id": "a2e80439",
   "metadata": {
    "scrolled": true
   },
   "source": [
    "\n",
    "dirs=[r\"C:\\Users\\huyen\\OneDrive - UNT System\\COURSES\\INFO 5731\\Final_Project\\Group6_Working\\AUG4\\KG\\OpenIE\\IEtriples_pdf\\output\",\n",
    "r\"C:\\Users\\huyen\\OneDrive - UNT System\\COURSES\\INFO 5731\\Final_Project\\Group6_Working\\AUG4\\KG\\OpenIE\\IEtriples_pmc\\OpenIE_triples\"]\n",
    "\n",
    "count_all_triples = 0\n",
    "frames_pdf = []\n",
    "frames_pmc = []\n",
    "filenames = os.listdir(dirs[1])\n",
    "print('number of files: ',len(filenames))\n",
    "print(\"Extracted from the Number of sentences:\", (len(filenames) *300))\n",
    "for filename in filenames:\n",
    "    filename = os.path.join(dirs[1], filename)\n",
    "    filename.encode('unicode-escape')\n",
    "    try:\n",
    "        data_triples = pd.read_csv(open(filename, 'r', encoding='utf-8'))\n",
    "        count_all_triples += len(data_triples)\n",
    "        frames_pdf.append(data_triples)\n",
    "    except:\n",
    "        print(filename)\n",
    "pdf_trip_df = pd.concat(frames_pdf)\n",
    "            \n",
    "#print(all_refined_ieTrips)\n",
    "print('the number of triples: ', len( pdf_trip_df))\n",
    "print('triples in total: ', count_all_triples)     \n",
    "pdf_trip_df.head()"
   ]
  },
  {
   "cell_type": "markdown",
   "id": "486e76e5",
   "metadata": {},
   "source": [
    "#with open(dirs[0]+'//'+'OIE_pdf.csv', 'w', newline = '', encoding = 'utf-8') as f:\n",
    "    pdf_trip_df.to_csv(f)\n",
    "    \n",
    "with open(dirs[1]+'//'+'OIE_pmc.csv', 'w', newline = '', encoding = 'utf-8') as f:\n",
    "    pdf_trip_df.to_csv(f)"
   ]
  },
  {
   "cell_type": "code",
   "execution_count": 13,
   "id": "30690d33",
   "metadata": {},
   "outputs": [
    {
     "name": "stdout",
     "output_type": "stream",
     "text": [
      "the number of triples:  30888691\n",
      "the number of triples:  7773855\n"
     ]
    },
    {
     "data": {
      "text/html": [
       "<div>\n",
       "<style scoped>\n",
       "    .dataframe tbody tr th:only-of-type {\n",
       "        vertical-align: middle;\n",
       "    }\n",
       "\n",
       "    .dataframe tbody tr th {\n",
       "        vertical-align: top;\n",
       "    }\n",
       "\n",
       "    .dataframe thead th {\n",
       "        text-align: right;\n",
       "    }\n",
       "</style>\n",
       "<table border=\"1\" class=\"dataframe\">\n",
       "  <thead>\n",
       "    <tr style=\"text-align: right;\">\n",
       "      <th></th>\n",
       "      <th>Unnamed: 0</th>\n",
       "      <th>Unnamed: 0.1</th>\n",
       "      <th>subject</th>\n",
       "      <th>relation</th>\n",
       "      <th>object</th>\n",
       "    </tr>\n",
       "  </thead>\n",
       "  <tbody>\n",
       "    <tr>\n",
       "      <th>0</th>\n",
       "      <td>0</td>\n",
       "      <td>0</td>\n",
       "      <td>may precursor event</td>\n",
       "      <td>are</td>\n",
       "      <td>frequent findings</td>\n",
       "    </tr>\n",
       "    <tr>\n",
       "      <th>1</th>\n",
       "      <td>1</td>\n",
       "      <td>1</td>\n",
       "      <td>may precursor event</td>\n",
       "      <td>initiating</td>\n",
       "      <td>suppurate AOM</td>\n",
       "    </tr>\n",
       "    <tr>\n",
       "      <th>2</th>\n",
       "      <td>2</td>\n",
       "      <td>2</td>\n",
       "      <td>may precursor event</td>\n",
       "      <td>are</td>\n",
       "      <td>findings</td>\n",
       "    </tr>\n",
       "    <tr>\n",
       "      <th>3</th>\n",
       "      <td>3</td>\n",
       "      <td>3</td>\n",
       "      <td>OME</td>\n",
       "      <td>initiating</td>\n",
       "      <td>suppurate AOM</td>\n",
       "    </tr>\n",
       "    <tr>\n",
       "      <th>4</th>\n",
       "      <td>4</td>\n",
       "      <td>4</td>\n",
       "      <td>may precursor event</td>\n",
       "      <td>are</td>\n",
       "      <td>findings in OME 54</td>\n",
       "    </tr>\n",
       "  </tbody>\n",
       "</table>\n",
       "</div>"
      ],
      "text/plain": [
       "   Unnamed: 0  Unnamed: 0.1              subject    relation  \\\n",
       "0           0             0  may precursor event         are   \n",
       "1           1             1  may precursor event  initiating   \n",
       "2           2             2  may precursor event         are   \n",
       "3           3             3                  OME  initiating   \n",
       "4           4             4  may precursor event         are   \n",
       "\n",
       "               object  \n",
       "0   frequent findings  \n",
       "1       suppurate AOM  \n",
       "2            findings  \n",
       "3       suppurate AOM  \n",
       "4  findings in OME 54  "
      ]
     },
     "execution_count": 13,
     "metadata": {},
     "output_type": "execute_result"
    }
   ],
   "source": [
    "ie_path = [r\"C:\\Users\\huyen\\OneDrive - UNT System\\COURSES\\INFO 5731\\Final_Project\\Group6_Working\\AUG4\\KG\\OpenIE\\processed_IEtriples\\OIE_pdf.csv\",\n",
    "r\"C:\\Users\\huyen\\OneDrive - UNT System\\COURSES\\INFO 5731\\Final_Project\\Group6_Working\\AUG4\\KG\\OpenIE\\processed_IEtriples\\OIE_pmc.csv\"]\n",
    "with open (ie_path[0],'r', encoding = 'utf-8' ) as file:\n",
    "    pdf_trip_df = pd.read_csv(file)\n",
    "            \n",
    "print('the number of triples: ', len( pdf_trip_df))\n",
    "\n",
    "with open (ie_path[1],'r', encoding = 'utf-8' ) as file:\n",
    "    pmc_trip_df = pd.read_csv(file)\n",
    "print('the number of triples: ', len( pmc_trip_df))\n",
    "pmc_trip_df.head()\n"
   ]
  },
  {
   "cell_type": "markdown",
   "id": "71cf1471",
   "metadata": {},
   "source": [
    "### Mapping with pdf"
   ]
  },
  {
   "cell_type": "code",
   "execution_count": 15,
   "id": "319b8810",
   "metadata": {},
   "outputs": [
    {
     "data": {
      "text/plain": [
       "disease                                                 1316745\n",
       "we                                                       888150\n",
       "species                                                  790278\n",
       "gene                                                     771322\n",
       "it                                                       626260\n",
       "                                                         ...   \n",
       "reacting 8a                                                   1\n",
       "e.g.nephrology                                                1\n",
       "severe pulmonary shunt fraction                               1\n",
       "CO2 emissions data                                            1\n",
       "significant downregulation proinflammatory cytokines          1\n",
       "Name: subject, Length: 1969563, dtype: int64"
      ]
     },
     "execution_count": 15,
     "metadata": {},
     "output_type": "execute_result"
    }
   ],
   "source": [
    "copy_pdf_trip_df = pdf_trip_df.copy()\n",
    "# Pseudo change entities into entities types\n",
    "## In subjects\n",
    "pdf_trip_df['subject'].mask(pdf_trip_df['subject'].isin(drug),'drug', inplace = True)\n",
    "pdf_trip_df['subject'].mask(pdf_trip_df['subject'].isin(symptom),'symptom', inplace = True)\n",
    "pdf_trip_df['subject'].mask(pdf_trip_df['subject'].isin(ani_species),'species', inplace = True)  \n",
    "pdf_trip_df['subject'].mask(pdf_trip_df['subject'].isin(treat_proc),'treat_procedure', inplace = True)\n",
    "pdf_trip_df['subject'].mask(pdf_trip_df['subject'].isin(disease),'disease', inplace = True)\n",
    "pdf_trip_df['subject'].mask(pdf_trip_df['subject'].isin(gene_prot),'gene', inplace = True)\n",
    "                                                  \n",
    "pdf_trip_df['subject'].value_counts()\n"
   ]
  },
  {
   "cell_type": "code",
   "execution_count": 16,
   "id": "439eb245",
   "metadata": {},
   "outputs": [
    {
     "data": {
      "text/plain": [
       "disease                                             486891\n",
       "gene                                                270791\n",
       "species                                             232327\n",
       "treat_procedure                                     174698\n",
       "drug                                                103627\n",
       "                                                     ...  \n",
       "presence of target applied                               1\n",
       "when produced in presence                                1\n",
       "safe transport of potentially high risk patients         1\n",
       "apical routes.Sorting to pathway                         1\n",
       "well established international partners                  1\n",
       "Name: object, Length: 11795318, dtype: int64"
      ]
     },
     "execution_count": 16,
     "metadata": {},
     "output_type": "execute_result"
    }
   ],
   "source": [
    "pdf_trip_df['object'].mask(pdf_trip_df['object'].isin(drug),'drug', inplace = True)\n",
    "pdf_trip_df['object'].mask(pdf_trip_df['object'].isin(symptom),'symptom', inplace = True)\n",
    "pdf_trip_df['object'].mask(pdf_trip_df['object'].isin(ani_species),'species', inplace = True)  \n",
    "pdf_trip_df['object'].mask(pdf_trip_df['object'].isin(treat_proc),'treat_procedure', inplace = True)\n",
    "pdf_trip_df['object'].mask(pdf_trip_df['object'].isin(disease),'disease', inplace = True)\n",
    "pdf_trip_df['object'].mask(pdf_trip_df['object'].isin(gene_prot),'gene', inplace = True)\n",
    "pdf_trip_df['object'].value_counts()"
   ]
  },
  {
   "cell_type": "markdown",
   "id": "bc646566",
   "metadata": {},
   "source": [
    "# Change dynamic relations into predefined relations\n",
    "\n",
    "#ie_triples['object'].mask(ie_triples['object'].isin(disease[0]),'disease', inplace = True)\n",
    "\n",
    "pdf_trip_df['relation'].mask((pdf_trip_df['subject']=='disease') & (pdf_trip_df['object']=='gene'),'have_gene', inplace = True)\n",
    "pdf_trip_df['relation'].mask((pdf_trip_df['subject']=='gene') & (pdf_trip_df['object']=='desease'), 'be_in', inplace = True)\n",
    "pdf_trip_df['relation'].mask((pdf_trip_df['subject']=='disease') & (pdf_trip_df['object']=='drug'), 'be_treated_by', inplace = True)\n",
    "pdf_trip_df['relation'].mask((pdf_trip_df['subject']=='drug') & (pdf_trip_df['object']=='disease'), 'treat', inplace = True)\n",
    "pdf_trip_df['relation'].mask((pdf_trip_df['subject']=='disease') & (pdf_trip_df['object']=='species'), 'be_transmited_by', inplace = True)\n",
    "pdf_trip_df['relation'].mask((pdf_trip_df['subject']=='species') & (pdf_trip_df['object']=='disease'), 'transmit', inplace = True)\n",
    "pdf_trip_df['relation'].mask((pdf_trip_df['subject']=='disease') & (pdf_trip_df['object']=='disease'), 'be_related_with', inplace = True)"
   ]
  },
  {
   "cell_type": "code",
   "execution_count": 18,
   "id": "9607da6d",
   "metadata": {},
   "outputs": [
    {
     "name": "stdout",
     "output_type": "stream",
     "text": [
      "disease disease\n",
      "disease gene\n",
      "disease drug\n",
      "disease symptom\n",
      "disease treat_procedure\n",
      "disease species\n",
      "gene disease\n",
      "gene gene\n",
      "gene drug\n",
      "gene symptom\n",
      "gene treat_procedure\n",
      "gene species\n",
      "drug disease\n",
      "drug gene\n",
      "drug drug\n",
      "drug symptom\n",
      "drug treat_procedure\n",
      "drug species\n",
      "symptom disease\n",
      "symptom gene\n",
      "symptom drug\n",
      "symptom symptom\n",
      "symptom treat_procedure\n",
      "symptom species\n",
      "treat_procedure disease\n",
      "treat_procedure gene\n",
      "treat_procedure drug\n",
      "treat_procedure symptom\n",
      "treat_procedure treat_procedure\n",
      "treat_procedure species\n",
      "species disease\n",
      "species gene\n",
      "species drug\n",
      "species symptom\n",
      "species treat_procedure\n",
      "species species\n"
     ]
    }
   ],
   "source": [
    "\n",
    "\n",
    "types = ['disease', 'gene', 'drug', 'symptom', 'treat_procedure', 'species']\n",
    "\n",
    "i=0\n",
    "j=i+1\n",
    "for i in range(len(types)):\n",
    "    for j in range(len(types)):\n",
    "        print(types[i], types[j])\n",
    "        pdf_trip_df['relation'].mask((pdf_trip_df['subject']== types[i]) & (pdf_trip_df['object']== types[j]), types[i] +'_'+ types[j], inplace = True)\n",
    "        #new_try['relation'].mask((new_try['subject']== types[i]) & (new_try['object']== types[j]), types[i] +'_'+ types[j], inplace = True)\n",
    "\n",
    "   "
   ]
  },
  {
   "cell_type": "code",
   "execution_count": 19,
   "id": "66c4c8ce",
   "metadata": {
    "scrolled": true
   },
   "outputs": [
    {
     "data": {
      "text/plain": [
       "is                                1812026\n",
       "was                               1246242\n",
       "were                              1188493\n",
       "are                               1042017\n",
       "is in                              900814\n",
       "                                   ...   \n",
       "fourth family of                        1\n",
       "Very rarely may cause                   1\n",
       "certainly lies within                   1\n",
       "been conserved across                   1\n",
       "were tested retrospectively by          1\n",
       "Name: relation, Length: 1473299, dtype: int64"
      ]
     },
     "execution_count": 19,
     "metadata": {},
     "output_type": "execute_result"
    }
   ],
   "source": [
    "pdf_trip_df['relation'].value_counts()\n"
   ]
  },
  {
   "cell_type": "code",
   "execution_count": 20,
   "id": "af7c4bcd",
   "metadata": {
    "scrolled": true
   },
   "outputs": [
    {
     "data": {
      "text/html": [
       "<div>\n",
       "<style scoped>\n",
       "    .dataframe tbody tr th:only-of-type {\n",
       "        vertical-align: middle;\n",
       "    }\n",
       "\n",
       "    .dataframe tbody tr th {\n",
       "        vertical-align: top;\n",
       "    }\n",
       "\n",
       "    .dataframe thead th {\n",
       "        text-align: right;\n",
       "    }\n",
       "</style>\n",
       "<table border=\"1\" class=\"dataframe\">\n",
       "  <thead>\n",
       "    <tr style=\"text-align: right;\">\n",
       "      <th></th>\n",
       "      <th>Unnamed: 0</th>\n",
       "      <th>Unnamed: 0.1</th>\n",
       "      <th>subject</th>\n",
       "      <th>relation</th>\n",
       "      <th>object</th>\n",
       "      <th>new_relation</th>\n",
       "    </tr>\n",
       "  </thead>\n",
       "  <tbody>\n",
       "    <tr>\n",
       "      <th>0</th>\n",
       "      <td>0</td>\n",
       "      <td>0</td>\n",
       "      <td>Direct contact</td>\n",
       "      <td>contaminated with</td>\n",
       "      <td>subsequent contact with cavity</td>\n",
       "      <td>contaminated with</td>\n",
       "    </tr>\n",
       "    <tr>\n",
       "      <th>1</th>\n",
       "      <td>1</td>\n",
       "      <td>1</td>\n",
       "      <td>Direct contact</td>\n",
       "      <td>is with</td>\n",
       "      <td>person</td>\n",
       "      <td>is with</td>\n",
       "    </tr>\n",
       "    <tr>\n",
       "      <th>2</th>\n",
       "      <td>2</td>\n",
       "      <td>2</td>\n",
       "      <td>contact</td>\n",
       "      <td>contaminated with</td>\n",
       "      <td>contact</td>\n",
       "      <td>contaminated with</td>\n",
       "    </tr>\n",
       "    <tr>\n",
       "      <th>3</th>\n",
       "      <td>3</td>\n",
       "      <td>3</td>\n",
       "      <td>subsequent contact</td>\n",
       "      <td>is with</td>\n",
       "      <td>own nasal cavity</td>\n",
       "      <td>is with</td>\n",
       "    </tr>\n",
       "    <tr>\n",
       "      <th>4</th>\n",
       "      <td>4</td>\n",
       "      <td>4</td>\n",
       "      <td>Direct contact</td>\n",
       "      <td>contaminated with</td>\n",
       "      <td>subsequent contact</td>\n",
       "      <td>contaminated with</td>\n",
       "    </tr>\n",
       "    <tr>\n",
       "      <th>...</th>\n",
       "      <td>...</td>\n",
       "      <td>...</td>\n",
       "      <td>...</td>\n",
       "      <td>...</td>\n",
       "      <td>...</td>\n",
       "      <td>...</td>\n",
       "    </tr>\n",
       "    <tr>\n",
       "      <th>30888686</th>\n",
       "      <td>1606</td>\n",
       "      <td>1606</td>\n",
       "      <td>acquisition</td>\n",
       "      <td>might</td>\n",
       "      <td>for pathogens might required.Simple blood</td>\n",
       "      <td>might</td>\n",
       "    </tr>\n",
       "    <tr>\n",
       "      <th>30888687</th>\n",
       "      <td>1607</td>\n",
       "      <td>1607</td>\n",
       "      <td>acquisition</td>\n",
       "      <td>complicate field operations in</td>\n",
       "      <td>midst of epidemic</td>\n",
       "      <td>complicate field operations in</td>\n",
       "    </tr>\n",
       "    <tr>\n",
       "      <th>30888688</th>\n",
       "      <td>1608</td>\n",
       "      <td>1608</td>\n",
       "      <td>live pathogens</td>\n",
       "      <td>acquisition of be</td>\n",
       "      <td>for pathogens might required.Simple blood</td>\n",
       "      <td>acquisition of be</td>\n",
       "    </tr>\n",
       "    <tr>\n",
       "      <th>30888689</th>\n",
       "      <td>1609</td>\n",
       "      <td>1609</td>\n",
       "      <td>acquisition</td>\n",
       "      <td>logistical issues regarding</td>\n",
       "      <td>processing of acute infectious samples</td>\n",
       "      <td>logistical issues regarding</td>\n",
       "    </tr>\n",
       "    <tr>\n",
       "      <th>30888690</th>\n",
       "      <td>1610</td>\n",
       "      <td>1610</td>\n",
       "      <td>acquisition</td>\n",
       "      <td>issues regarding</td>\n",
       "      <td>processing of acute potentially infectious sam...</td>\n",
       "      <td>issues regarding</td>\n",
       "    </tr>\n",
       "  </tbody>\n",
       "</table>\n",
       "<p>30888691 rows × 6 columns</p>\n",
       "</div>"
      ],
      "text/plain": [
       "          Unnamed: 0  Unnamed: 0.1             subject  \\\n",
       "0                  0             0      Direct contact   \n",
       "1                  1             1      Direct contact   \n",
       "2                  2             2             contact   \n",
       "3                  3             3  subsequent contact   \n",
       "4                  4             4      Direct contact   \n",
       "...              ...           ...                 ...   \n",
       "30888686        1606          1606         acquisition   \n",
       "30888687        1607          1607         acquisition   \n",
       "30888688        1608          1608      live pathogens   \n",
       "30888689        1609          1609         acquisition   \n",
       "30888690        1610          1610         acquisition   \n",
       "\n",
       "                                relation  \\\n",
       "0                      contaminated with   \n",
       "1                                is with   \n",
       "2                      contaminated with   \n",
       "3                                is with   \n",
       "4                      contaminated with   \n",
       "...                                  ...   \n",
       "30888686                           might   \n",
       "30888687  complicate field operations in   \n",
       "30888688               acquisition of be   \n",
       "30888689     logistical issues regarding   \n",
       "30888690                issues regarding   \n",
       "\n",
       "                                                     object  \\\n",
       "0                            subsequent contact with cavity   \n",
       "1                                                    person   \n",
       "2                                                   contact   \n",
       "3                                          own nasal cavity   \n",
       "4                                        subsequent contact   \n",
       "...                                                     ...   \n",
       "30888686          for pathogens might required.Simple blood   \n",
       "30888687                                  midst of epidemic   \n",
       "30888688          for pathogens might required.Simple blood   \n",
       "30888689             processing of acute infectious samples   \n",
       "30888690  processing of acute potentially infectious sam...   \n",
       "\n",
       "                            new_relation  \n",
       "0                      contaminated with  \n",
       "1                                is with  \n",
       "2                      contaminated with  \n",
       "3                                is with  \n",
       "4                      contaminated with  \n",
       "...                                  ...  \n",
       "30888686                           might  \n",
       "30888687  complicate field operations in  \n",
       "30888688               acquisition of be  \n",
       "30888689     logistical issues regarding  \n",
       "30888690                issues regarding  \n",
       "\n",
       "[30888691 rows x 6 columns]"
      ]
     },
     "execution_count": 20,
     "metadata": {},
     "output_type": "execute_result"
    }
   ],
   "source": [
    "new_relation = [i for i in pdf_trip_df['relation']]\n",
    "copy_pdf_trip_df['new_relation'] = new_relation\n",
    "copy_pdf_trip_df"
   ]
  },
  {
   "cell_type": "code",
   "execution_count": 21,
   "id": "69ade1e6",
   "metadata": {
    "scrolled": false
   },
   "outputs": [
    {
     "data": {
      "text/html": [
       "<div>\n",
       "<style scoped>\n",
       "    .dataframe tbody tr th:only-of-type {\n",
       "        vertical-align: middle;\n",
       "    }\n",
       "\n",
       "    .dataframe tbody tr th {\n",
       "        vertical-align: top;\n",
       "    }\n",
       "\n",
       "    .dataframe thead th {\n",
       "        text-align: right;\n",
       "    }\n",
       "</style>\n",
       "<table border=\"1\" class=\"dataframe\">\n",
       "  <thead>\n",
       "    <tr style=\"text-align: right;\">\n",
       "      <th></th>\n",
       "      <th>Unnamed: 0.1</th>\n",
       "      <th>subject</th>\n",
       "      <th>object</th>\n",
       "      <th>new_relation</th>\n",
       "    </tr>\n",
       "  </thead>\n",
       "  <tbody>\n",
       "    <tr>\n",
       "      <th>0</th>\n",
       "      <td>0</td>\n",
       "      <td>Direct contact</td>\n",
       "      <td>subsequent contact with cavity</td>\n",
       "      <td>contaminated with</td>\n",
       "    </tr>\n",
       "    <tr>\n",
       "      <th>1</th>\n",
       "      <td>1</td>\n",
       "      <td>Direct contact</td>\n",
       "      <td>person</td>\n",
       "      <td>is with</td>\n",
       "    </tr>\n",
       "    <tr>\n",
       "      <th>2</th>\n",
       "      <td>2</td>\n",
       "      <td>contact</td>\n",
       "      <td>contact</td>\n",
       "      <td>contaminated with</td>\n",
       "    </tr>\n",
       "    <tr>\n",
       "      <th>3</th>\n",
       "      <td>3</td>\n",
       "      <td>subsequent contact</td>\n",
       "      <td>own nasal cavity</td>\n",
       "      <td>is with</td>\n",
       "    </tr>\n",
       "    <tr>\n",
       "      <th>4</th>\n",
       "      <td>4</td>\n",
       "      <td>Direct contact</td>\n",
       "      <td>subsequent contact</td>\n",
       "      <td>contaminated with</td>\n",
       "    </tr>\n",
       "    <tr>\n",
       "      <th>...</th>\n",
       "      <td>...</td>\n",
       "      <td>...</td>\n",
       "      <td>...</td>\n",
       "      <td>...</td>\n",
       "    </tr>\n",
       "    <tr>\n",
       "      <th>30888686</th>\n",
       "      <td>1606</td>\n",
       "      <td>acquisition</td>\n",
       "      <td>for pathogens might required.Simple blood</td>\n",
       "      <td>might</td>\n",
       "    </tr>\n",
       "    <tr>\n",
       "      <th>30888687</th>\n",
       "      <td>1607</td>\n",
       "      <td>acquisition</td>\n",
       "      <td>midst of epidemic</td>\n",
       "      <td>complicate field operations in</td>\n",
       "    </tr>\n",
       "    <tr>\n",
       "      <th>30888688</th>\n",
       "      <td>1608</td>\n",
       "      <td>live pathogens</td>\n",
       "      <td>for pathogens might required.Simple blood</td>\n",
       "      <td>acquisition of be</td>\n",
       "    </tr>\n",
       "    <tr>\n",
       "      <th>30888689</th>\n",
       "      <td>1609</td>\n",
       "      <td>acquisition</td>\n",
       "      <td>processing of acute infectious samples</td>\n",
       "      <td>logistical issues regarding</td>\n",
       "    </tr>\n",
       "    <tr>\n",
       "      <th>30888690</th>\n",
       "      <td>1610</td>\n",
       "      <td>acquisition</td>\n",
       "      <td>processing of acute potentially infectious sam...</td>\n",
       "      <td>issues regarding</td>\n",
       "    </tr>\n",
       "  </tbody>\n",
       "</table>\n",
       "<p>30888691 rows × 4 columns</p>\n",
       "</div>"
      ],
      "text/plain": [
       "          Unnamed: 0.1             subject  \\\n",
       "0                    0      Direct contact   \n",
       "1                    1      Direct contact   \n",
       "2                    2             contact   \n",
       "3                    3  subsequent contact   \n",
       "4                    4      Direct contact   \n",
       "...                ...                 ...   \n",
       "30888686          1606         acquisition   \n",
       "30888687          1607         acquisition   \n",
       "30888688          1608      live pathogens   \n",
       "30888689          1609         acquisition   \n",
       "30888690          1610         acquisition   \n",
       "\n",
       "                                                     object  \\\n",
       "0                            subsequent contact with cavity   \n",
       "1                                                    person   \n",
       "2                                                   contact   \n",
       "3                                          own nasal cavity   \n",
       "4                                        subsequent contact   \n",
       "...                                                     ...   \n",
       "30888686          for pathogens might required.Simple blood   \n",
       "30888687                                  midst of epidemic   \n",
       "30888688          for pathogens might required.Simple blood   \n",
       "30888689             processing of acute infectious samples   \n",
       "30888690  processing of acute potentially infectious sam...   \n",
       "\n",
       "                            new_relation  \n",
       "0                      contaminated with  \n",
       "1                                is with  \n",
       "2                      contaminated with  \n",
       "3                                is with  \n",
       "4                      contaminated with  \n",
       "...                                  ...  \n",
       "30888686                           might  \n",
       "30888687  complicate field operations in  \n",
       "30888688               acquisition of be  \n",
       "30888689     logistical issues regarding  \n",
       "30888690                issues regarding  \n",
       "\n",
       "[30888691 rows x 4 columns]"
      ]
     },
     "execution_count": 21,
     "metadata": {},
     "output_type": "execute_result"
    }
   ],
   "source": [
    "copy_pdf_trip_df['new_relation'].value_counts()\n",
    "copy_pdf_trip_df.drop(columns = ['relation', 'Unnamed: 0'], inplace = True)\n",
    "copy_pdf_trip_df"
   ]
  },
  {
   "cell_type": "code",
   "execution_count": 22,
   "id": "d2981bf4",
   "metadata": {},
   "outputs": [
    {
     "name": "stdout",
     "output_type": "stream",
     "text": [
      "disease_disease                    44441\n",
      "disease_species                    17783\n",
      "gene_gene                          17616\n",
      "gene_disease                       10113\n",
      "disease_gene                        9311\n",
      "disease_treat_procedure             7700\n",
      "treat_procedure_disease             6312\n",
      "drug_disease                        5801\n",
      "gene_treat_procedure                4736\n",
      "treat_procedure_treat_procedure     4678\n",
      "gene_species                        4456\n",
      "drug_gene                           4217\n",
      "drug_drug                           3924\n",
      "disease_symptom                     3881\n",
      "treat_procedure_gene                3606\n",
      "treat_procedure_species             3597\n",
      "disease_drug                        3308\n",
      "drug_species                        3258\n",
      "symptom_symptom                     3253\n",
      "symptom_disease                     3100\n",
      "gene_drug                           2901\n",
      "drug_treat_procedure                2715\n",
      "treat_procedure_drug                2139\n",
      "symptom_species                      989\n",
      "gene_symptom                         558\n",
      "drug_symptom                         440\n",
      "treat_procedure_symptom              408\n",
      "symptom_treat_procedure              329\n",
      "symptom_gene                         257\n",
      "symptom_drug                         161\n",
      "Name: new_relation, dtype: int64\n"
     ]
    }
   ],
   "source": [
    "predef_relations = ['disease_disease','disease_gene','disease_drug','disease_symptom','disease_treat_procedure','disease_species','gene_disease','gene_gene','gene_drug','gene_symptom','gene_treat_procedure','gene_species',\n",
    "'drug_disease','drug_gene','drug_drug','drug_symptom','drug_treat_procedure','drug_species','symptom_disease','symptom_gene','symptom_drug','symptom_symptom','symptom_treat_procedure','symptom_species',\n",
    "'treat_procedure_disease','treat_procedure_gene','treat_procedure_drug','treat_procedure_symptom','treat_procedure_treat_procedure','treat_procedure_species']\n",
    "new_triples = copy_pdf_trip_df.loc[(copy_pdf_trip_df['new_relation'].isin(predef_relations) )]\n",
    "\n",
    "\n",
    "print(new_triples.new_relation.value_counts())"
   ]
  },
  {
   "cell_type": "code",
   "execution_count": 23,
   "id": "aee488d5",
   "metadata": {},
   "outputs": [
    {
     "name": "stdout",
     "output_type": "stream",
     "text": [
      "175988\n"
     ]
    }
   ],
   "source": [
    "print(len(new_triples))"
   ]
  },
  {
   "cell_type": "markdown",
   "id": "b2533fa4",
   "metadata": {},
   "source": [
    "#### # Cleaning the triples"
   ]
  },
  {
   "cell_type": "code",
   "execution_count": 24,
   "id": "b600ee89",
   "metadata": {},
   "outputs": [
    {
     "name": "stderr",
     "output_type": "stream",
     "text": [
      "[nltk_data] Downloading package wordnet to\n",
      "[nltk_data]     C:\\Users\\huyen\\AppData\\Roaming\\nltk_data...\n",
      "[nltk_data]   Package wordnet is already up-to-date!\n"
     ]
    },
    {
     "data": {
      "text/plain": [
       "'normalized banana covid-19 covid-19 covid-19'"
      ]
     },
     "execution_count": 24,
     "metadata": {},
     "output_type": "execute_result"
    }
   ],
   "source": [
    "# Defining pre-processing function\n",
    "import nltk\n",
    "nltk.download('wordnet')\n",
    "from nltk.stem import WordNetLemmatizer \n",
    "def preprocessEntity (text):\n",
    "    processed1 = lowercase (text)\n",
    "    processed2 = lemmatization(processed1)\n",
    "    normalized = normalizeCOVID (processed2)\n",
    "    return normalized\n",
    "\n",
    "def lowercase (text):\n",
    "    lowercased = text.lower()\n",
    "    return lowercased\n",
    "\n",
    "def lemmatization(text):\n",
    "    lemmatizer = WordNetLemmatizer()\n",
    "    lemmatized = ' '.join([lemmatizer.lemmatize(w) for w in text.split()])\n",
    "    return lemmatized\n",
    "\n",
    "def normalizeCOVID (text):\n",
    "    covid_variants1 = ['coronarivus disease', 'covid19 coronavirus',  'coronarivus', 'sars-cov-2', '2019-ncov']\n",
    "    covid_variants2 = ['corona','sars-cov']\n",
    "    for variant in covid_variants1:\n",
    "        if variant in text:\n",
    "            text = text.replace(variant, 'covid-19')\n",
    "            \n",
    "    if (('corona' in text) and ('coronavirus' not in text)):\n",
    "            text = text.replace('corona', 'covid-19')\n",
    "            \n",
    "    if (('sars-cov' in text) and ('sars-cov-2' not in text)):\n",
    "            text = text.replace('corona', 'covid-19')\n",
    "    return text\n",
    "        \n",
    "    \n",
    "preprocessEntity ('normalized bananas coronarivus disease coronarivus disease sars-cov-2')"
   ]
  },
  {
   "cell_type": "code",
   "execution_count": 25,
   "id": "6390afef",
   "metadata": {},
   "outputs": [
    {
     "name": "stdout",
     "output_type": "stream",
     "text": [
      "9027 9624\n",
      "175116\n"
     ]
    }
   ],
   "source": [
    "# drop null values\n",
    "new_triples = new_triples.dropna(subset=['subject'])\n",
    "new_triples = new_triples.dropna(subset=['object'])\n",
    "\n",
    "\n",
    "# applying cleaning_f\n",
    "\n",
    "new_triples['subject'] = new_triples[['subject']].applymap(preprocessEntity)\n",
    "new_triples['object'] = new_triples[['object']].applymap(preprocessEntity)\n",
    "\n",
    "\n",
    "print(len(new_triples.subject.unique()), len(new_triples.object.unique()))\n",
    "print(len(new_triples.drop_duplicates(subset = None)))"
   ]
  },
  {
   "cell_type": "code",
   "execution_count": 26,
   "id": "f19a7b60",
   "metadata": {
    "scrolled": true
   },
   "outputs": [
    {
     "data": {
      "text/plain": [
       "disease_disease                    44441\n",
       "disease_species                    17783\n",
       "gene_gene                          17616\n",
       "gene_disease                       10113\n",
       "disease_gene                        9311\n",
       "disease_treat_procedure             7700\n",
       "treat_procedure_disease             6312\n",
       "drug_disease                        5794\n",
       "gene_treat_procedure                4736\n",
       "treat_procedure_treat_procedure     4678\n",
       "gene_species                        4456\n",
       "drug_gene                           4194\n",
       "drug_drug                           3902\n",
       "disease_symptom                     3881\n",
       "treat_procedure_gene                3606\n",
       "treat_procedure_species             3597\n",
       "disease_drug                        3282\n",
       "drug_species                        3254\n",
       "symptom_symptom                     3253\n",
       "symptom_disease                     3100\n",
       "gene_drug                           2888\n",
       "drug_treat_procedure                2705\n",
       "treat_procedure_drug                2137\n",
       "symptom_species                      989\n",
       "gene_symptom                         558\n",
       "drug_symptom                         438\n",
       "treat_procedure_symptom              408\n",
       "symptom_treat_procedure              329\n",
       "symptom_gene                         257\n",
       "symptom_drug                         161\n",
       "Name: new_relation, dtype: int64"
      ]
     },
     "execution_count": 26,
     "metadata": {},
     "output_type": "execute_result"
    }
   ],
   "source": [
    "new_triples.new_relation.value_counts()"
   ]
  },
  {
   "cell_type": "code",
   "execution_count": 27,
   "id": "aeeff9ad",
   "metadata": {},
   "outputs": [],
   "source": [
    "with open(r\"C:\\Users\\huyen\\OneDrive - UNT System\\COURSES\\INFO 5731\\Final_Project\\Group6_Working\\AUG4\\KG\\triples_with_predefined_relations\\new_triples_with_predefined_relations_pdf_June20_.csv\", 'w', newline = '', encoding = 'utf-8') as f:\n",
    "    new_triples.to_csv(f)"
   ]
  },
  {
   "cell_type": "markdown",
   "id": "79055a7e",
   "metadata": {},
   "source": [
    "### pmc"
   ]
  },
  {
   "cell_type": "code",
   "execution_count": 29,
   "id": "400ea186",
   "metadata": {},
   "outputs": [
    {
     "name": "stdout",
     "output_type": "stream",
     "text": [
      "disease disease\n",
      "disease gene\n",
      "disease drug\n",
      "disease symptom\n",
      "disease treat_procedure\n",
      "disease species\n",
      "gene disease\n",
      "gene gene\n",
      "gene drug\n",
      "gene symptom\n",
      "gene treat_procedure\n",
      "gene species\n",
      "drug disease\n",
      "drug gene\n",
      "drug drug\n",
      "drug symptom\n",
      "drug treat_procedure\n",
      "drug species\n",
      "symptom disease\n",
      "symptom gene\n",
      "symptom drug\n",
      "symptom symptom\n",
      "symptom treat_procedure\n",
      "symptom species\n",
      "treat_procedure disease\n",
      "treat_procedure gene\n",
      "treat_procedure drug\n",
      "treat_procedure symptom\n",
      "treat_procedure treat_procedure\n",
      "treat_procedure species\n",
      "species disease\n",
      "species gene\n",
      "species drug\n",
      "species symptom\n",
      "species treat_procedure\n",
      "species species\n",
      "is                       414609\n",
      "was                      339200\n",
      "were                     331797\n",
      "are                      258766\n",
      "is in                    212573\n",
      "                          ...  \n",
      "fit data sets based           1\n",
      "Duyn is at_time               1\n",
      "Matthijnssens at_time         1\n",
      "were as high among            1\n",
      "believe?The here              1\n",
      "Name: new_relation, Length: 466874, dtype: int64\n",
      "disease_disease                    18768\n",
      "gene_gene                           6556\n",
      "disease_species                     4588\n",
      "gene_disease                        4119\n",
      "disease_gene                        4043\n",
      "disease_treat_procedure             2485\n",
      "treat_procedure_disease             1911\n",
      "drug_disease                        1458\n",
      "gene_treat_procedure                1406\n",
      "drug_gene                           1076\n",
      "treat_procedure_gene                 996\n",
      "treat_procedure_treat_procedure      947\n",
      "gene_species                         842\n",
      "disease_drug                         765\n",
      "gene_drug                            715\n",
      "drug_drug                            711\n",
      "treat_procedure_species              666\n",
      "drug_treat_procedure                 524\n",
      "disease_symptom                      473\n",
      "treat_procedure_drug                 441\n",
      "drug_species                         426\n",
      "symptom_disease                      311\n",
      "gene_symptom                          56\n",
      "symptom_gene                          52\n",
      "symptom_treat_procedure               41\n",
      "treat_procedure_symptom               38\n",
      "symptom_species                       31\n",
      "drug_symptom                          28\n",
      "symptom_symptom                       13\n",
      "symptom_drug                           8\n",
      "Name: new_relation, dtype: int64\n",
      "54494\n"
     ]
    }
   ],
   "source": [
    "\n",
    "copy_pmc_trip_df = pmc_trip_df.copy()\n",
    "# Pseudo change entities into entities types\n",
    "## In subjects\n",
    "pmc_trip_df['subject'].mask(pmc_trip_df['subject'].isin(disease),'disease', inplace = True)\n",
    "pmc_trip_df['subject'].mask(pmc_trip_df['subject'].isin(drug),'drug', inplace = True)\n",
    "pmc_trip_df['subject'].mask(pmc_trip_df['subject'].isin(gene_prot),'gene', inplace = True)\n",
    "pmc_trip_df['subject'].mask(pmc_trip_df['subject'].isin(ani_species),'species', inplace = True)  \n",
    "pmc_trip_df['subject'].mask(pmc_trip_df['subject'].isin(symptom),'symptom', inplace = True)\n",
    "pmc_trip_df['subject'].mask(pmc_trip_df['subject'].isin(treat_proc),'treat_procedure', inplace = True)\n",
    "                                                  \n",
    "\n",
    "pmc_trip_df['object'].mask(pmc_trip_df['object'].isin(disease),'disease', inplace = True)\n",
    "pmc_trip_df['object'].mask(pmc_trip_df['object'].isin(drug),'drug', inplace = True)\n",
    "pmc_trip_df['object'].mask(pmc_trip_df['object'].isin(gene_prot),'gene', inplace = True)\n",
    "pmc_trip_df['object'].mask(pmc_trip_df['object'].isin(ani_species),'species', inplace = True)  \n",
    "pmc_trip_df['object'].mask(pmc_trip_df['object'].isin(symptom),'symptom', inplace = True)\n",
    "pmc_trip_df['object'].mask(pmc_trip_df['object'].isin(treat_proc),'treat_procedure', inplace = True)\n",
    "\n",
    "# Change dynamic relations into predefined relations\n",
    "\n",
    "types = ['disease', 'gene', 'drug', 'symptom', 'treat_procedure', 'species']\n",
    "\n",
    "\n",
    "i=0\n",
    "j=i+1\n",
    "for i in range(len(types)):\n",
    "    for j in range(len(types)):\n",
    "        print(types[i], types[j])\n",
    "        pmc_trip_df['relation'].mask((pmc_trip_df['subject']== types[i]) & (pmc_trip_df['object']== types[j]), types[i] +'_'+ types[j], inplace = True)\n",
    "\n",
    "                              \n",
    "\n",
    "new_relation = [i for i in pmc_trip_df['relation']]\n",
    "copy_pmc_trip_df['new_relation'] = new_relation\n",
    "\n",
    "\n",
    "copy_pmc_trip_df['new_relation'].value_counts()\n",
    "copy_pmc_trip_df.drop(columns = ['relation', 'Unnamed: 0'], inplace = True)\n",
    "\n",
    "\n",
    "\n",
    "print(copy_pmc_trip_df['new_relation'].value_counts())\n",
    "\n",
    "predef_relations = ['disease_disease','disease_gene','disease_drug','disease_symptom','disease_treat_procedure','disease_species','gene_disease','gene_gene','gene_drug','gene_symptom','gene_treat_procedure','gene_species',\n",
    "'drug_disease','drug_gene','drug_drug','drug_symptom','drug_treat_procedure','drug_species','symptom_disease','symptom_gene','symptom_drug','symptom_symptom','symptom_treat_procedure','symptom_species',\n",
    "'treat_procedure_disease','treat_procedure_gene','treat_procedure_drug','treat_procedure_symptom','treat_procedure_treat_procedure','treat_procedure_species']\n",
    "new_triples2 = copy_pmc_trip_df.loc[(copy_pmc_trip_df['new_relation'].isin(predef_relations) )]\n",
    "\n",
    "\n",
    "print(new_triples2.new_relation.value_counts())\n",
    "print(len(new_triples2))\n"
   ]
  },
  {
   "cell_type": "code",
   "execution_count": 30,
   "id": "add36e7f",
   "metadata": {},
   "outputs": [
    {
     "name": "stdout",
     "output_type": "stream",
     "text": [
      "54385\n"
     ]
    }
   ],
   "source": [
    "new_triples2 = new_triples2.dropna(subset=['subject'])\n",
    "new_triples2 = new_triples2.dropna(subset=['object'])\n",
    "new_triples2['subject'] = new_triples2[['subject']].applymap(preprocessEntity)\n",
    "new_triples2['object'] = new_triples2[['object']].applymap(preprocessEntity)\n",
    "print(len(new_triples2.drop_duplicates(subset = None)))"
   ]
  },
  {
   "cell_type": "code",
   "execution_count": 31,
   "id": "d457e6b7",
   "metadata": {},
   "outputs": [
    {
     "data": {
      "text/html": [
       "<div>\n",
       "<style scoped>\n",
       "    .dataframe tbody tr th:only-of-type {\n",
       "        vertical-align: middle;\n",
       "    }\n",
       "\n",
       "    .dataframe tbody tr th {\n",
       "        vertical-align: top;\n",
       "    }\n",
       "\n",
       "    .dataframe thead th {\n",
       "        text-align: right;\n",
       "    }\n",
       "</style>\n",
       "<table border=\"1\" class=\"dataframe\">\n",
       "  <thead>\n",
       "    <tr style=\"text-align: right;\">\n",
       "      <th></th>\n",
       "      <th>Unnamed: 0.1</th>\n",
       "      <th>subject</th>\n",
       "      <th>object</th>\n",
       "      <th>new_relation</th>\n",
       "    </tr>\n",
       "  </thead>\n",
       "  <tbody>\n",
       "    <tr>\n",
       "      <th>37</th>\n",
       "      <td>37</td>\n",
       "      <td>dysfunction</td>\n",
       "      <td>child</td>\n",
       "      <td>disease_species</td>\n",
       "    </tr>\n",
       "    <tr>\n",
       "      <th>39</th>\n",
       "      <td>39</td>\n",
       "      <td>et dysfunction</td>\n",
       "      <td>child</td>\n",
       "      <td>disease_species</td>\n",
       "    </tr>\n",
       "    <tr>\n",
       "      <th>67</th>\n",
       "      <td>67</td>\n",
       "      <td>et dysfunction</td>\n",
       "      <td>child</td>\n",
       "      <td>disease_species</td>\n",
       "    </tr>\n",
       "    <tr>\n",
       "      <th>190</th>\n",
       "      <td>190</td>\n",
       "      <td>rsv</td>\n",
       "      <td>virus</td>\n",
       "      <td>disease_disease</td>\n",
       "    </tr>\n",
       "    <tr>\n",
       "      <th>386</th>\n",
       "      <td>386</td>\n",
       "      <td>treatment</td>\n",
       "      <td>child</td>\n",
       "      <td>treat_procedure_species</td>\n",
       "    </tr>\n",
       "    <tr>\n",
       "      <th>...</th>\n",
       "      <td>...</td>\n",
       "      <td>...</td>\n",
       "      <td>...</td>\n",
       "      <td>...</td>\n",
       "    </tr>\n",
       "    <tr>\n",
       "      <th>7773163</th>\n",
       "      <td>809</td>\n",
       "      <td>virus</td>\n",
       "      <td>infection</td>\n",
       "      <td>disease_disease</td>\n",
       "    </tr>\n",
       "    <tr>\n",
       "      <th>7773684</th>\n",
       "      <td>1330</td>\n",
       "      <td>expression</td>\n",
       "      <td>eif2α</td>\n",
       "      <td>treat_procedure_gene</td>\n",
       "    </tr>\n",
       "    <tr>\n",
       "      <th>7773783</th>\n",
       "      <td>1429</td>\n",
       "      <td>expression</td>\n",
       "      <td>sg</td>\n",
       "      <td>treat_procedure_gene</td>\n",
       "    </tr>\n",
       "    <tr>\n",
       "      <th>7773846</th>\n",
       "      <td>1492</td>\n",
       "      <td>influenza a virus</td>\n",
       "      <td>iav</td>\n",
       "      <td>disease_disease</td>\n",
       "    </tr>\n",
       "    <tr>\n",
       "      <th>7773850</th>\n",
       "      <td>1496</td>\n",
       "      <td>ablation</td>\n",
       "      <td>iav</td>\n",
       "      <td>treat_procedure_disease</td>\n",
       "    </tr>\n",
       "  </tbody>\n",
       "</table>\n",
       "<p>54451 rows × 4 columns</p>\n",
       "</div>"
      ],
      "text/plain": [
       "         Unnamed: 0.1            subject     object             new_relation\n",
       "37                 37        dysfunction      child          disease_species\n",
       "39                 39     et dysfunction      child          disease_species\n",
       "67                 67     et dysfunction      child          disease_species\n",
       "190               190                rsv      virus          disease_disease\n",
       "386               386          treatment      child  treat_procedure_species\n",
       "...               ...                ...        ...                      ...\n",
       "7773163           809              virus  infection          disease_disease\n",
       "7773684          1330         expression      eif2α     treat_procedure_gene\n",
       "7773783          1429         expression         sg     treat_procedure_gene\n",
       "7773846          1492  influenza a virus        iav          disease_disease\n",
       "7773850          1496           ablation        iav  treat_procedure_disease\n",
       "\n",
       "[54451 rows x 4 columns]"
      ]
     },
     "execution_count": 31,
     "metadata": {},
     "output_type": "execute_result"
    }
   ],
   "source": [
    "new_triples2"
   ]
  },
  {
   "cell_type": "code",
   "execution_count": 32,
   "id": "db74eaae",
   "metadata": {},
   "outputs": [],
   "source": [
    "\n",
    "with open(r\"C:\\Users\\huyen\\OneDrive - UNT System\\COURSES\\INFO 5731\\Final_Project\\Group6_Working\\AUG4\\KG\\triples_with_predefined_relations\\new_triples_with_predefined_relations_pmc_June20_.csv\", 'w', newline = '', encoding = 'utf-8') as f:\n",
    "    new_triples2.to_csv(f)"
   ]
  },
  {
   "cell_type": "code",
   "execution_count": 33,
   "id": "62617d8f",
   "metadata": {},
   "outputs": [
    {
     "name": "stdout",
     "output_type": "stream",
     "text": [
      "the number of refined pmc triples without duplicates:  54451\n"
     ]
    }
   ],
   "source": [
    "#print('the number of refined pdf triples without duplicates: ', len(new_triples))\n",
    "print('the number of refined pmc triples without duplicates: ', len(new_triples2))\n"
   ]
  },
  {
   "cell_type": "markdown",
   "id": "05aba705",
   "metadata": {},
   "source": [
    "\n",
    "predef_relations = [\n",
    "copy_pmc_trip_df = pmc_trip_df.copy()\n",
    "# Pseudo change entities into entities types\n",
    "## In subjects\n",
    "pmc_trip_df['subject'].mask(pmc_trip_df['subject'].isin(disease[0]),'disease', inplace = True)\n",
    "pmc_trip_df['subject'].mask(pmc_trip_df['subject'].isin(drug[0]),'drug', inplace = True)\n",
    "pmc_trip_df['subject'].mask(pmc_trip_df['subject'].isin(gene_prot[0]),'gene', inplace = True)\n",
    "pmc_trip_df['subject'].mask(pmc_trip_df['subject'].isin(ani_species[0]),'species', inplace = True)  \n",
    "pmc_trip_df['subject'].mask(pmc_trip_df['subject'].isin(symptom),'symptom', inplace = True)\n",
    "pmc_trip_df['subject'].mask(pmc_trip_df['subject'].isin(treat_proc),'treat_procedure', inplace = True)\n",
    "                                                  \n",
    "\n",
    "pmc_trip_df['object'].mask(pmc_trip_df['object'].isin(disease[0]),'disease', inplace = True)\n",
    "pmc_trip_df['object'].mask(pmc_trip_df['object'].isin(drug[0]),'drug', inplace = True)\n",
    "pmc_trip_df['object'].mask(pmc_trip_df['object'].isin(gene_prot[0]),'gene', inplace = True)\n",
    "pmc_trip_df['object'].mask(pmc_trip_df['object'].isin(ani_species[0]),'species', inplace = True)  \n",
    "pmc_trip_df['object'].mask(pmc_trip_df['object'].isin(symptom),'symptom', inplace = True)\n",
    "pmc_trip_df['object'].mask(pmc_trip_df['object'].isin(treat_proc),'treat_procedure', inplace = True)\n",
    "\n",
    "# Change dynamic relations into predefined relations\n",
    "\n",
    "types = ['disease', 'gene', 'drug', 'symptom', 'treat_procedure', 'species']\n",
    "\n",
    "\n",
    "i=0\n",
    "j=i+1\n",
    "for i in range(len(types)-1):\n",
    "    for j in range(len(types)):\n",
    "        print(types[i], types[j])\n",
    "        pmc_trip_df['relation'].mask((pmc_trip_df['subject']== types[i]) & (pmc_trip_df['object']== types[j]), types[i] +'_'+ types[j], inplace = True)\n",
    "\n",
    "                              \n",
    "\n",
    "new_relation = [i for i in pmc_trip_df['relation']]\n",
    "copy_pmc_trip_df['new_relation'] = new_relation\n",
    "\n",
    "\n",
    "copy_pmc_trip_df['new_relation'].value_counts()\n",
    "copy_pmc_trip_df.drop(columns = ['relation', 'Unnamed: 0'], inplace = True)\n",
    "\n",
    "\n",
    "\n",
    "print(copy_pmc_trip_df['new_relation'].value_counts())\n",
    "\n",
    "predef_relations = ['disease_disease','disease_gene','disease_drug','disease_symptom','disease_treat_procedure','disease_species','gene_disease','gene_gene','gene_drug','gene_symptom','gene_treat_procedure','gene_species',\n",
    "'drug_disease','drug_gene','drug_drug','drug_symptom','drug_treat_procedure','drug_species','symptom_disease','symptom_gene','symptom_drug','symptom_symptom','symptom_treat_procedure','symptom_species',\n",
    "'treat_procedure_disease','treat_procedure_gene','treat_procedure_drug','treat_procedure_symptom','treat_procedure_treat_procedure','treat_procedure_species']\n",
    "new_triples2 = copy_pmc_trip_df.loc[(copy_pmc_trip_df['new_relation'].isin(predef_relations) )]\n",
    "\n",
    "\n",
    "print(new_triples2.new_relation.value_counts())\n",
    "\n"
   ]
  }
 ],
 "metadata": {
  "kernelspec": {
   "display_name": "Python 3",
   "language": "python",
   "name": "python3"
  },
  "language_info": {
   "codemirror_mode": {
    "name": "ipython",
    "version": 3
   },
   "file_extension": ".py",
   "mimetype": "text/x-python",
   "name": "python",
   "nbconvert_exporter": "python",
   "pygments_lexer": "ipython3",
   "version": "3.8.5"
  }
 },
 "nbformat": 4,
 "nbformat_minor": 5
}
