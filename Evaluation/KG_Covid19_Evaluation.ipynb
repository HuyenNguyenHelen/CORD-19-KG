{
 "cells": [
  {
   "cell_type": "code",
   "execution_count": 48,
   "metadata": {},
   "outputs": [],
   "source": [
    "import pandas as pd\n",
    "import numpy as np"
   ]
  },
  {
   "cell_type": "markdown",
   "metadata": {},
   "source": [
    "## Accuracy"
   ]
  },
  {
   "cell_type": "code",
   "execution_count": 61,
   "metadata": {},
   "outputs": [
    {
     "name": "stdout",
     "output_type": "stream",
     "text": [
      "percentage of entity accuracy \n",
      " 1    88.0\n",
      "0    12.0\n",
      "Name: final_eval, dtype: float64\n"
     ]
    }
   ],
   "source": [
    "\n",
    "paths_accuracy = [r\"C:\\Users\\huyen\\OneDrive - UNT System\\PROJECTS\\COVID19_paper\\KG paper\\Evaluation\\Evaluation_Students\\Accuracy\\Entity_accuracy_1.csv\",\n",
    "r\"C:\\Users\\huyen\\OneDrive - UNT System\\PROJECTS\\COVID19_paper\\KG paper\\Evaluation\\Evaluation_Students\\Accuracy\\Triple_accuracy_1.csv\"]\n",
    "\n",
    "with open (paths_accuracy[0], 'r', encoding = 'utf-8') as file:\n",
    "    data_accuracy = pd.read_csv(file)\n",
    "del data_accuracy['id']\n",
    "\n",
    "data_accuracy['sum'] = data_accuracy.sum(axis = 1)\n",
    "data_accuracy['final_eval'] = np.where(data_accuracy['sum']>=2, 1, 0)\n",
    "\n",
    "#110 =2 -->1\n",
    "#001 =1 -->0\n",
    "#000 =0 -->0\n",
    "#111 =3-->1\n",
    "print('percentage of entity accuracy \\n', data_accuracy['final_eval'].value_counts()*100/500)"
   ]
  },
  {
   "cell_type": "code",
   "execution_count": 60,
   "metadata": {},
   "outputs": [
    {
     "name": "stdout",
     "output_type": "stream",
     "text": [
      "percentage of triple accuracy \n",
      " 1    65.4\n",
      "0    34.6\n",
      "Name: final_eval, dtype: float64\n"
     ]
    }
   ],
   "source": [
    "\n",
    "paths_accuracy = [r\"C:\\Users\\huyen\\OneDrive - UNT System\\PROJECTS\\COVID19_paper\\KG paper\\Evaluation\\Evaluation_Students\\Accuracy\\Entity_accuracy_1.csv\",\n",
    "r\"C:\\Users\\huyen\\OneDrive - UNT System\\PROJECTS\\COVID19_paper\\KG paper\\Evaluation\\Evaluation_Students\\Accuracy\\Triple_accuracy_1.csv\"]\n",
    "\n",
    "with open (paths_accuracy[1], 'r', encoding = 'utf-8') as file:\n",
    "    data_trip_accuracy = pd.read_csv(file)\n",
    "del data_trip_accuracy['id']\n",
    "\n",
    "data_trip_accuracy['sum'] = data_trip_accuracy.sum(axis = 1)\n",
    "data_trip_accuracy['final_eval'] = np.where(data_trip_accuracy['sum']>=2, 1, 0)\n",
    "\n",
    "#110 =2 -->1\n",
    "#001 =1 -->0\n",
    "#000 =0 -->0\n",
    "#111 =3-->1\n",
    "print('percentage of triple accuracy \\n', data_trip_accuracy['final_eval'].value_counts()*100/500)\n"
   ]
  },
  {
   "cell_type": "markdown",
   "metadata": {},
   "source": [
    "## Relatedness"
   ]
  },
  {
   "cell_type": "code",
   "execution_count": 77,
   "metadata": {},
   "outputs": [
    {
     "name": "stdout",
     "output_type": "stream",
     "text": [
      "percentage of entity accuracy_Disease_S1.csv\n",
      " 1    69.6\n",
      "0    30.4\n",
      "Name: final_eval, dtype: float64\n",
      "\n",
      "----------------------------\n",
      "percentage of entity accuracy_Drug_S1.csv\n",
      " 1    78.2\n",
      "0    21.8\n",
      "Name: final_eval, dtype: float64\n",
      "\n",
      "----------------------------\n",
      "percentage of entity accuracy_Gene_S1.csv\n",
      " 1    51.2\n",
      "0    48.8\n",
      "Name: final_eval, dtype: float64\n",
      "\n",
      "----------------------------\n",
      "percentage of entity accuracy_GPE_S1.csv\n",
      " 1    53.0\n",
      "0    47.0\n",
      "Name: final_eval, dtype: float64\n",
      "\n",
      "----------------------------\n",
      "percentage of entity accuracy_ORG_S1.csv\n",
      " 0    50.4\n",
      "1    49.6\n",
      "Name: final_eval, dtype: float64\n",
      "\n",
      "----------------------------\n",
      "percentage of entity accuracy_Species_S1.csv\n",
      " 1    61.0\n",
      "0    39.0\n",
      "Name: final_eval, dtype: float64\n",
      "\n",
      "----------------------------\n"
     ]
    }
   ],
   "source": [
    "import os\n",
    "relevance_path = [r\"C:\\Users\\huyen\\OneDrive - UNT System\\PROJECTS\\COVID19_paper\\KG paper\\Evaluation\\Evaluation_Students\\Relavence\\Disease_S1.csv\",\n",
    "r\"C:\\Users\\huyen\\OneDrive - UNT System\\PROJECTS\\COVID19_paper\\KG paper\\Evaluation\\Evaluation_Students\\Relavence\\Drug_S1.csv\",\n",
    "r\"C:\\Users\\huyen\\OneDrive - UNT System\\PROJECTS\\COVID19_paper\\KG paper\\Evaluation\\Evaluation_Students\\Relavence\\Gene_S1.csv\",\n",
    "r\"C:\\Users\\huyen\\OneDrive - UNT System\\PROJECTS\\COVID19_paper\\KG paper\\Evaluation\\Evaluation_Students\\Relavence\\GPE_S1.csv\",\n",
    "r\"C:\\Users\\huyen\\OneDrive - UNT System\\PROJECTS\\COVID19_paper\\KG paper\\Evaluation\\Evaluation_Students\\Relavence\\ORG_S1.csv\",\n",
    "r\"C:\\Users\\huyen\\OneDrive - UNT System\\PROJECTS\\COVID19_paper\\KG paper\\Evaluation\\Evaluation_Students\\Relavence\\Species_S1.csv\"]\n",
    "\n",
    "for path in relevance_path:\n",
    "    with open (path, 'r', encoding = 'utf-8') as file:\n",
    "        data_relev = pd.read_csv(file)\n",
    "    del data_relev['id']\n",
    "    data_relev['sum'] = data_relev.sum(axis = 1)\n",
    "    data_relev['final_eval'] = np.where(data_relev['sum']>=2, 1, 0)\n",
    "    print('percentage of entity accuracy_'+ os.path.split(path)[1] + '\\n', data_relev['final_eval'].value_counts()*100/500)\n",
    "    #print(data_relev.tail(5))\n",
    "    print( '\\n----------------------------')"
   ]
  },
  {
   "cell_type": "markdown",
   "metadata": {},
   "source": [
    "### Best annotator"
   ]
  },
  {
   "cell_type": "code",
   "execution_count": 6,
   "metadata": {},
   "outputs": [],
   "source": [
    "import pandas as pd\n",
    "import numpy as np\n",
    "import os"
   ]
  },
  {
   "cell_type": "code",
   "execution_count": 4,
   "metadata": {},
   "outputs": [
    {
     "name": "stdout",
     "output_type": "stream",
     "text": [
      "percentage of entity accuracy \n",
      " 1    96.6\n",
      "0     3.4\n",
      "Name: evaluation, dtype: float64\n"
     ]
    }
   ],
   "source": [
    "# Accuracy\n",
    "path = r\"C:\\Users\\huyen\\OneDrive - UNT System\\PROJECTS\\COVID19_paper\\KG paper\\Evaluation\\Evaluation_Students\\bestS\\Entity_accuracy_JBest.csv\"\n",
    "\n",
    "with open (path, 'r', encoding = 'utf-8') as file:\n",
    "    data_accuracy = pd.read_csv(file)\n",
    "\n",
    "print('percentage of entity accuracy \\n', data_accuracy['evaluation'].value_counts()*100/500)\n"
   ]
  },
  {
   "cell_type": "code",
   "execution_count": 7,
   "metadata": {
    "scrolled": true
   },
   "outputs": [
    {
     "name": "stdout",
     "output_type": "stream",
     "text": [
      "percentage of entity accuracy_Disease.csv\n",
      " 1    91.2\n",
      "0     8.8\n",
      "Name: evaluation, dtype: float64\n",
      "\n",
      "----------------------------\n",
      "percentage of entity accuracy_Drug.csv\n",
      " 1    83.0\n",
      "0    17.0\n",
      "Name: evaluation, dtype: float64\n",
      "\n",
      "----------------------------\n",
      "percentage of entity accuracy_Gene.csv\n",
      " 0    61.4\n",
      "1    38.6\n",
      "Name: evaluation, dtype: float64\n",
      "\n",
      "----------------------------\n",
      "percentage of entity accuracy_GPE.csv\n",
      " 0    88.8\n",
      "1    11.2\n",
      "Name: evaluation, dtype: float64\n",
      "\n",
      "----------------------------\n",
      "percentage of entity accuracy_ORG.csv\n",
      " 0    82.6\n",
      "1    17.4\n",
      "Name: evaluation, dtype: float64\n",
      "\n",
      "----------------------------\n",
      "percentage of entity accuracy_Species.csv\n",
      " 1    85.4\n",
      "0    14.6\n",
      "Name: evaluation, dtype: float64\n",
      "\n",
      "----------------------------\n"
     ]
    }
   ],
   "source": [
    "# Relevance\n",
    "paths = [r\"C:\\Users\\huyen\\OneDrive - UNT System\\PROJECTS\\COVID19_paper\\KG paper\\Evaluation\\Evaluation_Students\\bestS\\Entity_relatedness\\Disease.csv\",\n",
    "r\"C:\\Users\\huyen\\OneDrive - UNT System\\PROJECTS\\COVID19_paper\\KG paper\\Evaluation\\Evaluation_Students\\bestS\\Entity_relatedness\\Drug.csv\",\n",
    "r\"C:\\Users\\huyen\\OneDrive - UNT System\\PROJECTS\\COVID19_paper\\KG paper\\Evaluation\\Evaluation_Students\\bestS\\Entity_relatedness\\Gene.csv\",\n",
    "r\"C:\\Users\\huyen\\OneDrive - UNT System\\PROJECTS\\COVID19_paper\\KG paper\\Evaluation\\Evaluation_Students\\bestS\\Entity_relatedness\\GPE.csv\",\n",
    "r\"C:\\Users\\huyen\\OneDrive - UNT System\\PROJECTS\\COVID19_paper\\KG paper\\Evaluation\\Evaluation_Students\\bestS\\Entity_relatedness\\ORG.csv\",\n",
    "r\"C:\\Users\\huyen\\OneDrive - UNT System\\PROJECTS\\COVID19_paper\\KG paper\\Evaluation\\Evaluation_Students\\bestS\\Entity_relatedness\\Species.csv\"]\n",
    "\n",
    "for path in paths:\n",
    "    with open (path, 'r', encoding = 'utf-8') as file:\n",
    "        data_relev = pd.read_csv(file)\n",
    "    print('percentage of entity accuracy_'+ os.path.split(path)[1] + '\\n', data_relev['evaluation'].value_counts()*100/500)\n",
    "    print( '\\n----------------------------')"
   ]
  }
 ],
 "metadata": {
  "kernelspec": {
   "display_name": "Python 3",
   "language": "python",
   "name": "python3"
  },
  "language_info": {
   "codemirror_mode": {
    "name": "ipython",
    "version": 3
   },
   "file_extension": ".py",
   "mimetype": "text/x-python",
   "name": "python",
   "nbconvert_exporter": "python",
   "pygments_lexer": "ipython3",
   "version": "3.8.5"
  }
 },
 "nbformat": 4,
 "nbformat_minor": 4
}
