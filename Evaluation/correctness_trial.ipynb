{
 "cells": [
  {
   "cell_type": "markdown",
   "id": "f2cc96d7",
   "metadata": {},
   "source": [
    "# PROCESSING ANNOTATED ENTITIES AND TRIPLES\n",
    "For evaluating 10 folds"
   ]
  },
  {
   "cell_type": "markdown",
   "id": "12ee9b78",
   "metadata": {},
   "source": [
    "## Entities of 10 folds"
   ]
  },
  {
   "cell_type": "code",
   "execution_count": 2,
   "id": "ed175c39",
   "metadata": {},
   "outputs": [],
   "source": [
    "import pandas as pd\n",
    "# from transformers import AutoTokenizer, AutoModel\n",
    "import numpy as np\n",
    "import seaborn as sns\n",
    "import matplotlib.pyplot as plt"
   ]
  },
  {
   "cell_type": "code",
   "execution_count": 2,
   "id": "952a94cc",
   "metadata": {},
   "outputs": [],
   "source": [
    "\n",
    "def get_ent2types (df):\n",
    "    All = {}\n",
    "    All['disease'], All ['species'], All['drug'], All['gene'], All ['symptom'], All ['treat-procedure'] = [],[],[],[],[],[]\n",
    "    for o, s, r in zip (df['object'], df['subject'], df['relation']):\n",
    "        keys = r.split('_')\n",
    "        All[keys[0]].append(s)\n",
    "        All[keys[1]].append(o)\n",
    "    print(All.keys())\n",
    "    return All"
   ]
  },
  {
   "cell_type": "code",
   "execution_count": 5,
   "id": "cf6d9236",
   "metadata": {},
   "outputs": [
    {
     "name": "stdout",
     "output_type": "stream",
     "text": [
      "dict_keys(['disease', 'species', 'drug', 'gene', 'symptom', 'treat-procedure'])\n",
      "dict_keys(['disease', 'species', 'drug', 'gene', 'symptom', 'treat-procedure'])\n",
      "dict_keys(['disease', 'species', 'drug', 'gene', 'symptom', 'treat-procedure'])\n",
      "dict_keys(['disease', 'species', 'drug', 'gene', 'symptom', 'treat-procedure'])\n",
      "dict_keys(['disease', 'species', 'drug', 'gene', 'symptom', 'treat-procedure'])\n",
      "dict_keys(['disease', 'species', 'drug', 'gene', 'symptom', 'treat-procedure'])\n",
      "dict_keys(['disease', 'species', 'drug', 'gene', 'symptom', 'treat-procedure'])\n",
      "dict_keys(['disease', 'species', 'drug', 'gene', 'symptom', 'treat-procedure'])\n",
      "dict_keys(['disease', 'species', 'drug', 'gene', 'symptom', 'treat-procedure'])\n",
      "dict_keys(['disease', 'species', 'drug', 'gene', 'symptom', 'treat-procedure'])\n"
     ]
    },
    {
     "data": {
      "text/plain": [
       "{'subset': [1, 2, 3, 4, 5, 6, 7, 8, 9, 10],\n",
       " 'disease': [8650,\n",
       "  16699,\n",
       "  25962,\n",
       "  33735,\n",
       "  41371,\n",
       "  48844,\n",
       "  56418,\n",
       "  64173,\n",
       "  71629,\n",
       "  79212],\n",
       " 'species': [827, 1643, 2579, 3912, 5267, 6592, 7897, 9136, 10283, 11436],\n",
       " 'drug': [1028, 2265, 3342, 4750, 6362, 8050, 9617, 11249, 12817, 14472],\n",
       " 'gene': [5195, 10835, 15487, 19730, 23847, 27922, 32345, 36649, 41215, 45616],\n",
       " 'symptom': [197, 376, 605, 1536, 2300, 3156, 3941, 4674, 5400, 6148],\n",
       " 'treat-procedure': [1867,\n",
       "  3710,\n",
       "  5317,\n",
       "  7393,\n",
       "  9673,\n",
       "  12018,\n",
       "  14126,\n",
       "  16225,\n",
       "  18524,\n",
       "  20746]}"
      ]
     },
     "execution_count": 5,
     "metadata": {},
     "output_type": "execute_result"
    }
   ],
   "source": [
    "n_subsets = 10\n",
    "All = {}\n",
    "All['subset'], All['disease'], All ['species'], All['drug'], All['gene'], All ['symptom'], All ['treat-procedure'] = [],[],[],[],[],[],[]\n",
    "\n",
    "for i in range(1, n_subsets+1):\n",
    "    with open (r\"C:\\Users\\huyen\\OneDrive\\Documents\\GitHub\\CORD-19-KG\\Data\\all-final-cleaned-triple3-10sets\\subset_%s.csv\"%i, 'r', encoding = 'utf-8') as f:\n",
    "        data = pd.read_csv(f)\n",
    "    data.head()\n",
    "    data['relation'] = data['relation'].apply(lambda x: x.replace('treat_', 'treat-'))\n",
    "\n",
    "    entities_2types = get_ent2types (data)\n",
    "#     print('\\n------------subset_%s ----------------'%i)\n",
    "    All['subset'].append(i)\n",
    "    for k in entities_2types.keys():\n",
    "#         print('%s: %s' %(k, len(entities_2types[k])))\n",
    "        All[k].append(len(entities_2types[k]))\n",
    "        \n",
    "All"
   ]
  },
  {
   "cell_type": "code",
   "execution_count": 6,
   "id": "75109d9a",
   "metadata": {},
   "outputs": [],
   "source": [
    "df = pd.DataFrame.from_dict(All)\n",
    "df = df[['subset', 'symptom', 'species', 'drug', 'treat-procedure', 'gene', 'disease' ]]\n",
    "df\n",
    "# with open(r'.\\tryViz.csv', 'w', encoding = 'utf-8', newline = '') as f:\n",
    "#     df.to_csv(f)"
   ]
  },
  {
   "cell_type": "code",
   "execution_count": null,
   "id": "de5dac84",
   "metadata": {},
   "outputs": [],
   "source": [
    "# Memory issues. Worked in colab\n",
    "# colors = ['C1', 'C3', 'C2', 'C5', 'C4', 'C0']\n",
    "\n",
    "# ax = df.plot.bar(x = 'subset', rot=0, figsize=(12,8), width=0.7, color = colors)\n",
    "# plt.savefig(\"/content/entity_types_10folds.png\")\n",
    "# plt.show()"
   ]
  },
  {
   "cell_type": "markdown",
   "id": "d54b8fc4",
   "metadata": {},
   "source": [
    "## Processing evaluation files by annotators"
   ]
  },
  {
   "cell_type": "markdown",
   "id": "b519df01",
   "metadata": {},
   "source": [
    "### ENTITIES"
   ]
  },
  {
   "cell_type": "code",
   "execution_count": 6,
   "id": "fda37785",
   "metadata": {},
   "outputs": [],
   "source": [
    "import os\n",
    "from collections import defaultdict\n"
   ]
  },
  {
   "cell_type": "code",
   "execution_count": 33,
   "id": "278b08f7",
   "metadata": {},
   "outputs": [
    {
     "name": "stdout",
     "output_type": "stream",
     "text": [
      "['C:\\\\Users\\\\huyen\\\\OneDrive - UNT System\\\\PROJECTS\\\\COVID19_paper\\\\KG paper\\\\Evaluation\\\\stage2\\\\ALL\\\\entities\\\\all_ents_sample_1000(madhu).csv', 'C:\\\\Users\\\\huyen\\\\OneDrive - UNT System\\\\PROJECTS\\\\COVID19_paper\\\\KG paper\\\\Evaluation\\\\stage2\\\\ALL\\\\entities\\\\all_ents_sample_1000_apps.csv', 'C:\\\\Users\\\\huyen\\\\OneDrive - UNT System\\\\PROJECTS\\\\COVID19_paper\\\\KG paper\\\\Evaluation\\\\stage2\\\\ALL\\\\entities\\\\all_ents_sample_1000_Mudita.csv']\n",
      "['C:\\\\Users\\\\huyen\\\\OneDrive - UNT System\\\\PROJECTS\\\\COVID19_paper\\\\KG paper\\\\Evaluation\\\\stage2\\\\ALL\\\\entities\\\\disease_sample_1000(madhu).csv', 'C:\\\\Users\\\\huyen\\\\OneDrive - UNT System\\\\PROJECTS\\\\COVID19_paper\\\\KG paper\\\\Evaluation\\\\stage2\\\\ALL\\\\entities\\\\disease_sample_1000_apps.csv', 'C:\\\\Users\\\\huyen\\\\OneDrive - UNT System\\\\PROJECTS\\\\COVID19_paper\\\\KG paper\\\\Evaluation\\\\stage2\\\\ALL\\\\entities\\\\disease_sample_1000_Zach.csv']\n",
      "['C:\\\\Users\\\\huyen\\\\OneDrive - UNT System\\\\PROJECTS\\\\COVID19_paper\\\\KG paper\\\\Evaluation\\\\stage2\\\\ALL\\\\entities\\\\drug_sample_1000(madhu).csv', 'C:\\\\Users\\\\huyen\\\\OneDrive - UNT System\\\\PROJECTS\\\\COVID19_paper\\\\KG paper\\\\Evaluation\\\\stage2\\\\ALL\\\\entities\\\\drug_sample_1000_apps.csv', 'C:\\\\Users\\\\huyen\\\\OneDrive - UNT System\\\\PROJECTS\\\\COVID19_paper\\\\KG paper\\\\Evaluation\\\\stage2\\\\ALL\\\\entities\\\\drug_sample_1000_Zach.csv']\n",
      "['C:\\\\Users\\\\huyen\\\\OneDrive - UNT System\\\\PROJECTS\\\\COVID19_paper\\\\KG paper\\\\Evaluation\\\\stage2\\\\ALL\\\\entities\\\\gene_protein_sample_1000(madhu).csv', 'C:\\\\Users\\\\huyen\\\\OneDrive - UNT System\\\\PROJECTS\\\\COVID19_paper\\\\KG paper\\\\Evaluation\\\\stage2\\\\ALL\\\\entities\\\\gene_protein_sample_1000_apps.csv', 'C:\\\\Users\\\\huyen\\\\OneDrive - UNT System\\\\PROJECTS\\\\COVID19_paper\\\\KG paper\\\\Evaluation\\\\stage2\\\\ALL\\\\entities\\\\gene_protein_sample_1000_Jesus.csv']\n",
      "['C:\\\\Users\\\\huyen\\\\OneDrive - UNT System\\\\PROJECTS\\\\COVID19_paper\\\\KG paper\\\\Evaluation\\\\stage2\\\\ALL\\\\entities\\\\species_sample_1000(madhu).csv', 'C:\\\\Users\\\\huyen\\\\OneDrive - UNT System\\\\PROJECTS\\\\COVID19_paper\\\\KG paper\\\\Evaluation\\\\stage2\\\\ALL\\\\entities\\\\species_sample_1000_apps.csv', 'C:\\\\Users\\\\huyen\\\\OneDrive - UNT System\\\\PROJECTS\\\\COVID19_paper\\\\KG paper\\\\Evaluation\\\\stage2\\\\ALL\\\\entities\\\\species_sample_1000_Jesus.csv']\n",
      "['C:\\\\Users\\\\huyen\\\\OneDrive - UNT System\\\\PROJECTS\\\\COVID19_paper\\\\KG paper\\\\Evaluation\\\\stage2\\\\ALL\\\\entities\\\\symptom_sample_1000(madhu).csv', 'C:\\\\Users\\\\huyen\\\\OneDrive - UNT System\\\\PROJECTS\\\\COVID19_paper\\\\KG paper\\\\Evaluation\\\\stage2\\\\ALL\\\\entities\\\\symptom_sample_1000_apps.csv', 'C:\\\\Users\\\\huyen\\\\OneDrive - UNT System\\\\PROJECTS\\\\COVID19_paper\\\\KG paper\\\\Evaluation\\\\stage2\\\\ALL\\\\entities\\\\symptom_sample_1000_Entity Accuracy_relatedness_Dustin.csv']\n",
      "['C:\\\\Users\\\\huyen\\\\OneDrive - UNT System\\\\PROJECTS\\\\COVID19_paper\\\\KG paper\\\\Evaluation\\\\stage2\\\\ALL\\\\entities\\\\treatment_procedure_sample_1000(madhu).csv', 'C:\\\\Users\\\\huyen\\\\OneDrive - UNT System\\\\PROJECTS\\\\COVID19_paper\\\\KG paper\\\\Evaluation\\\\stage2\\\\ALL\\\\entities\\\\treatment_procedure_sample_1000_apps.csv', 'C:\\\\Users\\\\huyen\\\\OneDrive - UNT System\\\\PROJECTS\\\\COVID19_paper\\\\KG paper\\\\Evaluation\\\\stage2\\\\ALL\\\\entities\\\\treatment_procedure_sample_1000_entity_relatedness_Dustin.csv']\n"
     ]
    }
   ],
   "source": [
    "def process_anno_files (paths):\n",
    "    dic = defaultdict(list)\n",
    "    for path in paths: \n",
    "        with open (path, 'r', encoding = 'utf-8') as file:\n",
    "            data_accuracy = pd.read_csv(file)\n",
    "        data_accuracy.columns = [i for i in range(len(data_accuracy.columns))]\n",
    "        for j, k, v in zip ([e for e in range(1000)], data_accuracy[0], data_accuracy[1]):\n",
    "            dic['%s----%s'%(k,str(j))].append(int(v))\n",
    "\n",
    "    df = pd.DataFrame.from_dict(dic, orient='index')\n",
    "    df1 = df[[0,1,2]]\n",
    "    df1['sum'] = df1.sum(axis = 1)\n",
    "    df1['final_eval'] = np.where(df1['sum']>=2, 1, 0)\n",
    "    df1 = df1.reset_index()\n",
    "    df1['index'] = df1['index'].apply(lambda x: x.split('----')[0])\n",
    "    return df1 [['index','final_eval' ]]\n",
    "\n",
    "\n",
    "root_path = r'C:\\Users\\huyen\\OneDrive - UNT System\\PROJECTS\\COVID19_paper\\KG paper\\Evaluation\\stage2\\ALL\\entities'\n",
    "filenames = os.listdir(root_path)\n",
    "i=0\n",
    "while i<round(len(filenames)/3):\n",
    "    m=3*i\n",
    "    n=m+3\n",
    "    path_group = []\n",
    "    for files in filenames[m:n]:\n",
    "        path_group.append(root_path+'\\\\'+ files)\n",
    "#     print (path_group)\n",
    "    df = process_anno_files(path_group)\n",
    "    ent_type = files.split('_')[0]\n",
    "    df.columns = [ent_type, 'final-eval']\n",
    "    with open(r'C:\\Users\\huyen\\OneDrive - UNT System\\PROJECTS\\COVID19_paper\\KG paper\\Evaluation\\stage2\\ALL\\entities_tempt\\%s.csv'%ent_type, 'w', newline='', encoding = 'utf-8') as f:\n",
    "        df.to_csv(f)\n",
    "    i+=1"
   ]
  },
  {
   "cell_type": "markdown",
   "id": "b8068d60",
   "metadata": {},
   "source": [
    "### TRIPLES"
   ]
  },
  {
   "cell_type": "code",
   "execution_count": 10,
   "id": "9056d8e7",
   "metadata": {},
   "outputs": [
    {
     "name": "stderr",
     "output_type": "stream",
     "text": [
      "<ipython-input-10-ed6161bb6180>:6: SettingWithCopyWarning: \n",
      "A value is trying to be set on a copy of a slice from a DataFrame.\n",
      "Try using .loc[row_indexer,col_indexer] = value instead\n",
      "\n",
      "See the caveats in the documentation: https://pandas.pydata.org/pandas-docs/stable/user_guide/indexing.html#returning-a-view-versus-a-copy\n",
      "  df1['sum'] = df1.sum(axis = 1)\n",
      "<ipython-input-10-ed6161bb6180>:7: SettingWithCopyWarning: \n",
      "A value is trying to be set on a copy of a slice from a DataFrame.\n",
      "Try using .loc[row_indexer,col_indexer] = value instead\n",
      "\n",
      "See the caveats in the documentation: https://pandas.pydata.org/pandas-docs/stable/user_guide/indexing.html#returning-a-view-versus-a-copy\n",
      "  df1['final_eval'] = np.where(df1['sum']>=2, 1, 0)\n"
     ]
    }
   ],
   "source": [
    "# processing file to get final eval by maajority voting\n",
    "with open(r\"C:\\Users\\huyen\\OneDrive - UNT System\\PROJECTS\\COVID19_paper\\KG paper\\Evaluation\\stage2\\ALL\\triples\\all_triples_sample_1000_all.csv\",'r', encoding ='utf-8' ) as f:\n",
    "     df = pd.read_csv(f)     \n",
    "df\n",
    "df1 = df[['Evaluation1', 'Evaluation2', 'Evaluation3']]\n",
    "df1['sum'] = df1.sum(axis = 1)\n",
    "df1['final_eval'] = np.where(df1['sum']>=2, 1, 0)\n",
    "df['final_eval'] = df1['final_eval']\n",
    "# writing to a file\n",
    "with open(r\"C:\\Users\\huyen\\OneDrive - UNT System\\PROJECTS\\COVID19_paper\\KG paper\\Evaluation\\stage2\\ALL\\triples\\all_triples_sample_1000_all_final.csv\",'w', encoding ='utf-8', newline = '' ) as f:\n",
    "    df.to_csv(f)"
   ]
  },
  {
   "cell_type": "markdown",
   "id": "883b1f95",
   "metadata": {},
   "source": [
    "# ML methods to automatically label correctness of enities and triples"
   ]
  },
  {
   "cell_type": "code",
   "execution_count": null,
   "id": "561712dd",
   "metadata": {},
   "outputs": [],
   "source": []
  }
 ],
 "metadata": {
  "kernelspec": {
   "display_name": "Python 3",
   "language": "python",
   "name": "python3"
  },
  "language_info": {
   "codemirror_mode": {
    "name": "ipython",
    "version": 3
   },
   "file_extension": ".py",
   "mimetype": "text/x-python",
   "name": "python",
   "nbconvert_exporter": "python",
   "pygments_lexer": "ipython3",
   "version": "3.8.5"
  }
 },
 "nbformat": 4,
 "nbformat_minor": 5
}
