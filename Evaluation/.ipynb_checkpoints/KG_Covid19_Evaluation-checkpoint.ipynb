{
 "cells": [
  {
   "cell_type": "markdown",
   "metadata": {},
   "source": [
    "# Comprehensiveness"
   ]
  },
  {
   "cell_type": "code",
   "execution_count": 1,
   "metadata": {},
   "outputs": [
    {
     "data": {
      "text/plain": [
       "'normalized banana covid-19 covid-19 covid-19'"
      ]
     },
     "execution_count": 1,
     "metadata": {},
     "output_type": "execute_result"
    }
   ],
   "source": [
    "# preprocess the concepts\n",
    "# Defining pre-processing function\n",
    "\n",
    "from nltk.stem import WordNetLemmatizer \n",
    "def preprocessEntity (text):\n",
    "    processed1 = lowercase (text)\n",
    "    processed2 = lemmatization(processed1)\n",
    "    normalized = normalizeCOVID (processed2)\n",
    "    return normalized\n",
    "\n",
    "def lowercase (text):\n",
    "    lowercased = text.lower()\n",
    "    return lowercased\n",
    "\n",
    "def lemmatization(text):\n",
    "    lemmatizer = WordNetLemmatizer()\n",
    "    lemmatized = ' '.join([lemmatizer.lemmatize(w) for w in text.split()])\n",
    "    return lemmatized\n",
    "\n",
    "def normalizeCOVID (text):\n",
    "    covid_variants1 = ['coronarivus disease','sarsr-cov','2019ncov', '2019 ncov','severe acute respiratory syndrome-related coronavirus 2', 'sars-cov2', 'wuhan virus','covid-19 (covid-19)', 'covid19 coronavirus',  'coronarivus', 'sars-cov-2', '2019-ncov', 'covid 19', 'covid19', 'wuhan coronavirus', 'chinese coronavirus', 'covidー19', 'novel coronavirus']\n",
    "    covid_variants2 = ['corona','sars-cov']\n",
    "    for variant in covid_variants1:\n",
    "        if variant in text:\n",
    "            text = text.replace(variant, 'covid-19')\n",
    "            \n",
    "    if (('corona' in text) and ('coronavirus' not in text)):\n",
    "            text = text.replace('corona', 'covid-19')\n",
    "            \n",
    "    if (('sars-cov' in text) and ('sars-cov-2' not in text)):\n",
    "            text = text.replace('corona', 'covid-19')\n",
    "    return text\n",
    "        \n",
    "    \n",
    "preprocessEntity ('normalized bananas coronarivus disease coronarivus disease sars-cov-2')  "
   ]
  },
  {
   "cell_type": "code",
   "execution_count": 8,
   "metadata": {},
   "outputs": [
    {
     "name": "stdout",
     "output_type": "stream",
     "text": [
      "all scrapped concepts from Wikidata:  140\n"
     ]
    },
    {
     "data": {
      "text/plain": [
       "['contact transmission',\n",
       " 'biosafety level 3',\n",
       " '2019 ncp',\n",
       " 'covid2019',\n",
       " 'covid-2019',\n",
       " 'covid-19 genome',\n",
       " 'anemia',\n",
       " 'severe acute respiratory syndrome coronavirus clade 2',\n",
       " 'covid-19 infection',\n",
       " 'hek293t',\n",
       " 'nasal congestion',\n",
       " 'airborne transmission',\n",
       " 'dyspnea',\n",
       " 'atypical pneumonia',\n",
       " 'baricitinib',\n",
       " '2019 covid-19 pneumonia',\n",
       " 'covid',\n",
       " 'coronavirus disease',\n",
       " 'hypoxia',\n",
       " 'tocilizumab',\n",
       " 'homo sapiens',\n",
       " 'coronavirus disease 2019',\n",
       " 'immunoglobulin therapy',\n",
       " '2019–21 covid-19 pandemic',\n",
       " 'sarilumab',\n",
       " 'severe acute respiratory syndrome type 2',\n",
       " 'fomite transmission',\n",
       " 'calu-3',\n",
       " 'coronavirus pandemic',\n",
       " 'chronic obstructive pulmonary disease',\n",
       " 'epidemiology',\n",
       " 'emerging communicable disease',\n",
       " 'antiviral drug',\n",
       " 'tobacco smoking',\n",
       " 'eye infection',\n",
       " 'membrane protein ',\n",
       " 'envelope protein ',\n",
       " 'acute respiratory distress syndrome',\n",
       " 'diabetes mellitus',\n",
       " 'spike glycoprotein ',\n",
       " 'lymphopenia',\n",
       " 'covid-19ry artery disease',\n",
       " 'chill',\n",
       " 'virology',\n",
       " 'cytokine storm',\n",
       " 'immunosuppressive drug',\n",
       " 'influenza like illness',\n",
       " 'direct transmission',\n",
       " 'covid-19 mortality',\n",
       " 'status asthmaticus',\n",
       " 'coronavirus covid-19',\n",
       " 'fluvoxamine',\n",
       " '(s)-(−)-colchicine',\n",
       " 'felis catus',\n",
       " 'ncp',\n",
       " 'toxic shock syndrome',\n",
       " 'antiserum',\n",
       " 'covid-19 acute respiratory disease',\n",
       " 'blood coagulation',\n",
       " 'ncovd19',\n",
       " 'pediatric multisystem inflammatory syndrome',\n",
       " 'covid-19',\n",
       " 'infectious disease',\n",
       " 'myalgia',\n",
       " 'thrombosis',\n",
       " 'anorexia',\n",
       " 'acute respiratory syndrome coronavirus 2',\n",
       " 'nausea',\n",
       " '2019–2021 coronavirus pandemic',\n",
       " 'coronavirus',\n",
       " 'enanthem',\n",
       " 'covid-19 test',\n",
       " 'asthma',\n",
       " 'emergency medicine',\n",
       " 'canis familiaris',\n",
       " 'headache',\n",
       " 'brain damage',\n",
       " 'covid-19 pandemic',\n",
       " 'covid-19foam',\n",
       " 'covid-19 (covid-19)',\n",
       " 'covid-19 virus',\n",
       " 'covid pandemic',\n",
       " '2019–21 coronavirus pandemic',\n",
       " 'brain disease',\n",
       " 'obesity',\n",
       " 'sars-cov-1',\n",
       " 'ncovd 19',\n",
       " 'ageusia',\n",
       " 'hypercholesterolemia',\n",
       " 'symptomatic treatment',\n",
       " 'droplet infection',\n",
       " 'viral pneumonia',\n",
       " 'the great disaster of 2020',\n",
       " 'encephalitis',\n",
       " 'severe acute respiratory syndrome coronavirus 2',\n",
       " 'fever',\n",
       " 'seafood market pneumonia',\n",
       " 'ivermectin',\n",
       " 'huh-7',\n",
       " 'chloroquine',\n",
       " '2019 covid-19 respiratory syndrome',\n",
       " 'lopinavir/ritonavir',\n",
       " 'occupational burnout',\n",
       " 'abdominal pain',\n",
       " 'caco-2',\n",
       " 'group or class of strain',\n",
       " 'nucleocapsid protein ',\n",
       " 'covid-19 outbreak',\n",
       " 'psychosis',\n",
       " 'ruxolitinib',\n",
       " 'sunda pangolin',\n",
       " 'delirium',\n",
       " 'anti-inflammatory agent',\n",
       " 'oxygen therapy',\n",
       " 'fatigue',\n",
       " 'zhong nanshan',\n",
       " 'immunodeficiency',\n",
       " 'hemoptysis',\n",
       " 'vero c1008',\n",
       " 'conjunctivitis',\n",
       " 'cd-19',\n",
       " 'autoimmune disease',\n",
       " 'zhang jixian',\n",
       " 'covid-19 epidemic',\n",
       " 'diarrhea',\n",
       " 'favipiravir',\n",
       " 'transmembrane serine protease 2',\n",
       " 'severe acute respiratory syndrome',\n",
       " 'anosmia',\n",
       " 'arterial hypertension',\n",
       " 'hyperglycemia',\n",
       " 'wurs',\n",
       " 'zoonosis',\n",
       " 'pulmonology',\n",
       " 'ncovd-19',\n",
       " 'immunotherapy',\n",
       " 'remdesivir',\n",
       " 'cough',\n",
       " 'veroe6/tmprss2',\n",
       " 'respiratory failure']"
      ]
     },
     "execution_count": 8,
     "metadata": {},
     "output_type": "execute_result"
    }
   ],
   "source": [
    "import pandas as pd\n",
    "paths=[r\"C:\\Users\\huyen\\OneDrive - UNT System\\PROJECTS\\COVID19_paper\\KG paper\\Evaluation\\Evaluation_Students\\comprehensiveness\\all.csv\",\n",
    "r\"C:\\Users\\huyen\\OneDrive - UNT System\\PROJECTS\\COVID19_paper\\KG paper\\Evaluation\\Evaluation_Students\\comprehensiveness\\COVID-19.csv\",\n",
    "r\"C:\\Users\\huyen\\OneDrive - UNT System\\PROJECTS\\COVID19_paper\\KG paper\\Evaluation\\Evaluation_Students\\comprehensiveness\\SARS-CoV-2.csv\"]\n",
    "\n",
    "all_entities = []\n",
    "for path in paths: \n",
    "    with open(path, 'r', encoding = 'utf-8' ) as f:\n",
    "        data = pd.read_csv(f)\n",
    "    data = data.fillna('')\n",
    "    data = data.applymap(preprocessEntity)\n",
    "    data = data.apply(lambda x: x.replace(x,'covid-19 outbreak') if 'outbreak' in x else x)\n",
    "    if len(data.columns) <2:\n",
    "        data ['head'] = data['head'].apply(lambda x: x.replace(x,'covid-19 outbreak') if 'outbreak' in x else x)\n",
    "        data ['head'] = data['head'].apply(lambda x: x.replace(x,'covid-19') if 'wuhan' in x else x)\n",
    "        all_entities.extend( data['head'].values.tolist())\n",
    "        #print('1111-----', len(all_entities))\n",
    "    else:\n",
    "        for col in data.columns:\n",
    "            data [col] = data[col].apply(lambda x: x.replace(x,'covid-19') if 'wuhan' in x else x)\n",
    "            #print('2222---------', len(data[col].values.tolist()))          \n",
    "            all_entities.extend(data[col].values.tolist())\n",
    "        \n",
    "covid_variants = ['covid2019', 'covid-2019', 'covid', 'coronavirus disease 2019','covid-19 acute respiratory disease',\n",
    "                  'covid-19 virus', 'covid-19', '2019 covid-19 respiratory syndrome','acute respiratory syndrome coronavirus 2', 'covid-19 (covid-19)']\n",
    "\n",
    "pandemic_variants = ['2019–2021 coronavirus pandemic', 'covid-19 pandemic','the great disaster of 2020']\n",
    "final = set([item for item in all_entities if type(item) is str ])\n",
    "final = [i for i in final if len(i) >1]\n",
    "final = [i.replace('[covid-19]', '') for i in final]\n",
    "print('all scrapped concepts from Wikidata: ', len(final))\n",
    "final"
   ]
  },
  {
   "cell_type": "markdown",
   "metadata": {},
   "source": [
    "### 2nd stage"
   ]
  },
  {
   "cell_type": "code",
   "execution_count": 9,
   "metadata": {},
   "outputs": [
    {
     "name": "stdout",
     "output_type": "stream",
     "text": [
      "88815\n",
      "177630\n"
     ]
    }
   ],
   "source": [
    "    \n",
    "# kg_paths = [r\"C:\\Users\\huyen\\OneDrive\\Documents\\GitHub\\CORD-19-KG\\Data\\all-final-cleaned-triples_3.csv\"]\n",
    "\n",
    "# KG_entities = []\n",
    "# for path in kg_paths: \n",
    "#     with open(path, 'r', encoding = 'utf-8') as f:\n",
    "#         df_KG=pd.read_csv(f)\n",
    "#     print(len(df_KG))\n",
    "#     KG_entities.extend(df_KG['subject'].values.tolist())\n",
    "#     KG_entities.extend(df_KG['object'].values.tolist())\n",
    "\n",
    "# print(len(KG_entities))"
   ]
  },
  {
   "cell_type": "code",
   "execution_count": 10,
   "metadata": {},
   "outputs": [
    {
     "name": "stdout",
     "output_type": "stream",
     "text": [
      "13467\n"
     ]
    }
   ],
   "source": [
    "# KG_entities_set = set(KG_entities)\n",
    "# print(len(KG_entities_set))"
   ]
  },
  {
   "cell_type": "code",
   "execution_count": 11,
   "metadata": {},
   "outputs": [
    {
     "name": "stdout",
     "output_type": "stream",
     "text": [
      "wikidata_mapped ['anemia', 'nasal congestion', 'dyspnea', 'atypical pneumonia', 'baricitinib', 'coronavirus disease', 'hypoxia', 'homo sapiens', 'immunoglobulin therapy', 'coronavirus pandemic', 'chronic obstructive pulmonary disease', 'acute respiratory distress syndrome', 'diabetes mellitus', 'lymphopenia', 'covid-19ry artery disease', 'chill', 'cytokine storm', 'influenza like illness', 'status asthmaticus', 'toxic shock syndrome', 'covid-19', 'infectious disease', 'myalgia', 'thrombosis', 'anorexia', 'coronavirus', 'acute respiratory syndrome coronavirus 2', 'nausea', 'asthma', 'headache', 'brain damage', 'covid-19 virus', 'covid pandemic', 'brain disease', 'obesity', 'ageusia', 'hypercholesterolemia', 'viral pneumonia', 'encephalitis', 'severe acute respiratory syndrome coronavirus 2', 'fever', 'ivermectin', 'chloroquine', 'abdominal pain', 'psychosis', 'ruxolitinib', 'delirium', 'oxygen therapy', 'fatigue', 'immunodeficiency', 'hemoptysis', 'conjunctivitis', 'autoimmune disease', 'diarrhea', 'favipiravir', 'transmembrane serine protease 2', 'severe acute respiratory syndrome', 'anosmia', 'arterial hypertension', 'hyperglycemia', 'zoonosis', 'immunotherapy', 'remdesivir', 'cough', 'respiratory failure']\n",
      "wikidata_mapped length 65\n",
      "--------------------------------------\n",
      "wikidata not mapped ['contact transmission', 'biosafety level 3', 'spike glycoprotein ', '2019 ncp', 'covid2019', 'covid-2019', 'covid-19 genome', 'covid-19 infection', 'severe acute respiratory syndrome coronavirus clade 2', 'hek293t', 'airborne transmission', '2019 covid-19 pneumonia', 'covid', 'tocilizumab', 'coronavirus disease 2019', '2019–21 covid-19 pandemic', 'sarilumab', 'severe acute respiratory syndrome type 2', 'fomite transmission', 'calu-3', 'epidemiology', 'envelope protein ', 'emerging communicable disease', 'antiviral drug', 'tobacco smoking', 'eye infection', 'virology', 'immunosuppressive drug', 'direct transmission', 'covid-19 mortality', 'coronavirus covid-19', 'fluvoxamine', '(s)-(−)-colchicine', 'felis catus', 'ncp', 'antiserum', 'covid-19 acute respiratory disease', 'blood coagulation', 'ncovd19', 'pediatric multisystem inflammatory syndrome', 'enanthem', '2019–2021 coronavirus pandemic', 'covid-19 test', 'emergency medicine', 'canis familiaris', 'covid-19 pandemic', 'covid-19foam', 'covid-19 (covid-19)', '2019–21 coronavirus pandemic', 'sars-cov-1', 'ncovd 19', 'symptomatic treatment', 'droplet infection', 'the great disaster of 2020', 'seafood market pneumonia', 'nucleocapsid protein ', 'huh-7', '2019 covid-19 respiratory syndrome', 'lopinavir/ritonavir', 'occupational burnout', 'caco-2', 'group or class of strain', 'covid-19 outbreak', 'membrane protein ', 'sunda pangolin', 'anti-inflammatory agent', 'zhong nanshan', 'vero c1008', 'cd-19', 'zhang jixian', 'covid-19 epidemic', 'wurs', 'pulmonology', 'ncovd-19', 'veroe6/tmprss2']\n",
      "wikidata not mapped length 75\n"
     ]
    }
   ],
   "source": [
    "# wikidata_mapped= []\n",
    "# not_mapped = []\n",
    "# for concept in set(final):\n",
    "#     if concept in KG_entities_set:\n",
    "#         wikidata_mapped.append(concept)\n",
    "#     else:\n",
    "#         not_mapped.append(concept)\n",
    "# print('wikidata_mapped', wikidata_mapped)\n",
    "# print('wikidata_mapped length', len(wikidata_mapped))\n",
    "# print('-'*38)\n",
    "# print('wikidata not mapped', not_mapped)\n",
    "# print('wikidata not mapped length', len(not_mapped))"
   ]
  },
  {
   "cell_type": "code",
   "execution_count": 15,
   "metadata": {},
   "outputs": [
    {
     "name": "stdout",
     "output_type": "stream",
     "text": [
      "127\n"
     ]
    },
    {
     "data": {
      "text/plain": [
       "0.5038759689922481"
      ]
     },
     "execution_count": 15,
     "metadata": {},
     "output_type": "execute_result"
    }
   ],
   "source": [
    "# filter_variants = [i for i in final if i not in covid_variants+pandemic_variants ]\n",
    "\n",
    "# print(len(filter_variants))\n",
    "# len(wikidata_mapped)/(len(filter_variants)+2)"
   ]
  },
  {
   "cell_type": "code",
   "execution_count": 56,
   "metadata": {},
   "outputs": [
    {
     "name": "stdout",
     "output_type": "stream",
     "text": [
      "subset 1: 0.4108527131782946\n",
      "subset 2: 0.43410852713178294\n",
      "subset 3: 0.4418604651162791\n",
      "subset 4: 0.46511627906976744\n",
      "subset 5: 0.49612403100775193\n",
      "subset 6: 0.49612403100775193\n",
      "subset 7: 0.49612403100775193\n",
      "subset 8: 0.49612403100775193\n",
      "subset 9: 0.49612403100775193\n",
      "subset 10: 0.5038759689922481\n"
     ]
    }
   ],
   "source": [
    "# Comprehensiveness over 10 folds\n",
    "# Load the 10 fold data\n",
    "import glob\n",
    "root_p = r\"C:\\Users\\huyen\\OneDrive\\Documents\\GitHub\\CORD-19-KG\\Data\\all-final-cleaned-triple3-10sets\"\n",
    "filter_variants = [i for i in final if i not in covid_variants+pandemic_variants ]\n",
    "n_folders = 10\n",
    "comprehensive_score = {}\n",
    "\n",
    "with open(r'C:\\Users\\huyen\\OneDrive\\Documents\\GitHub\\CORD-19-KG\\Evaluation\\result\\comprehensiveness_scores.txt', 'w') as file:\n",
    "            file.write('subset,compre_score\\n')\n",
    "\n",
    "for i in range (1,n_folders+1):\n",
    "    all_ents = []\n",
    "    wikidata_mapped= []\n",
    "    not_mapped = []\n",
    "    fold_p = r\"C:\\Users\\huyen\\OneDrive\\Documents\\GitHub\\CORD-19-KG\\Data\\all-final-cleaned-triple3-10sets\\subset_%s.csv\"%i\n",
    "    with open(fold_p, 'r', encoding = 'utf-8') as f:\n",
    "        data = pd.read_csv(fold_p)\n",
    "#     print(data.columns)\n",
    "    all_ents.extend(data['subject'].values.tolist())\n",
    "    all_ents.extend(data['object'].values.tolist())\n",
    "#     print('all entities with duplicates: %s'%len(all_ents))\n",
    "    all_ents_set = set(all_ents)\n",
    "#     print('all entities with NO duplicates: %s'%len(all_ents_set))\n",
    "    \n",
    "    for concept in set(final):\n",
    "        if concept in all_ents_set:\n",
    "            wikidata_mapped.append(concept)\n",
    "        else:\n",
    "            not_mapped.append(concept)\n",
    "    compre_score = len(set(wikidata_mapped))/(len(filter_variants)+2)\n",
    "    print('subset {}: {}'.format(i, compre_score))\n",
    "    with open(r'C:\\Users\\huyen\\OneDrive\\Documents\\GitHub\\CORD-19-KG\\Evaluation\\result\\comprehensiveness_scores.txt', 'a') as file:\n",
    "        file.write('subset_{},{}\\n'.format(i,compre_score ))\n",
    "    comprehensive_score ['subset_%s'%i] = compre_score"
   ]
  },
  {
   "cell_type": "code",
   "execution_count": 54,
   "metadata": {},
   "outputs": [
    {
     "name": "stderr",
     "output_type": "stream",
     "text": [
      "No handles with labels found to put in legend.\n"
     ]
    },
    {
     "data": {
      "image/png": "[encoded data removed]",
      "text/plain": [
       "<Figure size 648x432 with 1 Axes>"
      ]
     },
     "metadata": {
      "needs_background": "light"
     },
     "output_type": "display_data"
    }
   ],
   "source": [
    "comprehensive_score\n",
    "import matplotlib.pyplot as plt\n",
    "\n",
    "fig = plt.figure(figsize=(9,6))\n",
    "y = [score for score in comprehensive_score.values()]\n",
    "x = [i for i in range(1,11)]\n",
    "plt.plot(x,y, color= 'darkorange' )#, label= query )\n",
    "\n",
    "plt.xlabel('subsets')\n",
    "plt.ylabel('comprehensiveness scores')\n",
    "plt.legend(loc='upper left', ncol = 1) \n",
    "plt.title( 'comprehensive scores over 10 subsets')\n",
    "plt.show()\n",
    "fig.savefig(r\"C:\\Users\\huyen\\OneDrive\\Documents\\GitHub\\CORD-19-KG\\Evaluation\\result\\comprehensiveness_10folds.png\" )"
   ]
  },
  {
   "cell_type": "markdown",
   "metadata": {},
   "source": [
    "# Correctness and Relatedness"
   ]
  },
  {
   "cell_type": "code",
   "execution_count": 1,
   "metadata": {},
   "outputs": [],
   "source": [
    "import pandas as pd\n",
    "import numpy as np\n",
    "import os\n"
   ]
  },
  {
   "cell_type": "code",
   "execution_count": null,
   "metadata": {},
   "outputs": [],
   "source": [
    "    #110 =2 -->1\n",
    "    #001 =1 -->0\n",
    "    #000 =0 -->0\n",
    "    #111 =3-->1"
   ]
  },
  {
   "cell_type": "markdown",
   "metadata": {},
   "source": [
    "## All dimensions (Stage 2)"
   ]
  },
  {
   "cell_type": "code",
   "execution_count": 23,
   "metadata": {},
   "outputs": [
    {
     "name": "stdout",
     "output_type": "stream",
     "text": [
      "percentage of entity accuracy \n",
      " 1    55.7\n",
      "0    44.3\n",
      "Name: final_eval, dtype: float64\n"
     ]
    }
   ],
   "source": [
    "from collections import defaultdict\n",
    "\n",
    "paths_accuracy = [r\"C:\\Users\\huyen\\OneDrive - UNT System\\PROJECTS\\COVID19_paper\\KG paper\\Evaluation\\stage2\\ALL\\species_sample_1000_Jesus.csv\",\n",
    "r\"C:\\Users\\huyen\\OneDrive - UNT System\\PROJECTS\\COVID19_paper\\KG paper\\Evaluation\\stage2\\ALL\\species_sample_1000_apps.csv\",\n",
    "r\"C:\\Users\\huyen\\OneDrive - UNT System\\PROJECTS\\COVID19_paper\\KG paper\\Evaluation\\stage2\\ALL\\species_sample_1000(madhu).csv\"]\n",
    "\n",
    "\n",
    "def Eval_Accu (paths):\n",
    "    dic = defaultdict(list)\n",
    "    for path in paths: \n",
    "        with open (path, 'r', encoding = 'utf-8') as file:\n",
    "            data_accuracy = pd.read_csv(file)\n",
    "        data_accuracy.columns = [i for i in range(len(data_accuracy.columns))]\n",
    "    #     del data_accuracy['id']\n",
    "        for j, k, v in zip ([e for e in range(1000)],data_accuracy[0], data_accuracy[1]):\n",
    "            dic[k+str(j)].append(int(v))\n",
    "\n",
    "    df = pd.DataFrame.from_dict(dic, orient='index')\n",
    "    df1 = df[[0,1,2]]\n",
    "    #print(df1.head())\n",
    "    df1['sum'] = df1.sum(axis = 1)\n",
    "    df1['final_eval'] = np.where(df1['sum']>=2, 1, 0)\n",
    "    #print(df1['final_eval'])\n",
    "    #print(df1['final_eval'].value_counts())\n",
    "    print('percentage of entity accuracy \\n', df1['final_eval'].value_counts()*100/1000)\n",
    "    \n",
    "Eval_Accu(paths_accuracy)\n",
    "\n"
   ]
  },
  {
   "cell_type": "code",
   "execution_count": 24,
   "metadata": {},
   "outputs": [
    {
     "name": "stdout",
     "output_type": "stream",
     "text": [
      "['C:\\\\Users\\\\huyen\\\\OneDrive - UNT System\\\\PROJECTS\\\\COVID19_paper\\\\KG paper\\\\Evaluation\\\\stage2\\\\ALL\\\\all_ents_sample_1000(madhu).csv', 'C:\\\\Users\\\\huyen\\\\OneDrive - UNT System\\\\PROJECTS\\\\COVID19_paper\\\\KG paper\\\\Evaluation\\\\stage2\\\\ALL\\\\all_ents_sample_1000_apps.csv', 'C:\\\\Users\\\\huyen\\\\OneDrive - UNT System\\\\PROJECTS\\\\COVID19_paper\\\\KG paper\\\\Evaluation\\\\stage2\\\\ALL\\\\all_ents_sample_1000_Mudita.csv']\n",
      "percentage of entity accuracy \n",
      " 1    90.2\n",
      "0     9.8\n",
      "Name: final_eval, dtype: float64\n",
      "0 ----------------- None\n",
      "['C:\\\\Users\\\\huyen\\\\OneDrive - UNT System\\\\PROJECTS\\\\COVID19_paper\\\\KG paper\\\\Evaluation\\\\stage2\\\\ALL\\\\disease_sample_1000(madhu).csv', 'C:\\\\Users\\\\huyen\\\\OneDrive - UNT System\\\\PROJECTS\\\\COVID19_paper\\\\KG paper\\\\Evaluation\\\\stage2\\\\ALL\\\\disease_sample_1000_apps.csv', 'C:\\\\Users\\\\huyen\\\\OneDrive - UNT System\\\\PROJECTS\\\\COVID19_paper\\\\KG paper\\\\Evaluation\\\\stage2\\\\ALL\\\\disease_sample_1000_Zach.csv']\n",
      "percentage of entity accuracy \n",
      " 1    70.5\n",
      "0    29.5\n",
      "Name: final_eval, dtype: float64\n",
      "1 ----------------- None\n",
      "['C:\\\\Users\\\\huyen\\\\OneDrive - UNT System\\\\PROJECTS\\\\COVID19_paper\\\\KG paper\\\\Evaluation\\\\stage2\\\\ALL\\\\drug_sample_1000(madhu).csv', 'C:\\\\Users\\\\huyen\\\\OneDrive - UNT System\\\\PROJECTS\\\\COVID19_paper\\\\KG paper\\\\Evaluation\\\\stage2\\\\ALL\\\\drug_sample_1000_apps.csv', 'C:\\\\Users\\\\huyen\\\\OneDrive - UNT System\\\\PROJECTS\\\\COVID19_paper\\\\KG paper\\\\Evaluation\\\\stage2\\\\ALL\\\\drug_sample_1000_Zach.csv']\n",
      "percentage of entity accuracy \n",
      " 1    73.3\n",
      "0    26.7\n",
      "Name: final_eval, dtype: float64\n",
      "2 ----------------- None\n",
      "['C:\\\\Users\\\\huyen\\\\OneDrive - UNT System\\\\PROJECTS\\\\COVID19_paper\\\\KG paper\\\\Evaluation\\\\stage2\\\\ALL\\\\gene_protein_sample_1000(madhu).csv', 'C:\\\\Users\\\\huyen\\\\OneDrive - UNT System\\\\PROJECTS\\\\COVID19_paper\\\\KG paper\\\\Evaluation\\\\stage2\\\\ALL\\\\gene_protein_sample_1000_apps.csv', 'C:\\\\Users\\\\huyen\\\\OneDrive - UNT System\\\\PROJECTS\\\\COVID19_paper\\\\KG paper\\\\Evaluation\\\\stage2\\\\ALL\\\\gene_protein_sample_1000_Jesus.csv']\n",
      "percentage of entity accuracy \n",
      " 1    75.4\n",
      "0    24.6\n",
      "Name: final_eval, dtype: float64\n",
      "3 ----------------- None\n",
      "['C:\\\\Users\\\\huyen\\\\OneDrive - UNT System\\\\PROJECTS\\\\COVID19_paper\\\\KG paper\\\\Evaluation\\\\stage2\\\\ALL\\\\species_sample_1000(madhu).csv', 'C:\\\\Users\\\\huyen\\\\OneDrive - UNT System\\\\PROJECTS\\\\COVID19_paper\\\\KG paper\\\\Evaluation\\\\stage2\\\\ALL\\\\species_sample_1000_apps.csv', 'C:\\\\Users\\\\huyen\\\\OneDrive - UNT System\\\\PROJECTS\\\\COVID19_paper\\\\KG paper\\\\Evaluation\\\\stage2\\\\ALL\\\\species_sample_1000_Jesus.csv']\n",
      "percentage of entity accuracy \n",
      " 1    55.7\n",
      "0    44.3\n",
      "Name: final_eval, dtype: float64\n",
      "4 ----------------- None\n",
      "['C:\\\\Users\\\\huyen\\\\OneDrive - UNT System\\\\PROJECTS\\\\COVID19_paper\\\\KG paper\\\\Evaluation\\\\stage2\\\\ALL\\\\symptom_sample_1000(madhu).csv', 'C:\\\\Users\\\\huyen\\\\OneDrive - UNT System\\\\PROJECTS\\\\COVID19_paper\\\\KG paper\\\\Evaluation\\\\stage2\\\\ALL\\\\symptom_sample_1000_apps.csv', 'C:\\\\Users\\\\huyen\\\\OneDrive - UNT System\\\\PROJECTS\\\\COVID19_paper\\\\KG paper\\\\Evaluation\\\\stage2\\\\ALL\\\\symptom_sample_1000_Entity Accuracy_relatedness_Dustin.csv']\n",
      "percentage of entity accuracy \n",
      " 1    54.6\n",
      "0    45.4\n",
      "Name: final_eval, dtype: float64\n",
      "5 ----------------- None\n",
      "['C:\\\\Users\\\\huyen\\\\OneDrive - UNT System\\\\PROJECTS\\\\COVID19_paper\\\\KG paper\\\\Evaluation\\\\stage2\\\\ALL\\\\treatment_procedure_sample_1000(madhu).csv', 'C:\\\\Users\\\\huyen\\\\OneDrive - UNT System\\\\PROJECTS\\\\COVID19_paper\\\\KG paper\\\\Evaluation\\\\stage2\\\\ALL\\\\treatment_procedure_sample_1000_apps.csv', 'C:\\\\Users\\\\huyen\\\\OneDrive - UNT System\\\\PROJECTS\\\\COVID19_paper\\\\KG paper\\\\Evaluation\\\\stage2\\\\ALL\\\\treatment_procedure_sample_1000_entity_relatedness_Dustin.csv']\n",
      "percentage of entity accuracy \n",
      " 1    57.6\n",
      "0    42.4\n",
      "Name: final_eval, dtype: float64\n",
      "6 ----------------- None\n"
     ]
    }
   ],
   "source": [
    "root_path = r'C:\\Users\\huyen\\OneDrive - UNT System\\PROJECTS\\COVID19_paper\\KG paper\\Evaluation\\stage2\\ALL'\n",
    "filenames = os.listdir(root_path)\n",
    "i=0\n",
    "while i<round(len(filenames)/3):\n",
    "    m=3*i\n",
    "    n=m+3\n",
    "    path_group = []\n",
    "    for files in filenames[m:n]:\n",
    "        path_group.append(root_path+'\\\\'+ files)\n",
    "    print (path_group)\n",
    "    print(i, '-----------------', Eval_Accu(path_group))\n",
    "    i+=1"
   ]
  },
  {
   "cell_type": "markdown",
   "metadata": {},
   "source": [
    "# Accuracy (only - stage 1)"
   ]
  },
  {
   "cell_type": "code",
   "execution_count": 60,
   "metadata": {},
   "outputs": [
    {
     "name": "stdout",
     "output_type": "stream",
     "text": [
      "percentage of triple accuracy \n",
      " 1    65.4\n",
      "0    34.6\n",
      "Name: final_eval, dtype: float64\n"
     ]
    }
   ],
   "source": [
    "\n",
    "paths_accuracy = [r\"C:\\Users\\huyen\\OneDrive - UNT System\\PROJECTS\\COVID19_paper\\KG paper\\Evaluation\\Evaluation_Students\\Accuracy\\Entity_accuracy_1.csv\",\n",
    "r\"C:\\Users\\huyen\\OneDrive - UNT System\\PROJECTS\\COVID19_paper\\KG paper\\Evaluation\\Evaluation_Students\\Accuracy\\Triple_accuracy_1.csv\"]\n",
    "\n",
    "with open (paths_accuracy[1], 'r', encoding = 'utf-8') as file:\n",
    "    data_trip_accuracy = pd.read_csv(file)\n",
    "del data_trip_accuracy['id']\n",
    "\n",
    "data_trip_accuracy['sum'] = data_trip_accuracy.sum(axis = 1)\n",
    "data_trip_accuracy['final_eval'] = np.where(data_trip_accuracy['sum']>=2, 1, 0)\n",
    "\n",
    "#110 =2 -->1\n",
    "#001 =1 -->0\n",
    "#000 =0 -->0\n",
    "#111 =3-->1\n",
    "print('percentage of triple accuracy \\n', data_trip_accuracy['final_eval'].value_counts()*100/500)\n"
   ]
  },
  {
   "cell_type": "markdown",
   "metadata": {},
   "source": [
    "## Relatedness"
   ]
  },
  {
   "cell_type": "code",
   "execution_count": 77,
   "metadata": {},
   "outputs": [
    {
     "name": "stdout",
     "output_type": "stream",
     "text": [
      "percentage of entity accuracy_Disease_S1.csv\n",
      " 1    69.6\n",
      "0    30.4\n",
      "Name: final_eval, dtype: float64\n",
      "\n",
      "----------------------------\n",
      "percentage of entity accuracy_Drug_S1.csv\n",
      " 1    78.2\n",
      "0    21.8\n",
      "Name: final_eval, dtype: float64\n",
      "\n",
      "----------------------------\n",
      "percentage of entity accuracy_Gene_S1.csv\n",
      " 1    51.2\n",
      "0    48.8\n",
      "Name: final_eval, dtype: float64\n",
      "\n",
      "----------------------------\n",
      "percentage of entity accuracy_GPE_S1.csv\n",
      " 1    53.0\n",
      "0    47.0\n",
      "Name: final_eval, dtype: float64\n",
      "\n",
      "----------------------------\n",
      "percentage of entity accuracy_ORG_S1.csv\n",
      " 0    50.4\n",
      "1    49.6\n",
      "Name: final_eval, dtype: float64\n",
      "\n",
      "----------------------------\n",
      "percentage of entity accuracy_Species_S1.csv\n",
      " 1    61.0\n",
      "0    39.0\n",
      "Name: final_eval, dtype: float64\n",
      "\n",
      "----------------------------\n"
     ]
    }
   ],
   "source": [
    "import os\n",
    "relevance_path = [r\"C:\\Users\\huyen\\OneDrive - UNT System\\PROJECTS\\COVID19_paper\\KG paper\\Evaluation\\Evaluation_Students\\Relavence\\Disease_S1.csv\",\n",
    "r\"C:\\Users\\huyen\\OneDrive - UNT System\\PROJECTS\\COVID19_paper\\KG paper\\Evaluation\\Evaluation_Students\\Relavence\\Drug_S1.csv\",\n",
    "r\"C:\\Users\\huyen\\OneDrive - UNT System\\PROJECTS\\COVID19_paper\\KG paper\\Evaluation\\Evaluation_Students\\Relavence\\Gene_S1.csv\",\n",
    "r\"C:\\Users\\huyen\\OneDrive - UNT System\\PROJECTS\\COVID19_paper\\KG paper\\Evaluation\\Evaluation_Students\\Relavence\\GPE_S1.csv\",\n",
    "r\"C:\\Users\\huyen\\OneDrive - UNT System\\PROJECTS\\COVID19_paper\\KG paper\\Evaluation\\Evaluation_Students\\Relavence\\ORG_S1.csv\",\n",
    "r\"C:\\Users\\huyen\\OneDrive - UNT System\\PROJECTS\\COVID19_paper\\KG paper\\Evaluation\\Evaluation_Students\\Relavence\\Species_S1.csv\"]\n",
    "\n",
    "for path in relevance_path:\n",
    "    with open (path, 'r', encoding = 'utf-8') as file:\n",
    "        data_relev = pd.read_csv(file)\n",
    "    del data_relev['id']\n",
    "    data_relev['sum'] = data_relev.sum(axis = 1)\n",
    "    data_relev['final_eval'] = np.where(data_relev['sum']>=2, 1, 0)\n",
    "    print('percentage of entity accuracy_'+ os.path.split(path)[1] + '\\n', data_relev['final_eval'].value_counts()*100/500)\n",
    "    #print(data_relev.tail(5))\n",
    "    print( '\\n----------------------------')"
   ]
  },
  {
   "cell_type": "markdown",
   "metadata": {},
   "source": [
    "### Best annotator"
   ]
  },
  {
   "cell_type": "code",
   "execution_count": 6,
   "metadata": {},
   "outputs": [],
   "source": [
    "import pandas as pd\n",
    "import numpy as np\n",
    "import os"
   ]
  },
  {
   "cell_type": "code",
   "execution_count": 4,
   "metadata": {},
   "outputs": [
    {
     "name": "stdout",
     "output_type": "stream",
     "text": [
      "percentage of entity accuracy \n",
      " 1    96.6\n",
      "0     3.4\n",
      "Name: evaluation, dtype: float64\n"
     ]
    }
   ],
   "source": [
    "# Accuracy\n",
    "path = r\"C:\\Users\\huyen\\OneDrive - UNT System\\PROJECTS\\COVID19_paper\\KG paper\\Evaluation\\Evaluation_Students\\bestS\\Entity_accuracy_JBest.csv\"\n",
    "\n",
    "with open (path, 'r', encoding = 'utf-8') as file:\n",
    "    data_accuracy = pd.read_csv(file)\n",
    "\n",
    "print('percentage of entity accuracy \\n', data_accuracy['evaluation'].value_counts()*100/500)\n"
   ]
  },
  {
   "cell_type": "code",
   "execution_count": 7,
   "metadata": {
    "scrolled": true
   },
   "outputs": [
    {
     "name": "stdout",
     "output_type": "stream",
     "text": [
      "percentage of entity accuracy_Disease.csv\n",
      " 1    91.2\n",
      "0     8.8\n",
      "Name: evaluation, dtype: float64\n",
      "\n",
      "----------------------------\n",
      "percentage of entity accuracy_Drug.csv\n",
      " 1    83.0\n",
      "0    17.0\n",
      "Name: evaluation, dtype: float64\n",
      "\n",
      "----------------------------\n",
      "percentage of entity accuracy_Gene.csv\n",
      " 0    61.4\n",
      "1    38.6\n",
      "Name: evaluation, dtype: float64\n",
      "\n",
      "----------------------------\n",
      "percentage of entity accuracy_GPE.csv\n",
      " 0    88.8\n",
      "1    11.2\n",
      "Name: evaluation, dtype: float64\n",
      "\n",
      "----------------------------\n",
      "percentage of entity accuracy_ORG.csv\n",
      " 0    82.6\n",
      "1    17.4\n",
      "Name: evaluation, dtype: float64\n",
      "\n",
      "----------------------------\n",
      "percentage of entity accuracy_Species.csv\n",
      " 1    85.4\n",
      "0    14.6\n",
      "Name: evaluation, dtype: float64\n",
      "\n",
      "----------------------------\n"
     ]
    }
   ],
   "source": [
    "# Relevance\n",
    "paths = [r\"C:\\Users\\huyen\\OneDrive - UNT System\\PROJECTS\\COVID19_paper\\KG paper\\Evaluation\\Evaluation_Students\\bestS\\Entity_relatedness\\Disease.csv\",\n",
    "r\"C:\\Users\\huyen\\OneDrive - UNT System\\PROJECTS\\COVID19_paper\\KG paper\\Evaluation\\Evaluation_Students\\bestS\\Entity_relatedness\\Drug.csv\",\n",
    "r\"C:\\Users\\huyen\\OneDrive - UNT System\\PROJECTS\\COVID19_paper\\KG paper\\Evaluation\\Evaluation_Students\\bestS\\Entity_relatedness\\Gene.csv\",\n",
    "r\"C:\\Users\\huyen\\OneDrive - UNT System\\PROJECTS\\COVID19_paper\\KG paper\\Evaluation\\Evaluation_Students\\bestS\\Entity_relatedness\\GPE.csv\",\n",
    "r\"C:\\Users\\huyen\\OneDrive - UNT System\\PROJECTS\\COVID19_paper\\KG paper\\Evaluation\\Evaluation_Students\\bestS\\Entity_relatedness\\ORG.csv\",\n",
    "r\"C:\\Users\\huyen\\OneDrive - UNT System\\PROJECTS\\COVID19_paper\\KG paper\\Evaluation\\Evaluation_Students\\bestS\\Entity_relatedness\\Species.csv\"]\n",
    "\n",
    "for path in paths:\n",
    "    with open (path, 'r', encoding = 'utf-8') as file:\n",
    "        data_relev = pd.read_csv(file)\n",
    "    print('percentage of entity accuracy_'+ os.path.split(path)[1] + '\\n', data_relev['evaluation'].value_counts()*100/500)\n",
    "    print( '\\n----------------------------')"
   ]
  }
 ],
 "metadata": {
  "kernelspec": {
   "display_name": "Python 3",
   "language": "python",
   "name": "python3"
  },
  "language_info": {
   "codemirror_mode": {
    "name": "ipython",
    "version": 3
   },
   "file_extension": ".py",
   "mimetype": "text/x-python",
   "name": "python",
   "nbconvert_exporter": "python",
   "pygments_lexer": "ipython3",
   "version": "3.8.5"
  }
 },
 "nbformat": 4,
 "nbformat_minor": 4
}
